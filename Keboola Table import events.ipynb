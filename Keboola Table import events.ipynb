{
 "cells": [
  {
   "cell_type": "code",
   "execution_count": 35,
   "metadata": {},
   "outputs": [],
   "source": [
    "import requests\n",
    "import json\n",
    "import plotly as py\n",
    "import plotly.figure_factory as ff\n",
    "import plotly.graph_objects as go\n",
    "import plotly.express as px\n",
    "import pandas as pd\n",
    "import numpy as np\n",
    "import ipywidgets as widgets\n",
    "from ipywidgets import interact, interact_manual\n",
    "from IPython.display import display"
   ]
  },
  {
   "cell_type": "code",
   "execution_count": 36,
   "metadata": {},
   "outputs": [],
   "source": [
    "## Static variables\n",
    "MAX_PAGE = 100000\n",
    "\n",
    "\"\"\"\n",
    "This is the API call:\n",
    "GET https://connection.keboola.com/v2/storage/tables/{{table_id}}/events?sinceId=sinceId&maxId=maxId&component=component&configurationId=configurationId&runId=runId&q=q&limit=limit&offset=offset\n",
    "\"\"\"\n",
    "\n",
    "stacks = {\n",
    "    \"US\": \"https://connection.keboola.com/v2/storage/tables\",\n",
    "    \"EU-N\": \"https://connection.north-europe.azure.keboola.com/v2/storage/tables\",\n",
    "    \"EU-C\": \"https://connection.eu-central-1.keboola.com/v2/storage/tables\"\n",
    "    }"
   ]
  },
  {
   "cell_type": "code",
   "execution_count": 37,
   "metadata": {},
   "outputs": [],
   "source": [
    "## User-entered variables\n",
    "TOKEN = \"7114-\"\n",
    "TABLEID = \"in.c-apac-ex-gmail-attachments-586740274.daily_fleet_size\""
   ]
  },
  {
   "cell_type": "markdown",
   "metadata": {},
   "source": [
    "## How to use this\n",
    "1) Insert storage token\n",
    "2) Get table id from the UI `out.c-keboola-apps.component`\n",
    "3) Select stact and run API calls"
   ]
  },
  {
   "cell_type": "code",
   "execution_count": 38,
   "metadata": {},
   "outputs": [
    {
     "data": {
      "application/vnd.jupyter.widget-view+json": {
       "model_id": "cdf263a8648e46208d6e901350aa1891",
       "version_major": 2,
       "version_minor": 0
      },
      "text/plain": [
       "interactive(children=(RadioButtons(description='Stack:', options=('US', 'EU-N', 'EU-C'), value='US'), Output()…"
      ]
     },
     "metadata": {},
     "output_type": "display_data"
    },
    {
     "data": {
      "text/plain": [
       "<function __main__.func1(x)>"
      ]
     },
     "execution_count": 38,
     "metadata": {},
     "output_type": "execute_result"
    }
   ],
   "source": [
    "#URL = list(stacks.keys())[0]\n",
    "\n",
    "headers = {\n",
    "    'X-StorageApi-Token': TOKEN,\n",
    "    \"Accept\": \"application/json\"}\n",
    "params = {\n",
    " #   \"component\": \"keboola.snowflake-transformation\",\n",
    " #   \"configurationId\": \"809414277\",\n",
    "    \"q\": \"event:storage.tableImportDone\",\n",
    "    \"limit\": 100,\n",
    "    \"offset\": 0\n",
    "}\n",
    "\n",
    "stack_selection = widgets.RadioButtons(\n",
    "    options=list(stacks.keys()),\n",
    "    value=list(stacks.keys())[0],\n",
    "    description='Stack:',\n",
    ")\n",
    "\n",
    "def func1(x):\n",
    "    URL = stacks[x]\n",
    "    print(\"Selected stack URL: \"+URL)\n",
    "    \n",
    "\n",
    "#stack_selection.observe(stack_selection_eventhandler, names='value')\n",
    "\n",
    "interact(func1, x=stack_selection)\n",
    "#display(stack_selection)\n",
    "\n"
   ]
  },
  {
   "cell_type": "code",
   "execution_count": 39,
   "metadata": {},
   "outputs": [
    {
     "name": "stdout",
     "output_type": "stream",
     "text": [
      "Grabbing list of events from API\n",
      "https://connection.keboola.com/v2/storage/tables/in.c-apac-ex-gmail-attachments-586740274.daily_fleet_size/events\n",
      "200 : https://connection.keboola.com/v2/storage/tables/in.c-apac-ex-gmail-attachments-586740274.daily_fleet_size/events?q=event%3Astorage.tableImportDone&limit=100&offset=0\n"
     ]
    },
    {
     "name": "stderr",
     "output_type": "stream",
     "text": [
      "/var/folders/cx/dyw17k8n62l401jn8161bnfr0000gn/T/ipykernel_53324/3302735237.py:16: FutureWarning:\n",
      "\n",
      "The frame.append method is deprecated and will be removed from pandas in a future version. Use pandas.concat instead.\n",
      "\n"
     ]
    },
    {
     "name": "stdout",
     "output_type": "stream",
     "text": [
      "200 : https://connection.keboola.com/v2/storage/tables/in.c-apac-ex-gmail-attachments-586740274.daily_fleet_size/events?q=event%3Astorage.tableImportDone&limit=100&offset=100\n"
     ]
    },
    {
     "name": "stderr",
     "output_type": "stream",
     "text": [
      "/var/folders/cx/dyw17k8n62l401jn8161bnfr0000gn/T/ipykernel_53324/3302735237.py:16: FutureWarning:\n",
      "\n",
      "The frame.append method is deprecated and will be removed from pandas in a future version. Use pandas.concat instead.\n",
      "\n"
     ]
    },
    {
     "name": "stdout",
     "output_type": "stream",
     "text": [
      "200 : https://connection.keboola.com/v2/storage/tables/in.c-apac-ex-gmail-attachments-586740274.daily_fleet_size/events?q=event%3Astorage.tableImportDone&limit=100&offset=200\n"
     ]
    }
   ],
   "source": [
    "## List of events\n",
    "\n",
    "URL = stacks[stack_selection.value]+\"/\"+TABLEID+\"/events\"\n",
    "\n",
    "def grab_events(URL):\n",
    "    print(\"Grabbing list of events from API\")\n",
    "    print(URL)\n",
    "    data_response = []\n",
    "    raw_data = pd.DataFrame(data_response)\n",
    "    params[\"offset\"] = 0\n",
    "\n",
    "    while params[\"offset\"]<MAX_PAGE:\n",
    "        r = requests.get(URL, headers=headers, params = params)\n",
    "        #print(\"Pagination:\", params[\"offset\"])\n",
    "        print(r.status_code,\":\", r.url)\n",
    "        raw_data = raw_data.append(pd.DataFrame(json.loads(r.text)), ignore_index = True)\n",
    "        if len(json.loads(r.text))==0:\n",
    "            params[\"offset\"] = MAX_PAGE\n",
    "        params[\"offset\"] = params[\"offset\"]+params[\"limit\"] # offset +1?\n",
    "    \n",
    "    return(raw_data)\n",
    "\n",
    "data = grab_events(URL)"
   ]
  },
  {
   "cell_type": "code",
   "execution_count": 40,
   "metadata": {},
   "outputs": [
    {
     "data": {
      "text/html": [
       "<div>\n",
       "<style scoped>\n",
       "    .dataframe tbody tr th:only-of-type {\n",
       "        vertical-align: middle;\n",
       "    }\n",
       "\n",
       "    .dataframe tbody tr th {\n",
       "        vertical-align: top;\n",
       "    }\n",
       "\n",
       "    .dataframe thead th {\n",
       "        text-align: right;\n",
       "    }\n",
       "</style>\n",
       "<table border=\"1\" class=\"dataframe\">\n",
       "  <thead>\n",
       "    <tr style=\"text-align: right;\">\n",
       "      <th></th>\n",
       "      <th>id</th>\n",
       "      <th>event</th>\n",
       "      <th>component</th>\n",
       "      <th>message</th>\n",
       "      <th>description</th>\n",
       "      <th>type</th>\n",
       "      <th>runId</th>\n",
       "      <th>created</th>\n",
       "      <th>configurationId</th>\n",
       "      <th>objectId</th>\n",
       "      <th>objectName</th>\n",
       "      <th>objectType</th>\n",
       "      <th>context</th>\n",
       "      <th>params</th>\n",
       "      <th>results</th>\n",
       "      <th>performance</th>\n",
       "      <th>token</th>\n",
       "      <th>idBranch</th>\n",
       "      <th>uri</th>\n",
       "      <th>attachments</th>\n",
       "    </tr>\n",
       "  </thead>\n",
       "  <tbody>\n",
       "    <tr>\n",
       "      <th>0</th>\n",
       "      <td>6880228839</td>\n",
       "      <td>storage.tableImportDone</td>\n",
       "      <td>storage</td>\n",
       "      <td>Imported table in.c-apac-ex-gmail-attachments-...</td>\n",
       "      <td></td>\n",
       "      <td>success</td>\n",
       "      <td>966152052</td>\n",
       "      <td>2023-04-05T06:02:34+0200</td>\n",
       "      <td>None</td>\n",
       "      <td>in.c-apac-ex-gmail-attachments-586740274.daily...</td>\n",
       "      <td>daily_fleet_size</td>\n",
       "      <td>table</td>\n",
       "      <td>{'remoteAddr': None, 'httpReferer': None, 'htt...</td>\n",
       "      <td>{'importId': '966152281', 'incremental': False...</td>\n",
       "      <td>{'rowsCount': '455', 'sizeBytes': 11776, 'warn...</td>\n",
       "      <td>{'rowsCountDuration': 0.6443438529968262, 'imp...</td>\n",
       "      <td>{'id': 486330, 'name': '[_internal] Upload Fle...</td>\n",
       "      <td>None</td>\n",
       "      <td>https://connection.keboola.com/v2/storage/even...</td>\n",
       "      <td>[{'id': 966152279, 'isSliced': False, 'uploadT...</td>\n",
       "    </tr>\n",
       "    <tr>\n",
       "      <th>1</th>\n",
       "      <td>6876879921</td>\n",
       "      <td>storage.tableImportDone</td>\n",
       "      <td>storage</td>\n",
       "      <td>Imported table in.c-apac-ex-gmail-attachments-...</td>\n",
       "      <td></td>\n",
       "      <td>success</td>\n",
       "      <td>965827685</td>\n",
       "      <td>2023-04-04T06:02:21+0200</td>\n",
       "      <td>None</td>\n",
       "      <td>in.c-apac-ex-gmail-attachments-586740274.daily...</td>\n",
       "      <td>daily_fleet_size</td>\n",
       "      <td>table</td>\n",
       "      <td>{'remoteAddr': None, 'httpReferer': None, 'htt...</td>\n",
       "      <td>{'importId': '965827899', 'incremental': False...</td>\n",
       "      <td>{'rowsCount': '455', 'sizeBytes': 11776, 'warn...</td>\n",
       "      <td>{'rowsCountDuration': 0.7140810489654541, 'imp...</td>\n",
       "      <td>{'id': 486330, 'name': '[_internal] Upload Fle...</td>\n",
       "      <td>None</td>\n",
       "      <td>https://connection.keboola.com/v2/storage/even...</td>\n",
       "      <td>[{'id': 965827896, 'isSliced': False, 'uploadT...</td>\n",
       "    </tr>\n",
       "    <tr>\n",
       "      <th>2</th>\n",
       "      <td>6873475045</td>\n",
       "      <td>storage.tableImportDone</td>\n",
       "      <td>storage</td>\n",
       "      <td>Imported table in.c-apac-ex-gmail-attachments-...</td>\n",
       "      <td></td>\n",
       "      <td>success</td>\n",
       "      <td>965499501</td>\n",
       "      <td>2023-04-03T06:02:41+0200</td>\n",
       "      <td>None</td>\n",
       "      <td>in.c-apac-ex-gmail-attachments-586740274.daily...</td>\n",
       "      <td>daily_fleet_size</td>\n",
       "      <td>table</td>\n",
       "      <td>{'remoteAddr': None, 'httpReferer': None, 'htt...</td>\n",
       "      <td>{'importId': '965499857', 'incremental': False...</td>\n",
       "      <td>{'rowsCount': '460', 'sizeBytes': 12288, 'warn...</td>\n",
       "      <td>{'rowsCountDuration': 0.6021811962127686, 'imp...</td>\n",
       "      <td>{'id': 486330, 'name': '[_internal] Upload Fle...</td>\n",
       "      <td>None</td>\n",
       "      <td>https://connection.keboola.com/v2/storage/even...</td>\n",
       "      <td>[{'id': 965499855, 'isSliced': False, 'uploadT...</td>\n",
       "    </tr>\n",
       "  </tbody>\n",
       "</table>\n",
       "</div>"
      ],
      "text/plain": [
       "           id                    event component  \\\n",
       "0  6880228839  storage.tableImportDone   storage   \n",
       "1  6876879921  storage.tableImportDone   storage   \n",
       "2  6873475045  storage.tableImportDone   storage   \n",
       "\n",
       "                                             message description     type  \\\n",
       "0  Imported table in.c-apac-ex-gmail-attachments-...              success   \n",
       "1  Imported table in.c-apac-ex-gmail-attachments-...              success   \n",
       "2  Imported table in.c-apac-ex-gmail-attachments-...              success   \n",
       "\n",
       "       runId                   created configurationId  \\\n",
       "0  966152052  2023-04-05T06:02:34+0200            None   \n",
       "1  965827685  2023-04-04T06:02:21+0200            None   \n",
       "2  965499501  2023-04-03T06:02:41+0200            None   \n",
       "\n",
       "                                            objectId        objectName  \\\n",
       "0  in.c-apac-ex-gmail-attachments-586740274.daily...  daily_fleet_size   \n",
       "1  in.c-apac-ex-gmail-attachments-586740274.daily...  daily_fleet_size   \n",
       "2  in.c-apac-ex-gmail-attachments-586740274.daily...  daily_fleet_size   \n",
       "\n",
       "  objectType                                            context  \\\n",
       "0      table  {'remoteAddr': None, 'httpReferer': None, 'htt...   \n",
       "1      table  {'remoteAddr': None, 'httpReferer': None, 'htt...   \n",
       "2      table  {'remoteAddr': None, 'httpReferer': None, 'htt...   \n",
       "\n",
       "                                              params  \\\n",
       "0  {'importId': '966152281', 'incremental': False...   \n",
       "1  {'importId': '965827899', 'incremental': False...   \n",
       "2  {'importId': '965499857', 'incremental': False...   \n",
       "\n",
       "                                             results  \\\n",
       "0  {'rowsCount': '455', 'sizeBytes': 11776, 'warn...   \n",
       "1  {'rowsCount': '455', 'sizeBytes': 11776, 'warn...   \n",
       "2  {'rowsCount': '460', 'sizeBytes': 12288, 'warn...   \n",
       "\n",
       "                                         performance  \\\n",
       "0  {'rowsCountDuration': 0.6443438529968262, 'imp...   \n",
       "1  {'rowsCountDuration': 0.7140810489654541, 'imp...   \n",
       "2  {'rowsCountDuration': 0.6021811962127686, 'imp...   \n",
       "\n",
       "                                               token idBranch  \\\n",
       "0  {'id': 486330, 'name': '[_internal] Upload Fle...     None   \n",
       "1  {'id': 486330, 'name': '[_internal] Upload Fle...     None   \n",
       "2  {'id': 486330, 'name': '[_internal] Upload Fle...     None   \n",
       "\n",
       "                                                 uri  \\\n",
       "0  https://connection.keboola.com/v2/storage/even...   \n",
       "1  https://connection.keboola.com/v2/storage/even...   \n",
       "2  https://connection.keboola.com/v2/storage/even...   \n",
       "\n",
       "                                         attachments  \n",
       "0  [{'id': 966152279, 'isSliced': False, 'uploadT...  \n",
       "1  [{'id': 965827896, 'isSliced': False, 'uploadT...  \n",
       "2  [{'id': 965499855, 'isSliced': False, 'uploadT...  "
      ]
     },
     "execution_count": 40,
     "metadata": {},
     "output_type": "execute_result"
    }
   ],
   "source": [
    "data[:3]"
   ]
  },
  {
   "cell_type": "code",
   "execution_count": 41,
   "metadata": {},
   "outputs": [
    {
     "name": "stdout",
     "output_type": "stream",
     "text": [
      "Issue when deleting source.tableName\n",
      "Issue when deleting source.type\n",
      "Issue when deleting source.dataObject\n",
      "Issue when deleting source.workspaceId\n"
     ]
    },
    {
     "data": {
      "text/html": [
       "<div>\n",
       "<style scoped>\n",
       "    .dataframe tbody tr th:only-of-type {\n",
       "        vertical-align: middle;\n",
       "    }\n",
       "\n",
       "    .dataframe tbody tr th {\n",
       "        vertical-align: top;\n",
       "    }\n",
       "\n",
       "    .dataframe thead th {\n",
       "        text-align: right;\n",
       "    }\n",
       "</style>\n",
       "<table border=\"1\" class=\"dataframe\">\n",
       "  <thead>\n",
       "    <tr style=\"text-align: right;\">\n",
       "      <th></th>\n",
       "      <th>type</th>\n",
       "      <th>runId</th>\n",
       "      <th>created</th>\n",
       "      <th>table_event_id</th>\n",
       "      <th>name</th>\n",
       "      <th>rowsCountDuration</th>\n",
       "      <th>importDuration</th>\n",
       "      <th>importDecomposed</th>\n",
       "      <th>rowsCount</th>\n",
       "      <th>sizeBytes</th>\n",
       "      <th>importedColumns</th>\n",
       "      <th>incremental</th>\n",
       "      <th>source.fileSize</th>\n",
       "    </tr>\n",
       "  </thead>\n",
       "  <tbody>\n",
       "    <tr>\n",
       "      <th>0</th>\n",
       "      <td>success</td>\n",
       "      <td>966152052</td>\n",
       "      <td>2023-04-05T06:02:34+0200</td>\n",
       "      <td>6880228839</td>\n",
       "      <td>[_internal] Upload Fleet Metrics (daily) Sched...</td>\n",
       "      <td>0.644344</td>\n",
       "      <td>9.787265</td>\n",
       "      <td>[{'name': 'copyToStaging', 'durationSeconds': ...</td>\n",
       "      <td>455</td>\n",
       "      <td>11776</td>\n",
       "      <td>[date, organization_id, container_type, camera...</td>\n",
       "      <td>False</td>\n",
       "      <td>4451</td>\n",
       "    </tr>\n",
       "    <tr>\n",
       "      <th>1</th>\n",
       "      <td>success</td>\n",
       "      <td>965827685</td>\n",
       "      <td>2023-04-04T06:02:21+0200</td>\n",
       "      <td>6876879921</td>\n",
       "      <td>[_internal] Upload Fleet Metrics (daily) Sched...</td>\n",
       "      <td>0.714081</td>\n",
       "      <td>8.154749</td>\n",
       "      <td>[{'name': 'copyToStaging', 'durationSeconds': ...</td>\n",
       "      <td>455</td>\n",
       "      <td>11776</td>\n",
       "      <td>[date, organization_id, container_type, camera...</td>\n",
       "      <td>False</td>\n",
       "      <td>4458</td>\n",
       "    </tr>\n",
       "    <tr>\n",
       "      <th>2</th>\n",
       "      <td>success</td>\n",
       "      <td>965499501</td>\n",
       "      <td>2023-04-03T06:02:41+0200</td>\n",
       "      <td>6873475045</td>\n",
       "      <td>[_internal] Upload Fleet Metrics (daily) Sched...</td>\n",
       "      <td>0.602181</td>\n",
       "      <td>8.487464</td>\n",
       "      <td>[{'name': 'copyToStaging', 'durationSeconds': ...</td>\n",
       "      <td>460</td>\n",
       "      <td>12288</td>\n",
       "      <td>[date, organization_id, container_type, camera...</td>\n",
       "      <td>False</td>\n",
       "      <td>4495</td>\n",
       "    </tr>\n",
       "  </tbody>\n",
       "</table>\n",
       "</div>"
      ],
      "text/plain": [
       "      type      runId                   created  table_event_id  \\\n",
       "0  success  966152052  2023-04-05T06:02:34+0200      6880228839   \n",
       "1  success  965827685  2023-04-04T06:02:21+0200      6876879921   \n",
       "2  success  965499501  2023-04-03T06:02:41+0200      6873475045   \n",
       "\n",
       "                                                name  rowsCountDuration  \\\n",
       "0  [_internal] Upload Fleet Metrics (daily) Sched...           0.644344   \n",
       "1  [_internal] Upload Fleet Metrics (daily) Sched...           0.714081   \n",
       "2  [_internal] Upload Fleet Metrics (daily) Sched...           0.602181   \n",
       "\n",
       "   importDuration                                   importDecomposed  \\\n",
       "0        9.787265  [{'name': 'copyToStaging', 'durationSeconds': ...   \n",
       "1        8.154749  [{'name': 'copyToStaging', 'durationSeconds': ...   \n",
       "2        8.487464  [{'name': 'copyToStaging', 'durationSeconds': ...   \n",
       "\n",
       "  rowsCount  sizeBytes                                    importedColumns  \\\n",
       "0       455      11776  [date, organization_id, container_type, camera...   \n",
       "1       455      11776  [date, organization_id, container_type, camera...   \n",
       "2       460      12288  [date, organization_id, container_type, camera...   \n",
       "\n",
       "   incremental  source.fileSize  \n",
       "0        False             4451  \n",
       "1        False             4458  \n",
       "2        False             4495  "
      ]
     },
     "execution_count": 41,
     "metadata": {},
     "output_type": "execute_result"
    }
   ],
   "source": [
    "stats_df = data[[\"id\",\"event\",\"component\",\"type\",\"runId\",\"created\",\"params\",\"results\",\"performance\",\"token\"]]\n",
    "stats_df[\"table_event_id\"] = stats_df[\"id\"]\n",
    "stats_df = stats_df[stats_df['event'] == 'storage.tableImportDone'] \n",
    "\n",
    "# Column names that contain JSON\n",
    "del_list = [\"id\",\"token\",\"performance\", \"warnings\", \"results\", \"event\",\"component\"]\n",
    "\n",
    "normalize_list = [\"token\", \"performance\",\"results\"]\n",
    "\n",
    "#stats_df = pd.concat([stats_df, pd.json_normalize(stats_df[\"token\"])], axis=1)\n",
    "\n",
    "for b in normalize_list:\n",
    "    try:\n",
    "        stats_df = pd.concat([stats_df, pd.json_normalize(stats_df[b])], axis=1)\n",
    "    except:\n",
    "        print(\"Issue when normalizing {}\".format(a))\n",
    "\n",
    "\n",
    "for a in del_list:\n",
    "    #print(a)\n",
    "    try:\n",
    "        stats_df.drop(a, axis=1, inplace=True)\n",
    "    except:\n",
    "        print(\"Issue when deleting {}\".format(a))\n",
    "\n",
    "\n",
    "## Once again, in a separate step (I bounced on errors doing everything at once)\n",
    "normalize_list = [\"params\"]\n",
    "del_list = [\"params\",\"importId\",\"withoutHeaders\", \"source.origin\", \"source.fileId\", \"source.fileName\",\"csv.delimiter\",\"csv.enclosure\",\"csv.escapedBy\",\"fromSnapshot\",\"async\",\"source.tableName\",\"source.type\",\"source.dataObject\",\"source.workspaceId\",\"columns\"]\n",
    "\n",
    "for b in normalize_list:\n",
    "    try:\n",
    "        stats_df = pd.concat([stats_df, pd.json_normalize(stats_df[b])], axis=1)\n",
    "    except:\n",
    "        print(\"Issue when normalizing {}\".format(a))\n",
    "\n",
    "for a in del_list:\n",
    "    #print(a)\n",
    "    try:\n",
    "        stats_df.drop(a, axis=1, inplace=True)\n",
    "    except:\n",
    "        print(\"Issue when deleting {}\".format(a))\n",
    "\n",
    "stats_df[:3]"
   ]
  },
  {
   "cell_type": "code",
   "execution_count": 42,
   "metadata": {},
   "outputs": [
    {
     "data": {
      "text/html": [
       "<div>\n",
       "<style scoped>\n",
       "    .dataframe tbody tr th:only-of-type {\n",
       "        vertical-align: middle;\n",
       "    }\n",
       "\n",
       "    .dataframe tbody tr th {\n",
       "        vertical-align: top;\n",
       "    }\n",
       "\n",
       "    .dataframe thead th {\n",
       "        text-align: right;\n",
       "    }\n",
       "</style>\n",
       "<table border=\"1\" class=\"dataframe\">\n",
       "  <thead>\n",
       "    <tr style=\"text-align: right;\">\n",
       "      <th></th>\n",
       "      <th>type</th>\n",
       "      <th>runId</th>\n",
       "      <th>created</th>\n",
       "      <th>table_event_id</th>\n",
       "      <th>name</th>\n",
       "      <th>rowsCountDuration</th>\n",
       "      <th>importDuration</th>\n",
       "      <th>importDecomposed</th>\n",
       "      <th>rowsCount</th>\n",
       "      <th>sizeBytes</th>\n",
       "      <th>importedColumns</th>\n",
       "      <th>incremental</th>\n",
       "      <th>source.fileSize</th>\n",
       "      <th>lag_columns</th>\n",
       "      <th>lag_rows</th>\n",
       "    </tr>\n",
       "  </thead>\n",
       "  <tbody>\n",
       "    <tr>\n",
       "      <th>180</th>\n",
       "      <td>success</td>\n",
       "      <td>917309287.917309608.917309788</td>\n",
       "      <td>2022-11-02 05:01:34+01:00</td>\n",
       "      <td>6291836080</td>\n",
       "      <td>[_internal] Upload Fleet Metrics (daily) Sched...</td>\n",
       "      <td>0.607682</td>\n",
       "      <td>7.893643</td>\n",
       "      <td>[{'name': 'copyToStaging', 'durationSeconds': ...</td>\n",
       "      <td>435</td>\n",
       "      <td>11776</td>\n",
       "      <td>[date, organization_id, container_type, camera...</td>\n",
       "      <td>False</td>\n",
       "      <td>4244</td>\n",
       "      <td>NaN</td>\n",
       "      <td>NaN</td>\n",
       "    </tr>\n",
       "    <tr>\n",
       "      <th>179</th>\n",
       "      <td>success</td>\n",
       "      <td>917675333.917675504.917675605</td>\n",
       "      <td>2022-11-03 05:01:04+01:00</td>\n",
       "      <td>6295962748</td>\n",
       "      <td>[_internal] Upload Fleet Metrics (daily) Sched...</td>\n",
       "      <td>0.556171</td>\n",
       "      <td>8.017117</td>\n",
       "      <td>[{'name': 'copyToStaging', 'durationSeconds': ...</td>\n",
       "      <td>435</td>\n",
       "      <td>11776</td>\n",
       "      <td>[date, organization_id, container_type, camera...</td>\n",
       "      <td>False</td>\n",
       "      <td>4253</td>\n",
       "      <td>[date, organization_id, container_type, camera...</td>\n",
       "      <td>435.0</td>\n",
       "    </tr>\n",
       "    <tr>\n",
       "      <th>178</th>\n",
       "      <td>success</td>\n",
       "      <td>918044737.918045157.918045366</td>\n",
       "      <td>2022-11-04 05:02:03+01:00</td>\n",
       "      <td>6300055112</td>\n",
       "      <td>[_internal] Upload Fleet Metrics (daily) Sched...</td>\n",
       "      <td>0.662660</td>\n",
       "      <td>8.542227</td>\n",
       "      <td>[{'name': 'copyToStaging', 'durationSeconds': ...</td>\n",
       "      <td>435</td>\n",
       "      <td>11776</td>\n",
       "      <td>[date, organization_id, container_type, camera...</td>\n",
       "      <td>False</td>\n",
       "      <td>4254</td>\n",
       "      <td>[date, organization_id, container_type, camera...</td>\n",
       "      <td>435.0</td>\n",
       "    </tr>\n",
       "    <tr>\n",
       "      <th>177</th>\n",
       "      <td>success</td>\n",
       "      <td>918455630.918455819.918455975</td>\n",
       "      <td>2022-11-05 05:02:57+01:00</td>\n",
       "      <td>6304163994</td>\n",
       "      <td>[_internal] Upload Fleet Metrics (daily) Sched...</td>\n",
       "      <td>0.730420</td>\n",
       "      <td>7.907769</td>\n",
       "      <td>[{'name': 'copyToStaging', 'durationSeconds': ...</td>\n",
       "      <td>435</td>\n",
       "      <td>11776</td>\n",
       "      <td>[date, organization_id, container_type, camera...</td>\n",
       "      <td>False</td>\n",
       "      <td>4253</td>\n",
       "      <td>[date, organization_id, container_type, camera...</td>\n",
       "      <td>435.0</td>\n",
       "    </tr>\n",
       "    <tr>\n",
       "      <th>176</th>\n",
       "      <td>success</td>\n",
       "      <td>918747837.918748115.918748268</td>\n",
       "      <td>2022-11-06 05:02:59+01:00</td>\n",
       "      <td>6307832265</td>\n",
       "      <td>[_internal] Upload Fleet Metrics (daily) Sched...</td>\n",
       "      <td>0.551704</td>\n",
       "      <td>7.195343</td>\n",
       "      <td>[{'name': 'copyToStaging', 'durationSeconds': ...</td>\n",
       "      <td>435</td>\n",
       "      <td>11776</td>\n",
       "      <td>[date, organization_id, container_type, camera...</td>\n",
       "      <td>False</td>\n",
       "      <td>4257</td>\n",
       "      <td>[date, organization_id, container_type, camera...</td>\n",
       "      <td>435.0</td>\n",
       "    </tr>\n",
       "    <tr>\n",
       "      <th>175</th>\n",
       "      <td>success</td>\n",
       "      <td>919056488.919056663.919056782</td>\n",
       "      <td>2022-11-07 06:02:44+01:00</td>\n",
       "      <td>6311750290</td>\n",
       "      <td>[_internal] Upload Fleet Metrics (daily) Sched...</td>\n",
       "      <td>0.672174</td>\n",
       "      <td>8.118134</td>\n",
       "      <td>[{'name': 'copyToStaging', 'durationSeconds': ...</td>\n",
       "      <td>435</td>\n",
       "      <td>11776</td>\n",
       "      <td>[date, organization_id, container_type, camera...</td>\n",
       "      <td>False</td>\n",
       "      <td>4264</td>\n",
       "      <td>[date, organization_id, container_type, camera...</td>\n",
       "      <td>435.0</td>\n",
       "    </tr>\n",
       "    <tr>\n",
       "      <th>174</th>\n",
       "      <td>success</td>\n",
       "      <td>919415366.919415520.919415709</td>\n",
       "      <td>2022-11-08 06:02:48+01:00</td>\n",
       "      <td>6315689367</td>\n",
       "      <td>[_internal] Upload Fleet Metrics (daily) Sched...</td>\n",
       "      <td>0.569942</td>\n",
       "      <td>7.138777</td>\n",
       "      <td>[{'name': 'copyToStaging', 'durationSeconds': ...</td>\n",
       "      <td>435</td>\n",
       "      <td>11776</td>\n",
       "      <td>[date, organization_id, container_type, camera...</td>\n",
       "      <td>False</td>\n",
       "      <td>4248</td>\n",
       "      <td>[date, organization_id, container_type, camera...</td>\n",
       "      <td>435.0</td>\n",
       "    </tr>\n",
       "    <tr>\n",
       "      <th>173</th>\n",
       "      <td>success</td>\n",
       "      <td>919868055.919868256.919868480</td>\n",
       "      <td>2022-11-09 06:03:08+01:00</td>\n",
       "      <td>6319977139</td>\n",
       "      <td>[_internal] Upload Fleet Metrics (daily) Sched...</td>\n",
       "      <td>0.660005</td>\n",
       "      <td>8.387535</td>\n",
       "      <td>[{'name': 'copyToStaging', 'durationSeconds': ...</td>\n",
       "      <td>435</td>\n",
       "      <td>11776</td>\n",
       "      <td>[date, organization_id, container_type, camera...</td>\n",
       "      <td>False</td>\n",
       "      <td>4260</td>\n",
       "      <td>[date, organization_id, container_type, camera...</td>\n",
       "      <td>435.0</td>\n",
       "    </tr>\n",
       "    <tr>\n",
       "      <th>172</th>\n",
       "      <td>success</td>\n",
       "      <td>920243896.920244091.920244353</td>\n",
       "      <td>2022-11-10 06:02:58+01:00</td>\n",
       "      <td>6323986695</td>\n",
       "      <td>[_internal] Upload Fleet Metrics (daily) Sched...</td>\n",
       "      <td>0.953723</td>\n",
       "      <td>8.549387</td>\n",
       "      <td>[{'name': 'copyToStaging', 'durationSeconds': ...</td>\n",
       "      <td>435</td>\n",
       "      <td>11776</td>\n",
       "      <td>[date, organization_id, container_type, camera...</td>\n",
       "      <td>False</td>\n",
       "      <td>4261</td>\n",
       "      <td>[date, organization_id, container_type, camera...</td>\n",
       "      <td>435.0</td>\n",
       "    </tr>\n",
       "    <tr>\n",
       "      <th>171</th>\n",
       "      <td>success</td>\n",
       "      <td>920572341.920572486.920572615</td>\n",
       "      <td>2022-11-11 06:02:37+01:00</td>\n",
       "      <td>6327947663</td>\n",
       "      <td>[_internal] Upload Fleet Metrics (daily) Sched...</td>\n",
       "      <td>0.611991</td>\n",
       "      <td>7.752781</td>\n",
       "      <td>[{'name': 'copyToStaging', 'durationSeconds': ...</td>\n",
       "      <td>435</td>\n",
       "      <td>11776</td>\n",
       "      <td>[date, organization_id, container_type, camera...</td>\n",
       "      <td>False</td>\n",
       "      <td>4260</td>\n",
       "      <td>[date, organization_id, container_type, camera...</td>\n",
       "      <td>435.0</td>\n",
       "    </tr>\n",
       "    <tr>\n",
       "      <th>170</th>\n",
       "      <td>success</td>\n",
       "      <td>920911114.920911295.920911510</td>\n",
       "      <td>2022-11-12 06:02:58+01:00</td>\n",
       "      <td>6331892531</td>\n",
       "      <td>[_internal] Upload Fleet Metrics (daily) Sched...</td>\n",
       "      <td>0.690198</td>\n",
       "      <td>7.663645</td>\n",
       "      <td>[{'name': 'copyToStaging', 'durationSeconds': ...</td>\n",
       "      <td>436</td>\n",
       "      <td>11776</td>\n",
       "      <td>[date, organization_id, container_type, camera...</td>\n",
       "      <td>False</td>\n",
       "      <td>4259</td>\n",
       "      <td>[date, organization_id, container_type, camera...</td>\n",
       "      <td>435.0</td>\n",
       "    </tr>\n",
       "    <tr>\n",
       "      <th>169</th>\n",
       "      <td>success</td>\n",
       "      <td>921216733.921216908.921217050</td>\n",
       "      <td>2022-11-13 06:02:21+01:00</td>\n",
       "      <td>6335803190</td>\n",
       "      <td>[_internal] Upload Fleet Metrics (daily) Sched...</td>\n",
       "      <td>0.687928</td>\n",
       "      <td>8.346897</td>\n",
       "      <td>[{'name': 'copyToStaging', 'durationSeconds': ...</td>\n",
       "      <td>436</td>\n",
       "      <td>11776</td>\n",
       "      <td>[date, organization_id, container_type, camera...</td>\n",
       "      <td>False</td>\n",
       "      <td>4265</td>\n",
       "      <td>[date, organization_id, container_type, camera...</td>\n",
       "      <td>436.0</td>\n",
       "    </tr>\n",
       "    <tr>\n",
       "      <th>168</th>\n",
       "      <td>success</td>\n",
       "      <td>921537015.921537218.921537426</td>\n",
       "      <td>2022-11-14 06:03:00+01:00</td>\n",
       "      <td>6339891880</td>\n",
       "      <td>[_internal] Upload Fleet Metrics (daily) Sched...</td>\n",
       "      <td>0.810751</td>\n",
       "      <td>9.448199</td>\n",
       "      <td>[{'name': 'copyToStaging', 'durationSeconds': ...</td>\n",
       "      <td>436</td>\n",
       "      <td>11776</td>\n",
       "      <td>[date, organization_id, container_type, camera...</td>\n",
       "      <td>False</td>\n",
       "      <td>4265</td>\n",
       "      <td>[date, organization_id, container_type, camera...</td>\n",
       "      <td>436.0</td>\n",
       "    </tr>\n",
       "    <tr>\n",
       "      <th>167</th>\n",
       "      <td>success</td>\n",
       "      <td>921903173.921903379.921903573</td>\n",
       "      <td>2022-11-15 06:02:50+01:00</td>\n",
       "      <td>6344085617</td>\n",
       "      <td>[_internal] Upload Fleet Metrics (daily) Sched...</td>\n",
       "      <td>0.838489</td>\n",
       "      <td>7.939471</td>\n",
       "      <td>[{'name': 'copyToStaging', 'durationSeconds': ...</td>\n",
       "      <td>435</td>\n",
       "      <td>11776</td>\n",
       "      <td>[date, organization_id, container_type, camera...</td>\n",
       "      <td>False</td>\n",
       "      <td>4275</td>\n",
       "      <td>[date, organization_id, container_type, camera...</td>\n",
       "      <td>436.0</td>\n",
       "    </tr>\n",
       "    <tr>\n",
       "      <th>166</th>\n",
       "      <td>success</td>\n",
       "      <td>922248805.922249067.922249448</td>\n",
       "      <td>2022-11-16 06:03:16+01:00</td>\n",
       "      <td>6348153149</td>\n",
       "      <td>[_internal] Upload Fleet Metrics (daily) Sched...</td>\n",
       "      <td>0.657159</td>\n",
       "      <td>7.991218</td>\n",
       "      <td>[{'name': 'copyToStaging', 'durationSeconds': ...</td>\n",
       "      <td>437</td>\n",
       "      <td>11776</td>\n",
       "      <td>[date, organization_id, container_type, camera...</td>\n",
       "      <td>False</td>\n",
       "      <td>4266</td>\n",
       "      <td>[date, organization_id, container_type, camera...</td>\n",
       "      <td>435.0</td>\n",
       "    </tr>\n",
       "    <tr>\n",
       "      <th>165</th>\n",
       "      <td>success</td>\n",
       "      <td>922578090.922578266.922578358</td>\n",
       "      <td>2022-11-17 06:02:39+01:00</td>\n",
       "      <td>6352111732</td>\n",
       "      <td>[_internal] Upload Fleet Metrics (daily) Sched...</td>\n",
       "      <td>0.618893</td>\n",
       "      <td>7.783095</td>\n",
       "      <td>[{'name': 'copyToStaging', 'durationSeconds': ...</td>\n",
       "      <td>437</td>\n",
       "      <td>11776</td>\n",
       "      <td>[date, organization_id, container_type, camera...</td>\n",
       "      <td>False</td>\n",
       "      <td>4265</td>\n",
       "      <td>[date, organization_id, container_type, camera...</td>\n",
       "      <td>437.0</td>\n",
       "    </tr>\n",
       "    <tr>\n",
       "      <th>164</th>\n",
       "      <td>success</td>\n",
       "      <td>922859390.922859628.922859806</td>\n",
       "      <td>2022-11-18 06:03:03+01:00</td>\n",
       "      <td>6355688025</td>\n",
       "      <td>[_internal] Upload Fleet Metrics (daily) Sched...</td>\n",
       "      <td>0.862755</td>\n",
       "      <td>7.038134</td>\n",
       "      <td>[{'name': 'copyToStaging', 'durationSeconds': ...</td>\n",
       "      <td>439</td>\n",
       "      <td>11776</td>\n",
       "      <td>[date, organization_id, container_type, camera...</td>\n",
       "      <td>False</td>\n",
       "      <td>4271</td>\n",
       "      <td>[date, organization_id, container_type, camera...</td>\n",
       "      <td>437.0</td>\n",
       "    </tr>\n",
       "    <tr>\n",
       "      <th>163</th>\n",
       "      <td>success</td>\n",
       "      <td>923185974.923186131.923186247</td>\n",
       "      <td>2022-11-19 06:02:41+01:00</td>\n",
       "      <td>6359439887</td>\n",
       "      <td>[_internal] Upload Fleet Metrics (daily) Sched...</td>\n",
       "      <td>0.614604</td>\n",
       "      <td>7.311860</td>\n",
       "      <td>[{'name': 'copyToStaging', 'durationSeconds': ...</td>\n",
       "      <td>439</td>\n",
       "      <td>11776</td>\n",
       "      <td>[date, organization_id, container_type, camera...</td>\n",
       "      <td>False</td>\n",
       "      <td>4275</td>\n",
       "      <td>[date, organization_id, container_type, camera...</td>\n",
       "      <td>439.0</td>\n",
       "    </tr>\n",
       "    <tr>\n",
       "      <th>162</th>\n",
       "      <td>success</td>\n",
       "      <td>923488752.923489036.923489162</td>\n",
       "      <td>2022-11-20 06:02:55+01:00</td>\n",
       "      <td>6363047830</td>\n",
       "      <td>[_internal] Upload Fleet Metrics (daily) Sched...</td>\n",
       "      <td>0.605478</td>\n",
       "      <td>9.481635</td>\n",
       "      <td>[{'name': 'copyToStaging', 'durationSeconds': ...</td>\n",
       "      <td>439</td>\n",
       "      <td>11776</td>\n",
       "      <td>[date, organization_id, container_type, camera...</td>\n",
       "      <td>False</td>\n",
       "      <td>4273</td>\n",
       "      <td>[date, organization_id, container_type, camera...</td>\n",
       "      <td>439.0</td>\n",
       "    </tr>\n",
       "    <tr>\n",
       "      <th>161</th>\n",
       "      <td>success</td>\n",
       "      <td>923778821.923778994.923779202</td>\n",
       "      <td>2022-11-21 06:02:48+01:00</td>\n",
       "      <td>6366665382</td>\n",
       "      <td>[_internal] Upload Fleet Metrics (daily) Sched...</td>\n",
       "      <td>0.776064</td>\n",
       "      <td>8.258694</td>\n",
       "      <td>[{'name': 'copyToStaging', 'durationSeconds': ...</td>\n",
       "      <td>439</td>\n",
       "      <td>11776</td>\n",
       "      <td>[date, organization_id, container_type, camera...</td>\n",
       "      <td>False</td>\n",
       "      <td>4285</td>\n",
       "      <td>[date, organization_id, container_type, camera...</td>\n",
       "      <td>439.0</td>\n",
       "    </tr>\n",
       "  </tbody>\n",
       "</table>\n",
       "</div>"
      ],
      "text/plain": [
       "        type                          runId                    created  \\\n",
       "180  success  917309287.917309608.917309788  2022-11-02 05:01:34+01:00   \n",
       "179  success  917675333.917675504.917675605  2022-11-03 05:01:04+01:00   \n",
       "178  success  918044737.918045157.918045366  2022-11-04 05:02:03+01:00   \n",
       "177  success  918455630.918455819.918455975  2022-11-05 05:02:57+01:00   \n",
       "176  success  918747837.918748115.918748268  2022-11-06 05:02:59+01:00   \n",
       "175  success  919056488.919056663.919056782  2022-11-07 06:02:44+01:00   \n",
       "174  success  919415366.919415520.919415709  2022-11-08 06:02:48+01:00   \n",
       "173  success  919868055.919868256.919868480  2022-11-09 06:03:08+01:00   \n",
       "172  success  920243896.920244091.920244353  2022-11-10 06:02:58+01:00   \n",
       "171  success  920572341.920572486.920572615  2022-11-11 06:02:37+01:00   \n",
       "170  success  920911114.920911295.920911510  2022-11-12 06:02:58+01:00   \n",
       "169  success  921216733.921216908.921217050  2022-11-13 06:02:21+01:00   \n",
       "168  success  921537015.921537218.921537426  2022-11-14 06:03:00+01:00   \n",
       "167  success  921903173.921903379.921903573  2022-11-15 06:02:50+01:00   \n",
       "166  success  922248805.922249067.922249448  2022-11-16 06:03:16+01:00   \n",
       "165  success  922578090.922578266.922578358  2022-11-17 06:02:39+01:00   \n",
       "164  success  922859390.922859628.922859806  2022-11-18 06:03:03+01:00   \n",
       "163  success  923185974.923186131.923186247  2022-11-19 06:02:41+01:00   \n",
       "162  success  923488752.923489036.923489162  2022-11-20 06:02:55+01:00   \n",
       "161  success  923778821.923778994.923779202  2022-11-21 06:02:48+01:00   \n",
       "\n",
       "     table_event_id                                               name  \\\n",
       "180      6291836080  [_internal] Upload Fleet Metrics (daily) Sched...   \n",
       "179      6295962748  [_internal] Upload Fleet Metrics (daily) Sched...   \n",
       "178      6300055112  [_internal] Upload Fleet Metrics (daily) Sched...   \n",
       "177      6304163994  [_internal] Upload Fleet Metrics (daily) Sched...   \n",
       "176      6307832265  [_internal] Upload Fleet Metrics (daily) Sched...   \n",
       "175      6311750290  [_internal] Upload Fleet Metrics (daily) Sched...   \n",
       "174      6315689367  [_internal] Upload Fleet Metrics (daily) Sched...   \n",
       "173      6319977139  [_internal] Upload Fleet Metrics (daily) Sched...   \n",
       "172      6323986695  [_internal] Upload Fleet Metrics (daily) Sched...   \n",
       "171      6327947663  [_internal] Upload Fleet Metrics (daily) Sched...   \n",
       "170      6331892531  [_internal] Upload Fleet Metrics (daily) Sched...   \n",
       "169      6335803190  [_internal] Upload Fleet Metrics (daily) Sched...   \n",
       "168      6339891880  [_internal] Upload Fleet Metrics (daily) Sched...   \n",
       "167      6344085617  [_internal] Upload Fleet Metrics (daily) Sched...   \n",
       "166      6348153149  [_internal] Upload Fleet Metrics (daily) Sched...   \n",
       "165      6352111732  [_internal] Upload Fleet Metrics (daily) Sched...   \n",
       "164      6355688025  [_internal] Upload Fleet Metrics (daily) Sched...   \n",
       "163      6359439887  [_internal] Upload Fleet Metrics (daily) Sched...   \n",
       "162      6363047830  [_internal] Upload Fleet Metrics (daily) Sched...   \n",
       "161      6366665382  [_internal] Upload Fleet Metrics (daily) Sched...   \n",
       "\n",
       "     rowsCountDuration  importDuration  \\\n",
       "180           0.607682        7.893643   \n",
       "179           0.556171        8.017117   \n",
       "178           0.662660        8.542227   \n",
       "177           0.730420        7.907769   \n",
       "176           0.551704        7.195343   \n",
       "175           0.672174        8.118134   \n",
       "174           0.569942        7.138777   \n",
       "173           0.660005        8.387535   \n",
       "172           0.953723        8.549387   \n",
       "171           0.611991        7.752781   \n",
       "170           0.690198        7.663645   \n",
       "169           0.687928        8.346897   \n",
       "168           0.810751        9.448199   \n",
       "167           0.838489        7.939471   \n",
       "166           0.657159        7.991218   \n",
       "165           0.618893        7.783095   \n",
       "164           0.862755        7.038134   \n",
       "163           0.614604        7.311860   \n",
       "162           0.605478        9.481635   \n",
       "161           0.776064        8.258694   \n",
       "\n",
       "                                      importDecomposed  rowsCount  sizeBytes  \\\n",
       "180  [{'name': 'copyToStaging', 'durationSeconds': ...        435      11776   \n",
       "179  [{'name': 'copyToStaging', 'durationSeconds': ...        435      11776   \n",
       "178  [{'name': 'copyToStaging', 'durationSeconds': ...        435      11776   \n",
       "177  [{'name': 'copyToStaging', 'durationSeconds': ...        435      11776   \n",
       "176  [{'name': 'copyToStaging', 'durationSeconds': ...        435      11776   \n",
       "175  [{'name': 'copyToStaging', 'durationSeconds': ...        435      11776   \n",
       "174  [{'name': 'copyToStaging', 'durationSeconds': ...        435      11776   \n",
       "173  [{'name': 'copyToStaging', 'durationSeconds': ...        435      11776   \n",
       "172  [{'name': 'copyToStaging', 'durationSeconds': ...        435      11776   \n",
       "171  [{'name': 'copyToStaging', 'durationSeconds': ...        435      11776   \n",
       "170  [{'name': 'copyToStaging', 'durationSeconds': ...        436      11776   \n",
       "169  [{'name': 'copyToStaging', 'durationSeconds': ...        436      11776   \n",
       "168  [{'name': 'copyToStaging', 'durationSeconds': ...        436      11776   \n",
       "167  [{'name': 'copyToStaging', 'durationSeconds': ...        435      11776   \n",
       "166  [{'name': 'copyToStaging', 'durationSeconds': ...        437      11776   \n",
       "165  [{'name': 'copyToStaging', 'durationSeconds': ...        437      11776   \n",
       "164  [{'name': 'copyToStaging', 'durationSeconds': ...        439      11776   \n",
       "163  [{'name': 'copyToStaging', 'durationSeconds': ...        439      11776   \n",
       "162  [{'name': 'copyToStaging', 'durationSeconds': ...        439      11776   \n",
       "161  [{'name': 'copyToStaging', 'durationSeconds': ...        439      11776   \n",
       "\n",
       "                                       importedColumns  incremental  \\\n",
       "180  [date, organization_id, container_type, camera...        False   \n",
       "179  [date, organization_id, container_type, camera...        False   \n",
       "178  [date, organization_id, container_type, camera...        False   \n",
       "177  [date, organization_id, container_type, camera...        False   \n",
       "176  [date, organization_id, container_type, camera...        False   \n",
       "175  [date, organization_id, container_type, camera...        False   \n",
       "174  [date, organization_id, container_type, camera...        False   \n",
       "173  [date, organization_id, container_type, camera...        False   \n",
       "172  [date, organization_id, container_type, camera...        False   \n",
       "171  [date, organization_id, container_type, camera...        False   \n",
       "170  [date, organization_id, container_type, camera...        False   \n",
       "169  [date, organization_id, container_type, camera...        False   \n",
       "168  [date, organization_id, container_type, camera...        False   \n",
       "167  [date, organization_id, container_type, camera...        False   \n",
       "166  [date, organization_id, container_type, camera...        False   \n",
       "165  [date, organization_id, container_type, camera...        False   \n",
       "164  [date, organization_id, container_type, camera...        False   \n",
       "163  [date, organization_id, container_type, camera...        False   \n",
       "162  [date, organization_id, container_type, camera...        False   \n",
       "161  [date, organization_id, container_type, camera...        False   \n",
       "\n",
       "     source.fileSize                                        lag_columns  \\\n",
       "180             4244                                                NaN   \n",
       "179             4253  [date, organization_id, container_type, camera...   \n",
       "178             4254  [date, organization_id, container_type, camera...   \n",
       "177             4253  [date, organization_id, container_type, camera...   \n",
       "176             4257  [date, organization_id, container_type, camera...   \n",
       "175             4264  [date, organization_id, container_type, camera...   \n",
       "174             4248  [date, organization_id, container_type, camera...   \n",
       "173             4260  [date, organization_id, container_type, camera...   \n",
       "172             4261  [date, organization_id, container_type, camera...   \n",
       "171             4260  [date, organization_id, container_type, camera...   \n",
       "170             4259  [date, organization_id, container_type, camera...   \n",
       "169             4265  [date, organization_id, container_type, camera...   \n",
       "168             4265  [date, organization_id, container_type, camera...   \n",
       "167             4275  [date, organization_id, container_type, camera...   \n",
       "166             4266  [date, organization_id, container_type, camera...   \n",
       "165             4265  [date, organization_id, container_type, camera...   \n",
       "164             4271  [date, organization_id, container_type, camera...   \n",
       "163             4275  [date, organization_id, container_type, camera...   \n",
       "162             4273  [date, organization_id, container_type, camera...   \n",
       "161             4285  [date, organization_id, container_type, camera...   \n",
       "\n",
       "     lag_rows  \n",
       "180       NaN  \n",
       "179     435.0  \n",
       "178     435.0  \n",
       "177     435.0  \n",
       "176     435.0  \n",
       "175     435.0  \n",
       "174     435.0  \n",
       "173     435.0  \n",
       "172     435.0  \n",
       "171     435.0  \n",
       "170     435.0  \n",
       "169     436.0  \n",
       "168     436.0  \n",
       "167     436.0  \n",
       "166     435.0  \n",
       "165     437.0  \n",
       "164     437.0  \n",
       "163     439.0  \n",
       "162     439.0  \n",
       "161     439.0  "
      ]
     },
     "execution_count": 42,
     "metadata": {},
     "output_type": "execute_result"
    }
   ],
   "source": [
    "stats_df[\"created\"] = pd.to_datetime(stats_df['created'])\n",
    "stats_df[\"rowsCount\"] = stats_df[\"rowsCount\"].astype(int)\n",
    "stats_df = stats_df.sort_values('created',ascending=True)\n",
    "\n",
    "## Lag columns\n",
    "stats_df[\"lag_columns\"] = stats_df[\"importedColumns\"].shift()\n",
    "stats_df['lag_rows'] = stats_df[\"rowsCount\"].shift()\n",
    "\n",
    "## convert columns to list\n",
    "stats_df[\"importedColumns\"] = stats_df[\"importedColumns\"].tolist()\n",
    "stats_df[\"lag_columns\"] = stats_df[\"lag_columns\"].tolist()\n",
    "\n",
    "## test output\n",
    "stats_df[:20]\n",
    "\n"
   ]
  },
  {
   "cell_type": "code",
   "execution_count": 43,
   "metadata": {},
   "outputs": [],
   "source": [
    "stats_df.tail(40).to_csv('compology.csv', index=False)"
   ]
  },
  {
   "cell_type": "code",
   "execution_count": 44,
   "metadata": {},
   "outputs": [],
   "source": [
    "## calculate deltas and changes\n",
    "stats_df['schema_evolution'] = stats_df['importedColumns'].equals(stats_df['lag_columns'])\n",
    "#stats_df['schema_evolution'] = stats_df['importedColumns']==stats_df['lag_columns']\n",
    "stats_df['rows_delta'] = stats_df['rowsCount']-stats_df['lag_rows']\n"
   ]
  },
  {
   "cell_type": "code",
   "execution_count": 45,
   "metadata": {},
   "outputs": [],
   "source": [
    "del_list = [\"lag_columns\", \"lag_rows\"]\n",
    "\n",
    "for a in del_list:\n",
    "    #print(a)\n",
    "    try:\n",
    "        stats_df.drop(a, axis=1, inplace=True)\n",
    "    except:\n",
    "        print(\"Issue when deleting {}\".format(a))\n",
    "\n",
    "stats_df[:3] \n",
    "\n",
    "stats_df[\"rows_delta\"] = stats_df[\"rows_delta\"].fillna(0)\n"
   ]
  },
  {
   "cell_type": "markdown",
   "metadata": {},
   "source": [
    "## TODO\n",
    "\n",
    "Job event frequency\n",
    "\n",
    "- Informace o neaktivních tabulkách / nejvíce aktivních tabulkách\n",
    "- Kolikrát v posledních 30ti dnech byla tabulka aktualizovaná\n",
    "- Přírůstek v tabulkách\n",
    "- Kolik je aliasů tabulky a kolik je mappings na tabulku\n",
    "- Jestli existuje extractor, který do tabulky zapisuje"
   ]
  },
  {
   "cell_type": "code",
   "execution_count": null,
   "metadata": {},
   "outputs": [],
   "source": []
  },
  {
   "cell_type": "markdown",
   "metadata": {},
   "source": [
    "## Charting"
   ]
  },
  {
   "cell_type": "code",
   "execution_count": 46,
   "metadata": {},
   "outputs": [
    {
     "name": "stdout",
     "output_type": "stream",
     "text": [
      "Note: row count is absolute, not imported chunk count\n"
     ]
    },
    {
     "data": {
      "application/vnd.plotly.v1+json": {
       "config": {
        "plotlyServerURL": "https://plot.ly"
       },
       "data": [
        {
         "hovertemplate": "created=%{x}<br>rowsCount=%{y}<extra></extra>",
         "legendgroup": "",
         "line": {
          "color": "#636efa",
          "dash": "solid"
         },
         "marker": {
          "symbol": "circle"
         },
         "mode": "lines+markers",
         "name": "",
         "orientation": "v",
         "showlegend": false,
         "type": "scatter",
         "x": [
          "2022-11-02T05:01:34+01:00",
          "2022-11-03T05:01:04+01:00",
          "2022-11-04T05:02:03+01:00",
          "2022-11-05T05:02:57+01:00",
          "2022-11-06T05:02:59+01:00",
          "2022-11-07T06:02:44+01:00",
          "2022-11-08T06:02:48+01:00",
          "2022-11-09T06:03:08+01:00",
          "2022-11-10T06:02:58+01:00",
          "2022-11-11T06:02:37+01:00",
          "2022-11-12T06:02:58+01:00",
          "2022-11-13T06:02:21+01:00",
          "2022-11-14T06:03:00+01:00",
          "2022-11-15T06:02:50+01:00",
          "2022-11-16T06:03:16+01:00",
          "2022-11-17T06:02:39+01:00",
          "2022-11-18T06:03:03+01:00",
          "2022-11-19T06:02:41+01:00",
          "2022-11-20T06:02:55+01:00",
          "2022-11-21T06:02:48+01:00",
          "2022-11-22T06:03:06+01:00",
          "2022-11-23T06:02:50+01:00",
          "2022-11-24T06:02:42+01:00",
          "2022-11-25T06:02:44+01:00",
          "2022-11-26T06:02:36+01:00",
          "2022-11-27T06:02:40+01:00",
          "2022-11-28T06:03:21+01:00",
          "2022-11-29T06:02:52+01:00",
          "2022-11-30T06:02:56+01:00",
          "2022-12-01T06:03:07+01:00",
          "2022-12-02T06:02:31+01:00",
          "2022-12-03T06:02:34+01:00",
          "2022-12-04T06:02:40+01:00",
          "2022-12-05T06:02:56+01:00",
          "2022-12-06T06:02:38+01:00",
          "2022-12-07T06:02:31+01:00",
          "2022-12-08T06:02:35+01:00",
          "2022-12-09T06:02:39+01:00",
          "2022-12-10T06:02:53+01:00",
          "2022-12-11T06:02:32+01:00",
          "2022-12-12T06:02:39+01:00",
          "2022-12-13T06:02:36+01:00",
          "2022-12-14T06:02:01+01:00",
          "2022-12-15T06:02:33+01:00",
          "2022-12-16T06:02:07+01:00",
          "2022-12-17T06:02:36+01:00",
          "2022-12-18T06:02:23+01:00",
          "2022-12-19T06:03:19+01:00",
          "2022-12-20T06:02:57+01:00",
          "2022-12-21T06:02:30+01:00",
          "2022-12-22T06:03:25+01:00",
          "2022-12-23T06:03:31+01:00",
          "2022-12-24T06:02:33+01:00",
          "2022-12-25T06:03:20+01:00",
          "2022-12-26T06:03:03+01:00",
          "2022-12-27T06:02:28+01:00",
          "2022-12-28T06:02:57+01:00",
          "2022-12-29T06:02:28+01:00",
          "2022-12-30T06:02:49+01:00",
          "2022-12-31T06:03:01+01:00",
          "2023-01-01T06:03:17+01:00",
          "2023-01-02T06:02:28+01:00",
          "2023-01-03T06:02:24+01:00",
          "2023-01-04T06:02:47+01:00",
          "2023-01-05T06:02:49+01:00",
          "2023-01-06T06:02:32+01:00",
          "2023-01-07T06:02:53+01:00",
          "2023-01-08T06:02:30+01:00",
          "2023-01-09T06:02:13+01:00",
          "2023-01-10T06:02:39+01:00",
          "2023-01-11T06:02:21+01:00",
          "2023-01-12T06:02:15+01:00",
          "2023-01-13T06:02:16+01:00",
          "2023-01-14T06:02:50+01:00",
          "2023-01-15T06:02:29+01:00",
          "2023-01-16T06:02:47+01:00",
          "2023-01-17T06:02:52+01:00",
          "2023-01-18T06:03:02+01:00",
          "2023-01-19T06:02:55+01:00",
          "2023-01-20T06:02:33+01:00",
          "2023-01-21T06:02:25+01:00",
          "2023-01-23T06:01:11+01:00",
          "2023-01-24T06:02:38+01:00",
          "2023-01-25T06:02:31+01:00",
          "2023-01-26T06:01:53+01:00",
          "2023-01-27T06:02:38+01:00",
          "2023-01-28T06:02:07+01:00",
          "2023-01-29T06:02:09+01:00",
          "2023-01-30T06:02:33+01:00",
          "2023-01-31T06:02:04+01:00",
          "2023-02-01T06:02:04+01:00",
          "2023-02-02T06:02:19+01:00",
          "2023-02-03T06:01:57+01:00",
          "2023-02-04T06:01:52+01:00",
          "2023-02-05T06:02:35+01:00",
          "2023-02-06T06:02:22+01:00",
          "2023-02-07T06:02:07+01:00",
          "2023-02-08T06:02:21+01:00",
          "2023-02-09T06:02:13+01:00",
          "2023-02-10T06:02:23+01:00",
          "2023-02-11T06:02:21+01:00",
          "2023-02-12T06:02:21+01:00",
          "2023-02-13T06:02:10+01:00",
          "2023-02-14T06:02:28+01:00",
          "2023-02-15T06:02:24+01:00",
          "2023-02-16T06:02:27+01:00",
          "2023-02-17T06:02:11+01:00",
          "2023-02-18T06:03:08+01:00",
          "2023-02-19T06:01:56+01:00",
          "2023-02-20T06:02:19+01:00",
          "2023-02-21T06:02:35+01:00",
          "2023-02-22T06:02:25+01:00",
          "2023-02-23T06:02:18+01:00",
          "2023-02-24T06:02:32+01:00",
          "2023-02-25T06:02:23+01:00",
          "2023-02-26T06:02:32+01:00",
          "2023-02-27T06:02:19+01:00",
          "2023-02-28T06:02:15+01:00",
          "2023-03-01T06:03:08+01:00",
          "2023-03-02T06:02:01+01:00",
          "2023-03-03T06:01:53+01:00",
          "2023-03-04T06:02:13+01:00",
          "2023-03-05T06:02:33+01:00",
          "2023-03-06T06:02:13+01:00",
          "2023-03-07T06:02:18+01:00",
          "2023-03-08T06:02:23+01:00",
          "2023-03-09T06:02:57+01:00",
          "2023-03-10T06:02:51+01:00",
          "2023-03-11T06:03:04+01:00",
          "2023-03-12T06:03:12+01:00",
          "2023-03-13T05:02:11+01:00",
          "2023-03-14T05:02:52+01:00",
          "2023-03-15T05:00:59+01:00",
          "2023-03-16T05:02:41+01:00",
          "2023-03-17T05:02:02+01:00",
          "2023-03-18T05:01:48+01:00",
          "2023-03-19T05:01:56+01:00",
          "2023-03-20T05:03:03+01:00",
          "2023-03-21T05:02:05+01:00",
          "2023-03-22T05:01:58+01:00",
          "2023-03-23T05:00:59+01:00",
          "2023-03-24T05:00:49+01:00",
          "2023-03-25T05:00:49+01:00",
          "2023-03-26T06:01:06+02:00",
          "2023-03-27T06:00:55+02:00",
          "2023-03-28T06:02:38+02:00",
          "2023-03-29T06:02:42+02:00",
          "2023-03-30T06:02:18+02:00",
          "2023-03-31T06:02:32+02:00",
          "2023-03-31T20:16:27+02:00",
          "2023-03-31T21:07:59+02:00",
          "2023-03-31T21:18:06+02:00",
          "2023-04-01T14:51:30+02:00",
          "2023-04-01T14:54:58+02:00",
          "2023-04-01T15:48:09+02:00",
          "2023-04-01T15:51:06+02:00",
          "2023-04-01T16:04:19+02:00",
          "2023-04-01T16:12:00+02:00",
          "2023-04-01T16:15:06+02:00",
          "2023-04-01T16:18:24+02:00",
          "2023-04-01T16:21:06+02:00",
          "2023-04-01T16:29:15+02:00",
          "2023-04-01T16:42:13+02:00",
          "2023-04-01T16:44:55+02:00",
          "2023-04-01T16:58:01+02:00",
          "2023-04-01T17:01:33+02:00",
          "2023-04-01T19:46:17+02:00",
          "2023-04-01T19:50:25+02:00",
          "2023-04-01T19:57:35+02:00",
          "2023-04-01T20:02:10+02:00",
          "2023-04-01T20:07:48+02:00",
          "2023-04-01T20:11:46+02:00",
          "2023-04-01T20:19:19+02:00",
          "2023-04-01T20:42:14+02:00",
          "2023-04-01T20:50:48+02:00",
          "2023-04-01T20:54:04+02:00",
          "2023-04-01T20:58:00+02:00",
          "2023-04-02T06:02:38+02:00",
          "2023-04-03T06:02:41+02:00",
          "2023-04-04T06:02:21+02:00",
          "2023-04-05T06:02:34+02:00"
         ],
         "xaxis": "x",
         "y": [
          435,
          435,
          435,
          435,
          435,
          435,
          435,
          435,
          435,
          435,
          436,
          436,
          436,
          435,
          437,
          437,
          439,
          439,
          439,
          439,
          439,
          439,
          439,
          439,
          439,
          438,
          438,
          440,
          441,
          441,
          438,
          438,
          438,
          437,
          438,
          438,
          438,
          438,
          438,
          438,
          438,
          437,
          435,
          434,
          434,
          436,
          436,
          436,
          436,
          436,
          437,
          437,
          437,
          437,
          437,
          438,
          439,
          438,
          439,
          439,
          439,
          438,
          438,
          439,
          439,
          439,
          439,
          439,
          439,
          439,
          438,
          436,
          438,
          437,
          437,
          437,
          437,
          435,
          434,
          434,
          434,
          433,
          433,
          433,
          433,
          433,
          433,
          433,
          433,
          433,
          434,
          434,
          430,
          430,
          430,
          430,
          431,
          431,
          432,
          432,
          429,
          428,
          428,
          430,
          429,
          431,
          431,
          431,
          431,
          432,
          431,
          432,
          435,
          435,
          437,
          437,
          437,
          438,
          434,
          434,
          434,
          434,
          434,
          434,
          433,
          433,
          429,
          428,
          428,
          428,
          428,
          425,
          426,
          425,
          425,
          425,
          425,
          425,
          425,
          426,
          427,
          425,
          425,
          425,
          425,
          425,
          425,
          425,
          425,
          459,
          459,
          460,
          885,
          375331,
          375331,
          428,
          375331,
          330784,
          474,
          886,
          885,
          330783,
          460,
          460,
          330783,
          460,
          330783,
          375331,
          375331,
          375331,
          375331,
          330783,
          375331,
          375331,
          375331,
          374871,
          375331,
          460,
          460,
          455,
          455
         ],
         "yaxis": "y"
        }
       ],
       "layout": {
        "legend": {
         "tracegroupgap": 0
        },
        "template": {
         "data": {
          "bar": [
           {
            "error_x": {
             "color": "#2a3f5f"
            },
            "error_y": {
             "color": "#2a3f5f"
            },
            "marker": {
             "line": {
              "color": "#E5ECF6",
              "width": 0.5
             },
             "pattern": {
              "fillmode": "overlay",
              "size": 10,
              "solidity": 0.2
             }
            },
            "type": "bar"
           }
          ],
          "barpolar": [
           {
            "marker": {
             "line": {
              "color": "#E5ECF6",
              "width": 0.5
             },
             "pattern": {
              "fillmode": "overlay",
              "size": 10,
              "solidity": 0.2
             }
            },
            "type": "barpolar"
           }
          ],
          "carpet": [
           {
            "aaxis": {
             "endlinecolor": "#2a3f5f",
             "gridcolor": "white",
             "linecolor": "white",
             "minorgridcolor": "white",
             "startlinecolor": "#2a3f5f"
            },
            "baxis": {
             "endlinecolor": "#2a3f5f",
             "gridcolor": "white",
             "linecolor": "white",
             "minorgridcolor": "white",
             "startlinecolor": "#2a3f5f"
            },
            "type": "carpet"
           }
          ],
          "choropleth": [
           {
            "colorbar": {
             "outlinewidth": 0,
             "ticks": ""
            },
            "type": "choropleth"
           }
          ],
          "contour": [
           {
            "colorbar": {
             "outlinewidth": 0,
             "ticks": ""
            },
            "colorscale": [
             [
              0,
              "#0d0887"
             ],
             [
              0.1111111111111111,
              "#46039f"
             ],
             [
              0.2222222222222222,
              "#7201a8"
             ],
             [
              0.3333333333333333,
              "#9c179e"
             ],
             [
              0.4444444444444444,
              "#bd3786"
             ],
             [
              0.5555555555555556,
              "#d8576b"
             ],
             [
              0.6666666666666666,
              "#ed7953"
             ],
             [
              0.7777777777777778,
              "#fb9f3a"
             ],
             [
              0.8888888888888888,
              "#fdca26"
             ],
             [
              1,
              "#f0f921"
             ]
            ],
            "type": "contour"
           }
          ],
          "contourcarpet": [
           {
            "colorbar": {
             "outlinewidth": 0,
             "ticks": ""
            },
            "type": "contourcarpet"
           }
          ],
          "heatmap": [
           {
            "colorbar": {
             "outlinewidth": 0,
             "ticks": ""
            },
            "colorscale": [
             [
              0,
              "#0d0887"
             ],
             [
              0.1111111111111111,
              "#46039f"
             ],
             [
              0.2222222222222222,
              "#7201a8"
             ],
             [
              0.3333333333333333,
              "#9c179e"
             ],
             [
              0.4444444444444444,
              "#bd3786"
             ],
             [
              0.5555555555555556,
              "#d8576b"
             ],
             [
              0.6666666666666666,
              "#ed7953"
             ],
             [
              0.7777777777777778,
              "#fb9f3a"
             ],
             [
              0.8888888888888888,
              "#fdca26"
             ],
             [
              1,
              "#f0f921"
             ]
            ],
            "type": "heatmap"
           }
          ],
          "heatmapgl": [
           {
            "colorbar": {
             "outlinewidth": 0,
             "ticks": ""
            },
            "colorscale": [
             [
              0,
              "#0d0887"
             ],
             [
              0.1111111111111111,
              "#46039f"
             ],
             [
              0.2222222222222222,
              "#7201a8"
             ],
             [
              0.3333333333333333,
              "#9c179e"
             ],
             [
              0.4444444444444444,
              "#bd3786"
             ],
             [
              0.5555555555555556,
              "#d8576b"
             ],
             [
              0.6666666666666666,
              "#ed7953"
             ],
             [
              0.7777777777777778,
              "#fb9f3a"
             ],
             [
              0.8888888888888888,
              "#fdca26"
             ],
             [
              1,
              "#f0f921"
             ]
            ],
            "type": "heatmapgl"
           }
          ],
          "histogram": [
           {
            "marker": {
             "pattern": {
              "fillmode": "overlay",
              "size": 10,
              "solidity": 0.2
             }
            },
            "type": "histogram"
           }
          ],
          "histogram2d": [
           {
            "colorbar": {
             "outlinewidth": 0,
             "ticks": ""
            },
            "colorscale": [
             [
              0,
              "#0d0887"
             ],
             [
              0.1111111111111111,
              "#46039f"
             ],
             [
              0.2222222222222222,
              "#7201a8"
             ],
             [
              0.3333333333333333,
              "#9c179e"
             ],
             [
              0.4444444444444444,
              "#bd3786"
             ],
             [
              0.5555555555555556,
              "#d8576b"
             ],
             [
              0.6666666666666666,
              "#ed7953"
             ],
             [
              0.7777777777777778,
              "#fb9f3a"
             ],
             [
              0.8888888888888888,
              "#fdca26"
             ],
             [
              1,
              "#f0f921"
             ]
            ],
            "type": "histogram2d"
           }
          ],
          "histogram2dcontour": [
           {
            "colorbar": {
             "outlinewidth": 0,
             "ticks": ""
            },
            "colorscale": [
             [
              0,
              "#0d0887"
             ],
             [
              0.1111111111111111,
              "#46039f"
             ],
             [
              0.2222222222222222,
              "#7201a8"
             ],
             [
              0.3333333333333333,
              "#9c179e"
             ],
             [
              0.4444444444444444,
              "#bd3786"
             ],
             [
              0.5555555555555556,
              "#d8576b"
             ],
             [
              0.6666666666666666,
              "#ed7953"
             ],
             [
              0.7777777777777778,
              "#fb9f3a"
             ],
             [
              0.8888888888888888,
              "#fdca26"
             ],
             [
              1,
              "#f0f921"
             ]
            ],
            "type": "histogram2dcontour"
           }
          ],
          "mesh3d": [
           {
            "colorbar": {
             "outlinewidth": 0,
             "ticks": ""
            },
            "type": "mesh3d"
           }
          ],
          "parcoords": [
           {
            "line": {
             "colorbar": {
              "outlinewidth": 0,
              "ticks": ""
             }
            },
            "type": "parcoords"
           }
          ],
          "pie": [
           {
            "automargin": true,
            "type": "pie"
           }
          ],
          "scatter": [
           {
            "fillpattern": {
             "fillmode": "overlay",
             "size": 10,
             "solidity": 0.2
            },
            "type": "scatter"
           }
          ],
          "scatter3d": [
           {
            "line": {
             "colorbar": {
              "outlinewidth": 0,
              "ticks": ""
             }
            },
            "marker": {
             "colorbar": {
              "outlinewidth": 0,
              "ticks": ""
             }
            },
            "type": "scatter3d"
           }
          ],
          "scattercarpet": [
           {
            "marker": {
             "colorbar": {
              "outlinewidth": 0,
              "ticks": ""
             }
            },
            "type": "scattercarpet"
           }
          ],
          "scattergeo": [
           {
            "marker": {
             "colorbar": {
              "outlinewidth": 0,
              "ticks": ""
             }
            },
            "type": "scattergeo"
           }
          ],
          "scattergl": [
           {
            "marker": {
             "colorbar": {
              "outlinewidth": 0,
              "ticks": ""
             }
            },
            "type": "scattergl"
           }
          ],
          "scattermapbox": [
           {
            "marker": {
             "colorbar": {
              "outlinewidth": 0,
              "ticks": ""
             }
            },
            "type": "scattermapbox"
           }
          ],
          "scatterpolar": [
           {
            "marker": {
             "colorbar": {
              "outlinewidth": 0,
              "ticks": ""
             }
            },
            "type": "scatterpolar"
           }
          ],
          "scatterpolargl": [
           {
            "marker": {
             "colorbar": {
              "outlinewidth": 0,
              "ticks": ""
             }
            },
            "type": "scatterpolargl"
           }
          ],
          "scatterternary": [
           {
            "marker": {
             "colorbar": {
              "outlinewidth": 0,
              "ticks": ""
             }
            },
            "type": "scatterternary"
           }
          ],
          "surface": [
           {
            "colorbar": {
             "outlinewidth": 0,
             "ticks": ""
            },
            "colorscale": [
             [
              0,
              "#0d0887"
             ],
             [
              0.1111111111111111,
              "#46039f"
             ],
             [
              0.2222222222222222,
              "#7201a8"
             ],
             [
              0.3333333333333333,
              "#9c179e"
             ],
             [
              0.4444444444444444,
              "#bd3786"
             ],
             [
              0.5555555555555556,
              "#d8576b"
             ],
             [
              0.6666666666666666,
              "#ed7953"
             ],
             [
              0.7777777777777778,
              "#fb9f3a"
             ],
             [
              0.8888888888888888,
              "#fdca26"
             ],
             [
              1,
              "#f0f921"
             ]
            ],
            "type": "surface"
           }
          ],
          "table": [
           {
            "cells": {
             "fill": {
              "color": "#EBF0F8"
             },
             "line": {
              "color": "white"
             }
            },
            "header": {
             "fill": {
              "color": "#C8D4E3"
             },
             "line": {
              "color": "white"
             }
            },
            "type": "table"
           }
          ]
         },
         "layout": {
          "annotationdefaults": {
           "arrowcolor": "#2a3f5f",
           "arrowhead": 0,
           "arrowwidth": 1
          },
          "autotypenumbers": "strict",
          "coloraxis": {
           "colorbar": {
            "outlinewidth": 0,
            "ticks": ""
           }
          },
          "colorscale": {
           "diverging": [
            [
             0,
             "#8e0152"
            ],
            [
             0.1,
             "#c51b7d"
            ],
            [
             0.2,
             "#de77ae"
            ],
            [
             0.3,
             "#f1b6da"
            ],
            [
             0.4,
             "#fde0ef"
            ],
            [
             0.5,
             "#f7f7f7"
            ],
            [
             0.6,
             "#e6f5d0"
            ],
            [
             0.7,
             "#b8e186"
            ],
            [
             0.8,
             "#7fbc41"
            ],
            [
             0.9,
             "#4d9221"
            ],
            [
             1,
             "#276419"
            ]
           ],
           "sequential": [
            [
             0,
             "#0d0887"
            ],
            [
             0.1111111111111111,
             "#46039f"
            ],
            [
             0.2222222222222222,
             "#7201a8"
            ],
            [
             0.3333333333333333,
             "#9c179e"
            ],
            [
             0.4444444444444444,
             "#bd3786"
            ],
            [
             0.5555555555555556,
             "#d8576b"
            ],
            [
             0.6666666666666666,
             "#ed7953"
            ],
            [
             0.7777777777777778,
             "#fb9f3a"
            ],
            [
             0.8888888888888888,
             "#fdca26"
            ],
            [
             1,
             "#f0f921"
            ]
           ],
           "sequentialminus": [
            [
             0,
             "#0d0887"
            ],
            [
             0.1111111111111111,
             "#46039f"
            ],
            [
             0.2222222222222222,
             "#7201a8"
            ],
            [
             0.3333333333333333,
             "#9c179e"
            ],
            [
             0.4444444444444444,
             "#bd3786"
            ],
            [
             0.5555555555555556,
             "#d8576b"
            ],
            [
             0.6666666666666666,
             "#ed7953"
            ],
            [
             0.7777777777777778,
             "#fb9f3a"
            ],
            [
             0.8888888888888888,
             "#fdca26"
            ],
            [
             1,
             "#f0f921"
            ]
           ]
          },
          "colorway": [
           "#636efa",
           "#EF553B",
           "#00cc96",
           "#ab63fa",
           "#FFA15A",
           "#19d3f3",
           "#FF6692",
           "#B6E880",
           "#FF97FF",
           "#FECB52"
          ],
          "font": {
           "color": "#2a3f5f"
          },
          "geo": {
           "bgcolor": "white",
           "lakecolor": "white",
           "landcolor": "#E5ECF6",
           "showlakes": true,
           "showland": true,
           "subunitcolor": "white"
          },
          "hoverlabel": {
           "align": "left"
          },
          "hovermode": "closest",
          "mapbox": {
           "style": "light"
          },
          "paper_bgcolor": "white",
          "plot_bgcolor": "#E5ECF6",
          "polar": {
           "angularaxis": {
            "gridcolor": "white",
            "linecolor": "white",
            "ticks": ""
           },
           "bgcolor": "#E5ECF6",
           "radialaxis": {
            "gridcolor": "white",
            "linecolor": "white",
            "ticks": ""
           }
          },
          "scene": {
           "xaxis": {
            "backgroundcolor": "#E5ECF6",
            "gridcolor": "white",
            "gridwidth": 2,
            "linecolor": "white",
            "showbackground": true,
            "ticks": "",
            "zerolinecolor": "white"
           },
           "yaxis": {
            "backgroundcolor": "#E5ECF6",
            "gridcolor": "white",
            "gridwidth": 2,
            "linecolor": "white",
            "showbackground": true,
            "ticks": "",
            "zerolinecolor": "white"
           },
           "zaxis": {
            "backgroundcolor": "#E5ECF6",
            "gridcolor": "white",
            "gridwidth": 2,
            "linecolor": "white",
            "showbackground": true,
            "ticks": "",
            "zerolinecolor": "white"
           }
          },
          "shapedefaults": {
           "line": {
            "color": "#2a3f5f"
           }
          },
          "ternary": {
           "aaxis": {
            "gridcolor": "white",
            "linecolor": "white",
            "ticks": ""
           },
           "baxis": {
            "gridcolor": "white",
            "linecolor": "white",
            "ticks": ""
           },
           "bgcolor": "#E5ECF6",
           "caxis": {
            "gridcolor": "white",
            "linecolor": "white",
            "ticks": ""
           }
          },
          "title": {
           "x": 0.05
          },
          "xaxis": {
           "automargin": true,
           "gridcolor": "white",
           "linecolor": "white",
           "ticks": "",
           "title": {
            "standoff": 15
           },
           "zerolinecolor": "white",
           "zerolinewidth": 2
          },
          "yaxis": {
           "automargin": true,
           "gridcolor": "white",
           "linecolor": "white",
           "ticks": "",
           "title": {
            "standoff": 15
           },
           "zerolinecolor": "white",
           "zerolinewidth": 2
          }
         }
        },
        "title": {
         "text": "Table row count"
        },
        "xaxis": {
         "anchor": "y",
         "domain": [
          0,
          1
         ],
         "title": {
          "text": "created"
         }
        },
        "yaxis": {
         "anchor": "x",
         "domain": [
          0,
          1
         ],
         "title": {
          "text": "rowsCount"
         }
        }
       }
      }
     },
     "metadata": {},
     "output_type": "display_data"
    }
   ],
   "source": [
    "## cutting the massage for the graph\n",
    "#import_data['message'] = import_data['message'].str[:100]\n",
    "\n",
    "fig = px.line(\n",
    "    stats_df,\n",
    "    x=\"created\",\n",
    "    y=\"rowsCount\",\n",
    "    title=\"Table row count\",\n",
    "    markers=True)\n",
    "\n",
    "print(\"Note: row count is absolute, not imported chunk count\")\n",
    "fig.show()"
   ]
  },
  {
   "cell_type": "code",
   "execution_count": 47,
   "metadata": {},
   "outputs": [
    {
     "data": {
      "application/vnd.plotly.v1+json": {
       "config": {
        "plotlyServerURL": "https://plot.ly"
       },
       "data": [
        {
         "hovertemplate": "created=%{x}<br>importDuration=%{y}<extra></extra>",
         "legendgroup": "",
         "line": {
          "color": "#636efa",
          "dash": "solid"
         },
         "marker": {
          "symbol": "circle"
         },
         "mode": "lines+markers",
         "name": "",
         "orientation": "v",
         "showlegend": false,
         "type": "scatter",
         "x": [
          "2022-11-02T05:01:34+01:00",
          "2022-11-03T05:01:04+01:00",
          "2022-11-04T05:02:03+01:00",
          "2022-11-05T05:02:57+01:00",
          "2022-11-06T05:02:59+01:00",
          "2022-11-07T06:02:44+01:00",
          "2022-11-08T06:02:48+01:00",
          "2022-11-09T06:03:08+01:00",
          "2022-11-10T06:02:58+01:00",
          "2022-11-11T06:02:37+01:00",
          "2022-11-12T06:02:58+01:00",
          "2022-11-13T06:02:21+01:00",
          "2022-11-14T06:03:00+01:00",
          "2022-11-15T06:02:50+01:00",
          "2022-11-16T06:03:16+01:00",
          "2022-11-17T06:02:39+01:00",
          "2022-11-18T06:03:03+01:00",
          "2022-11-19T06:02:41+01:00",
          "2022-11-20T06:02:55+01:00",
          "2022-11-21T06:02:48+01:00",
          "2022-11-22T06:03:06+01:00",
          "2022-11-23T06:02:50+01:00",
          "2022-11-24T06:02:42+01:00",
          "2022-11-25T06:02:44+01:00",
          "2022-11-26T06:02:36+01:00",
          "2022-11-27T06:02:40+01:00",
          "2022-11-28T06:03:21+01:00",
          "2022-11-29T06:02:52+01:00",
          "2022-11-30T06:02:56+01:00",
          "2022-12-01T06:03:07+01:00",
          "2022-12-02T06:02:31+01:00",
          "2022-12-03T06:02:34+01:00",
          "2022-12-04T06:02:40+01:00",
          "2022-12-05T06:02:56+01:00",
          "2022-12-06T06:02:38+01:00",
          "2022-12-07T06:02:31+01:00",
          "2022-12-08T06:02:35+01:00",
          "2022-12-09T06:02:39+01:00",
          "2022-12-10T06:02:53+01:00",
          "2022-12-11T06:02:32+01:00",
          "2022-12-12T06:02:39+01:00",
          "2022-12-13T06:02:36+01:00",
          "2022-12-14T06:02:01+01:00",
          "2022-12-15T06:02:33+01:00",
          "2022-12-16T06:02:07+01:00",
          "2022-12-17T06:02:36+01:00",
          "2022-12-18T06:02:23+01:00",
          "2022-12-19T06:03:19+01:00",
          "2022-12-20T06:02:57+01:00",
          "2022-12-21T06:02:30+01:00",
          "2022-12-22T06:03:25+01:00",
          "2022-12-23T06:03:31+01:00",
          "2022-12-24T06:02:33+01:00",
          "2022-12-25T06:03:20+01:00",
          "2022-12-26T06:03:03+01:00",
          "2022-12-27T06:02:28+01:00",
          "2022-12-28T06:02:57+01:00",
          "2022-12-29T06:02:28+01:00",
          "2022-12-30T06:02:49+01:00",
          "2022-12-31T06:03:01+01:00",
          "2023-01-01T06:03:17+01:00",
          "2023-01-02T06:02:28+01:00",
          "2023-01-03T06:02:24+01:00",
          "2023-01-04T06:02:47+01:00",
          "2023-01-05T06:02:49+01:00",
          "2023-01-06T06:02:32+01:00",
          "2023-01-07T06:02:53+01:00",
          "2023-01-08T06:02:30+01:00",
          "2023-01-09T06:02:13+01:00",
          "2023-01-10T06:02:39+01:00",
          "2023-01-11T06:02:21+01:00",
          "2023-01-12T06:02:15+01:00",
          "2023-01-13T06:02:16+01:00",
          "2023-01-14T06:02:50+01:00",
          "2023-01-15T06:02:29+01:00",
          "2023-01-16T06:02:47+01:00",
          "2023-01-17T06:02:52+01:00",
          "2023-01-18T06:03:02+01:00",
          "2023-01-19T06:02:55+01:00",
          "2023-01-20T06:02:33+01:00",
          "2023-01-21T06:02:25+01:00",
          "2023-01-23T06:01:11+01:00",
          "2023-01-24T06:02:38+01:00",
          "2023-01-25T06:02:31+01:00",
          "2023-01-26T06:01:53+01:00",
          "2023-01-27T06:02:38+01:00",
          "2023-01-28T06:02:07+01:00",
          "2023-01-29T06:02:09+01:00",
          "2023-01-30T06:02:33+01:00",
          "2023-01-31T06:02:04+01:00",
          "2023-02-01T06:02:04+01:00",
          "2023-02-02T06:02:19+01:00",
          "2023-02-03T06:01:57+01:00",
          "2023-02-04T06:01:52+01:00",
          "2023-02-05T06:02:35+01:00",
          "2023-02-06T06:02:22+01:00",
          "2023-02-07T06:02:07+01:00",
          "2023-02-08T06:02:21+01:00",
          "2023-02-09T06:02:13+01:00",
          "2023-02-10T06:02:23+01:00",
          "2023-02-11T06:02:21+01:00",
          "2023-02-12T06:02:21+01:00",
          "2023-02-13T06:02:10+01:00",
          "2023-02-14T06:02:28+01:00",
          "2023-02-15T06:02:24+01:00",
          "2023-02-16T06:02:27+01:00",
          "2023-02-17T06:02:11+01:00",
          "2023-02-18T06:03:08+01:00",
          "2023-02-19T06:01:56+01:00",
          "2023-02-20T06:02:19+01:00",
          "2023-02-21T06:02:35+01:00",
          "2023-02-22T06:02:25+01:00",
          "2023-02-23T06:02:18+01:00",
          "2023-02-24T06:02:32+01:00",
          "2023-02-25T06:02:23+01:00",
          "2023-02-26T06:02:32+01:00",
          "2023-02-27T06:02:19+01:00",
          "2023-02-28T06:02:15+01:00",
          "2023-03-01T06:03:08+01:00",
          "2023-03-02T06:02:01+01:00",
          "2023-03-03T06:01:53+01:00",
          "2023-03-04T06:02:13+01:00",
          "2023-03-05T06:02:33+01:00",
          "2023-03-06T06:02:13+01:00",
          "2023-03-07T06:02:18+01:00",
          "2023-03-08T06:02:23+01:00",
          "2023-03-09T06:02:57+01:00",
          "2023-03-10T06:02:51+01:00",
          "2023-03-11T06:03:04+01:00",
          "2023-03-12T06:03:12+01:00",
          "2023-03-13T05:02:11+01:00",
          "2023-03-14T05:02:52+01:00",
          "2023-03-15T05:00:59+01:00",
          "2023-03-16T05:02:41+01:00",
          "2023-03-17T05:02:02+01:00",
          "2023-03-18T05:01:48+01:00",
          "2023-03-19T05:01:56+01:00",
          "2023-03-20T05:03:03+01:00",
          "2023-03-21T05:02:05+01:00",
          "2023-03-22T05:01:58+01:00",
          "2023-03-23T05:00:59+01:00",
          "2023-03-24T05:00:49+01:00",
          "2023-03-25T05:00:49+01:00",
          "2023-03-26T06:01:06+02:00",
          "2023-03-27T06:00:55+02:00",
          "2023-03-28T06:02:38+02:00",
          "2023-03-29T06:02:42+02:00",
          "2023-03-30T06:02:18+02:00",
          "2023-03-31T06:02:32+02:00",
          "2023-03-31T20:16:27+02:00",
          "2023-03-31T21:07:59+02:00",
          "2023-03-31T21:18:06+02:00",
          "2023-04-01T14:51:30+02:00",
          "2023-04-01T14:54:58+02:00",
          "2023-04-01T15:48:09+02:00",
          "2023-04-01T15:51:06+02:00",
          "2023-04-01T16:04:19+02:00",
          "2023-04-01T16:12:00+02:00",
          "2023-04-01T16:15:06+02:00",
          "2023-04-01T16:18:24+02:00",
          "2023-04-01T16:21:06+02:00",
          "2023-04-01T16:29:15+02:00",
          "2023-04-01T16:42:13+02:00",
          "2023-04-01T16:44:55+02:00",
          "2023-04-01T16:58:01+02:00",
          "2023-04-01T17:01:33+02:00",
          "2023-04-01T19:46:17+02:00",
          "2023-04-01T19:50:25+02:00",
          "2023-04-01T19:57:35+02:00",
          "2023-04-01T20:02:10+02:00",
          "2023-04-01T20:07:48+02:00",
          "2023-04-01T20:11:46+02:00",
          "2023-04-01T20:19:19+02:00",
          "2023-04-01T20:42:14+02:00",
          "2023-04-01T20:50:48+02:00",
          "2023-04-01T20:54:04+02:00",
          "2023-04-01T20:58:00+02:00",
          "2023-04-02T06:02:38+02:00",
          "2023-04-03T06:02:41+02:00",
          "2023-04-04T06:02:21+02:00",
          "2023-04-05T06:02:34+02:00"
         ],
         "xaxis": "x",
         "y": [
          7.893643140792847,
          8.017117023468018,
          8.542226791381836,
          7.907768964767456,
          7.195343017578125,
          8.118134021759033,
          7.138777017593384,
          8.387535095214844,
          8.549386978149414,
          7.752780914306641,
          7.663645029067993,
          8.346896886825562,
          9.448199033737183,
          7.939471006393433,
          7.991218090057373,
          7.783095121383667,
          7.0381340980529785,
          7.311860084533691,
          9.481634855270386,
          8.258693933486938,
          7.331096172332764,
          7.9791460037231445,
          7.66703987121582,
          7.8772101402282715,
          7.910330057144165,
          7.4874420166015625,
          7.887149095535278,
          7.493549108505249,
          7.903309106826782,
          7.740922927856445,
          9.098438024520874,
          9.929751873016357,
          10.424150943756104,
          9.650913000106812,
          10.507172107696533,
          8.972409963607788,
          10.119746923446655,
          10.241034030914307,
          17.257853031158447,
          9.374057054519653,
          12.339448928833008,
          11.033705949783325,
          10.185713052749634,
          8.536749839782715,
          9.555119037628174,
          9.381664037704468,
          9.304544925689697,
          15.805081129074097,
          8.984331846237183,
          9.393523931503296,
          8.813549995422363,
          13.304619073867798,
          9.62557315826416,
          9.350457191467285,
          11.547045946121216,
          9.728462934494019,
          8.953030109405518,
          8.958062887191772,
          10.093086004257202,
          8.700415134429932,
          9.335170030593872,
          9.42903184890747,
          9.663632869720459,
          8.668684005737305,
          9.040508031845093,
          11.10096287727356,
          8.60519814491272,
          8.786312103271484,
          9.280300855636597,
          9.644469976425171,
          10.554266929626465,
          9.691519975662231,
          9.449224948883057,
          9.296401023864746,
          9.61368203163147,
          9.78075098991394,
          10.933597087860107,
          9.50434398651123,
          10.389752864837646,
          10.603666067123413,
          9.89574408531189,
          13.871397018432617,
          11.40812611579895,
          19.466301202774048,
          10.003844022750854,
          12.89809799194336,
          9.897907972335815,
          12.32193112373352,
          11.874329805374146,
          11.931334018707275,
          10.036139011383057,
          12.113733053207397,
          9.9946870803833,
          11.147483110427856,
          9.704621076583862,
          9.921947956085205,
          9.93983006477356,
          21.884310007095337,
          9.902154207229614,
          9.732056140899658,
          8.084024906158447,
          8.233166217803955,
          10.673682928085327,
          11.168430089950562,
          8.903491973876953,
          8.54565691947937,
          8.090557098388672,
          8.119918823242188,
          7.633893966674805,
          7.251628875732422,
          9.00504994392395,
          9.984617948532104,
          8.196474075317383,
          8.401141166687012,
          8.084058046340942,
          9.021910905838013,
          9.541851997375488,
          7.898343086242676,
          7.774899005889893,
          10.22829294204712,
          7.824780225753784,
          7.923398017883301,
          8.269820928573608,
          7.5754499435424805,
          7.4975810050964355,
          9.463469982147217,
          9.059509038925171,
          7.596001148223877,
          8.038816928863525,
          7.652606010437012,
          7.618479013442993,
          7.576253175735474,
          8.816860914230347,
          8.216218948364258,
          8.233971118927002,
          8.742739915847778,
          7.571083068847656,
          8.718945980072021,
          8.234761953353882,
          8.305558919906616,
          8.18360710144043,
          7.835891962051392,
          8.500042915344238,
          9.338250875473022,
          8.650773048400879,
          9.02484393119812,
          8.223719835281372,
          7.393594026565552,
          7.932827949523926,
          9.487281799316406,
          9.165880918502808,
          9.098769903182983,
          10.56195592880249,
          17.170158863067627,
          17.469714879989624,
          9.255088806152344,
          16.799360990524292,
          15.243013143539429,
          8.477581977844238,
          9.048821926116943,
          8.605243921279907,
          15.83437204360962,
          8.88044786453247,
          8.176033020019531,
          17.40068507194519,
          7.610706806182861,
          15.857582092285156,
          16.122182846069336,
          17.247817039489746,
          17.53652811050415,
          16.29722809791565,
          16.564093828201294,
          15.439186096191406,
          16.84792399406433,
          17.847436904907227,
          17.249599933624268,
          16.83502197265625,
          8.588671922683716,
          8.48746395111084,
          8.154749155044556,
          9.787264823913574
         ],
         "yaxis": "y"
        }
       ],
       "layout": {
        "legend": {
         "tracegroupgap": 0
        },
        "template": {
         "data": {
          "bar": [
           {
            "error_x": {
             "color": "#2a3f5f"
            },
            "error_y": {
             "color": "#2a3f5f"
            },
            "marker": {
             "line": {
              "color": "#E5ECF6",
              "width": 0.5
             },
             "pattern": {
              "fillmode": "overlay",
              "size": 10,
              "solidity": 0.2
             }
            },
            "type": "bar"
           }
          ],
          "barpolar": [
           {
            "marker": {
             "line": {
              "color": "#E5ECF6",
              "width": 0.5
             },
             "pattern": {
              "fillmode": "overlay",
              "size": 10,
              "solidity": 0.2
             }
            },
            "type": "barpolar"
           }
          ],
          "carpet": [
           {
            "aaxis": {
             "endlinecolor": "#2a3f5f",
             "gridcolor": "white",
             "linecolor": "white",
             "minorgridcolor": "white",
             "startlinecolor": "#2a3f5f"
            },
            "baxis": {
             "endlinecolor": "#2a3f5f",
             "gridcolor": "white",
             "linecolor": "white",
             "minorgridcolor": "white",
             "startlinecolor": "#2a3f5f"
            },
            "type": "carpet"
           }
          ],
          "choropleth": [
           {
            "colorbar": {
             "outlinewidth": 0,
             "ticks": ""
            },
            "type": "choropleth"
           }
          ],
          "contour": [
           {
            "colorbar": {
             "outlinewidth": 0,
             "ticks": ""
            },
            "colorscale": [
             [
              0,
              "#0d0887"
             ],
             [
              0.1111111111111111,
              "#46039f"
             ],
             [
              0.2222222222222222,
              "#7201a8"
             ],
             [
              0.3333333333333333,
              "#9c179e"
             ],
             [
              0.4444444444444444,
              "#bd3786"
             ],
             [
              0.5555555555555556,
              "#d8576b"
             ],
             [
              0.6666666666666666,
              "#ed7953"
             ],
             [
              0.7777777777777778,
              "#fb9f3a"
             ],
             [
              0.8888888888888888,
              "#fdca26"
             ],
             [
              1,
              "#f0f921"
             ]
            ],
            "type": "contour"
           }
          ],
          "contourcarpet": [
           {
            "colorbar": {
             "outlinewidth": 0,
             "ticks": ""
            },
            "type": "contourcarpet"
           }
          ],
          "heatmap": [
           {
            "colorbar": {
             "outlinewidth": 0,
             "ticks": ""
            },
            "colorscale": [
             [
              0,
              "#0d0887"
             ],
             [
              0.1111111111111111,
              "#46039f"
             ],
             [
              0.2222222222222222,
              "#7201a8"
             ],
             [
              0.3333333333333333,
              "#9c179e"
             ],
             [
              0.4444444444444444,
              "#bd3786"
             ],
             [
              0.5555555555555556,
              "#d8576b"
             ],
             [
              0.6666666666666666,
              "#ed7953"
             ],
             [
              0.7777777777777778,
              "#fb9f3a"
             ],
             [
              0.8888888888888888,
              "#fdca26"
             ],
             [
              1,
              "#f0f921"
             ]
            ],
            "type": "heatmap"
           }
          ],
          "heatmapgl": [
           {
            "colorbar": {
             "outlinewidth": 0,
             "ticks": ""
            },
            "colorscale": [
             [
              0,
              "#0d0887"
             ],
             [
              0.1111111111111111,
              "#46039f"
             ],
             [
              0.2222222222222222,
              "#7201a8"
             ],
             [
              0.3333333333333333,
              "#9c179e"
             ],
             [
              0.4444444444444444,
              "#bd3786"
             ],
             [
              0.5555555555555556,
              "#d8576b"
             ],
             [
              0.6666666666666666,
              "#ed7953"
             ],
             [
              0.7777777777777778,
              "#fb9f3a"
             ],
             [
              0.8888888888888888,
              "#fdca26"
             ],
             [
              1,
              "#f0f921"
             ]
            ],
            "type": "heatmapgl"
           }
          ],
          "histogram": [
           {
            "marker": {
             "pattern": {
              "fillmode": "overlay",
              "size": 10,
              "solidity": 0.2
             }
            },
            "type": "histogram"
           }
          ],
          "histogram2d": [
           {
            "colorbar": {
             "outlinewidth": 0,
             "ticks": ""
            },
            "colorscale": [
             [
              0,
              "#0d0887"
             ],
             [
              0.1111111111111111,
              "#46039f"
             ],
             [
              0.2222222222222222,
              "#7201a8"
             ],
             [
              0.3333333333333333,
              "#9c179e"
             ],
             [
              0.4444444444444444,
              "#bd3786"
             ],
             [
              0.5555555555555556,
              "#d8576b"
             ],
             [
              0.6666666666666666,
              "#ed7953"
             ],
             [
              0.7777777777777778,
              "#fb9f3a"
             ],
             [
              0.8888888888888888,
              "#fdca26"
             ],
             [
              1,
              "#f0f921"
             ]
            ],
            "type": "histogram2d"
           }
          ],
          "histogram2dcontour": [
           {
            "colorbar": {
             "outlinewidth": 0,
             "ticks": ""
            },
            "colorscale": [
             [
              0,
              "#0d0887"
             ],
             [
              0.1111111111111111,
              "#46039f"
             ],
             [
              0.2222222222222222,
              "#7201a8"
             ],
             [
              0.3333333333333333,
              "#9c179e"
             ],
             [
              0.4444444444444444,
              "#bd3786"
             ],
             [
              0.5555555555555556,
              "#d8576b"
             ],
             [
              0.6666666666666666,
              "#ed7953"
             ],
             [
              0.7777777777777778,
              "#fb9f3a"
             ],
             [
              0.8888888888888888,
              "#fdca26"
             ],
             [
              1,
              "#f0f921"
             ]
            ],
            "type": "histogram2dcontour"
           }
          ],
          "mesh3d": [
           {
            "colorbar": {
             "outlinewidth": 0,
             "ticks": ""
            },
            "type": "mesh3d"
           }
          ],
          "parcoords": [
           {
            "line": {
             "colorbar": {
              "outlinewidth": 0,
              "ticks": ""
             }
            },
            "type": "parcoords"
           }
          ],
          "pie": [
           {
            "automargin": true,
            "type": "pie"
           }
          ],
          "scatter": [
           {
            "fillpattern": {
             "fillmode": "overlay",
             "size": 10,
             "solidity": 0.2
            },
            "type": "scatter"
           }
          ],
          "scatter3d": [
           {
            "line": {
             "colorbar": {
              "outlinewidth": 0,
              "ticks": ""
             }
            },
            "marker": {
             "colorbar": {
              "outlinewidth": 0,
              "ticks": ""
             }
            },
            "type": "scatter3d"
           }
          ],
          "scattercarpet": [
           {
            "marker": {
             "colorbar": {
              "outlinewidth": 0,
              "ticks": ""
             }
            },
            "type": "scattercarpet"
           }
          ],
          "scattergeo": [
           {
            "marker": {
             "colorbar": {
              "outlinewidth": 0,
              "ticks": ""
             }
            },
            "type": "scattergeo"
           }
          ],
          "scattergl": [
           {
            "marker": {
             "colorbar": {
              "outlinewidth": 0,
              "ticks": ""
             }
            },
            "type": "scattergl"
           }
          ],
          "scattermapbox": [
           {
            "marker": {
             "colorbar": {
              "outlinewidth": 0,
              "ticks": ""
             }
            },
            "type": "scattermapbox"
           }
          ],
          "scatterpolar": [
           {
            "marker": {
             "colorbar": {
              "outlinewidth": 0,
              "ticks": ""
             }
            },
            "type": "scatterpolar"
           }
          ],
          "scatterpolargl": [
           {
            "marker": {
             "colorbar": {
              "outlinewidth": 0,
              "ticks": ""
             }
            },
            "type": "scatterpolargl"
           }
          ],
          "scatterternary": [
           {
            "marker": {
             "colorbar": {
              "outlinewidth": 0,
              "ticks": ""
             }
            },
            "type": "scatterternary"
           }
          ],
          "surface": [
           {
            "colorbar": {
             "outlinewidth": 0,
             "ticks": ""
            },
            "colorscale": [
             [
              0,
              "#0d0887"
             ],
             [
              0.1111111111111111,
              "#46039f"
             ],
             [
              0.2222222222222222,
              "#7201a8"
             ],
             [
              0.3333333333333333,
              "#9c179e"
             ],
             [
              0.4444444444444444,
              "#bd3786"
             ],
             [
              0.5555555555555556,
              "#d8576b"
             ],
             [
              0.6666666666666666,
              "#ed7953"
             ],
             [
              0.7777777777777778,
              "#fb9f3a"
             ],
             [
              0.8888888888888888,
              "#fdca26"
             ],
             [
              1,
              "#f0f921"
             ]
            ],
            "type": "surface"
           }
          ],
          "table": [
           {
            "cells": {
             "fill": {
              "color": "#EBF0F8"
             },
             "line": {
              "color": "white"
             }
            },
            "header": {
             "fill": {
              "color": "#C8D4E3"
             },
             "line": {
              "color": "white"
             }
            },
            "type": "table"
           }
          ]
         },
         "layout": {
          "annotationdefaults": {
           "arrowcolor": "#2a3f5f",
           "arrowhead": 0,
           "arrowwidth": 1
          },
          "autotypenumbers": "strict",
          "coloraxis": {
           "colorbar": {
            "outlinewidth": 0,
            "ticks": ""
           }
          },
          "colorscale": {
           "diverging": [
            [
             0,
             "#8e0152"
            ],
            [
             0.1,
             "#c51b7d"
            ],
            [
             0.2,
             "#de77ae"
            ],
            [
             0.3,
             "#f1b6da"
            ],
            [
             0.4,
             "#fde0ef"
            ],
            [
             0.5,
             "#f7f7f7"
            ],
            [
             0.6,
             "#e6f5d0"
            ],
            [
             0.7,
             "#b8e186"
            ],
            [
             0.8,
             "#7fbc41"
            ],
            [
             0.9,
             "#4d9221"
            ],
            [
             1,
             "#276419"
            ]
           ],
           "sequential": [
            [
             0,
             "#0d0887"
            ],
            [
             0.1111111111111111,
             "#46039f"
            ],
            [
             0.2222222222222222,
             "#7201a8"
            ],
            [
             0.3333333333333333,
             "#9c179e"
            ],
            [
             0.4444444444444444,
             "#bd3786"
            ],
            [
             0.5555555555555556,
             "#d8576b"
            ],
            [
             0.6666666666666666,
             "#ed7953"
            ],
            [
             0.7777777777777778,
             "#fb9f3a"
            ],
            [
             0.8888888888888888,
             "#fdca26"
            ],
            [
             1,
             "#f0f921"
            ]
           ],
           "sequentialminus": [
            [
             0,
             "#0d0887"
            ],
            [
             0.1111111111111111,
             "#46039f"
            ],
            [
             0.2222222222222222,
             "#7201a8"
            ],
            [
             0.3333333333333333,
             "#9c179e"
            ],
            [
             0.4444444444444444,
             "#bd3786"
            ],
            [
             0.5555555555555556,
             "#d8576b"
            ],
            [
             0.6666666666666666,
             "#ed7953"
            ],
            [
             0.7777777777777778,
             "#fb9f3a"
            ],
            [
             0.8888888888888888,
             "#fdca26"
            ],
            [
             1,
             "#f0f921"
            ]
           ]
          },
          "colorway": [
           "#636efa",
           "#EF553B",
           "#00cc96",
           "#ab63fa",
           "#FFA15A",
           "#19d3f3",
           "#FF6692",
           "#B6E880",
           "#FF97FF",
           "#FECB52"
          ],
          "font": {
           "color": "#2a3f5f"
          },
          "geo": {
           "bgcolor": "white",
           "lakecolor": "white",
           "landcolor": "#E5ECF6",
           "showlakes": true,
           "showland": true,
           "subunitcolor": "white"
          },
          "hoverlabel": {
           "align": "left"
          },
          "hovermode": "closest",
          "mapbox": {
           "style": "light"
          },
          "paper_bgcolor": "white",
          "plot_bgcolor": "#E5ECF6",
          "polar": {
           "angularaxis": {
            "gridcolor": "white",
            "linecolor": "white",
            "ticks": ""
           },
           "bgcolor": "#E5ECF6",
           "radialaxis": {
            "gridcolor": "white",
            "linecolor": "white",
            "ticks": ""
           }
          },
          "scene": {
           "xaxis": {
            "backgroundcolor": "#E5ECF6",
            "gridcolor": "white",
            "gridwidth": 2,
            "linecolor": "white",
            "showbackground": true,
            "ticks": "",
            "zerolinecolor": "white"
           },
           "yaxis": {
            "backgroundcolor": "#E5ECF6",
            "gridcolor": "white",
            "gridwidth": 2,
            "linecolor": "white",
            "showbackground": true,
            "ticks": "",
            "zerolinecolor": "white"
           },
           "zaxis": {
            "backgroundcolor": "#E5ECF6",
            "gridcolor": "white",
            "gridwidth": 2,
            "linecolor": "white",
            "showbackground": true,
            "ticks": "",
            "zerolinecolor": "white"
           }
          },
          "shapedefaults": {
           "line": {
            "color": "#2a3f5f"
           }
          },
          "ternary": {
           "aaxis": {
            "gridcolor": "white",
            "linecolor": "white",
            "ticks": ""
           },
           "baxis": {
            "gridcolor": "white",
            "linecolor": "white",
            "ticks": ""
           },
           "bgcolor": "#E5ECF6",
           "caxis": {
            "gridcolor": "white",
            "linecolor": "white",
            "ticks": ""
           }
          },
          "title": {
           "x": 0.05
          },
          "xaxis": {
           "automargin": true,
           "gridcolor": "white",
           "linecolor": "white",
           "ticks": "",
           "title": {
            "standoff": 15
           },
           "zerolinecolor": "white",
           "zerolinewidth": 2
          },
          "yaxis": {
           "automargin": true,
           "gridcolor": "white",
           "linecolor": "white",
           "ticks": "",
           "title": {
            "standoff": 15
           },
           "zerolinecolor": "white",
           "zerolinewidth": 2
          }
         }
        },
        "title": {
         "text": "Table import duration (s)"
        },
        "xaxis": {
         "anchor": "y",
         "domain": [
          0,
          1
         ],
         "title": {
          "text": "created"
         }
        },
        "yaxis": {
         "anchor": "x",
         "domain": [
          0,
          1
         ],
         "title": {
          "text": "importDuration"
         }
        }
       }
      }
     },
     "metadata": {},
     "output_type": "display_data"
    }
   ],
   "source": [
    "fig = px.line(\n",
    "    stats_df,\n",
    "    x=\"created\",\n",
    "    y=\"importDuration\",\n",
    "    title=\"Table import duration (s)\",\n",
    "    markers=True)\n",
    "\n",
    "fig.show()"
   ]
  },
  {
   "cell_type": "code",
   "execution_count": 48,
   "metadata": {},
   "outputs": [
    {
     "data": {
      "application/vnd.plotly.v1+json": {
       "config": {
        "plotlyServerURL": "https://plot.ly"
       },
       "data": [
        {
         "hovertemplate": "created=%{x}<br>sizeBytes=%{y}<extra></extra>",
         "legendgroup": "",
         "line": {
          "color": "#636efa",
          "dash": "solid"
         },
         "marker": {
          "symbol": "circle"
         },
         "mode": "lines+markers",
         "name": "",
         "orientation": "v",
         "showlegend": false,
         "type": "scatter",
         "x": [
          "2022-11-02T05:01:34+01:00",
          "2022-11-03T05:01:04+01:00",
          "2022-11-04T05:02:03+01:00",
          "2022-11-05T05:02:57+01:00",
          "2022-11-06T05:02:59+01:00",
          "2022-11-07T06:02:44+01:00",
          "2022-11-08T06:02:48+01:00",
          "2022-11-09T06:03:08+01:00",
          "2022-11-10T06:02:58+01:00",
          "2022-11-11T06:02:37+01:00",
          "2022-11-12T06:02:58+01:00",
          "2022-11-13T06:02:21+01:00",
          "2022-11-14T06:03:00+01:00",
          "2022-11-15T06:02:50+01:00",
          "2022-11-16T06:03:16+01:00",
          "2022-11-17T06:02:39+01:00",
          "2022-11-18T06:03:03+01:00",
          "2022-11-19T06:02:41+01:00",
          "2022-11-20T06:02:55+01:00",
          "2022-11-21T06:02:48+01:00",
          "2022-11-22T06:03:06+01:00",
          "2022-11-23T06:02:50+01:00",
          "2022-11-24T06:02:42+01:00",
          "2022-11-25T06:02:44+01:00",
          "2022-11-26T06:02:36+01:00",
          "2022-11-27T06:02:40+01:00",
          "2022-11-28T06:03:21+01:00",
          "2022-11-29T06:02:52+01:00",
          "2022-11-30T06:02:56+01:00",
          "2022-12-01T06:03:07+01:00",
          "2022-12-02T06:02:31+01:00",
          "2022-12-03T06:02:34+01:00",
          "2022-12-04T06:02:40+01:00",
          "2022-12-05T06:02:56+01:00",
          "2022-12-06T06:02:38+01:00",
          "2022-12-07T06:02:31+01:00",
          "2022-12-08T06:02:35+01:00",
          "2022-12-09T06:02:39+01:00",
          "2022-12-10T06:02:53+01:00",
          "2022-12-11T06:02:32+01:00",
          "2022-12-12T06:02:39+01:00",
          "2022-12-13T06:02:36+01:00",
          "2022-12-14T06:02:01+01:00",
          "2022-12-15T06:02:33+01:00",
          "2022-12-16T06:02:07+01:00",
          "2022-12-17T06:02:36+01:00",
          "2022-12-18T06:02:23+01:00",
          "2022-12-19T06:03:19+01:00",
          "2022-12-20T06:02:57+01:00",
          "2022-12-21T06:02:30+01:00",
          "2022-12-22T06:03:25+01:00",
          "2022-12-23T06:03:31+01:00",
          "2022-12-24T06:02:33+01:00",
          "2022-12-25T06:03:20+01:00",
          "2022-12-26T06:03:03+01:00",
          "2022-12-27T06:02:28+01:00",
          "2022-12-28T06:02:57+01:00",
          "2022-12-29T06:02:28+01:00",
          "2022-12-30T06:02:49+01:00",
          "2022-12-31T06:03:01+01:00",
          "2023-01-01T06:03:17+01:00",
          "2023-01-02T06:02:28+01:00",
          "2023-01-03T06:02:24+01:00",
          "2023-01-04T06:02:47+01:00",
          "2023-01-05T06:02:49+01:00",
          "2023-01-06T06:02:32+01:00",
          "2023-01-07T06:02:53+01:00",
          "2023-01-08T06:02:30+01:00",
          "2023-01-09T06:02:13+01:00",
          "2023-01-10T06:02:39+01:00",
          "2023-01-11T06:02:21+01:00",
          "2023-01-12T06:02:15+01:00",
          "2023-01-13T06:02:16+01:00",
          "2023-01-14T06:02:50+01:00",
          "2023-01-15T06:02:29+01:00",
          "2023-01-16T06:02:47+01:00",
          "2023-01-17T06:02:52+01:00",
          "2023-01-18T06:03:02+01:00",
          "2023-01-19T06:02:55+01:00",
          "2023-01-20T06:02:33+01:00",
          "2023-01-21T06:02:25+01:00",
          "2023-01-23T06:01:11+01:00",
          "2023-01-24T06:02:38+01:00",
          "2023-01-25T06:02:31+01:00",
          "2023-01-26T06:01:53+01:00",
          "2023-01-27T06:02:38+01:00",
          "2023-01-28T06:02:07+01:00",
          "2023-01-29T06:02:09+01:00",
          "2023-01-30T06:02:33+01:00",
          "2023-01-31T06:02:04+01:00",
          "2023-02-01T06:02:04+01:00",
          "2023-02-02T06:02:19+01:00",
          "2023-02-03T06:01:57+01:00",
          "2023-02-04T06:01:52+01:00",
          "2023-02-05T06:02:35+01:00",
          "2023-02-06T06:02:22+01:00",
          "2023-02-07T06:02:07+01:00",
          "2023-02-08T06:02:21+01:00",
          "2023-02-09T06:02:13+01:00",
          "2023-02-10T06:02:23+01:00",
          "2023-02-11T06:02:21+01:00",
          "2023-02-12T06:02:21+01:00",
          "2023-02-13T06:02:10+01:00",
          "2023-02-14T06:02:28+01:00",
          "2023-02-15T06:02:24+01:00",
          "2023-02-16T06:02:27+01:00",
          "2023-02-17T06:02:11+01:00",
          "2023-02-18T06:03:08+01:00",
          "2023-02-19T06:01:56+01:00",
          "2023-02-20T06:02:19+01:00",
          "2023-02-21T06:02:35+01:00",
          "2023-02-22T06:02:25+01:00",
          "2023-02-23T06:02:18+01:00",
          "2023-02-24T06:02:32+01:00",
          "2023-02-25T06:02:23+01:00",
          "2023-02-26T06:02:32+01:00",
          "2023-02-27T06:02:19+01:00",
          "2023-02-28T06:02:15+01:00",
          "2023-03-01T06:03:08+01:00",
          "2023-03-02T06:02:01+01:00",
          "2023-03-03T06:01:53+01:00",
          "2023-03-04T06:02:13+01:00",
          "2023-03-05T06:02:33+01:00",
          "2023-03-06T06:02:13+01:00",
          "2023-03-07T06:02:18+01:00",
          "2023-03-08T06:02:23+01:00",
          "2023-03-09T06:02:57+01:00",
          "2023-03-10T06:02:51+01:00",
          "2023-03-11T06:03:04+01:00",
          "2023-03-12T06:03:12+01:00",
          "2023-03-13T05:02:11+01:00",
          "2023-03-14T05:02:52+01:00",
          "2023-03-15T05:00:59+01:00",
          "2023-03-16T05:02:41+01:00",
          "2023-03-17T05:02:02+01:00",
          "2023-03-18T05:01:48+01:00",
          "2023-03-19T05:01:56+01:00",
          "2023-03-20T05:03:03+01:00",
          "2023-03-21T05:02:05+01:00",
          "2023-03-22T05:01:58+01:00",
          "2023-03-23T05:00:59+01:00",
          "2023-03-24T05:00:49+01:00",
          "2023-03-25T05:00:49+01:00",
          "2023-03-26T06:01:06+02:00",
          "2023-03-27T06:00:55+02:00",
          "2023-03-28T06:02:38+02:00",
          "2023-03-29T06:02:42+02:00",
          "2023-03-30T06:02:18+02:00",
          "2023-03-31T06:02:32+02:00",
          "2023-03-31T20:16:27+02:00",
          "2023-03-31T21:07:59+02:00",
          "2023-03-31T21:18:06+02:00",
          "2023-04-01T14:51:30+02:00",
          "2023-04-01T14:54:58+02:00",
          "2023-04-01T15:48:09+02:00",
          "2023-04-01T15:51:06+02:00",
          "2023-04-01T16:04:19+02:00",
          "2023-04-01T16:12:00+02:00",
          "2023-04-01T16:15:06+02:00",
          "2023-04-01T16:18:24+02:00",
          "2023-04-01T16:21:06+02:00",
          "2023-04-01T16:29:15+02:00",
          "2023-04-01T16:42:13+02:00",
          "2023-04-01T16:44:55+02:00",
          "2023-04-01T16:58:01+02:00",
          "2023-04-01T17:01:33+02:00",
          "2023-04-01T19:46:17+02:00",
          "2023-04-01T19:50:25+02:00",
          "2023-04-01T19:57:35+02:00",
          "2023-04-01T20:02:10+02:00",
          "2023-04-01T20:07:48+02:00",
          "2023-04-01T20:11:46+02:00",
          "2023-04-01T20:19:19+02:00",
          "2023-04-01T20:42:14+02:00",
          "2023-04-01T20:50:48+02:00",
          "2023-04-01T20:54:04+02:00",
          "2023-04-01T20:58:00+02:00",
          "2023-04-02T06:02:38+02:00",
          "2023-04-03T06:02:41+02:00",
          "2023-04-04T06:02:21+02:00",
          "2023-04-05T06:02:34+02:00"
         ],
         "xaxis": "x",
         "y": [
          11776,
          11776,
          11776,
          11776,
          11776,
          11776,
          11776,
          11776,
          11776,
          11776,
          11776,
          11776,
          11776,
          11776,
          11776,
          11776,
          11776,
          11776,
          11776,
          11776,
          11776,
          11776,
          11776,
          11776,
          11776,
          11776,
          11776,
          11776,
          11776,
          11776,
          11776,
          11776,
          11776,
          11776,
          11776,
          11776,
          11776,
          11776,
          11776,
          11776,
          11776,
          11776,
          11776,
          11776,
          11776,
          11776,
          11776,
          11776,
          11776,
          11776,
          11776,
          11776,
          11776,
          11776,
          11776,
          11776,
          11776,
          11776,
          11776,
          11776,
          11776,
          11776,
          11776,
          11776,
          11776,
          11776,
          11776,
          11776,
          11776,
          11776,
          11776,
          11776,
          11776,
          11776,
          11776,
          11776,
          11776,
          11776,
          11776,
          11776,
          11776,
          11776,
          11776,
          11776,
          11776,
          11776,
          11776,
          11776,
          11776,
          11776,
          11776,
          11776,
          11776,
          11776,
          11776,
          11776,
          11776,
          11776,
          11776,
          11776,
          11776,
          11776,
          11776,
          11776,
          11776,
          11776,
          11776,
          11776,
          11776,
          11776,
          11776,
          11776,
          11776,
          11776,
          11776,
          11776,
          11776,
          11776,
          11776,
          11776,
          11776,
          11776,
          11776,
          11776,
          11776,
          11776,
          11776,
          11776,
          11776,
          11776,
          11776,
          11776,
          11776,
          11776,
          11776,
          11776,
          11776,
          11776,
          11776,
          11776,
          11776,
          11264,
          11776,
          11776,
          11264,
          11776,
          11776,
          11264,
          11776,
          11776,
          11776,
          11776,
          17920,
          3502592,
          3502080,
          11776,
          3502080,
          2694656,
          12288,
          19968,
          18432,
          2570240,
          11776,
          11776,
          2569728,
          11776,
          2569728,
          3202560,
          3214336,
          3202560,
          3202560,
          2569728,
          3202560,
          3203584,
          3202560,
          3197952,
          3202560,
          11776,
          12288,
          11776,
          11776
         ],
         "yaxis": "y"
        }
       ],
       "layout": {
        "legend": {
         "tracegroupgap": 0
        },
        "template": {
         "data": {
          "bar": [
           {
            "error_x": {
             "color": "#2a3f5f"
            },
            "error_y": {
             "color": "#2a3f5f"
            },
            "marker": {
             "line": {
              "color": "#E5ECF6",
              "width": 0.5
             },
             "pattern": {
              "fillmode": "overlay",
              "size": 10,
              "solidity": 0.2
             }
            },
            "type": "bar"
           }
          ],
          "barpolar": [
           {
            "marker": {
             "line": {
              "color": "#E5ECF6",
              "width": 0.5
             },
             "pattern": {
              "fillmode": "overlay",
              "size": 10,
              "solidity": 0.2
             }
            },
            "type": "barpolar"
           }
          ],
          "carpet": [
           {
            "aaxis": {
             "endlinecolor": "#2a3f5f",
             "gridcolor": "white",
             "linecolor": "white",
             "minorgridcolor": "white",
             "startlinecolor": "#2a3f5f"
            },
            "baxis": {
             "endlinecolor": "#2a3f5f",
             "gridcolor": "white",
             "linecolor": "white",
             "minorgridcolor": "white",
             "startlinecolor": "#2a3f5f"
            },
            "type": "carpet"
           }
          ],
          "choropleth": [
           {
            "colorbar": {
             "outlinewidth": 0,
             "ticks": ""
            },
            "type": "choropleth"
           }
          ],
          "contour": [
           {
            "colorbar": {
             "outlinewidth": 0,
             "ticks": ""
            },
            "colorscale": [
             [
              0,
              "#0d0887"
             ],
             [
              0.1111111111111111,
              "#46039f"
             ],
             [
              0.2222222222222222,
              "#7201a8"
             ],
             [
              0.3333333333333333,
              "#9c179e"
             ],
             [
              0.4444444444444444,
              "#bd3786"
             ],
             [
              0.5555555555555556,
              "#d8576b"
             ],
             [
              0.6666666666666666,
              "#ed7953"
             ],
             [
              0.7777777777777778,
              "#fb9f3a"
             ],
             [
              0.8888888888888888,
              "#fdca26"
             ],
             [
              1,
              "#f0f921"
             ]
            ],
            "type": "contour"
           }
          ],
          "contourcarpet": [
           {
            "colorbar": {
             "outlinewidth": 0,
             "ticks": ""
            },
            "type": "contourcarpet"
           }
          ],
          "heatmap": [
           {
            "colorbar": {
             "outlinewidth": 0,
             "ticks": ""
            },
            "colorscale": [
             [
              0,
              "#0d0887"
             ],
             [
              0.1111111111111111,
              "#46039f"
             ],
             [
              0.2222222222222222,
              "#7201a8"
             ],
             [
              0.3333333333333333,
              "#9c179e"
             ],
             [
              0.4444444444444444,
              "#bd3786"
             ],
             [
              0.5555555555555556,
              "#d8576b"
             ],
             [
              0.6666666666666666,
              "#ed7953"
             ],
             [
              0.7777777777777778,
              "#fb9f3a"
             ],
             [
              0.8888888888888888,
              "#fdca26"
             ],
             [
              1,
              "#f0f921"
             ]
            ],
            "type": "heatmap"
           }
          ],
          "heatmapgl": [
           {
            "colorbar": {
             "outlinewidth": 0,
             "ticks": ""
            },
            "colorscale": [
             [
              0,
              "#0d0887"
             ],
             [
              0.1111111111111111,
              "#46039f"
             ],
             [
              0.2222222222222222,
              "#7201a8"
             ],
             [
              0.3333333333333333,
              "#9c179e"
             ],
             [
              0.4444444444444444,
              "#bd3786"
             ],
             [
              0.5555555555555556,
              "#d8576b"
             ],
             [
              0.6666666666666666,
              "#ed7953"
             ],
             [
              0.7777777777777778,
              "#fb9f3a"
             ],
             [
              0.8888888888888888,
              "#fdca26"
             ],
             [
              1,
              "#f0f921"
             ]
            ],
            "type": "heatmapgl"
           }
          ],
          "histogram": [
           {
            "marker": {
             "pattern": {
              "fillmode": "overlay",
              "size": 10,
              "solidity": 0.2
             }
            },
            "type": "histogram"
           }
          ],
          "histogram2d": [
           {
            "colorbar": {
             "outlinewidth": 0,
             "ticks": ""
            },
            "colorscale": [
             [
              0,
              "#0d0887"
             ],
             [
              0.1111111111111111,
              "#46039f"
             ],
             [
              0.2222222222222222,
              "#7201a8"
             ],
             [
              0.3333333333333333,
              "#9c179e"
             ],
             [
              0.4444444444444444,
              "#bd3786"
             ],
             [
              0.5555555555555556,
              "#d8576b"
             ],
             [
              0.6666666666666666,
              "#ed7953"
             ],
             [
              0.7777777777777778,
              "#fb9f3a"
             ],
             [
              0.8888888888888888,
              "#fdca26"
             ],
             [
              1,
              "#f0f921"
             ]
            ],
            "type": "histogram2d"
           }
          ],
          "histogram2dcontour": [
           {
            "colorbar": {
             "outlinewidth": 0,
             "ticks": ""
            },
            "colorscale": [
             [
              0,
              "#0d0887"
             ],
             [
              0.1111111111111111,
              "#46039f"
             ],
             [
              0.2222222222222222,
              "#7201a8"
             ],
             [
              0.3333333333333333,
              "#9c179e"
             ],
             [
              0.4444444444444444,
              "#bd3786"
             ],
             [
              0.5555555555555556,
              "#d8576b"
             ],
             [
              0.6666666666666666,
              "#ed7953"
             ],
             [
              0.7777777777777778,
              "#fb9f3a"
             ],
             [
              0.8888888888888888,
              "#fdca26"
             ],
             [
              1,
              "#f0f921"
             ]
            ],
            "type": "histogram2dcontour"
           }
          ],
          "mesh3d": [
           {
            "colorbar": {
             "outlinewidth": 0,
             "ticks": ""
            },
            "type": "mesh3d"
           }
          ],
          "parcoords": [
           {
            "line": {
             "colorbar": {
              "outlinewidth": 0,
              "ticks": ""
             }
            },
            "type": "parcoords"
           }
          ],
          "pie": [
           {
            "automargin": true,
            "type": "pie"
           }
          ],
          "scatter": [
           {
            "fillpattern": {
             "fillmode": "overlay",
             "size": 10,
             "solidity": 0.2
            },
            "type": "scatter"
           }
          ],
          "scatter3d": [
           {
            "line": {
             "colorbar": {
              "outlinewidth": 0,
              "ticks": ""
             }
            },
            "marker": {
             "colorbar": {
              "outlinewidth": 0,
              "ticks": ""
             }
            },
            "type": "scatter3d"
           }
          ],
          "scattercarpet": [
           {
            "marker": {
             "colorbar": {
              "outlinewidth": 0,
              "ticks": ""
             }
            },
            "type": "scattercarpet"
           }
          ],
          "scattergeo": [
           {
            "marker": {
             "colorbar": {
              "outlinewidth": 0,
              "ticks": ""
             }
            },
            "type": "scattergeo"
           }
          ],
          "scattergl": [
           {
            "marker": {
             "colorbar": {
              "outlinewidth": 0,
              "ticks": ""
             }
            },
            "type": "scattergl"
           }
          ],
          "scattermapbox": [
           {
            "marker": {
             "colorbar": {
              "outlinewidth": 0,
              "ticks": ""
             }
            },
            "type": "scattermapbox"
           }
          ],
          "scatterpolar": [
           {
            "marker": {
             "colorbar": {
              "outlinewidth": 0,
              "ticks": ""
             }
            },
            "type": "scatterpolar"
           }
          ],
          "scatterpolargl": [
           {
            "marker": {
             "colorbar": {
              "outlinewidth": 0,
              "ticks": ""
             }
            },
            "type": "scatterpolargl"
           }
          ],
          "scatterternary": [
           {
            "marker": {
             "colorbar": {
              "outlinewidth": 0,
              "ticks": ""
             }
            },
            "type": "scatterternary"
           }
          ],
          "surface": [
           {
            "colorbar": {
             "outlinewidth": 0,
             "ticks": ""
            },
            "colorscale": [
             [
              0,
              "#0d0887"
             ],
             [
              0.1111111111111111,
              "#46039f"
             ],
             [
              0.2222222222222222,
              "#7201a8"
             ],
             [
              0.3333333333333333,
              "#9c179e"
             ],
             [
              0.4444444444444444,
              "#bd3786"
             ],
             [
              0.5555555555555556,
              "#d8576b"
             ],
             [
              0.6666666666666666,
              "#ed7953"
             ],
             [
              0.7777777777777778,
              "#fb9f3a"
             ],
             [
              0.8888888888888888,
              "#fdca26"
             ],
             [
              1,
              "#f0f921"
             ]
            ],
            "type": "surface"
           }
          ],
          "table": [
           {
            "cells": {
             "fill": {
              "color": "#EBF0F8"
             },
             "line": {
              "color": "white"
             }
            },
            "header": {
             "fill": {
              "color": "#C8D4E3"
             },
             "line": {
              "color": "white"
             }
            },
            "type": "table"
           }
          ]
         },
         "layout": {
          "annotationdefaults": {
           "arrowcolor": "#2a3f5f",
           "arrowhead": 0,
           "arrowwidth": 1
          },
          "autotypenumbers": "strict",
          "coloraxis": {
           "colorbar": {
            "outlinewidth": 0,
            "ticks": ""
           }
          },
          "colorscale": {
           "diverging": [
            [
             0,
             "#8e0152"
            ],
            [
             0.1,
             "#c51b7d"
            ],
            [
             0.2,
             "#de77ae"
            ],
            [
             0.3,
             "#f1b6da"
            ],
            [
             0.4,
             "#fde0ef"
            ],
            [
             0.5,
             "#f7f7f7"
            ],
            [
             0.6,
             "#e6f5d0"
            ],
            [
             0.7,
             "#b8e186"
            ],
            [
             0.8,
             "#7fbc41"
            ],
            [
             0.9,
             "#4d9221"
            ],
            [
             1,
             "#276419"
            ]
           ],
           "sequential": [
            [
             0,
             "#0d0887"
            ],
            [
             0.1111111111111111,
             "#46039f"
            ],
            [
             0.2222222222222222,
             "#7201a8"
            ],
            [
             0.3333333333333333,
             "#9c179e"
            ],
            [
             0.4444444444444444,
             "#bd3786"
            ],
            [
             0.5555555555555556,
             "#d8576b"
            ],
            [
             0.6666666666666666,
             "#ed7953"
            ],
            [
             0.7777777777777778,
             "#fb9f3a"
            ],
            [
             0.8888888888888888,
             "#fdca26"
            ],
            [
             1,
             "#f0f921"
            ]
           ],
           "sequentialminus": [
            [
             0,
             "#0d0887"
            ],
            [
             0.1111111111111111,
             "#46039f"
            ],
            [
             0.2222222222222222,
             "#7201a8"
            ],
            [
             0.3333333333333333,
             "#9c179e"
            ],
            [
             0.4444444444444444,
             "#bd3786"
            ],
            [
             0.5555555555555556,
             "#d8576b"
            ],
            [
             0.6666666666666666,
             "#ed7953"
            ],
            [
             0.7777777777777778,
             "#fb9f3a"
            ],
            [
             0.8888888888888888,
             "#fdca26"
            ],
            [
             1,
             "#f0f921"
            ]
           ]
          },
          "colorway": [
           "#636efa",
           "#EF553B",
           "#00cc96",
           "#ab63fa",
           "#FFA15A",
           "#19d3f3",
           "#FF6692",
           "#B6E880",
           "#FF97FF",
           "#FECB52"
          ],
          "font": {
           "color": "#2a3f5f"
          },
          "geo": {
           "bgcolor": "white",
           "lakecolor": "white",
           "landcolor": "#E5ECF6",
           "showlakes": true,
           "showland": true,
           "subunitcolor": "white"
          },
          "hoverlabel": {
           "align": "left"
          },
          "hovermode": "closest",
          "mapbox": {
           "style": "light"
          },
          "paper_bgcolor": "white",
          "plot_bgcolor": "#E5ECF6",
          "polar": {
           "angularaxis": {
            "gridcolor": "white",
            "linecolor": "white",
            "ticks": ""
           },
           "bgcolor": "#E5ECF6",
           "radialaxis": {
            "gridcolor": "white",
            "linecolor": "white",
            "ticks": ""
           }
          },
          "scene": {
           "xaxis": {
            "backgroundcolor": "#E5ECF6",
            "gridcolor": "white",
            "gridwidth": 2,
            "linecolor": "white",
            "showbackground": true,
            "ticks": "",
            "zerolinecolor": "white"
           },
           "yaxis": {
            "backgroundcolor": "#E5ECF6",
            "gridcolor": "white",
            "gridwidth": 2,
            "linecolor": "white",
            "showbackground": true,
            "ticks": "",
            "zerolinecolor": "white"
           },
           "zaxis": {
            "backgroundcolor": "#E5ECF6",
            "gridcolor": "white",
            "gridwidth": 2,
            "linecolor": "white",
            "showbackground": true,
            "ticks": "",
            "zerolinecolor": "white"
           }
          },
          "shapedefaults": {
           "line": {
            "color": "#2a3f5f"
           }
          },
          "ternary": {
           "aaxis": {
            "gridcolor": "white",
            "linecolor": "white",
            "ticks": ""
           },
           "baxis": {
            "gridcolor": "white",
            "linecolor": "white",
            "ticks": ""
           },
           "bgcolor": "#E5ECF6",
           "caxis": {
            "gridcolor": "white",
            "linecolor": "white",
            "ticks": ""
           }
          },
          "title": {
           "x": 0.05
          },
          "xaxis": {
           "automargin": true,
           "gridcolor": "white",
           "linecolor": "white",
           "ticks": "",
           "title": {
            "standoff": 15
           },
           "zerolinecolor": "white",
           "zerolinewidth": 2
          },
          "yaxis": {
           "automargin": true,
           "gridcolor": "white",
           "linecolor": "white",
           "ticks": "",
           "title": {
            "standoff": 15
           },
           "zerolinecolor": "white",
           "zerolinewidth": 2
          }
         }
        },
        "title": {
         "text": "Table size (Bytes)"
        },
        "xaxis": {
         "anchor": "y",
         "domain": [
          0,
          1
         ],
         "title": {
          "text": "created"
         }
        },
        "yaxis": {
         "anchor": "x",
         "domain": [
          0,
          1
         ],
         "title": {
          "text": "sizeBytes"
         }
        }
       }
      }
     },
     "metadata": {},
     "output_type": "display_data"
    }
   ],
   "source": [
    "fig = px.line(\n",
    "    stats_df,\n",
    "    x=\"created\",\n",
    "    y=\"sizeBytes\",\n",
    "    title=\"Table size (Bytes)\",\n",
    "    markers=True)\n",
    "\n",
    "fig.show()"
   ]
  },
  {
   "cell_type": "code",
   "execution_count": 49,
   "metadata": {},
   "outputs": [
    {
     "data": {
      "application/vnd.plotly.v1+json": {
       "config": {
        "plotlyServerURL": "https://plot.ly"
       },
       "data": [
        {
         "hovertemplate": "created=%{x}<br>rows_delta=%{y}<extra></extra>",
         "legendgroup": "",
         "line": {
          "color": "#636efa",
          "dash": "solid"
         },
         "marker": {
          "symbol": "circle"
         },
         "mode": "lines+markers",
         "name": "",
         "orientation": "v",
         "showlegend": false,
         "type": "scatter",
         "x": [
          "2022-11-02T05:01:34+01:00",
          "2022-11-03T05:01:04+01:00",
          "2022-11-04T05:02:03+01:00",
          "2022-11-05T05:02:57+01:00",
          "2022-11-06T05:02:59+01:00",
          "2022-11-07T06:02:44+01:00",
          "2022-11-08T06:02:48+01:00",
          "2022-11-09T06:03:08+01:00",
          "2022-11-10T06:02:58+01:00",
          "2022-11-11T06:02:37+01:00",
          "2022-11-12T06:02:58+01:00",
          "2022-11-13T06:02:21+01:00",
          "2022-11-14T06:03:00+01:00",
          "2022-11-15T06:02:50+01:00",
          "2022-11-16T06:03:16+01:00",
          "2022-11-17T06:02:39+01:00",
          "2022-11-18T06:03:03+01:00",
          "2022-11-19T06:02:41+01:00",
          "2022-11-20T06:02:55+01:00",
          "2022-11-21T06:02:48+01:00",
          "2022-11-22T06:03:06+01:00",
          "2022-11-23T06:02:50+01:00",
          "2022-11-24T06:02:42+01:00",
          "2022-11-25T06:02:44+01:00",
          "2022-11-26T06:02:36+01:00",
          "2022-11-27T06:02:40+01:00",
          "2022-11-28T06:03:21+01:00",
          "2022-11-29T06:02:52+01:00",
          "2022-11-30T06:02:56+01:00",
          "2022-12-01T06:03:07+01:00",
          "2022-12-02T06:02:31+01:00",
          "2022-12-03T06:02:34+01:00",
          "2022-12-04T06:02:40+01:00",
          "2022-12-05T06:02:56+01:00",
          "2022-12-06T06:02:38+01:00",
          "2022-12-07T06:02:31+01:00",
          "2022-12-08T06:02:35+01:00",
          "2022-12-09T06:02:39+01:00",
          "2022-12-10T06:02:53+01:00",
          "2022-12-11T06:02:32+01:00",
          "2022-12-12T06:02:39+01:00",
          "2022-12-13T06:02:36+01:00",
          "2022-12-14T06:02:01+01:00",
          "2022-12-15T06:02:33+01:00",
          "2022-12-16T06:02:07+01:00",
          "2022-12-17T06:02:36+01:00",
          "2022-12-18T06:02:23+01:00",
          "2022-12-19T06:03:19+01:00",
          "2022-12-20T06:02:57+01:00",
          "2022-12-21T06:02:30+01:00",
          "2022-12-22T06:03:25+01:00",
          "2022-12-23T06:03:31+01:00",
          "2022-12-24T06:02:33+01:00",
          "2022-12-25T06:03:20+01:00",
          "2022-12-26T06:03:03+01:00",
          "2022-12-27T06:02:28+01:00",
          "2022-12-28T06:02:57+01:00",
          "2022-12-29T06:02:28+01:00",
          "2022-12-30T06:02:49+01:00",
          "2022-12-31T06:03:01+01:00",
          "2023-01-01T06:03:17+01:00",
          "2023-01-02T06:02:28+01:00",
          "2023-01-03T06:02:24+01:00",
          "2023-01-04T06:02:47+01:00",
          "2023-01-05T06:02:49+01:00",
          "2023-01-06T06:02:32+01:00",
          "2023-01-07T06:02:53+01:00",
          "2023-01-08T06:02:30+01:00",
          "2023-01-09T06:02:13+01:00",
          "2023-01-10T06:02:39+01:00",
          "2023-01-11T06:02:21+01:00",
          "2023-01-12T06:02:15+01:00",
          "2023-01-13T06:02:16+01:00",
          "2023-01-14T06:02:50+01:00",
          "2023-01-15T06:02:29+01:00",
          "2023-01-16T06:02:47+01:00",
          "2023-01-17T06:02:52+01:00",
          "2023-01-18T06:03:02+01:00",
          "2023-01-19T06:02:55+01:00",
          "2023-01-20T06:02:33+01:00",
          "2023-01-21T06:02:25+01:00",
          "2023-01-23T06:01:11+01:00",
          "2023-01-24T06:02:38+01:00",
          "2023-01-25T06:02:31+01:00",
          "2023-01-26T06:01:53+01:00",
          "2023-01-27T06:02:38+01:00",
          "2023-01-28T06:02:07+01:00",
          "2023-01-29T06:02:09+01:00",
          "2023-01-30T06:02:33+01:00",
          "2023-01-31T06:02:04+01:00",
          "2023-02-01T06:02:04+01:00",
          "2023-02-02T06:02:19+01:00",
          "2023-02-03T06:01:57+01:00",
          "2023-02-04T06:01:52+01:00",
          "2023-02-05T06:02:35+01:00",
          "2023-02-06T06:02:22+01:00",
          "2023-02-07T06:02:07+01:00",
          "2023-02-08T06:02:21+01:00",
          "2023-02-09T06:02:13+01:00",
          "2023-02-10T06:02:23+01:00",
          "2023-02-11T06:02:21+01:00",
          "2023-02-12T06:02:21+01:00",
          "2023-02-13T06:02:10+01:00",
          "2023-02-14T06:02:28+01:00",
          "2023-02-15T06:02:24+01:00",
          "2023-02-16T06:02:27+01:00",
          "2023-02-17T06:02:11+01:00",
          "2023-02-18T06:03:08+01:00",
          "2023-02-19T06:01:56+01:00",
          "2023-02-20T06:02:19+01:00",
          "2023-02-21T06:02:35+01:00",
          "2023-02-22T06:02:25+01:00",
          "2023-02-23T06:02:18+01:00",
          "2023-02-24T06:02:32+01:00",
          "2023-02-25T06:02:23+01:00",
          "2023-02-26T06:02:32+01:00",
          "2023-02-27T06:02:19+01:00",
          "2023-02-28T06:02:15+01:00",
          "2023-03-01T06:03:08+01:00",
          "2023-03-02T06:02:01+01:00",
          "2023-03-03T06:01:53+01:00",
          "2023-03-04T06:02:13+01:00",
          "2023-03-05T06:02:33+01:00",
          "2023-03-06T06:02:13+01:00",
          "2023-03-07T06:02:18+01:00",
          "2023-03-08T06:02:23+01:00",
          "2023-03-09T06:02:57+01:00",
          "2023-03-10T06:02:51+01:00",
          "2023-03-11T06:03:04+01:00",
          "2023-03-12T06:03:12+01:00",
          "2023-03-13T05:02:11+01:00",
          "2023-03-14T05:02:52+01:00",
          "2023-03-15T05:00:59+01:00",
          "2023-03-16T05:02:41+01:00",
          "2023-03-17T05:02:02+01:00",
          "2023-03-18T05:01:48+01:00",
          "2023-03-19T05:01:56+01:00",
          "2023-03-20T05:03:03+01:00",
          "2023-03-21T05:02:05+01:00",
          "2023-03-22T05:01:58+01:00",
          "2023-03-23T05:00:59+01:00",
          "2023-03-24T05:00:49+01:00",
          "2023-03-25T05:00:49+01:00",
          "2023-03-26T06:01:06+02:00",
          "2023-03-27T06:00:55+02:00",
          "2023-03-28T06:02:38+02:00",
          "2023-03-29T06:02:42+02:00",
          "2023-03-30T06:02:18+02:00",
          "2023-03-31T06:02:32+02:00",
          "2023-03-31T20:16:27+02:00",
          "2023-03-31T21:07:59+02:00",
          "2023-03-31T21:18:06+02:00",
          "2023-04-01T14:51:30+02:00",
          "2023-04-01T14:54:58+02:00",
          "2023-04-01T15:48:09+02:00",
          "2023-04-01T15:51:06+02:00",
          "2023-04-01T16:04:19+02:00",
          "2023-04-01T16:12:00+02:00",
          "2023-04-01T16:15:06+02:00",
          "2023-04-01T16:18:24+02:00",
          "2023-04-01T16:21:06+02:00",
          "2023-04-01T16:29:15+02:00",
          "2023-04-01T16:42:13+02:00",
          "2023-04-01T16:44:55+02:00",
          "2023-04-01T16:58:01+02:00",
          "2023-04-01T17:01:33+02:00",
          "2023-04-01T19:46:17+02:00",
          "2023-04-01T19:50:25+02:00",
          "2023-04-01T19:57:35+02:00",
          "2023-04-01T20:02:10+02:00",
          "2023-04-01T20:07:48+02:00",
          "2023-04-01T20:11:46+02:00",
          "2023-04-01T20:19:19+02:00",
          "2023-04-01T20:42:14+02:00",
          "2023-04-01T20:50:48+02:00",
          "2023-04-01T20:54:04+02:00",
          "2023-04-01T20:58:00+02:00",
          "2023-04-02T06:02:38+02:00",
          "2023-04-03T06:02:41+02:00",
          "2023-04-04T06:02:21+02:00",
          "2023-04-05T06:02:34+02:00"
         ],
         "xaxis": "x",
         "y": [
          0,
          0,
          0,
          0,
          0,
          0,
          0,
          0,
          0,
          0,
          1,
          0,
          0,
          -1,
          2,
          0,
          2,
          0,
          0,
          0,
          0,
          0,
          0,
          0,
          0,
          -1,
          0,
          2,
          1,
          0,
          -3,
          0,
          0,
          -1,
          1,
          0,
          0,
          0,
          0,
          0,
          0,
          -1,
          -2,
          -1,
          0,
          2,
          0,
          0,
          0,
          0,
          1,
          0,
          0,
          0,
          0,
          1,
          1,
          -1,
          1,
          0,
          0,
          -1,
          0,
          1,
          0,
          0,
          0,
          0,
          0,
          0,
          -1,
          -2,
          2,
          -1,
          0,
          0,
          0,
          -2,
          -1,
          0,
          0,
          -1,
          0,
          0,
          0,
          0,
          0,
          0,
          0,
          0,
          1,
          0,
          -4,
          0,
          0,
          0,
          1,
          0,
          1,
          0,
          -3,
          -1,
          0,
          2,
          -1,
          2,
          0,
          0,
          0,
          1,
          -1,
          1,
          3,
          0,
          2,
          0,
          0,
          1,
          -4,
          0,
          0,
          0,
          0,
          0,
          -1,
          0,
          -4,
          -1,
          0,
          0,
          0,
          -3,
          1,
          -1,
          0,
          0,
          0,
          0,
          0,
          1,
          1,
          -2,
          0,
          0,
          0,
          0,
          0,
          0,
          0,
          34,
          0,
          1,
          425,
          374446,
          0,
          -374903,
          374903,
          -44547,
          -330310,
          412,
          -1,
          329898,
          -330323,
          0,
          330323,
          -330323,
          330323,
          44548,
          0,
          0,
          0,
          -44548,
          44548,
          0,
          0,
          -460,
          460,
          -374871,
          0,
          -5,
          0
         ],
         "yaxis": "y"
        }
       ],
       "layout": {
        "legend": {
         "tracegroupgap": 0
        },
        "template": {
         "data": {
          "bar": [
           {
            "error_x": {
             "color": "#2a3f5f"
            },
            "error_y": {
             "color": "#2a3f5f"
            },
            "marker": {
             "line": {
              "color": "#E5ECF6",
              "width": 0.5
             },
             "pattern": {
              "fillmode": "overlay",
              "size": 10,
              "solidity": 0.2
             }
            },
            "type": "bar"
           }
          ],
          "barpolar": [
           {
            "marker": {
             "line": {
              "color": "#E5ECF6",
              "width": 0.5
             },
             "pattern": {
              "fillmode": "overlay",
              "size": 10,
              "solidity": 0.2
             }
            },
            "type": "barpolar"
           }
          ],
          "carpet": [
           {
            "aaxis": {
             "endlinecolor": "#2a3f5f",
             "gridcolor": "white",
             "linecolor": "white",
             "minorgridcolor": "white",
             "startlinecolor": "#2a3f5f"
            },
            "baxis": {
             "endlinecolor": "#2a3f5f",
             "gridcolor": "white",
             "linecolor": "white",
             "minorgridcolor": "white",
             "startlinecolor": "#2a3f5f"
            },
            "type": "carpet"
           }
          ],
          "choropleth": [
           {
            "colorbar": {
             "outlinewidth": 0,
             "ticks": ""
            },
            "type": "choropleth"
           }
          ],
          "contour": [
           {
            "colorbar": {
             "outlinewidth": 0,
             "ticks": ""
            },
            "colorscale": [
             [
              0,
              "#0d0887"
             ],
             [
              0.1111111111111111,
              "#46039f"
             ],
             [
              0.2222222222222222,
              "#7201a8"
             ],
             [
              0.3333333333333333,
              "#9c179e"
             ],
             [
              0.4444444444444444,
              "#bd3786"
             ],
             [
              0.5555555555555556,
              "#d8576b"
             ],
             [
              0.6666666666666666,
              "#ed7953"
             ],
             [
              0.7777777777777778,
              "#fb9f3a"
             ],
             [
              0.8888888888888888,
              "#fdca26"
             ],
             [
              1,
              "#f0f921"
             ]
            ],
            "type": "contour"
           }
          ],
          "contourcarpet": [
           {
            "colorbar": {
             "outlinewidth": 0,
             "ticks": ""
            },
            "type": "contourcarpet"
           }
          ],
          "heatmap": [
           {
            "colorbar": {
             "outlinewidth": 0,
             "ticks": ""
            },
            "colorscale": [
             [
              0,
              "#0d0887"
             ],
             [
              0.1111111111111111,
              "#46039f"
             ],
             [
              0.2222222222222222,
              "#7201a8"
             ],
             [
              0.3333333333333333,
              "#9c179e"
             ],
             [
              0.4444444444444444,
              "#bd3786"
             ],
             [
              0.5555555555555556,
              "#d8576b"
             ],
             [
              0.6666666666666666,
              "#ed7953"
             ],
             [
              0.7777777777777778,
              "#fb9f3a"
             ],
             [
              0.8888888888888888,
              "#fdca26"
             ],
             [
              1,
              "#f0f921"
             ]
            ],
            "type": "heatmap"
           }
          ],
          "heatmapgl": [
           {
            "colorbar": {
             "outlinewidth": 0,
             "ticks": ""
            },
            "colorscale": [
             [
              0,
              "#0d0887"
             ],
             [
              0.1111111111111111,
              "#46039f"
             ],
             [
              0.2222222222222222,
              "#7201a8"
             ],
             [
              0.3333333333333333,
              "#9c179e"
             ],
             [
              0.4444444444444444,
              "#bd3786"
             ],
             [
              0.5555555555555556,
              "#d8576b"
             ],
             [
              0.6666666666666666,
              "#ed7953"
             ],
             [
              0.7777777777777778,
              "#fb9f3a"
             ],
             [
              0.8888888888888888,
              "#fdca26"
             ],
             [
              1,
              "#f0f921"
             ]
            ],
            "type": "heatmapgl"
           }
          ],
          "histogram": [
           {
            "marker": {
             "pattern": {
              "fillmode": "overlay",
              "size": 10,
              "solidity": 0.2
             }
            },
            "type": "histogram"
           }
          ],
          "histogram2d": [
           {
            "colorbar": {
             "outlinewidth": 0,
             "ticks": ""
            },
            "colorscale": [
             [
              0,
              "#0d0887"
             ],
             [
              0.1111111111111111,
              "#46039f"
             ],
             [
              0.2222222222222222,
              "#7201a8"
             ],
             [
              0.3333333333333333,
              "#9c179e"
             ],
             [
              0.4444444444444444,
              "#bd3786"
             ],
             [
              0.5555555555555556,
              "#d8576b"
             ],
             [
              0.6666666666666666,
              "#ed7953"
             ],
             [
              0.7777777777777778,
              "#fb9f3a"
             ],
             [
              0.8888888888888888,
              "#fdca26"
             ],
             [
              1,
              "#f0f921"
             ]
            ],
            "type": "histogram2d"
           }
          ],
          "histogram2dcontour": [
           {
            "colorbar": {
             "outlinewidth": 0,
             "ticks": ""
            },
            "colorscale": [
             [
              0,
              "#0d0887"
             ],
             [
              0.1111111111111111,
              "#46039f"
             ],
             [
              0.2222222222222222,
              "#7201a8"
             ],
             [
              0.3333333333333333,
              "#9c179e"
             ],
             [
              0.4444444444444444,
              "#bd3786"
             ],
             [
              0.5555555555555556,
              "#d8576b"
             ],
             [
              0.6666666666666666,
              "#ed7953"
             ],
             [
              0.7777777777777778,
              "#fb9f3a"
             ],
             [
              0.8888888888888888,
              "#fdca26"
             ],
             [
              1,
              "#f0f921"
             ]
            ],
            "type": "histogram2dcontour"
           }
          ],
          "mesh3d": [
           {
            "colorbar": {
             "outlinewidth": 0,
             "ticks": ""
            },
            "type": "mesh3d"
           }
          ],
          "parcoords": [
           {
            "line": {
             "colorbar": {
              "outlinewidth": 0,
              "ticks": ""
             }
            },
            "type": "parcoords"
           }
          ],
          "pie": [
           {
            "automargin": true,
            "type": "pie"
           }
          ],
          "scatter": [
           {
            "fillpattern": {
             "fillmode": "overlay",
             "size": 10,
             "solidity": 0.2
            },
            "type": "scatter"
           }
          ],
          "scatter3d": [
           {
            "line": {
             "colorbar": {
              "outlinewidth": 0,
              "ticks": ""
             }
            },
            "marker": {
             "colorbar": {
              "outlinewidth": 0,
              "ticks": ""
             }
            },
            "type": "scatter3d"
           }
          ],
          "scattercarpet": [
           {
            "marker": {
             "colorbar": {
              "outlinewidth": 0,
              "ticks": ""
             }
            },
            "type": "scattercarpet"
           }
          ],
          "scattergeo": [
           {
            "marker": {
             "colorbar": {
              "outlinewidth": 0,
              "ticks": ""
             }
            },
            "type": "scattergeo"
           }
          ],
          "scattergl": [
           {
            "marker": {
             "colorbar": {
              "outlinewidth": 0,
              "ticks": ""
             }
            },
            "type": "scattergl"
           }
          ],
          "scattermapbox": [
           {
            "marker": {
             "colorbar": {
              "outlinewidth": 0,
              "ticks": ""
             }
            },
            "type": "scattermapbox"
           }
          ],
          "scatterpolar": [
           {
            "marker": {
             "colorbar": {
              "outlinewidth": 0,
              "ticks": ""
             }
            },
            "type": "scatterpolar"
           }
          ],
          "scatterpolargl": [
           {
            "marker": {
             "colorbar": {
              "outlinewidth": 0,
              "ticks": ""
             }
            },
            "type": "scatterpolargl"
           }
          ],
          "scatterternary": [
           {
            "marker": {
             "colorbar": {
              "outlinewidth": 0,
              "ticks": ""
             }
            },
            "type": "scatterternary"
           }
          ],
          "surface": [
           {
            "colorbar": {
             "outlinewidth": 0,
             "ticks": ""
            },
            "colorscale": [
             [
              0,
              "#0d0887"
             ],
             [
              0.1111111111111111,
              "#46039f"
             ],
             [
              0.2222222222222222,
              "#7201a8"
             ],
             [
              0.3333333333333333,
              "#9c179e"
             ],
             [
              0.4444444444444444,
              "#bd3786"
             ],
             [
              0.5555555555555556,
              "#d8576b"
             ],
             [
              0.6666666666666666,
              "#ed7953"
             ],
             [
              0.7777777777777778,
              "#fb9f3a"
             ],
             [
              0.8888888888888888,
              "#fdca26"
             ],
             [
              1,
              "#f0f921"
             ]
            ],
            "type": "surface"
           }
          ],
          "table": [
           {
            "cells": {
             "fill": {
              "color": "#EBF0F8"
             },
             "line": {
              "color": "white"
             }
            },
            "header": {
             "fill": {
              "color": "#C8D4E3"
             },
             "line": {
              "color": "white"
             }
            },
            "type": "table"
           }
          ]
         },
         "layout": {
          "annotationdefaults": {
           "arrowcolor": "#2a3f5f",
           "arrowhead": 0,
           "arrowwidth": 1
          },
          "autotypenumbers": "strict",
          "coloraxis": {
           "colorbar": {
            "outlinewidth": 0,
            "ticks": ""
           }
          },
          "colorscale": {
           "diverging": [
            [
             0,
             "#8e0152"
            ],
            [
             0.1,
             "#c51b7d"
            ],
            [
             0.2,
             "#de77ae"
            ],
            [
             0.3,
             "#f1b6da"
            ],
            [
             0.4,
             "#fde0ef"
            ],
            [
             0.5,
             "#f7f7f7"
            ],
            [
             0.6,
             "#e6f5d0"
            ],
            [
             0.7,
             "#b8e186"
            ],
            [
             0.8,
             "#7fbc41"
            ],
            [
             0.9,
             "#4d9221"
            ],
            [
             1,
             "#276419"
            ]
           ],
           "sequential": [
            [
             0,
             "#0d0887"
            ],
            [
             0.1111111111111111,
             "#46039f"
            ],
            [
             0.2222222222222222,
             "#7201a8"
            ],
            [
             0.3333333333333333,
             "#9c179e"
            ],
            [
             0.4444444444444444,
             "#bd3786"
            ],
            [
             0.5555555555555556,
             "#d8576b"
            ],
            [
             0.6666666666666666,
             "#ed7953"
            ],
            [
             0.7777777777777778,
             "#fb9f3a"
            ],
            [
             0.8888888888888888,
             "#fdca26"
            ],
            [
             1,
             "#f0f921"
            ]
           ],
           "sequentialminus": [
            [
             0,
             "#0d0887"
            ],
            [
             0.1111111111111111,
             "#46039f"
            ],
            [
             0.2222222222222222,
             "#7201a8"
            ],
            [
             0.3333333333333333,
             "#9c179e"
            ],
            [
             0.4444444444444444,
             "#bd3786"
            ],
            [
             0.5555555555555556,
             "#d8576b"
            ],
            [
             0.6666666666666666,
             "#ed7953"
            ],
            [
             0.7777777777777778,
             "#fb9f3a"
            ],
            [
             0.8888888888888888,
             "#fdca26"
            ],
            [
             1,
             "#f0f921"
            ]
           ]
          },
          "colorway": [
           "#636efa",
           "#EF553B",
           "#00cc96",
           "#ab63fa",
           "#FFA15A",
           "#19d3f3",
           "#FF6692",
           "#B6E880",
           "#FF97FF",
           "#FECB52"
          ],
          "font": {
           "color": "#2a3f5f"
          },
          "geo": {
           "bgcolor": "white",
           "lakecolor": "white",
           "landcolor": "#E5ECF6",
           "showlakes": true,
           "showland": true,
           "subunitcolor": "white"
          },
          "hoverlabel": {
           "align": "left"
          },
          "hovermode": "closest",
          "mapbox": {
           "style": "light"
          },
          "paper_bgcolor": "white",
          "plot_bgcolor": "#E5ECF6",
          "polar": {
           "angularaxis": {
            "gridcolor": "white",
            "linecolor": "white",
            "ticks": ""
           },
           "bgcolor": "#E5ECF6",
           "radialaxis": {
            "gridcolor": "white",
            "linecolor": "white",
            "ticks": ""
           }
          },
          "scene": {
           "xaxis": {
            "backgroundcolor": "#E5ECF6",
            "gridcolor": "white",
            "gridwidth": 2,
            "linecolor": "white",
            "showbackground": true,
            "ticks": "",
            "zerolinecolor": "white"
           },
           "yaxis": {
            "backgroundcolor": "#E5ECF6",
            "gridcolor": "white",
            "gridwidth": 2,
            "linecolor": "white",
            "showbackground": true,
            "ticks": "",
            "zerolinecolor": "white"
           },
           "zaxis": {
            "backgroundcolor": "#E5ECF6",
            "gridcolor": "white",
            "gridwidth": 2,
            "linecolor": "white",
            "showbackground": true,
            "ticks": "",
            "zerolinecolor": "white"
           }
          },
          "shapedefaults": {
           "line": {
            "color": "#2a3f5f"
           }
          },
          "ternary": {
           "aaxis": {
            "gridcolor": "white",
            "linecolor": "white",
            "ticks": ""
           },
           "baxis": {
            "gridcolor": "white",
            "linecolor": "white",
            "ticks": ""
           },
           "bgcolor": "#E5ECF6",
           "caxis": {
            "gridcolor": "white",
            "linecolor": "white",
            "ticks": ""
           }
          },
          "title": {
           "x": 0.05
          },
          "xaxis": {
           "automargin": true,
           "gridcolor": "white",
           "linecolor": "white",
           "ticks": "",
           "title": {
            "standoff": 15
           },
           "zerolinecolor": "white",
           "zerolinewidth": 2
          },
          "yaxis": {
           "automargin": true,
           "gridcolor": "white",
           "linecolor": "white",
           "ticks": "",
           "title": {
            "standoff": 15
           },
           "zerolinecolor": "white",
           "zerolinewidth": 2
          }
         }
        },
        "title": {
         "text": "Rows increments"
        },
        "xaxis": {
         "anchor": "y",
         "domain": [
          0,
          1
         ],
         "title": {
          "text": "created"
         }
        },
        "yaxis": {
         "anchor": "x",
         "domain": [
          0,
          1
         ],
         "title": {
          "text": "rows_delta"
         }
        }
       }
      }
     },
     "metadata": {},
     "output_type": "display_data"
    }
   ],
   "source": [
    "fig = px.line(\n",
    "    stats_df,\n",
    "    x=\"created\",\n",
    "    y=\"rows_delta\",\n",
    "    title=\"Rows increments\",\n",
    "    markers=True)\n",
    "\n",
    "fig.show()"
   ]
  },
  {
   "cell_type": "code",
   "execution_count": 50,
   "metadata": {},
   "outputs": [
    {
     "data": {
      "application/vnd.plotly.v1+json": {
       "config": {
        "plotlyServerURL": "https://plot.ly"
       },
       "data": [
        {
         "line": {
          "color": "blue",
          "dash": "dot",
          "width": 1
         },
         "mode": "markers",
         "name": "schema_evolution",
         "type": "scatter",
         "x": [
          "2022-11-02T05:01:34+01:00",
          "2022-11-03T05:01:04+01:00",
          "2022-11-04T05:02:03+01:00",
          "2022-11-05T05:02:57+01:00",
          "2022-11-06T05:02:59+01:00",
          "2022-11-07T06:02:44+01:00",
          "2022-11-08T06:02:48+01:00",
          "2022-11-09T06:03:08+01:00",
          "2022-11-10T06:02:58+01:00",
          "2022-11-11T06:02:37+01:00",
          "2022-11-12T06:02:58+01:00",
          "2022-11-13T06:02:21+01:00",
          "2022-11-14T06:03:00+01:00",
          "2022-11-15T06:02:50+01:00",
          "2022-11-16T06:03:16+01:00",
          "2022-11-17T06:02:39+01:00",
          "2022-11-18T06:03:03+01:00",
          "2022-11-19T06:02:41+01:00",
          "2022-11-20T06:02:55+01:00",
          "2022-11-21T06:02:48+01:00",
          "2022-11-22T06:03:06+01:00",
          "2022-11-23T06:02:50+01:00",
          "2022-11-24T06:02:42+01:00",
          "2022-11-25T06:02:44+01:00",
          "2022-11-26T06:02:36+01:00",
          "2022-11-27T06:02:40+01:00",
          "2022-11-28T06:03:21+01:00",
          "2022-11-29T06:02:52+01:00",
          "2022-11-30T06:02:56+01:00",
          "2022-12-01T06:03:07+01:00",
          "2022-12-02T06:02:31+01:00",
          "2022-12-03T06:02:34+01:00",
          "2022-12-04T06:02:40+01:00",
          "2022-12-05T06:02:56+01:00",
          "2022-12-06T06:02:38+01:00",
          "2022-12-07T06:02:31+01:00",
          "2022-12-08T06:02:35+01:00",
          "2022-12-09T06:02:39+01:00",
          "2022-12-10T06:02:53+01:00",
          "2022-12-11T06:02:32+01:00",
          "2022-12-12T06:02:39+01:00",
          "2022-12-13T06:02:36+01:00",
          "2022-12-14T06:02:01+01:00",
          "2022-12-15T06:02:33+01:00",
          "2022-12-16T06:02:07+01:00",
          "2022-12-17T06:02:36+01:00",
          "2022-12-18T06:02:23+01:00",
          "2022-12-19T06:03:19+01:00",
          "2022-12-20T06:02:57+01:00",
          "2022-12-21T06:02:30+01:00",
          "2022-12-22T06:03:25+01:00",
          "2022-12-23T06:03:31+01:00",
          "2022-12-24T06:02:33+01:00",
          "2022-12-25T06:03:20+01:00",
          "2022-12-26T06:03:03+01:00",
          "2022-12-27T06:02:28+01:00",
          "2022-12-28T06:02:57+01:00",
          "2022-12-29T06:02:28+01:00",
          "2022-12-30T06:02:49+01:00",
          "2022-12-31T06:03:01+01:00",
          "2023-01-01T06:03:17+01:00",
          "2023-01-02T06:02:28+01:00",
          "2023-01-03T06:02:24+01:00",
          "2023-01-04T06:02:47+01:00",
          "2023-01-05T06:02:49+01:00",
          "2023-01-06T06:02:32+01:00",
          "2023-01-07T06:02:53+01:00",
          "2023-01-08T06:02:30+01:00",
          "2023-01-09T06:02:13+01:00",
          "2023-01-10T06:02:39+01:00",
          "2023-01-11T06:02:21+01:00",
          "2023-01-12T06:02:15+01:00",
          "2023-01-13T06:02:16+01:00",
          "2023-01-14T06:02:50+01:00",
          "2023-01-15T06:02:29+01:00",
          "2023-01-16T06:02:47+01:00",
          "2023-01-17T06:02:52+01:00",
          "2023-01-18T06:03:02+01:00",
          "2023-01-19T06:02:55+01:00",
          "2023-01-20T06:02:33+01:00",
          "2023-01-21T06:02:25+01:00",
          "2023-01-23T06:01:11+01:00",
          "2023-01-24T06:02:38+01:00",
          "2023-01-25T06:02:31+01:00",
          "2023-01-26T06:01:53+01:00",
          "2023-01-27T06:02:38+01:00",
          "2023-01-28T06:02:07+01:00",
          "2023-01-29T06:02:09+01:00",
          "2023-01-30T06:02:33+01:00",
          "2023-01-31T06:02:04+01:00",
          "2023-02-01T06:02:04+01:00",
          "2023-02-02T06:02:19+01:00",
          "2023-02-03T06:01:57+01:00",
          "2023-02-04T06:01:52+01:00",
          "2023-02-05T06:02:35+01:00",
          "2023-02-06T06:02:22+01:00",
          "2023-02-07T06:02:07+01:00",
          "2023-02-08T06:02:21+01:00",
          "2023-02-09T06:02:13+01:00",
          "2023-02-10T06:02:23+01:00",
          "2023-02-11T06:02:21+01:00",
          "2023-02-12T06:02:21+01:00",
          "2023-02-13T06:02:10+01:00",
          "2023-02-14T06:02:28+01:00",
          "2023-02-15T06:02:24+01:00",
          "2023-02-16T06:02:27+01:00",
          "2023-02-17T06:02:11+01:00",
          "2023-02-18T06:03:08+01:00",
          "2023-02-19T06:01:56+01:00",
          "2023-02-20T06:02:19+01:00",
          "2023-02-21T06:02:35+01:00",
          "2023-02-22T06:02:25+01:00",
          "2023-02-23T06:02:18+01:00",
          "2023-02-24T06:02:32+01:00",
          "2023-02-25T06:02:23+01:00",
          "2023-02-26T06:02:32+01:00",
          "2023-02-27T06:02:19+01:00",
          "2023-02-28T06:02:15+01:00",
          "2023-03-01T06:03:08+01:00",
          "2023-03-02T06:02:01+01:00",
          "2023-03-03T06:01:53+01:00",
          "2023-03-04T06:02:13+01:00",
          "2023-03-05T06:02:33+01:00",
          "2023-03-06T06:02:13+01:00",
          "2023-03-07T06:02:18+01:00",
          "2023-03-08T06:02:23+01:00",
          "2023-03-09T06:02:57+01:00",
          "2023-03-10T06:02:51+01:00",
          "2023-03-11T06:03:04+01:00",
          "2023-03-12T06:03:12+01:00",
          "2023-03-13T05:02:11+01:00",
          "2023-03-14T05:02:52+01:00",
          "2023-03-15T05:00:59+01:00",
          "2023-03-16T05:02:41+01:00",
          "2023-03-17T05:02:02+01:00",
          "2023-03-18T05:01:48+01:00",
          "2023-03-19T05:01:56+01:00",
          "2023-03-20T05:03:03+01:00",
          "2023-03-21T05:02:05+01:00",
          "2023-03-22T05:01:58+01:00",
          "2023-03-23T05:00:59+01:00",
          "2023-03-24T05:00:49+01:00",
          "2023-03-25T05:00:49+01:00",
          "2023-03-26T06:01:06+02:00",
          "2023-03-27T06:00:55+02:00",
          "2023-03-28T06:02:38+02:00",
          "2023-03-29T06:02:42+02:00",
          "2023-03-30T06:02:18+02:00",
          "2023-03-31T06:02:32+02:00",
          "2023-03-31T20:16:27+02:00",
          "2023-03-31T21:07:59+02:00",
          "2023-03-31T21:18:06+02:00",
          "2023-04-01T14:51:30+02:00",
          "2023-04-01T14:54:58+02:00",
          "2023-04-01T15:48:09+02:00",
          "2023-04-01T15:51:06+02:00",
          "2023-04-01T16:04:19+02:00",
          "2023-04-01T16:12:00+02:00",
          "2023-04-01T16:15:06+02:00",
          "2023-04-01T16:18:24+02:00",
          "2023-04-01T16:21:06+02:00",
          "2023-04-01T16:29:15+02:00",
          "2023-04-01T16:42:13+02:00",
          "2023-04-01T16:44:55+02:00",
          "2023-04-01T16:58:01+02:00",
          "2023-04-01T17:01:33+02:00",
          "2023-04-01T19:46:17+02:00",
          "2023-04-01T19:50:25+02:00",
          "2023-04-01T19:57:35+02:00",
          "2023-04-01T20:02:10+02:00",
          "2023-04-01T20:07:48+02:00",
          "2023-04-01T20:11:46+02:00",
          "2023-04-01T20:19:19+02:00",
          "2023-04-01T20:42:14+02:00",
          "2023-04-01T20:50:48+02:00",
          "2023-04-01T20:54:04+02:00",
          "2023-04-01T20:58:00+02:00",
          "2023-04-02T06:02:38+02:00",
          "2023-04-03T06:02:41+02:00",
          "2023-04-04T06:02:21+02:00",
          "2023-04-05T06:02:34+02:00"
         ],
         "y": [
          false,
          false,
          false,
          false,
          false,
          false,
          false,
          false,
          false,
          false,
          false,
          false,
          false,
          false,
          false,
          false,
          false,
          false,
          false,
          false,
          false,
          false,
          false,
          false,
          false,
          false,
          false,
          false,
          false,
          false,
          false,
          false,
          false,
          false,
          false,
          false,
          false,
          false,
          false,
          false,
          false,
          false,
          false,
          false,
          false,
          false,
          false,
          false,
          false,
          false,
          false,
          false,
          false,
          false,
          false,
          false,
          false,
          false,
          false,
          false,
          false,
          false,
          false,
          false,
          false,
          false,
          false,
          false,
          false,
          false,
          false,
          false,
          false,
          false,
          false,
          false,
          false,
          false,
          false,
          false,
          false,
          false,
          false,
          false,
          false,
          false,
          false,
          false,
          false,
          false,
          false,
          false,
          false,
          false,
          false,
          false,
          false,
          false,
          false,
          false,
          false,
          false,
          false,
          false,
          false,
          false,
          false,
          false,
          false,
          false,
          false,
          false,
          false,
          false,
          false,
          false,
          false,
          false,
          false,
          false,
          false,
          false,
          false,
          false,
          false,
          false,
          false,
          false,
          false,
          false,
          false,
          false,
          false,
          false,
          false,
          false,
          false,
          false,
          false,
          false,
          false,
          false,
          false,
          false,
          false,
          false,
          false,
          false,
          false,
          false,
          false,
          false,
          false,
          false,
          false,
          false,
          false,
          false,
          false,
          false,
          false,
          false,
          false,
          false,
          false,
          false,
          false,
          false,
          false,
          false,
          false,
          false,
          false,
          false,
          false,
          false,
          false,
          false,
          false,
          false,
          false
         ]
        }
       ],
       "layout": {
        "template": {
         "data": {
          "bar": [
           {
            "error_x": {
             "color": "#2a3f5f"
            },
            "error_y": {
             "color": "#2a3f5f"
            },
            "marker": {
             "line": {
              "color": "#E5ECF6",
              "width": 0.5
             },
             "pattern": {
              "fillmode": "overlay",
              "size": 10,
              "solidity": 0.2
             }
            },
            "type": "bar"
           }
          ],
          "barpolar": [
           {
            "marker": {
             "line": {
              "color": "#E5ECF6",
              "width": 0.5
             },
             "pattern": {
              "fillmode": "overlay",
              "size": 10,
              "solidity": 0.2
             }
            },
            "type": "barpolar"
           }
          ],
          "carpet": [
           {
            "aaxis": {
             "endlinecolor": "#2a3f5f",
             "gridcolor": "white",
             "linecolor": "white",
             "minorgridcolor": "white",
             "startlinecolor": "#2a3f5f"
            },
            "baxis": {
             "endlinecolor": "#2a3f5f",
             "gridcolor": "white",
             "linecolor": "white",
             "minorgridcolor": "white",
             "startlinecolor": "#2a3f5f"
            },
            "type": "carpet"
           }
          ],
          "choropleth": [
           {
            "colorbar": {
             "outlinewidth": 0,
             "ticks": ""
            },
            "type": "choropleth"
           }
          ],
          "contour": [
           {
            "colorbar": {
             "outlinewidth": 0,
             "ticks": ""
            },
            "colorscale": [
             [
              0,
              "#0d0887"
             ],
             [
              0.1111111111111111,
              "#46039f"
             ],
             [
              0.2222222222222222,
              "#7201a8"
             ],
             [
              0.3333333333333333,
              "#9c179e"
             ],
             [
              0.4444444444444444,
              "#bd3786"
             ],
             [
              0.5555555555555556,
              "#d8576b"
             ],
             [
              0.6666666666666666,
              "#ed7953"
             ],
             [
              0.7777777777777778,
              "#fb9f3a"
             ],
             [
              0.8888888888888888,
              "#fdca26"
             ],
             [
              1,
              "#f0f921"
             ]
            ],
            "type": "contour"
           }
          ],
          "contourcarpet": [
           {
            "colorbar": {
             "outlinewidth": 0,
             "ticks": ""
            },
            "type": "contourcarpet"
           }
          ],
          "heatmap": [
           {
            "colorbar": {
             "outlinewidth": 0,
             "ticks": ""
            },
            "colorscale": [
             [
              0,
              "#0d0887"
             ],
             [
              0.1111111111111111,
              "#46039f"
             ],
             [
              0.2222222222222222,
              "#7201a8"
             ],
             [
              0.3333333333333333,
              "#9c179e"
             ],
             [
              0.4444444444444444,
              "#bd3786"
             ],
             [
              0.5555555555555556,
              "#d8576b"
             ],
             [
              0.6666666666666666,
              "#ed7953"
             ],
             [
              0.7777777777777778,
              "#fb9f3a"
             ],
             [
              0.8888888888888888,
              "#fdca26"
             ],
             [
              1,
              "#f0f921"
             ]
            ],
            "type": "heatmap"
           }
          ],
          "heatmapgl": [
           {
            "colorbar": {
             "outlinewidth": 0,
             "ticks": ""
            },
            "colorscale": [
             [
              0,
              "#0d0887"
             ],
             [
              0.1111111111111111,
              "#46039f"
             ],
             [
              0.2222222222222222,
              "#7201a8"
             ],
             [
              0.3333333333333333,
              "#9c179e"
             ],
             [
              0.4444444444444444,
              "#bd3786"
             ],
             [
              0.5555555555555556,
              "#d8576b"
             ],
             [
              0.6666666666666666,
              "#ed7953"
             ],
             [
              0.7777777777777778,
              "#fb9f3a"
             ],
             [
              0.8888888888888888,
              "#fdca26"
             ],
             [
              1,
              "#f0f921"
             ]
            ],
            "type": "heatmapgl"
           }
          ],
          "histogram": [
           {
            "marker": {
             "pattern": {
              "fillmode": "overlay",
              "size": 10,
              "solidity": 0.2
             }
            },
            "type": "histogram"
           }
          ],
          "histogram2d": [
           {
            "colorbar": {
             "outlinewidth": 0,
             "ticks": ""
            },
            "colorscale": [
             [
              0,
              "#0d0887"
             ],
             [
              0.1111111111111111,
              "#46039f"
             ],
             [
              0.2222222222222222,
              "#7201a8"
             ],
             [
              0.3333333333333333,
              "#9c179e"
             ],
             [
              0.4444444444444444,
              "#bd3786"
             ],
             [
              0.5555555555555556,
              "#d8576b"
             ],
             [
              0.6666666666666666,
              "#ed7953"
             ],
             [
              0.7777777777777778,
              "#fb9f3a"
             ],
             [
              0.8888888888888888,
              "#fdca26"
             ],
             [
              1,
              "#f0f921"
             ]
            ],
            "type": "histogram2d"
           }
          ],
          "histogram2dcontour": [
           {
            "colorbar": {
             "outlinewidth": 0,
             "ticks": ""
            },
            "colorscale": [
             [
              0,
              "#0d0887"
             ],
             [
              0.1111111111111111,
              "#46039f"
             ],
             [
              0.2222222222222222,
              "#7201a8"
             ],
             [
              0.3333333333333333,
              "#9c179e"
             ],
             [
              0.4444444444444444,
              "#bd3786"
             ],
             [
              0.5555555555555556,
              "#d8576b"
             ],
             [
              0.6666666666666666,
              "#ed7953"
             ],
             [
              0.7777777777777778,
              "#fb9f3a"
             ],
             [
              0.8888888888888888,
              "#fdca26"
             ],
             [
              1,
              "#f0f921"
             ]
            ],
            "type": "histogram2dcontour"
           }
          ],
          "mesh3d": [
           {
            "colorbar": {
             "outlinewidth": 0,
             "ticks": ""
            },
            "type": "mesh3d"
           }
          ],
          "parcoords": [
           {
            "line": {
             "colorbar": {
              "outlinewidth": 0,
              "ticks": ""
             }
            },
            "type": "parcoords"
           }
          ],
          "pie": [
           {
            "automargin": true,
            "type": "pie"
           }
          ],
          "scatter": [
           {
            "fillpattern": {
             "fillmode": "overlay",
             "size": 10,
             "solidity": 0.2
            },
            "type": "scatter"
           }
          ],
          "scatter3d": [
           {
            "line": {
             "colorbar": {
              "outlinewidth": 0,
              "ticks": ""
             }
            },
            "marker": {
             "colorbar": {
              "outlinewidth": 0,
              "ticks": ""
             }
            },
            "type": "scatter3d"
           }
          ],
          "scattercarpet": [
           {
            "marker": {
             "colorbar": {
              "outlinewidth": 0,
              "ticks": ""
             }
            },
            "type": "scattercarpet"
           }
          ],
          "scattergeo": [
           {
            "marker": {
             "colorbar": {
              "outlinewidth": 0,
              "ticks": ""
             }
            },
            "type": "scattergeo"
           }
          ],
          "scattergl": [
           {
            "marker": {
             "colorbar": {
              "outlinewidth": 0,
              "ticks": ""
             }
            },
            "type": "scattergl"
           }
          ],
          "scattermapbox": [
           {
            "marker": {
             "colorbar": {
              "outlinewidth": 0,
              "ticks": ""
             }
            },
            "type": "scattermapbox"
           }
          ],
          "scatterpolar": [
           {
            "marker": {
             "colorbar": {
              "outlinewidth": 0,
              "ticks": ""
             }
            },
            "type": "scatterpolar"
           }
          ],
          "scatterpolargl": [
           {
            "marker": {
             "colorbar": {
              "outlinewidth": 0,
              "ticks": ""
             }
            },
            "type": "scatterpolargl"
           }
          ],
          "scatterternary": [
           {
            "marker": {
             "colorbar": {
              "outlinewidth": 0,
              "ticks": ""
             }
            },
            "type": "scatterternary"
           }
          ],
          "surface": [
           {
            "colorbar": {
             "outlinewidth": 0,
             "ticks": ""
            },
            "colorscale": [
             [
              0,
              "#0d0887"
             ],
             [
              0.1111111111111111,
              "#46039f"
             ],
             [
              0.2222222222222222,
              "#7201a8"
             ],
             [
              0.3333333333333333,
              "#9c179e"
             ],
             [
              0.4444444444444444,
              "#bd3786"
             ],
             [
              0.5555555555555556,
              "#d8576b"
             ],
             [
              0.6666666666666666,
              "#ed7953"
             ],
             [
              0.7777777777777778,
              "#fb9f3a"
             ],
             [
              0.8888888888888888,
              "#fdca26"
             ],
             [
              1,
              "#f0f921"
             ]
            ],
            "type": "surface"
           }
          ],
          "table": [
           {
            "cells": {
             "fill": {
              "color": "#EBF0F8"
             },
             "line": {
              "color": "white"
             }
            },
            "header": {
             "fill": {
              "color": "#C8D4E3"
             },
             "line": {
              "color": "white"
             }
            },
            "type": "table"
           }
          ]
         },
         "layout": {
          "annotationdefaults": {
           "arrowcolor": "#2a3f5f",
           "arrowhead": 0,
           "arrowwidth": 1
          },
          "autotypenumbers": "strict",
          "coloraxis": {
           "colorbar": {
            "outlinewidth": 0,
            "ticks": ""
           }
          },
          "colorscale": {
           "diverging": [
            [
             0,
             "#8e0152"
            ],
            [
             0.1,
             "#c51b7d"
            ],
            [
             0.2,
             "#de77ae"
            ],
            [
             0.3,
             "#f1b6da"
            ],
            [
             0.4,
             "#fde0ef"
            ],
            [
             0.5,
             "#f7f7f7"
            ],
            [
             0.6,
             "#e6f5d0"
            ],
            [
             0.7,
             "#b8e186"
            ],
            [
             0.8,
             "#7fbc41"
            ],
            [
             0.9,
             "#4d9221"
            ],
            [
             1,
             "#276419"
            ]
           ],
           "sequential": [
            [
             0,
             "#0d0887"
            ],
            [
             0.1111111111111111,
             "#46039f"
            ],
            [
             0.2222222222222222,
             "#7201a8"
            ],
            [
             0.3333333333333333,
             "#9c179e"
            ],
            [
             0.4444444444444444,
             "#bd3786"
            ],
            [
             0.5555555555555556,
             "#d8576b"
            ],
            [
             0.6666666666666666,
             "#ed7953"
            ],
            [
             0.7777777777777778,
             "#fb9f3a"
            ],
            [
             0.8888888888888888,
             "#fdca26"
            ],
            [
             1,
             "#f0f921"
            ]
           ],
           "sequentialminus": [
            [
             0,
             "#0d0887"
            ],
            [
             0.1111111111111111,
             "#46039f"
            ],
            [
             0.2222222222222222,
             "#7201a8"
            ],
            [
             0.3333333333333333,
             "#9c179e"
            ],
            [
             0.4444444444444444,
             "#bd3786"
            ],
            [
             0.5555555555555556,
             "#d8576b"
            ],
            [
             0.6666666666666666,
             "#ed7953"
            ],
            [
             0.7777777777777778,
             "#fb9f3a"
            ],
            [
             0.8888888888888888,
             "#fdca26"
            ],
            [
             1,
             "#f0f921"
            ]
           ]
          },
          "colorway": [
           "#636efa",
           "#EF553B",
           "#00cc96",
           "#ab63fa",
           "#FFA15A",
           "#19d3f3",
           "#FF6692",
           "#B6E880",
           "#FF97FF",
           "#FECB52"
          ],
          "font": {
           "color": "#2a3f5f"
          },
          "geo": {
           "bgcolor": "white",
           "lakecolor": "white",
           "landcolor": "#E5ECF6",
           "showlakes": true,
           "showland": true,
           "subunitcolor": "white"
          },
          "hoverlabel": {
           "align": "left"
          },
          "hovermode": "closest",
          "mapbox": {
           "style": "light"
          },
          "paper_bgcolor": "white",
          "plot_bgcolor": "#E5ECF6",
          "polar": {
           "angularaxis": {
            "gridcolor": "white",
            "linecolor": "white",
            "ticks": ""
           },
           "bgcolor": "#E5ECF6",
           "radialaxis": {
            "gridcolor": "white",
            "linecolor": "white",
            "ticks": ""
           }
          },
          "scene": {
           "xaxis": {
            "backgroundcolor": "#E5ECF6",
            "gridcolor": "white",
            "gridwidth": 2,
            "linecolor": "white",
            "showbackground": true,
            "ticks": "",
            "zerolinecolor": "white"
           },
           "yaxis": {
            "backgroundcolor": "#E5ECF6",
            "gridcolor": "white",
            "gridwidth": 2,
            "linecolor": "white",
            "showbackground": true,
            "ticks": "",
            "zerolinecolor": "white"
           },
           "zaxis": {
            "backgroundcolor": "#E5ECF6",
            "gridcolor": "white",
            "gridwidth": 2,
            "linecolor": "white",
            "showbackground": true,
            "ticks": "",
            "zerolinecolor": "white"
           }
          },
          "shapedefaults": {
           "line": {
            "color": "#2a3f5f"
           }
          },
          "ternary": {
           "aaxis": {
            "gridcolor": "white",
            "linecolor": "white",
            "ticks": ""
           },
           "baxis": {
            "gridcolor": "white",
            "linecolor": "white",
            "ticks": ""
           },
           "bgcolor": "#E5ECF6",
           "caxis": {
            "gridcolor": "white",
            "linecolor": "white",
            "ticks": ""
           }
          },
          "title": {
           "x": 0.05
          },
          "xaxis": {
           "automargin": true,
           "gridcolor": "white",
           "linecolor": "white",
           "ticks": "",
           "title": {
            "standoff": 15
           },
           "zerolinecolor": "white",
           "zerolinewidth": 2
          },
          "yaxis": {
           "automargin": true,
           "gridcolor": "white",
           "linecolor": "white",
           "ticks": "",
           "title": {
            "standoff": 15
           },
           "zerolinecolor": "white",
           "zerolinewidth": 2
          }
         }
        }
       }
      }
     },
     "metadata": {},
     "output_type": "display_data"
    }
   ],
   "source": [
    "fig = go.Figure()\n",
    "\n",
    "# https://plotly.com/python/line-charts/\n",
    "\n",
    "fig.add_trace(go.Scatter(x=stats_df[\"created\"], y=stats_df[\"schema_evolution\"],\n",
    "                    mode='markers',\n",
    "                    line = dict(color='blue', width=1, dash='dot'),\n",
    "                    name='schema_evolution'))\n",
    "\n",
    "\n",
    "fig.show()"
   ]
  },
  {
   "cell_type": "markdown",
   "metadata": {},
   "source": [
    "# Anomalies"
   ]
  },
  {
   "cell_type": "code",
   "execution_count": 51,
   "metadata": {},
   "outputs": [
    {
     "ename": "ModuleNotFoundError",
     "evalue": "No module named 'sklearn'",
     "output_type": "error",
     "traceback": [
      "\u001b[0;31m---------------------------------------------------------------------------\u001b[0m",
      "\u001b[0;31mModuleNotFoundError\u001b[0m                       Traceback (most recent call last)",
      "\u001b[1;32m/Users/martin/Dropbox/Development/JupyterLab/Keboola Table import events.ipynb Cell 22\u001b[0m in \u001b[0;36m4\n\u001b[1;32m      <a href='vscode-notebook-cell:/Users/martin/Dropbox/Development/JupyterLab/Keboola%20Table%20import%20events.ipynb#X30sZmlsZQ%3D%3D?line=1'>2</a>\u001b[0m \u001b[39mimport\u001b[39;00m \u001b[39mscipy\u001b[39;00m\u001b[39m.\u001b[39;00m\u001b[39mstats\u001b[39;00m \u001b[39mas\u001b[39;00m \u001b[39mstats\u001b[39;00m\n\u001b[1;32m      <a href='vscode-notebook-cell:/Users/martin/Dropbox/Development/JupyterLab/Keboola%20Table%20import%20events.ipynb#X30sZmlsZQ%3D%3D?line=2'>3</a>\u001b[0m \u001b[39mimport\u001b[39;00m \u001b[39mnumpy\u001b[39;00m \u001b[39mas\u001b[39;00m \u001b[39mnp\u001b[39;00m\n\u001b[0;32m----> <a href='vscode-notebook-cell:/Users/martin/Dropbox/Development/JupyterLab/Keboola%20Table%20import%20events.ipynb#X30sZmlsZQ%3D%3D?line=3'>4</a>\u001b[0m \u001b[39mfrom\u001b[39;00m \u001b[39msklearn\u001b[39;00m\u001b[39m.\u001b[39;00m\u001b[39mensemble\u001b[39;00m \u001b[39mimport\u001b[39;00m IsolationForest\n",
      "\u001b[0;31mModuleNotFoundError\u001b[0m: No module named 'sklearn'"
     ]
    }
   ],
   "source": [
    "import scipy\n",
    "import scipy.stats as stats\n",
    "import numpy as np\n",
    "from sklearn.ensemble import IsolationForest"
   ]
  },
  {
   "cell_type": "code",
   "execution_count": null,
   "metadata": {},
   "outputs": [
    {
     "data": {
      "text/html": [
       "<div><div id=858305f8-be90-4b93-9868-35fa7f51bfb4 style=\"display:none; background-color:#9D6CFF; color:white; width:200px; height:30px; padding-left:5px; border-radius:4px; flex-direction:row; justify-content:space-around; align-items:center;\" onmouseover=\"this.style.backgroundColor='#BA9BF8'\" onmouseout=\"this.style.backgroundColor='#9D6CFF'\" onclick=\"window.commands?.execute('create-mitosheet-from-dataframe-output');\">See Full Dataframe in Mito</div> <script> if (window.commands.hasCommand('create-mitosheet-from-dataframe-output')) document.getElementById('858305f8-be90-4b93-9868-35fa7f51bfb4').style.display = 'flex' </script> <table border=\"1\" class=\"dataframe\">\n",
       "  <thead>\n",
       "    <tr style=\"text-align: right;\">\n",
       "      <th></th>\n",
       "      <th>type</th>\n",
       "      <th>runId</th>\n",
       "      <th>created</th>\n",
       "      <th>table_event_id</th>\n",
       "      <th>name</th>\n",
       "      <th>rowsCountDuration</th>\n",
       "      <th>importDuration</th>\n",
       "      <th>importDecomposed</th>\n",
       "      <th>rowsCount</th>\n",
       "      <th>sizeBytes</th>\n",
       "      <th>importedColumns</th>\n",
       "      <th>incremental</th>\n",
       "      <th>schema_evolution</th>\n",
       "      <th>rows_delta</th>\n",
       "      <th>zscore</th>\n",
       "    </tr>\n",
       "  </thead>\n",
       "  <tbody>\n",
       "    <tr>\n",
       "      <th>775</th>\n",
       "      <td>success</td>\n",
       "      <td>820822887.820824991</td>\n",
       "      <td>2022-03-01 01:23:58+01:00</td>\n",
       "      <td>5075481904</td>\n",
       "      <td>Orchestrator Jira</td>\n",
       "      <td>0.254694</td>\n",
       "      <td>8.986974</td>\n",
       "      <td>[{'name': 'copyToStaging', 'durationSeconds': 1.8857030868530273}, {'name': 'updateTargetTable', 'durationSeconds': 1.30153489112854}, {'name': 'deleteUpdatedRowsFromStaging', 'durationSeconds': 0.9591710567474365}, {'name': 'dedupStaging', 'durationSeconds': 2.2404870986938477}, {'name': 'insertIntoTargetFromStaging', 'durationSeconds': 0.8644988536834717}]</td>\n",
       "      <td>327</td>\n",
       "      <td>43008</td>\n",
       "      <td>[tasklist_id, task_id, task_key, task_name, task_description, task_type_id, task_type_name, time_estimate, status_name, priority, start_date, due_date, task_created, project_name, project_id, assignee_user_id, created_by_user_id, task_type, billable]</td>\n",
       "      <td>True</td>\n",
       "      <td>False</td>\n",
       "      <td>0.0</td>\n",
       "      <td>-0.215312</td>\n",
       "    </tr>\n",
       "    <tr>\n",
       "      <th>774</th>\n",
       "      <td>success</td>\n",
       "      <td>820887619.820889302</td>\n",
       "      <td>2022-03-01 05:23:45+01:00</td>\n",
       "      <td>5076373795</td>\n",
       "      <td>Orchestrator Jira</td>\n",
       "      <td>0.239649</td>\n",
       "      <td>10.461283</td>\n",
       "      <td>[{'name': 'copyToStaging', 'durationSeconds': 2.2743239402770996}, {'name': 'updateTargetTable', 'durationSeconds': 1.193911075592041}, {'name': 'deleteUpdatedRowsFromStaging', 'durationSeconds': 1.409174919128418}, {'name': 'dedupStaging', 'durationSeconds': 2.4119930267333984}, {'name': 'insertIntoTargetFromStaging', 'durationSeconds': 0.9938549995422363}]</td>\n",
       "      <td>327</td>\n",
       "      <td>43008</td>\n",
       "      <td>[tasklist_id, task_id, task_key, task_name, task_description, task_type_id, task_type_name, time_estimate, status_name, priority, start_date, due_date, task_created, project_name, project_id, assignee_user_id, created_by_user_id, task_type, billable]</td>\n",
       "      <td>True</td>\n",
       "      <td>False</td>\n",
       "      <td>0.0</td>\n",
       "      <td>-0.215312</td>\n",
       "    </tr>\n",
       "    <tr>\n",
       "      <th>773</th>\n",
       "      <td>success</td>\n",
       "      <td>821074877.821078111</td>\n",
       "      <td>2022-03-01 14:24:22+01:00</td>\n",
       "      <td>5078590565</td>\n",
       "      <td>Orchestrator Jira</td>\n",
       "      <td>0.331043</td>\n",
       "      <td>9.436553</td>\n",
       "      <td>[{'name': 'copyToStaging', 'durationSeconds': 1.6282389163970947}, {'name': 'updateTargetTable', 'durationSeconds': 1.3524930477142334}, {'name': 'deleteUpdatedRowsFromStaging', 'durationSeconds': 0.9235239028930664}, {'name': 'dedupStaging', 'durationSeconds': 2.607877016067505}, {'name': 'insertIntoTargetFromStaging', 'durationSeconds': 0.9739360809326172}]</td>\n",
       "      <td>327</td>\n",
       "      <td>43008</td>\n",
       "      <td>[tasklist_id, task_id, task_key, task_name, task_description, task_type_id, task_type_name, time_estimate, status_name, priority, start_date, due_date, task_created, project_name, project_id, assignee_user_id, created_by_user_id, task_type, billable]</td>\n",
       "      <td>True</td>\n",
       "      <td>False</td>\n",
       "      <td>0.0</td>\n",
       "      <td>-0.215312</td>\n",
       "    </tr>\n",
       "  </tbody>\n",
       "</table></div>"
      ],
      "text/plain": [
       "        type                runId                    created  table_event_id  \\\n",
       "775  success  820822887.820824991  2022-03-01 01:23:58+01:00      5075481904   \n",
       "774  success  820887619.820889302  2022-03-01 05:23:45+01:00      5076373795   \n",
       "773  success  821074877.821078111  2022-03-01 14:24:22+01:00      5078590565   \n",
       "\n",
       "                  name  rowsCountDuration  importDuration  \\\n",
       "775  Orchestrator Jira           0.254694        8.986974   \n",
       "774  Orchestrator Jira           0.239649       10.461283   \n",
       "773  Orchestrator Jira           0.331043        9.436553   \n",
       "\n",
       "                                      importDecomposed  rowsCount  sizeBytes  \\\n",
       "775  [{'name': 'copyToStaging', 'durationSeconds': ...        327      43008   \n",
       "774  [{'name': 'copyToStaging', 'durationSeconds': ...        327      43008   \n",
       "773  [{'name': 'copyToStaging', 'durationSeconds': ...        327      43008   \n",
       "\n",
       "                                       importedColumns  incremental  \\\n",
       "775  [tasklist_id, task_id, task_key, task_name, ta...         True   \n",
       "774  [tasklist_id, task_id, task_key, task_name, ta...         True   \n",
       "773  [tasklist_id, task_id, task_key, task_name, ta...         True   \n",
       "\n",
       "     schema_evolution  rows_delta    zscore  \n",
       "775             False         0.0 -0.215312  \n",
       "774             False         0.0 -0.215312  \n",
       "773             False         0.0 -0.215312  "
      ]
     },
     "execution_count": 304,
     "metadata": {},
     "output_type": "execute_result"
    }
   ],
   "source": [
    "## anomaly on row imports (deltas => zscore should work)\n",
    "zscore_rate = stats.zscore(stats_df[\"rows_delta\"])\n",
    "stats_df = stats_df.assign(zscore=zscore_rate)\n",
    "stats_df[:3]\n"
   ]
  },
  {
   "cell_type": "code",
   "execution_count": null,
   "metadata": {},
   "outputs": [
    {
     "name": "stderr",
     "output_type": "stream",
     "text": [
      "/Users/martin/Library/Python/3.8/lib/python/site-packages/sklearn/base.py:450: UserWarning:\n",
      "\n",
      "X does not have valid feature names, but IsolationForest was fitted with feature names\n",
      "\n"
     ]
    },
    {
     "data": {
      "text/html": [
       "<div><div id=7fc2e259-d090-42cb-a487-e9e1380d66c5 style=\"display:none; background-color:#9D6CFF; color:white; width:200px; height:30px; padding-left:5px; border-radius:4px; flex-direction:row; justify-content:space-around; align-items:center;\" onmouseover=\"this.style.backgroundColor='#BA9BF8'\" onmouseout=\"this.style.backgroundColor='#9D6CFF'\" onclick=\"window.commands?.execute('create-mitosheet-from-dataframe-output');\">See Full Dataframe in Mito</div> <script> if (window.commands.hasCommand('create-mitosheet-from-dataframe-output')) document.getElementById('7fc2e259-d090-42cb-a487-e9e1380d66c5').style.display = 'flex' </script> <table border=\"1\" class=\"dataframe\">\n",
       "  <thead>\n",
       "    <tr style=\"text-align: right;\">\n",
       "      <th></th>\n",
       "      <th>type</th>\n",
       "      <th>runId</th>\n",
       "      <th>created</th>\n",
       "      <th>table_event_id</th>\n",
       "      <th>name</th>\n",
       "      <th>rowsCountDuration</th>\n",
       "      <th>importDuration</th>\n",
       "      <th>importDecomposed</th>\n",
       "      <th>rowsCount</th>\n",
       "      <th>sizeBytes</th>\n",
       "      <th>importedColumns</th>\n",
       "      <th>incremental</th>\n",
       "      <th>schema_evolution</th>\n",
       "      <th>rows_delta</th>\n",
       "      <th>zscore</th>\n",
       "      <th>scores</th>\n",
       "      <th>anomaly</th>\n",
       "    </tr>\n",
       "  </thead>\n",
       "  <tbody>\n",
       "    <tr>\n",
       "      <th>775</th>\n",
       "      <td>success</td>\n",
       "      <td>820822887.820824991</td>\n",
       "      <td>2022-03-01 01:23:58+01:00</td>\n",
       "      <td>5075481904</td>\n",
       "      <td>Orchestrator Jira</td>\n",
       "      <td>0.254694</td>\n",
       "      <td>8.986974</td>\n",
       "      <td>[{'name': 'copyToStaging', 'durationSeconds': 1.8857030868530273}, {'name': 'updateTargetTable', 'durationSeconds': 1.30153489112854}, {'name': 'deleteUpdatedRowsFromStaging', 'durationSeconds': 0.9591710567474365}, {'name': 'dedupStaging', 'durationSeconds': 2.2404870986938477}, {'name': 'insertIntoTargetFromStaging', 'durationSeconds': 0.8644988536834717}]</td>\n",
       "      <td>327</td>\n",
       "      <td>43008</td>\n",
       "      <td>[tasklist_id, task_id, task_key, task_name, task_description, task_type_id, task_type_name, time_estimate, status_name, priority, start_date, due_date, task_created, project_name, project_id, assignee_user_id, created_by_user_id, task_type, billable]</td>\n",
       "      <td>True</td>\n",
       "      <td>False</td>\n",
       "      <td>0.0</td>\n",
       "      <td>-0.215312</td>\n",
       "      <td>0.0</td>\n",
       "      <td>1</td>\n",
       "    </tr>\n",
       "    <tr>\n",
       "      <th>774</th>\n",
       "      <td>success</td>\n",
       "      <td>820887619.820889302</td>\n",
       "      <td>2022-03-01 05:23:45+01:00</td>\n",
       "      <td>5076373795</td>\n",
       "      <td>Orchestrator Jira</td>\n",
       "      <td>0.239649</td>\n",
       "      <td>10.461283</td>\n",
       "      <td>[{'name': 'copyToStaging', 'durationSeconds': 2.2743239402770996}, {'name': 'updateTargetTable', 'durationSeconds': 1.193911075592041}, {'name': 'deleteUpdatedRowsFromStaging', 'durationSeconds': 1.409174919128418}, {'name': 'dedupStaging', 'durationSeconds': 2.4119930267333984}, {'name': 'insertIntoTargetFromStaging', 'durationSeconds': 0.9938549995422363}]</td>\n",
       "      <td>327</td>\n",
       "      <td>43008</td>\n",
       "      <td>[tasklist_id, task_id, task_key, task_name, task_description, task_type_id, task_type_name, time_estimate, status_name, priority, start_date, due_date, task_created, project_name, project_id, assignee_user_id, created_by_user_id, task_type, billable]</td>\n",
       "      <td>True</td>\n",
       "      <td>False</td>\n",
       "      <td>0.0</td>\n",
       "      <td>-0.215312</td>\n",
       "      <td>0.0</td>\n",
       "      <td>1</td>\n",
       "    </tr>\n",
       "    <tr>\n",
       "      <th>773</th>\n",
       "      <td>success</td>\n",
       "      <td>821074877.821078111</td>\n",
       "      <td>2022-03-01 14:24:22+01:00</td>\n",
       "      <td>5078590565</td>\n",
       "      <td>Orchestrator Jira</td>\n",
       "      <td>0.331043</td>\n",
       "      <td>9.436553</td>\n",
       "      <td>[{'name': 'copyToStaging', 'durationSeconds': 1.6282389163970947}, {'name': 'updateTargetTable', 'durationSeconds': 1.3524930477142334}, {'name': 'deleteUpdatedRowsFromStaging', 'durationSeconds': 0.9235239028930664}, {'name': 'dedupStaging', 'durationSeconds': 2.607877016067505}, {'name': 'insertIntoTargetFromStaging', 'durationSeconds': 0.9739360809326172}]</td>\n",
       "      <td>327</td>\n",
       "      <td>43008</td>\n",
       "      <td>[tasklist_id, task_id, task_key, task_name, task_description, task_type_id, task_type_name, time_estimate, status_name, priority, start_date, due_date, task_created, project_name, project_id, assignee_user_id, created_by_user_id, task_type, billable]</td>\n",
       "      <td>True</td>\n",
       "      <td>False</td>\n",
       "      <td>0.0</td>\n",
       "      <td>-0.215312</td>\n",
       "      <td>0.0</td>\n",
       "      <td>1</td>\n",
       "    </tr>\n",
       "  </tbody>\n",
       "</table></div>"
      ],
      "text/plain": [
       "        type                runId                    created  table_event_id  \\\n",
       "775  success  820822887.820824991  2022-03-01 01:23:58+01:00      5075481904   \n",
       "774  success  820887619.820889302  2022-03-01 05:23:45+01:00      5076373795   \n",
       "773  success  821074877.821078111  2022-03-01 14:24:22+01:00      5078590565   \n",
       "\n",
       "                  name  rowsCountDuration  importDuration  \\\n",
       "775  Orchestrator Jira           0.254694        8.986974   \n",
       "774  Orchestrator Jira           0.239649       10.461283   \n",
       "773  Orchestrator Jira           0.331043        9.436553   \n",
       "\n",
       "                                      importDecomposed  rowsCount  sizeBytes  \\\n",
       "775  [{'name': 'copyToStaging', 'durationSeconds': ...        327      43008   \n",
       "774  [{'name': 'copyToStaging', 'durationSeconds': ...        327      43008   \n",
       "773  [{'name': 'copyToStaging', 'durationSeconds': ...        327      43008   \n",
       "\n",
       "                                       importedColumns  incremental  \\\n",
       "775  [tasklist_id, task_id, task_key, task_name, ta...         True   \n",
       "774  [tasklist_id, task_id, task_key, task_name, ta...         True   \n",
       "773  [tasklist_id, task_id, task_key, task_name, ta...         True   \n",
       "\n",
       "     schema_evolution  rows_delta    zscore  scores  anomaly  \n",
       "775             False         0.0 -0.215312     0.0        1  \n",
       "774             False         0.0 -0.215312     0.0        1  \n",
       "773             False         0.0 -0.215312     0.0        1  "
      ]
     },
     "execution_count": 305,
     "metadata": {},
     "output_type": "execute_result"
    }
   ],
   "source": [
    "## Calculate anomalies with IsolationForest\n",
    "\n",
    "model=IsolationForest(n_estimators=50, max_samples='auto', contamination=float(0.1),max_features=1.0)\n",
    "model.fit(stats_df[[\"rows_delta\"]])\n",
    "\n",
    "stats_df[\"scores\"]=model.decision_function(stats_df[[\"rows_delta\"]])\n",
    "stats_df['anomaly']=model.predict(stats_df[[\"rows_delta\"]])\n",
    "stats_df[:3]"
   ]
  },
  {
   "cell_type": "code",
   "execution_count": null,
   "metadata": {},
   "outputs": [
    {
     "data": {
      "text/html": [
       "<div><div id=1a508102-19e5-4ce7-a6b4-7117012c031d style=\"display:none; background-color:#9D6CFF; color:white; width:200px; height:30px; padding-left:5px; border-radius:4px; flex-direction:row; justify-content:space-around; align-items:center;\" onmouseover=\"this.style.backgroundColor='#BA9BF8'\" onmouseout=\"this.style.backgroundColor='#9D6CFF'\" onclick=\"window.commands?.execute('create-mitosheet-from-dataframe-output');\">See Full Dataframe in Mito</div> <script> if (window.commands.hasCommand('create-mitosheet-from-dataframe-output')) document.getElementById('1a508102-19e5-4ce7-a6b4-7117012c031d').style.display = 'flex' </script> <table border=\"1\" class=\"dataframe\">\n",
       "  <thead>\n",
       "    <tr style=\"text-align: right;\">\n",
       "      <th></th>\n",
       "      <th>type</th>\n",
       "      <th>runId</th>\n",
       "      <th>created</th>\n",
       "      <th>table_event_id</th>\n",
       "      <th>name</th>\n",
       "      <th>rowsCountDuration</th>\n",
       "      <th>importDuration</th>\n",
       "      <th>importDecomposed</th>\n",
       "      <th>rowsCount</th>\n",
       "      <th>sizeBytes</th>\n",
       "      <th>importedColumns</th>\n",
       "      <th>incremental</th>\n",
       "      <th>schema_evolution</th>\n",
       "      <th>rows_delta</th>\n",
       "      <th>zscore</th>\n",
       "      <th>scores</th>\n",
       "      <th>anomaly</th>\n",
       "    </tr>\n",
       "  </thead>\n",
       "  <tbody>\n",
       "    <tr>\n",
       "      <th>775</th>\n",
       "      <td>success</td>\n",
       "      <td>820822887.820824991</td>\n",
       "      <td>2022-03-01 01:23:58+01:00</td>\n",
       "      <td>5075481904</td>\n",
       "      <td>Orchestrator Jira</td>\n",
       "      <td>0.254694</td>\n",
       "      <td>8.986974</td>\n",
       "      <td>[{'name': 'copyToStaging', 'durationSeconds': 1.8857030868530273}, {'name': 'updateTargetTable', 'durationSeconds': 1.30153489112854}, {'name': 'deleteUpdatedRowsFromStaging', 'durationSeconds': 0.9591710567474365}, {'name': 'dedupStaging', 'durationSeconds': 2.2404870986938477}, {'name': 'insertIntoTargetFromStaging', 'durationSeconds': 0.8644988536834717}]</td>\n",
       "      <td>327</td>\n",
       "      <td>43008</td>\n",
       "      <td>[tasklist_id, task_id, task_key, task_name, task_description, task_type_id, task_type_name, time_estimate, status_name, priority, start_date, due_date, task_created, project_name, project_id, assignee_user_id, created_by_user_id, task_type, billable]</td>\n",
       "      <td>True</td>\n",
       "      <td>False</td>\n",
       "      <td>0.0</td>\n",
       "      <td>-0.215312</td>\n",
       "      <td>0.0</td>\n",
       "      <td>NaN</td>\n",
       "    </tr>\n",
       "    <tr>\n",
       "      <th>774</th>\n",
       "      <td>success</td>\n",
       "      <td>820887619.820889302</td>\n",
       "      <td>2022-03-01 05:23:45+01:00</td>\n",
       "      <td>5076373795</td>\n",
       "      <td>Orchestrator Jira</td>\n",
       "      <td>0.239649</td>\n",
       "      <td>10.461283</td>\n",
       "      <td>[{'name': 'copyToStaging', 'durationSeconds': 2.2743239402770996}, {'name': 'updateTargetTable', 'durationSeconds': 1.193911075592041}, {'name': 'deleteUpdatedRowsFromStaging', 'durationSeconds': 1.409174919128418}, {'name': 'dedupStaging', 'durationSeconds': 2.4119930267333984}, {'name': 'insertIntoTargetFromStaging', 'durationSeconds': 0.9938549995422363}]</td>\n",
       "      <td>327</td>\n",
       "      <td>43008</td>\n",
       "      <td>[tasklist_id, task_id, task_key, task_name, task_description, task_type_id, task_type_name, time_estimate, status_name, priority, start_date, due_date, task_created, project_name, project_id, assignee_user_id, created_by_user_id, task_type, billable]</td>\n",
       "      <td>True</td>\n",
       "      <td>False</td>\n",
       "      <td>0.0</td>\n",
       "      <td>-0.215312</td>\n",
       "      <td>0.0</td>\n",
       "      <td>NaN</td>\n",
       "    </tr>\n",
       "    <tr>\n",
       "      <th>773</th>\n",
       "      <td>success</td>\n",
       "      <td>821074877.821078111</td>\n",
       "      <td>2022-03-01 14:24:22+01:00</td>\n",
       "      <td>5078590565</td>\n",
       "      <td>Orchestrator Jira</td>\n",
       "      <td>0.331043</td>\n",
       "      <td>9.436553</td>\n",
       "      <td>[{'name': 'copyToStaging', 'durationSeconds': 1.6282389163970947}, {'name': 'updateTargetTable', 'durationSeconds': 1.3524930477142334}, {'name': 'deleteUpdatedRowsFromStaging', 'durationSeconds': 0.9235239028930664}, {'name': 'dedupStaging', 'durationSeconds': 2.607877016067505}, {'name': 'insertIntoTargetFromStaging', 'durationSeconds': 0.9739360809326172}]</td>\n",
       "      <td>327</td>\n",
       "      <td>43008</td>\n",
       "      <td>[tasklist_id, task_id, task_key, task_name, task_description, task_type_id, task_type_name, time_estimate, status_name, priority, start_date, due_date, task_created, project_name, project_id, assignee_user_id, created_by_user_id, task_type, billable]</td>\n",
       "      <td>True</td>\n",
       "      <td>False</td>\n",
       "      <td>0.0</td>\n",
       "      <td>-0.215312</td>\n",
       "      <td>0.0</td>\n",
       "      <td>NaN</td>\n",
       "    </tr>\n",
       "  </tbody>\n",
       "</table></div>"
      ],
      "text/plain": [
       "        type                runId                    created  table_event_id  \\\n",
       "775  success  820822887.820824991  2022-03-01 01:23:58+01:00      5075481904   \n",
       "774  success  820887619.820889302  2022-03-01 05:23:45+01:00      5076373795   \n",
       "773  success  821074877.821078111  2022-03-01 14:24:22+01:00      5078590565   \n",
       "\n",
       "                  name  rowsCountDuration  importDuration  \\\n",
       "775  Orchestrator Jira           0.254694        8.986974   \n",
       "774  Orchestrator Jira           0.239649       10.461283   \n",
       "773  Orchestrator Jira           0.331043        9.436553   \n",
       "\n",
       "                                      importDecomposed  rowsCount  sizeBytes  \\\n",
       "775  [{'name': 'copyToStaging', 'durationSeconds': ...        327      43008   \n",
       "774  [{'name': 'copyToStaging', 'durationSeconds': ...        327      43008   \n",
       "773  [{'name': 'copyToStaging', 'durationSeconds': ...        327      43008   \n",
       "\n",
       "                                       importedColumns  incremental  \\\n",
       "775  [tasklist_id, task_id, task_key, task_name, ta...         True   \n",
       "774  [tasklist_id, task_id, task_key, task_name, ta...         True   \n",
       "773  [tasklist_id, task_id, task_key, task_name, ta...         True   \n",
       "\n",
       "     schema_evolution  rows_delta    zscore  scores anomaly  \n",
       "775             False         0.0 -0.215312     0.0     NaN  \n",
       "774             False         0.0 -0.215312     0.0     NaN  \n",
       "773             False         0.0 -0.215312     0.0     NaN  "
      ]
     },
     "execution_count": 306,
     "metadata": {},
     "output_type": "execute_result"
    }
   ],
   "source": [
    "stats_df['anomaly'] = stats_df['anomaly'].replace(1, \"NaN\")\n",
    "stats_df['anomaly'] = stats_df['anomaly'].replace(-1, 1)\n",
    "stats_df[:3]"
   ]
  },
  {
   "cell_type": "code",
   "execution_count": null,
   "metadata": {},
   "outputs": [
    {
     "data": {
      "application/vnd.plotly.v1+json": {
       "config": {
        "plotlyServerURL": "https://plot.ly"
       },
       "data": [
        {
         "line": {
          "color": "blue",
          "dash": "dot",
          "width": 1
         },
         "mode": "lines+markers",
         "name": "rows",
         "type": "scatter",
         "x": [
          "2022-03-01T01:23:58+01:00",
          "2022-03-01T05:23:45+01:00",
          "2022-03-01T14:24:22+01:00",
          "2022-03-01T18:24:06+01:00",
          "2022-03-01T22:23:46+01:00",
          "2022-03-02T01:24:02+01:00",
          "2022-03-02T05:24:44+01:00",
          "2022-03-02T14:24:18+01:00",
          "2022-03-02T18:23:38+01:00",
          "2022-03-02T22:23:45+01:00",
          "2022-03-03T01:24:11+01:00",
          "2022-03-03T05:24:03+01:00",
          "2022-03-03T14:24:42+01:00",
          "2022-03-03T18:23:57+01:00",
          "2022-03-03T22:23:39+01:00",
          "2022-03-04T01:24:08+01:00",
          "2022-03-04T05:24:03+01:00",
          "2022-03-04T14:24:05+01:00",
          "2022-03-04T18:23:56+01:00",
          "2022-03-04T22:23:55+01:00",
          "2022-03-05T01:24:03+01:00",
          "2022-03-05T05:23:38+01:00",
          "2022-03-05T14:23:35+01:00",
          "2022-03-05T18:23:35+01:00",
          "2022-03-05T22:23:50+01:00",
          "2022-03-06T01:23:54+01:00",
          "2022-03-06T05:24:01+01:00",
          "2022-03-06T14:23:52+01:00",
          "2022-03-06T18:23:32+01:00",
          "2022-03-06T22:23:49+01:00",
          "2022-03-07T01:23:31+01:00",
          "2022-03-07T05:23:58+01:00",
          "2022-03-07T14:24:16+01:00",
          "2022-03-07T18:23:55+01:00",
          "2022-03-07T22:24:00+01:00",
          "2022-03-08T01:23:57+01:00",
          "2022-03-08T05:23:58+01:00",
          "2022-03-08T14:24:25+01:00",
          "2022-03-08T18:23:57+01:00",
          "2022-03-08T22:24:13+01:00",
          "2022-03-09T01:24:07+01:00",
          "2022-03-09T05:24:10+01:00",
          "2022-03-09T14:24:47+01:00",
          "2022-03-09T18:24:06+01:00",
          "2022-03-09T22:24:30+01:00",
          "2022-03-10T01:24:10+01:00",
          "2022-03-10T05:24:18+01:00",
          "2022-03-10T14:24:29+01:00",
          "2022-03-10T18:24:31+01:00",
          "2022-03-10T22:24:15+01:00",
          "2022-03-11T01:23:53+01:00",
          "2022-03-11T05:24:14+01:00",
          "2022-03-11T14:24:33+01:00",
          "2022-03-11T18:24:04+01:00",
          "2022-03-11T22:24:01+01:00",
          "2022-03-12T01:23:56+01:00",
          "2022-03-12T05:23:59+01:00",
          "2022-03-12T14:23:54+01:00",
          "2022-03-12T18:23:59+01:00",
          "2022-03-12T22:24:16+01:00",
          "2022-03-13T01:24:13+01:00",
          "2022-03-13T05:24:09+01:00",
          "2022-03-13T13:23:56+01:00",
          "2022-03-13T17:24:12+01:00",
          "2022-03-13T21:24:15+01:00",
          "2022-03-14T00:24:15+01:00",
          "2022-03-14T04:24:00+01:00",
          "2022-03-14T13:24:43+01:00",
          "2022-03-14T17:23:58+01:00",
          "2022-03-14T21:24:15+01:00",
          "2022-03-15T00:24:16+01:00",
          "2022-03-15T04:23:54+01:00",
          "2022-03-15T13:24:18+01:00",
          "2022-03-15T17:24:19+01:00",
          "2022-03-15T21:24:12+01:00",
          "2022-03-16T00:24:13+01:00",
          "2022-03-16T04:24:38+01:00",
          "2022-03-16T13:24:16+01:00",
          "2022-03-16T17:24:16+01:00",
          "2022-03-16T21:24:01+01:00",
          "2022-03-17T00:23:51+01:00",
          "2022-03-17T04:24:05+01:00",
          "2022-03-17T13:23:57+01:00",
          "2022-03-17T17:23:58+01:00",
          "2022-03-17T21:24:00+01:00",
          "2022-03-18T00:23:58+01:00",
          "2022-03-18T04:23:41+01:00",
          "2022-03-18T13:24:17+01:00",
          "2022-03-18T17:24:18+01:00",
          "2022-03-18T21:24:25+01:00",
          "2022-03-19T00:23:58+01:00",
          "2022-03-19T04:24:27+01:00",
          "2022-03-19T13:24:23+01:00",
          "2022-03-19T17:24:18+01:00",
          "2022-03-19T21:24:18+01:00",
          "2022-03-20T00:24:17+01:00",
          "2022-03-20T04:24:16+01:00",
          "2022-03-20T13:25:00+01:00",
          "2022-03-20T17:24:19+01:00",
          "2022-03-20T21:24:19+01:00",
          "2022-03-21T00:23:53+01:00",
          "2022-03-21T04:24:17+01:00",
          "2022-03-21T13:24:21+01:00",
          "2022-03-21T17:24:14+01:00",
          "2022-03-21T21:23:56+01:00",
          "2022-03-22T00:24:13+01:00",
          "2022-03-22T04:23:35+01:00",
          "2022-03-22T13:24:25+01:00",
          "2022-03-22T17:24:17+01:00",
          "2022-03-22T21:23:55+01:00",
          "2022-03-23T00:24:37+01:00",
          "2022-03-23T04:24:20+01:00",
          "2022-03-23T13:24:47+01:00",
          "2022-03-23T17:24:42+01:00",
          "2022-03-23T21:24:39+01:00",
          "2022-03-24T00:24:35+01:00",
          "2022-03-24T04:24:18+01:00",
          "2022-03-24T13:24:37+01:00",
          "2022-03-24T17:24:35+01:00",
          "2022-03-24T21:24:21+01:00",
          "2022-03-25T00:24:35+01:00",
          "2022-03-25T04:24:21+01:00",
          "2022-03-25T13:23:39+01:00",
          "2022-03-25T17:23:19+01:00",
          "2022-03-25T21:23:19+01:00",
          "2022-03-26T00:23:18+01:00",
          "2022-03-26T04:23:46+01:00",
          "2022-03-26T13:23:39+01:00",
          "2022-03-26T17:23:39+01:00",
          "2022-03-26T21:23:33+01:00",
          "2022-03-27T00:23:40+01:00",
          "2022-03-27T05:23:18+02:00",
          "2022-03-27T14:23:43+02:00",
          "2022-03-27T18:23:24+02:00",
          "2022-03-27T22:23:16+02:00",
          "2022-03-28T01:23:34+02:00",
          "2022-03-28T05:23:37+02:00",
          "2022-03-28T14:24:00+02:00",
          "2022-03-28T18:23:13+02:00",
          "2022-03-28T22:23:29+02:00",
          "2022-03-29T01:23:55+02:00",
          "2022-03-29T05:23:40+02:00",
          "2022-03-29T14:23:39+02:00",
          "2022-03-29T18:23:20+02:00",
          "2022-03-29T22:23:29+02:00",
          "2022-03-30T01:23:38+02:00",
          "2022-03-30T05:23:40+02:00",
          "2022-03-30T14:23:59+02:00",
          "2022-03-30T18:23:37+02:00",
          "2022-03-30T22:23:40+02:00",
          "2022-03-31T01:23:17+02:00",
          "2022-03-31T05:23:44+02:00",
          "2022-03-31T14:23:42+02:00",
          "2022-03-31T18:23:40+02:00",
          "2022-03-31T22:23:44+02:00",
          "2022-04-01T01:23:44+02:00",
          "2022-04-01T05:23:43+02:00",
          "2022-04-01T14:24:09+02:00",
          "2022-04-01T18:23:30+02:00",
          "2022-04-01T22:24:20+02:00",
          "2022-04-02T01:23:16+02:00",
          "2022-04-02T05:23:25+02:00",
          "2022-04-02T14:23:22+02:00",
          "2022-04-02T18:23:42+02:00",
          "2022-04-02T22:23:01+02:00",
          "2022-04-03T01:23:24+02:00",
          "2022-04-03T05:23:34+02:00",
          "2022-04-03T14:23:41+02:00",
          "2022-04-03T18:23:24+02:00",
          "2022-04-03T22:23:43+02:00",
          "2022-04-04T01:23:28+02:00",
          "2022-04-04T05:23:44+02:00",
          "2022-04-04T14:24:10+02:00",
          "2022-04-04T18:23:45+02:00",
          "2022-04-04T22:23:46+02:00",
          "2022-04-05T01:23:39+02:00",
          "2022-04-05T05:23:44+02:00",
          "2022-04-05T14:24:08+02:00",
          "2022-04-05T18:23:51+02:00",
          "2022-04-05T22:23:42+02:00",
          "2022-04-06T01:23:47+02:00",
          "2022-04-06T05:23:46+02:00",
          "2022-04-06T14:24:05+02:00",
          "2022-04-06T16:29:26+02:00",
          "2022-04-06T18:25:17+02:00",
          "2022-04-06T22:25:12+02:00",
          "2022-04-07T01:25:02+02:00",
          "2022-04-07T05:25:13+02:00",
          "2022-04-07T14:25:12+02:00",
          "2022-04-07T18:25:08+02:00",
          "2022-04-07T22:24:49+02:00",
          "2022-04-08T01:25:06+02:00",
          "2022-04-08T05:25:16+02:00",
          "2022-04-08T14:25:24+02:00",
          "2022-04-08T18:24:45+02:00",
          "2022-04-08T22:25:04+02:00",
          "2022-04-09T01:25:11+02:00",
          "2022-04-09T05:24:58+02:00",
          "2022-04-09T14:25:03+02:00",
          "2022-04-09T18:24:54+02:00",
          "2022-04-09T22:24:54+02:00",
          "2022-04-10T01:25:03+02:00",
          "2022-04-10T05:24:53+02:00",
          "2022-04-10T14:25:11+02:00",
          "2022-04-10T18:25:17+02:00",
          "2022-04-10T22:25:10+02:00",
          "2022-04-11T01:24:42+02:00",
          "2022-04-11T05:25:03+02:00",
          "2022-04-11T14:25:49+02:00",
          "2022-04-11T18:25:13+02:00",
          "2022-04-11T22:25:23+02:00",
          "2022-04-12T01:25:38+02:00",
          "2022-04-12T05:25:25+02:00",
          "2022-04-12T14:26:15+02:00",
          "2022-04-12T18:25:14+02:00",
          "2022-04-12T22:25:30+02:00",
          "2022-04-13T01:25:18+02:00",
          "2022-04-13T05:25:12+02:00",
          "2022-04-13T14:25:45+02:00",
          "2022-04-13T18:25:09+02:00",
          "2022-04-13T22:25:07+02:00",
          "2022-04-14T01:25:17+02:00",
          "2022-04-14T05:25:29+02:00",
          "2022-04-14T14:25:35+02:00",
          "2022-04-14T18:25:22+02:00",
          "2022-04-14T22:25:19+02:00",
          "2022-04-15T01:25:21+02:00",
          "2022-04-15T05:25:20+02:00",
          "2022-04-15T14:25:32+02:00",
          "2022-04-15T18:25:16+02:00",
          "2022-04-15T22:25:38+02:00",
          "2022-04-16T01:25:34+02:00",
          "2022-04-16T05:25:09+02:00",
          "2022-04-16T14:25:18+02:00",
          "2022-04-16T18:25:35+02:00",
          "2022-04-16T22:25:16+02:00",
          "2022-04-17T01:24:59+02:00",
          "2022-04-17T05:25:10+02:00",
          "2022-04-17T14:25:04+02:00",
          "2022-04-17T18:25:23+02:00",
          "2022-04-17T22:24:58+02:00",
          "2022-04-18T01:25:03+02:00",
          "2022-04-18T05:25:13+02:00",
          "2022-04-18T14:26:26+02:00",
          "2022-04-18T18:24:22+02:00",
          "2022-04-18T22:24:03+02:00",
          "2022-04-19T01:24:14+02:00",
          "2022-04-19T05:24:10+02:00",
          "2022-04-19T14:24:37+02:00",
          "2022-04-19T18:24:22+02:00",
          "2022-04-19T22:24:35+02:00",
          "2022-04-20T01:24:49+02:00",
          "2022-04-20T05:23:56+02:00",
          "2022-04-20T14:24:32+02:00",
          "2022-04-20T18:24:38+02:00",
          "2022-04-20T22:24:41+02:00",
          "2022-04-21T01:24:27+02:00",
          "2022-04-21T05:24:44+02:00",
          "2022-04-21T14:24:40+02:00",
          "2022-04-21T18:24:36+02:00",
          "2022-04-21T22:24:34+02:00",
          "2022-04-22T01:24:46+02:00",
          "2022-04-22T05:24:24+02:00",
          "2022-04-22T14:24:30+02:00",
          "2022-04-22T18:24:37+02:00",
          "2022-04-22T22:24:23+02:00",
          "2022-04-23T01:24:36+02:00",
          "2022-04-23T05:24:14+02:00",
          "2022-04-23T14:24:20+02:00",
          "2022-04-23T18:24:03+02:00",
          "2022-04-23T22:24:08+02:00",
          "2022-04-24T01:24:11+02:00",
          "2022-04-24T05:24:22+02:00",
          "2022-04-24T14:24:23+02:00",
          "2022-04-24T18:24:14+02:00",
          "2022-04-24T22:24:06+02:00",
          "2022-04-25T01:24:18+02:00",
          "2022-04-25T05:24:18+02:00",
          "2022-04-25T14:26:22+02:00",
          "2022-04-25T18:25:43+02:00",
          "2022-04-25T22:25:28+02:00",
          "2022-04-26T01:25:52+02:00",
          "2022-04-26T05:26:09+02:00",
          "2022-04-26T14:25:42+02:00",
          "2022-04-26T18:25:44+02:00",
          "2022-04-26T22:25:43+02:00",
          "2022-04-27T01:26:47+02:00",
          "2022-04-27T05:26:14+02:00",
          "2022-04-27T14:25:53+02:00",
          "2022-04-27T18:26:04+02:00",
          "2022-04-27T22:25:32+02:00",
          "2022-04-28T01:26:14+02:00",
          "2022-04-28T05:25:55+02:00",
          "2022-04-28T14:26:00+02:00",
          "2022-04-28T18:26:14+02:00",
          "2022-04-28T22:26:08+02:00",
          "2022-04-29T01:25:46+02:00",
          "2022-04-29T05:26:08+02:00",
          "2022-04-29T14:26:12+02:00",
          "2022-04-29T18:26:05+02:00",
          "2022-04-29T22:25:41+02:00",
          "2022-04-30T01:25:36+02:00",
          "2022-04-30T05:25:39+02:00",
          "2022-04-30T14:25:13+02:00",
          "2022-04-30T18:25:38+02:00",
          "2022-04-30T22:26:09+02:00",
          "2022-05-01T01:25:36+02:00",
          "2022-05-01T05:26:21+02:00",
          "2022-05-01T14:25:30+02:00",
          "2022-05-01T18:26:07+02:00",
          "2022-05-01T22:25:20+02:00",
          "2022-05-02T01:25:42+02:00",
          "2022-05-02T05:25:20+02:00",
          "2022-05-02T14:26:06+02:00",
          "2022-05-02T18:26:03+02:00",
          "2022-05-02T22:25:48+02:00",
          "2022-05-03T01:27:43+02:00",
          "2022-05-03T05:26:11+02:00",
          "2022-05-03T14:26:22+02:00",
          "2022-05-03T18:26:27+02:00",
          "2022-05-03T22:26:22+02:00",
          "2022-05-04T01:26:46+02:00",
          "2022-05-04T05:25:27+02:00",
          "2022-05-04T14:26:31+02:00",
          "2022-05-04T18:26:20+02:00",
          "2022-05-04T22:25:10+02:00",
          "2022-05-05T01:26:18+02:00",
          "2022-05-05T05:26:21+02:00",
          "2022-05-05T14:26:21+02:00",
          "2022-05-05T18:26:27+02:00",
          "2022-05-05T22:26:11+02:00",
          "2022-05-06T01:26:08+02:00",
          "2022-05-06T05:26:47+02:00",
          "2022-05-06T14:26:22+02:00",
          "2022-05-06T18:26:00+02:00",
          "2022-05-06T22:25:57+02:00",
          "2022-05-07T01:26:08+02:00",
          "2022-05-07T05:26:04+02:00",
          "2022-05-07T14:26:11+02:00",
          "2022-05-07T18:26:35+02:00",
          "2022-05-07T22:26:09+02:00",
          "2022-05-08T01:25:38+02:00",
          "2022-05-08T05:25:37+02:00",
          "2022-05-08T14:25:53+02:00",
          "2022-05-08T18:26:14+02:00",
          "2022-05-08T22:25:50+02:00",
          "2022-05-09T01:26:01+02:00",
          "2022-05-09T05:25:58+02:00",
          "2022-05-09T14:26:20+02:00",
          "2022-05-09T18:26:46+02:00",
          "2022-05-09T22:28:38+02:00",
          "2022-05-10T01:26:11+02:00",
          "2022-05-10T05:25:22+02:00",
          "2022-05-10T14:26:51+02:00",
          "2022-05-10T18:26:11+02:00",
          "2022-05-10T22:26:40+02:00",
          "2022-05-11T01:26:05+02:00",
          "2022-05-11T05:27:36+02:00",
          "2022-05-11T14:28:18+02:00",
          "2022-05-11T18:28:20+02:00",
          "2022-05-11T22:26:44+02:00",
          "2022-05-12T01:29:12+02:00",
          "2022-05-12T05:29:25+02:00",
          "2022-05-12T14:32:36+02:00",
          "2022-05-12T18:27:33+02:00",
          "2022-05-12T22:27:54+02:00",
          "2022-05-13T01:27:48+02:00",
          "2022-05-13T05:28:35+02:00",
          "2022-05-13T14:28:50+02:00",
          "2022-05-13T18:27:32+02:00",
          "2022-05-13T22:27:31+02:00",
          "2022-05-14T01:27:37+02:00",
          "2022-05-14T05:28:11+02:00",
          "2022-05-14T14:28:20+02:00",
          "2022-05-14T18:27:46+02:00",
          "2022-05-14T22:27:32+02:00",
          "2022-05-15T01:27:54+02:00",
          "2022-05-15T05:27:52+02:00",
          "2022-05-15T14:28:29+02:00",
          "2022-05-15T18:27:40+02:00",
          "2022-05-15T22:27:51+02:00",
          "2022-05-16T01:27:59+02:00",
          "2022-05-16T05:28:26+02:00",
          "2022-05-16T14:29:15+02:00",
          "2022-05-16T18:27:40+02:00",
          "2022-05-16T22:28:02+02:00",
          "2022-05-17T01:28:11+02:00",
          "2022-05-17T05:28:21+02:00",
          "2022-05-17T14:28:13+02:00",
          "2022-05-17T18:27:03+02:00",
          "2022-05-17T22:26:42+02:00",
          "2022-05-18T01:27:38+02:00",
          "2022-05-18T05:27:08+02:00",
          "2022-05-18T14:29:09+02:00",
          "2022-05-18T18:28:29+02:00",
          "2022-05-18T22:28:21+02:00",
          "2022-05-19T01:29:32+02:00",
          "2022-05-19T05:29:32+02:00",
          "2022-05-19T14:30:28+02:00",
          "2022-05-19T18:28:19+02:00",
          "2022-05-19T22:28:08+02:00",
          "2022-05-20T01:29:21+02:00",
          "2022-05-20T05:28:57+02:00",
          "2022-05-20T14:29:20+02:00",
          "2022-05-20T18:28:22+02:00",
          "2022-05-20T22:28:16+02:00",
          "2022-05-21T01:31:09+02:00",
          "2022-05-21T05:29:11+02:00",
          "2022-05-21T14:29:02+02:00",
          "2022-05-21T18:27:52+02:00",
          "2022-05-21T22:27:54+02:00",
          "2022-05-22T01:28:23+02:00",
          "2022-05-22T05:28:58+02:00",
          "2022-05-22T14:28:54+02:00",
          "2022-05-22T18:28:29+02:00",
          "2022-05-22T22:28:03+02:00",
          "2022-05-23T01:28:19+02:00",
          "2022-05-23T05:29:24+02:00",
          "2022-05-23T14:29:36+02:00",
          "2022-05-23T18:28:19+02:00",
          "2022-05-23T22:28:06+02:00",
          "2022-05-24T05:29:18+02:00",
          "2022-05-24T14:29:35+02:00",
          "2022-05-24T18:28:11+02:00",
          "2022-05-24T22:28:18+02:00",
          "2022-05-25T01:29:02+02:00",
          "2022-05-25T05:29:23+02:00",
          "2022-05-25T14:29:41+02:00",
          "2022-05-25T18:28:38+02:00",
          "2022-05-25T22:28:27+02:00",
          "2022-05-26T01:29:04+02:00",
          "2022-05-26T05:27:40+02:00",
          "2022-05-26T14:30:11+02:00",
          "2022-05-26T18:28:44+02:00",
          "2022-05-26T22:29:10+02:00",
          "2022-05-27T01:29:43+02:00",
          "2022-05-27T05:28:35+02:00",
          "2022-05-27T14:30:16+02:00",
          "2022-05-27T18:30:56+02:00",
          "2022-05-27T22:30:13+02:00",
          "2022-05-28T01:31:20+02:00",
          "2022-05-28T05:31:21+02:00",
          "2022-05-28T14:28:38+02:00",
          "2022-05-28T18:28:51+02:00",
          "2022-05-28T22:28:40+02:00",
          "2022-05-29T01:30:06+02:00",
          "2022-05-29T05:29:02+02:00",
          "2022-05-29T14:28:40+02:00",
          "2022-05-29T18:29:16+02:00",
          "2022-05-29T22:28:37+02:00",
          "2022-05-30T01:30:14+02:00",
          "2022-05-30T05:30:45+02:00",
          "2022-05-30T14:29:21+02:00",
          "2022-05-30T18:30:35+02:00",
          "2022-05-30T22:28:00+02:00",
          "2022-05-31T01:28:13+02:00",
          "2022-05-31T05:27:40+02:00",
          "2022-05-31T14:29:20+02:00",
          "2022-05-31T18:28:25+02:00",
          "2022-05-31T22:28:35+02:00",
          "2022-06-01T01:29:52+02:00",
          "2022-06-01T05:28:23+02:00",
          "2022-06-01T14:27:50+02:00",
          "2022-06-01T18:26:50+02:00",
          "2022-06-01T22:28:01+02:00",
          "2022-06-02T01:26:59+02:00",
          "2022-06-02T05:25:35+02:00",
          "2022-06-02T14:25:27+02:00",
          "2022-06-02T18:24:53+02:00",
          "2022-06-02T22:25:15+02:00",
          "2022-06-03T01:25:23+02:00",
          "2022-06-03T05:24:10+02:00",
          "2022-06-03T14:25:21+02:00",
          "2022-06-03T18:25:03+02:00",
          "2022-06-03T22:24:51+02:00",
          "2022-06-04T01:25:06+02:00",
          "2022-06-04T05:25:27+02:00",
          "2022-06-04T14:25:16+02:00",
          "2022-06-04T18:25:09+02:00",
          "2022-06-04T22:25:30+02:00",
          "2022-06-05T01:25:32+02:00",
          "2022-06-05T05:25:21+02:00",
          "2022-06-05T14:25:02+02:00",
          "2022-06-05T18:30:23+02:00",
          "2022-06-05T22:29:43+02:00",
          "2022-06-06T01:28:53+02:00",
          "2022-06-06T05:26:27+02:00",
          "2022-06-06T14:25:20+02:00",
          "2022-06-06T18:25:19+02:00",
          "2022-06-06T22:24:21+02:00",
          "2022-06-07T01:26:26+02:00",
          "2022-06-07T05:24:57+02:00",
          "2022-06-07T14:25:35+02:00",
          "2022-06-07T18:25:14+02:00",
          "2022-06-07T22:24:43+02:00",
          "2022-06-08T01:26:28+02:00",
          "2022-06-08T05:25:03+02:00",
          "2022-06-08T14:25:50+02:00",
          "2022-06-08T18:25:58+02:00",
          "2022-06-08T22:26:41+02:00",
          "2022-06-09T01:26:50+02:00",
          "2022-06-09T05:26:18+02:00",
          "2022-06-09T14:26:45+02:00",
          "2022-06-09T18:26:14+02:00",
          "2022-06-09T22:26:14+02:00",
          "2022-06-10T01:25:35+02:00",
          "2022-06-10T05:27:13+02:00",
          "2022-06-10T14:25:40+02:00",
          "2022-06-10T18:26:15+02:00",
          "2022-06-10T22:25:32+02:00",
          "2022-06-11T01:25:33+02:00",
          "2022-06-11T05:26:09+02:00",
          "2022-06-11T14:25:10+02:00",
          "2022-06-11T18:25:07+02:00",
          "2022-06-11T22:25:38+02:00",
          "2022-06-12T01:25:28+02:00",
          "2022-06-12T05:25:15+02:00",
          "2022-06-12T14:25:32+02:00",
          "2022-06-12T18:25:21+02:00",
          "2022-06-12T22:25:31+02:00",
          "2022-06-13T01:25:31+02:00",
          "2022-06-13T05:25:25+02:00",
          "2022-06-13T14:26:06+02:00",
          "2022-06-13T18:25:53+02:00",
          "2022-06-13T22:25:49+02:00",
          "2022-06-14T01:25:38+02:00",
          "2022-06-14T05:25:46+02:00",
          "2022-06-14T14:26:46+02:00",
          "2022-06-14T18:25:55+02:00",
          "2022-06-14T22:25:57+02:00",
          "2022-06-15T01:25:38+02:00",
          "2022-06-15T05:25:10+02:00",
          "2022-06-15T14:25:45+02:00",
          "2022-06-15T18:25:42+02:00",
          "2022-06-15T22:25:48+02:00",
          "2022-06-16T01:25:35+02:00",
          "2022-06-16T05:25:44+02:00",
          "2022-06-16T14:26:29+02:00",
          "2022-06-16T18:25:22+02:00",
          "2022-06-16T22:25:49+02:00",
          "2022-06-17T01:25:30+02:00",
          "2022-06-17T05:25:34+02:00",
          "2022-06-17T14:25:46+02:00",
          "2022-06-17T18:25:54+02:00",
          "2022-06-17T22:25:55+02:00",
          "2022-06-18T01:25:42+02:00",
          "2022-06-18T05:26:14+02:00",
          "2022-06-18T14:28:04+02:00",
          "2022-06-18T18:25:33+02:00",
          "2022-06-18T22:25:28+02:00",
          "2022-06-19T01:25:17+02:00",
          "2022-06-19T05:25:11+02:00",
          "2022-06-19T14:25:41+02:00",
          "2022-06-19T18:25:48+02:00",
          "2022-06-19T22:25:59+02:00",
          "2022-06-20T01:25:36+02:00",
          "2022-06-20T05:25:26+02:00",
          "2022-06-20T14:26:08+02:00",
          "2022-06-20T18:25:47+02:00",
          "2022-06-20T22:26:54+02:00",
          "2022-06-21T01:25:20+02:00",
          "2022-06-21T05:25:32+02:00",
          "2022-06-21T14:26:09+02:00",
          "2022-06-21T18:25:26+02:00",
          "2022-06-21T22:25:42+02:00",
          "2022-06-22T01:25:52+02:00",
          "2022-06-22T05:26:06+02:00",
          "2022-06-22T14:26:55+02:00",
          "2022-06-22T18:26:07+02:00",
          "2022-06-22T22:26:17+02:00",
          "2022-06-23T01:25:33+02:00",
          "2022-06-23T05:25:50+02:00",
          "2022-06-23T14:26:40+02:00",
          "2022-06-23T18:26:19+02:00",
          "2022-06-23T22:26:20+02:00",
          "2022-06-24T01:28:18+02:00",
          "2022-06-24T05:26:07+02:00",
          "2022-06-24T14:26:39+02:00",
          "2022-06-24T18:26:04+02:00",
          "2022-06-24T22:26:12+02:00",
          "2022-06-25T01:25:48+02:00",
          "2022-06-25T05:25:58+02:00",
          "2022-06-25T14:26:03+02:00",
          "2022-06-25T18:25:39+02:00",
          "2022-06-25T22:25:52+02:00",
          "2022-06-26T01:25:49+02:00",
          "2022-06-26T05:25:39+02:00",
          "2022-06-26T14:26:23+02:00",
          "2022-06-26T18:26:09+02:00",
          "2022-06-26T22:25:50+02:00",
          "2022-06-27T01:26:17+02:00",
          "2022-06-27T05:25:39+02:00",
          "2022-06-27T14:26:59+02:00",
          "2022-06-27T18:26:11+02:00",
          "2022-06-27T22:26:09+02:00",
          "2022-06-28T01:25:52+02:00",
          "2022-06-28T05:25:56+02:00",
          "2022-06-28T14:26:30+02:00",
          "2022-06-28T18:26:00+02:00",
          "2022-06-28T22:25:40+02:00",
          "2022-06-29T01:25:49+02:00",
          "2022-06-29T05:26:03+02:00",
          "2022-06-29T14:27:03+02:00",
          "2022-06-29T18:26:04+02:00",
          "2022-06-29T22:26:26+02:00",
          "2022-06-30T01:25:34+02:00",
          "2022-06-30T05:25:37+02:00",
          "2022-06-30T14:27:09+02:00",
          "2022-06-30T18:26:16+02:00",
          "2022-06-30T22:26:49+02:00",
          "2022-07-01T01:26:26+02:00",
          "2022-07-01T05:25:55+02:00",
          "2022-07-01T14:26:14+02:00",
          "2022-07-01T18:25:48+02:00",
          "2022-07-01T22:26:23+02:00",
          "2022-07-02T01:26:51+02:00",
          "2022-07-02T05:26:31+02:00",
          "2022-07-02T14:26:50+02:00",
          "2022-07-02T18:26:16+02:00",
          "2022-07-02T22:26:20+02:00",
          "2022-07-03T01:26:08+02:00",
          "2022-07-03T05:26:17+02:00",
          "2022-07-03T14:25:57+02:00",
          "2022-07-03T18:26:16+02:00",
          "2022-07-03T22:26:36+02:00",
          "2022-07-04T01:26:20+02:00",
          "2022-07-04T05:25:46+02:00",
          "2022-07-04T14:26:22+02:00",
          "2022-07-04T18:25:38+02:00",
          "2022-07-04T22:25:58+02:00",
          "2022-07-05T01:26:09+02:00",
          "2022-07-05T05:25:33+02:00",
          "2022-07-05T14:26:20+02:00",
          "2022-07-05T18:25:46+02:00",
          "2022-07-05T22:25:40+02:00",
          "2022-07-06T01:26:33+02:00",
          "2022-07-06T05:25:23+02:00",
          "2022-07-06T14:26:18+02:00",
          "2022-07-06T18:25:42+02:00",
          "2022-07-06T22:25:38+02:00",
          "2022-07-07T01:25:48+02:00",
          "2022-07-07T05:25:37+02:00",
          "2022-07-07T14:26:49+02:00",
          "2022-07-07T18:26:02+02:00",
          "2022-07-07T22:29:20+02:00",
          "2022-07-08T01:25:53+02:00",
          "2022-07-08T05:25:38+02:00",
          "2022-07-08T14:26:00+02:00",
          "2022-07-08T18:25:51+02:00",
          "2022-07-08T22:25:45+02:00",
          "2022-07-09T01:26:16+02:00",
          "2022-07-09T05:26:44+02:00",
          "2022-07-09T14:25:38+02:00",
          "2022-07-09T18:26:05+02:00",
          "2022-07-09T22:25:38+02:00",
          "2022-07-10T01:26:15+02:00",
          "2022-07-10T05:25:45+02:00",
          "2022-07-10T14:25:58+02:00",
          "2022-07-10T18:25:38+02:00",
          "2022-07-10T22:25:35+02:00",
          "2022-07-11T01:25:46+02:00",
          "2022-07-11T05:24:37+02:00",
          "2022-07-11T14:25:00+02:00",
          "2022-07-11T18:24:45+02:00",
          "2022-07-11T22:24:56+02:00",
          "2022-07-12T01:27:27+02:00",
          "2022-07-12T05:24:38+02:00",
          "2022-07-12T14:25:19+02:00",
          "2022-07-12T18:25:40+02:00",
          "2022-07-12T22:24:49+02:00",
          "2022-07-13T01:25:04+02:00",
          "2022-07-13T05:28:34+02:00",
          "2022-07-13T14:25:28+02:00",
          "2022-07-13T18:25:01+02:00",
          "2022-07-13T22:25:42+02:00",
          "2022-07-14T01:24:40+02:00",
          "2022-07-14T05:25:07+02:00",
          "2022-07-14T14:26:11+02:00",
          "2022-07-14T18:25:08+02:00",
          "2022-07-14T22:25:18+02:00",
          "2022-07-15T01:24:57+02:00",
          "2022-07-15T05:24:51+02:00",
          "2022-07-15T14:25:05+02:00",
          "2022-07-15T18:24:52+02:00",
          "2022-07-15T22:24:55+02:00",
          "2022-07-16T01:25:12+02:00",
          "2022-07-16T05:25:20+02:00",
          "2022-07-16T14:25:52+02:00",
          "2022-07-16T18:25:21+02:00",
          "2022-07-16T22:24:44+02:00",
          "2022-07-17T01:25:43+02:00",
          "2022-07-17T05:24:55+02:00",
          "2022-07-17T14:24:46+02:00",
          "2022-07-17T18:24:59+02:00",
          "2022-07-17T22:24:34+02:00",
          "2022-07-18T01:25:44+02:00",
          "2022-07-18T05:24:37+02:00",
          "2022-07-18T14:25:13+02:00",
          "2022-07-18T18:25:10+02:00",
          "2022-07-18T22:25:46+02:00",
          "2022-07-19T01:26:36+02:00",
          "2022-07-19T05:24:59+02:00",
          "2022-07-19T14:29:00+02:00",
          "2022-07-19T18:28:34+02:00",
          "2022-07-19T22:27:38+02:00",
          "2022-07-20T01:28:47+02:00",
          "2022-07-20T05:27:39+02:00",
          "2022-07-20T14:28:43+02:00",
          "2022-07-20T18:28:43+02:00",
          "2022-07-20T22:28:00+02:00",
          "2022-07-21T01:27:57+02:00",
          "2022-07-21T05:27:48+02:00",
          "2022-07-21T14:29:44+02:00",
          "2022-07-21T18:29:01+02:00",
          "2022-07-21T22:29:33+02:00",
          "2022-07-22T01:28:57+02:00",
          "2022-07-22T05:28:36+02:00",
          "2022-07-22T14:30:15+02:00",
          "2022-07-22T18:29:05+02:00",
          "2022-07-22T22:29:14+02:00",
          "2022-07-23T01:30:03+02:00",
          "2022-07-23T05:28:41+02:00",
          "2022-07-23T14:27:34+02:00",
          "2022-07-23T18:27:48+02:00",
          "2022-07-23T22:27:52+02:00",
          "2022-07-24T01:27:46+02:00",
          "2022-07-24T05:27:54+02:00",
          "2022-07-24T14:28:00+02:00",
          "2022-07-24T18:28:15+02:00",
          "2022-07-24T22:27:37+02:00",
          "2022-07-25T01:27:47+02:00",
          "2022-07-25T05:28:26+02:00",
          "2022-07-25T14:31:53+02:00",
          "2022-07-25T18:28:28+02:00",
          "2022-07-25T22:28:53+02:00",
          "2022-07-26T01:29:24+02:00",
          "2022-07-26T05:29:02+02:00",
          "2022-07-26T07:20:54+02:00",
          "2022-07-26T14:29:24+02:00",
          "2022-07-26T18:28:32+02:00",
          "2022-07-26T22:29:21+02:00",
          "2022-07-27T01:28:37+02:00",
          "2022-07-27T05:27:45+02:00",
          "2022-07-27T14:29:13+02:00",
          "2022-07-27T18:28:16+02:00",
          "2022-07-27T22:28:18+02:00",
          "2022-07-28T01:28:13+02:00",
          "2022-07-28T05:28:01+02:00",
          "2022-07-28T14:30:12+02:00",
          "2022-07-28T18:29:04+02:00",
          "2022-07-28T22:28:03+02:00",
          "2022-07-29T01:29:30+02:00",
          "2022-07-29T05:29:02+02:00",
          "2022-07-29T14:29:21+02:00",
          "2022-07-29T18:29:17+02:00",
          "2022-07-29T22:29:17+02:00",
          "2022-07-30T01:29:55+02:00",
          "2022-07-30T05:29:02+02:00",
          "2022-07-30T14:28:27+02:00",
          "2022-07-30T18:28:50+02:00",
          "2022-07-30T22:29:02+02:00",
          "2022-07-31T01:28:16+02:00",
          "2022-07-31T05:28:36+02:00",
          "2022-07-31T14:28:24+02:00",
          "2022-07-31T18:29:13+02:00",
          "2022-07-31T22:28:29+02:00",
          "2022-08-01T01:29:07+02:00",
          "2022-08-01T05:28:20+02:00",
          "2022-08-01T14:30:05+02:00",
          "2022-08-01T18:29:26+02:00",
          "2022-08-01T22:29:35+02:00",
          "2022-08-02T01:29:16+02:00",
          "2022-08-02T05:28:25+02:00",
          "2022-08-02T14:30:35+02:00",
          "2022-08-02T18:29:29+02:00",
          "2022-08-02T22:29:46+02:00"
         ],
         "y": [
          327,
          327,
          327,
          328,
          328,
          328,
          328,
          329,
          329,
          329,
          329,
          329,
          329,
          329,
          329,
          329,
          329,
          329,
          329,
          329,
          329,
          329,
          329,
          329,
          329,
          329,
          329,
          329,
          329,
          329,
          329,
          329,
          329,
          329,
          329,
          329,
          329,
          329,
          330,
          330,
          330,
          330,
          330,
          330,
          330,
          330,
          330,
          330,
          330,
          330,
          330,
          330,
          330,
          330,
          331,
          331,
          331,
          331,
          331,
          331,
          331,
          331,
          331,
          331,
          331,
          331,
          331,
          331,
          331,
          331,
          331,
          331,
          331,
          331,
          331,
          331,
          331,
          331,
          331,
          331,
          331,
          331,
          331,
          331,
          331,
          331,
          331,
          331,
          331,
          331,
          331,
          331,
          331,
          331,
          331,
          331,
          331,
          331,
          331,
          331,
          331,
          331,
          331,
          332,
          332,
          332,
          332,
          333,
          333,
          333,
          333,
          333,
          339,
          340,
          340,
          340,
          340,
          340,
          340,
          340,
          340,
          340,
          340,
          341,
          341,
          341,
          341,
          341,
          341,
          341,
          341,
          341,
          341,
          341,
          341,
          341,
          341,
          341,
          341,
          341,
          341,
          341,
          341,
          341,
          341,
          341,
          341,
          341,
          341,
          341,
          341,
          341,
          341,
          342,
          344,
          345,
          345,
          345,
          345,
          345,
          345,
          345,
          345,
          345,
          345,
          345,
          345,
          345,
          345,
          345,
          345,
          345,
          346,
          346,
          346,
          346,
          346,
          346,
          347,
          347,
          347,
          347,
          348,
          348,
          348,
          348,
          348,
          348,
          348,
          348,
          348,
          348,
          348,
          350,
          350,
          350,
          350,
          350,
          350,
          350,
          350,
          350,
          350,
          350,
          350,
          350,
          350,
          350,
          353,
          353,
          353,
          353,
          353,
          353,
          353,
          353,
          353,
          353,
          353,
          353,
          353,
          353,
          353,
          353,
          353,
          353,
          353,
          353,
          353,
          353,
          353,
          353,
          353,
          353,
          353,
          353,
          353,
          353,
          353,
          353,
          353,
          353,
          353,
          353,
          353,
          353,
          353,
          353,
          354,
          355,
          355,
          355,
          355,
          355,
          355,
          355,
          355,
          355,
          355,
          355,
          355,
          355,
          355,
          355,
          356,
          356,
          356,
          356,
          356,
          356,
          356,
          356,
          356,
          356,
          356,
          356,
          356,
          356,
          358,
          358,
          358,
          358,
          358,
          358,
          359,
          359,
          359,
          359,
          360,
          360,
          360,
          360,
          360,
          361,
          361,
          361,
          361,
          361,
          361,
          361,
          361,
          361,
          361,
          361,
          361,
          361,
          361,
          361,
          361,
          361,
          361,
          361,
          361,
          361,
          361,
          361,
          361,
          361,
          362,
          362,
          362,
          362,
          362,
          362,
          362,
          362,
          362,
          362,
          362,
          362,
          362,
          362,
          362,
          363,
          364,
          367,
          367,
          367,
          367,
          367,
          367,
          367,
          367,
          367,
          367,
          367,
          367,
          367,
          368,
          369,
          369,
          369,
          369,
          370,
          370,
          370,
          370,
          370,
          370,
          370,
          370,
          370,
          370,
          370,
          370,
          370,
          370,
          370,
          370,
          370,
          370,
          370,
          370,
          370,
          370,
          370,
          370,
          370,
          370,
          370,
          370,
          370,
          370,
          370,
          370,
          373,
          373,
          373,
          373,
          373,
          373,
          373,
          373,
          373,
          373,
          373,
          373,
          373,
          373,
          374,
          374,
          374,
          374,
          374,
          374,
          374,
          374,
          374,
          374,
          374,
          374,
          374,
          374,
          374,
          374,
          374,
          374,
          374,
          375,
          375,
          375,
          375,
          375,
          376,
          376,
          376,
          376,
          376,
          376,
          376,
          376,
          376,
          376,
          376,
          376,
          376,
          376,
          376,
          376,
          376,
          376,
          376,
          376,
          376,
          376,
          376,
          376,
          376,
          376,
          376,
          376,
          376,
          376,
          376,
          376,
          376,
          376,
          376,
          376,
          376,
          376,
          376,
          376,
          376,
          376,
          376,
          376,
          377,
          377,
          377,
          377,
          377,
          377,
          377,
          377,
          377,
          377,
          377,
          377,
          377,
          377,
          377,
          377,
          377,
          377,
          377,
          377,
          377,
          377,
          377,
          377,
          377,
          377,
          377,
          377,
          377,
          377,
          377,
          377,
          377,
          377,
          377,
          377,
          377,
          377,
          377,
          377,
          377,
          377,
          377,
          377,
          377,
          377,
          377,
          377,
          377,
          377,
          377,
          377,
          377,
          377,
          377,
          377,
          377,
          377,
          377,
          377,
          377,
          377,
          377,
          377,
          377,
          378,
          378,
          378,
          378,
          378,
          378,
          378,
          378,
          378,
          378,
          378,
          378,
          378,
          378,
          378,
          378,
          378,
          378,
          378,
          378,
          378,
          378,
          378,
          378,
          378,
          378,
          378,
          378,
          378,
          378,
          378,
          378,
          378,
          378,
          378,
          378,
          378,
          378,
          378,
          378,
          378,
          380,
          380,
          380,
          380,
          380,
          380,
          380,
          380,
          380,
          380,
          380,
          380,
          380,
          380,
          380,
          380,
          380,
          380,
          380,
          380,
          380,
          380,
          380,
          380,
          380,
          380,
          380,
          380,
          380,
          380,
          380,
          380,
          380,
          380,
          380,
          380,
          380,
          380,
          380,
          381,
          381,
          381,
          381,
          381,
          381,
          381,
          381,
          381,
          381,
          381,
          381,
          381,
          381,
          381,
          381,
          381,
          381,
          381,
          381,
          381,
          381,
          381,
          381,
          381,
          381,
          381,
          381,
          381,
          381,
          381,
          381,
          381,
          381,
          381,
          381,
          381,
          381,
          381,
          381,
          381,
          381,
          381,
          381,
          381,
          381,
          381,
          381,
          381,
          381,
          381,
          381,
          381,
          381,
          381,
          381,
          381,
          384,
          384,
          384,
          384,
          384,
          384,
          384,
          384,
          385,
          385,
          385,
          385,
          385,
          385,
          385,
          385,
          385,
          385,
          385,
          385,
          385,
          385,
          385,
          385,
          385,
          385,
          385,
          385,
          385,
          386,
          391,
          391,
          391,
          391,
          391,
          394,
          394,
          394,
          395,
          395,
          395,
          395,
          395,
          395,
          395,
          395,
          395,
          395,
          396,
          396,
          396,
          396,
          396,
          396,
          396,
          396,
          396,
          396,
          396,
          396,
          396,
          396,
          396,
          396,
          396,
          396,
          396,
          396,
          396,
          398,
          398,
          398,
          398,
          398,
          398,
          399,
          399,
          399,
          399,
          399,
          399,
          399,
          399,
          399,
          399,
          399,
          399,
          399,
          399,
          399,
          399,
          399,
          399,
          399,
          399,
          399,
          399,
          399,
          399,
          401,
          402,
          402,
          402,
          402,
          402,
          403,
          403
         ]
        },
        {
         "line": {
          "color": "green",
          "width": 1
         },
         "mode": "lines+markers",
         "name": "zscore",
         "type": "scatter",
         "x": [
          "2022-03-01T01:23:58+01:00",
          "2022-03-01T05:23:45+01:00",
          "2022-03-01T14:24:22+01:00",
          "2022-03-01T18:24:06+01:00",
          "2022-03-01T22:23:46+01:00",
          "2022-03-02T01:24:02+01:00",
          "2022-03-02T05:24:44+01:00",
          "2022-03-02T14:24:18+01:00",
          "2022-03-02T18:23:38+01:00",
          "2022-03-02T22:23:45+01:00",
          "2022-03-03T01:24:11+01:00",
          "2022-03-03T05:24:03+01:00",
          "2022-03-03T14:24:42+01:00",
          "2022-03-03T18:23:57+01:00",
          "2022-03-03T22:23:39+01:00",
          "2022-03-04T01:24:08+01:00",
          "2022-03-04T05:24:03+01:00",
          "2022-03-04T14:24:05+01:00",
          "2022-03-04T18:23:56+01:00",
          "2022-03-04T22:23:55+01:00",
          "2022-03-05T01:24:03+01:00",
          "2022-03-05T05:23:38+01:00",
          "2022-03-05T14:23:35+01:00",
          "2022-03-05T18:23:35+01:00",
          "2022-03-05T22:23:50+01:00",
          "2022-03-06T01:23:54+01:00",
          "2022-03-06T05:24:01+01:00",
          "2022-03-06T14:23:52+01:00",
          "2022-03-06T18:23:32+01:00",
          "2022-03-06T22:23:49+01:00",
          "2022-03-07T01:23:31+01:00",
          "2022-03-07T05:23:58+01:00",
          "2022-03-07T14:24:16+01:00",
          "2022-03-07T18:23:55+01:00",
          "2022-03-07T22:24:00+01:00",
          "2022-03-08T01:23:57+01:00",
          "2022-03-08T05:23:58+01:00",
          "2022-03-08T14:24:25+01:00",
          "2022-03-08T18:23:57+01:00",
          "2022-03-08T22:24:13+01:00",
          "2022-03-09T01:24:07+01:00",
          "2022-03-09T05:24:10+01:00",
          "2022-03-09T14:24:47+01:00",
          "2022-03-09T18:24:06+01:00",
          "2022-03-09T22:24:30+01:00",
          "2022-03-10T01:24:10+01:00",
          "2022-03-10T05:24:18+01:00",
          "2022-03-10T14:24:29+01:00",
          "2022-03-10T18:24:31+01:00",
          "2022-03-10T22:24:15+01:00",
          "2022-03-11T01:23:53+01:00",
          "2022-03-11T05:24:14+01:00",
          "2022-03-11T14:24:33+01:00",
          "2022-03-11T18:24:04+01:00",
          "2022-03-11T22:24:01+01:00",
          "2022-03-12T01:23:56+01:00",
          "2022-03-12T05:23:59+01:00",
          "2022-03-12T14:23:54+01:00",
          "2022-03-12T18:23:59+01:00",
          "2022-03-12T22:24:16+01:00",
          "2022-03-13T01:24:13+01:00",
          "2022-03-13T05:24:09+01:00",
          "2022-03-13T13:23:56+01:00",
          "2022-03-13T17:24:12+01:00",
          "2022-03-13T21:24:15+01:00",
          "2022-03-14T00:24:15+01:00",
          "2022-03-14T04:24:00+01:00",
          "2022-03-14T13:24:43+01:00",
          "2022-03-14T17:23:58+01:00",
          "2022-03-14T21:24:15+01:00",
          "2022-03-15T00:24:16+01:00",
          "2022-03-15T04:23:54+01:00",
          "2022-03-15T13:24:18+01:00",
          "2022-03-15T17:24:19+01:00",
          "2022-03-15T21:24:12+01:00",
          "2022-03-16T00:24:13+01:00",
          "2022-03-16T04:24:38+01:00",
          "2022-03-16T13:24:16+01:00",
          "2022-03-16T17:24:16+01:00",
          "2022-03-16T21:24:01+01:00",
          "2022-03-17T00:23:51+01:00",
          "2022-03-17T04:24:05+01:00",
          "2022-03-17T13:23:57+01:00",
          "2022-03-17T17:23:58+01:00",
          "2022-03-17T21:24:00+01:00",
          "2022-03-18T00:23:58+01:00",
          "2022-03-18T04:23:41+01:00",
          "2022-03-18T13:24:17+01:00",
          "2022-03-18T17:24:18+01:00",
          "2022-03-18T21:24:25+01:00",
          "2022-03-19T00:23:58+01:00",
          "2022-03-19T04:24:27+01:00",
          "2022-03-19T13:24:23+01:00",
          "2022-03-19T17:24:18+01:00",
          "2022-03-19T21:24:18+01:00",
          "2022-03-20T00:24:17+01:00",
          "2022-03-20T04:24:16+01:00",
          "2022-03-20T13:25:00+01:00",
          "2022-03-20T17:24:19+01:00",
          "2022-03-20T21:24:19+01:00",
          "2022-03-21T00:23:53+01:00",
          "2022-03-21T04:24:17+01:00",
          "2022-03-21T13:24:21+01:00",
          "2022-03-21T17:24:14+01:00",
          "2022-03-21T21:23:56+01:00",
          "2022-03-22T00:24:13+01:00",
          "2022-03-22T04:23:35+01:00",
          "2022-03-22T13:24:25+01:00",
          "2022-03-22T17:24:17+01:00",
          "2022-03-22T21:23:55+01:00",
          "2022-03-23T00:24:37+01:00",
          "2022-03-23T04:24:20+01:00",
          "2022-03-23T13:24:47+01:00",
          "2022-03-23T17:24:42+01:00",
          "2022-03-23T21:24:39+01:00",
          "2022-03-24T00:24:35+01:00",
          "2022-03-24T04:24:18+01:00",
          "2022-03-24T13:24:37+01:00",
          "2022-03-24T17:24:35+01:00",
          "2022-03-24T21:24:21+01:00",
          "2022-03-25T00:24:35+01:00",
          "2022-03-25T04:24:21+01:00",
          "2022-03-25T13:23:39+01:00",
          "2022-03-25T17:23:19+01:00",
          "2022-03-25T21:23:19+01:00",
          "2022-03-26T00:23:18+01:00",
          "2022-03-26T04:23:46+01:00",
          "2022-03-26T13:23:39+01:00",
          "2022-03-26T17:23:39+01:00",
          "2022-03-26T21:23:33+01:00",
          "2022-03-27T00:23:40+01:00",
          "2022-03-27T05:23:18+02:00",
          "2022-03-27T14:23:43+02:00",
          "2022-03-27T18:23:24+02:00",
          "2022-03-27T22:23:16+02:00",
          "2022-03-28T01:23:34+02:00",
          "2022-03-28T05:23:37+02:00",
          "2022-03-28T14:24:00+02:00",
          "2022-03-28T18:23:13+02:00",
          "2022-03-28T22:23:29+02:00",
          "2022-03-29T01:23:55+02:00",
          "2022-03-29T05:23:40+02:00",
          "2022-03-29T14:23:39+02:00",
          "2022-03-29T18:23:20+02:00",
          "2022-03-29T22:23:29+02:00",
          "2022-03-30T01:23:38+02:00",
          "2022-03-30T05:23:40+02:00",
          "2022-03-30T14:23:59+02:00",
          "2022-03-30T18:23:37+02:00",
          "2022-03-30T22:23:40+02:00",
          "2022-03-31T01:23:17+02:00",
          "2022-03-31T05:23:44+02:00",
          "2022-03-31T14:23:42+02:00",
          "2022-03-31T18:23:40+02:00",
          "2022-03-31T22:23:44+02:00",
          "2022-04-01T01:23:44+02:00",
          "2022-04-01T05:23:43+02:00",
          "2022-04-01T14:24:09+02:00",
          "2022-04-01T18:23:30+02:00",
          "2022-04-01T22:24:20+02:00",
          "2022-04-02T01:23:16+02:00",
          "2022-04-02T05:23:25+02:00",
          "2022-04-02T14:23:22+02:00",
          "2022-04-02T18:23:42+02:00",
          "2022-04-02T22:23:01+02:00",
          "2022-04-03T01:23:24+02:00",
          "2022-04-03T05:23:34+02:00",
          "2022-04-03T14:23:41+02:00",
          "2022-04-03T18:23:24+02:00",
          "2022-04-03T22:23:43+02:00",
          "2022-04-04T01:23:28+02:00",
          "2022-04-04T05:23:44+02:00",
          "2022-04-04T14:24:10+02:00",
          "2022-04-04T18:23:45+02:00",
          "2022-04-04T22:23:46+02:00",
          "2022-04-05T01:23:39+02:00",
          "2022-04-05T05:23:44+02:00",
          "2022-04-05T14:24:08+02:00",
          "2022-04-05T18:23:51+02:00",
          "2022-04-05T22:23:42+02:00",
          "2022-04-06T01:23:47+02:00",
          "2022-04-06T05:23:46+02:00",
          "2022-04-06T14:24:05+02:00",
          "2022-04-06T16:29:26+02:00",
          "2022-04-06T18:25:17+02:00",
          "2022-04-06T22:25:12+02:00",
          "2022-04-07T01:25:02+02:00",
          "2022-04-07T05:25:13+02:00",
          "2022-04-07T14:25:12+02:00",
          "2022-04-07T18:25:08+02:00",
          "2022-04-07T22:24:49+02:00",
          "2022-04-08T01:25:06+02:00",
          "2022-04-08T05:25:16+02:00",
          "2022-04-08T14:25:24+02:00",
          "2022-04-08T18:24:45+02:00",
          "2022-04-08T22:25:04+02:00",
          "2022-04-09T01:25:11+02:00",
          "2022-04-09T05:24:58+02:00",
          "2022-04-09T14:25:03+02:00",
          "2022-04-09T18:24:54+02:00",
          "2022-04-09T22:24:54+02:00",
          "2022-04-10T01:25:03+02:00",
          "2022-04-10T05:24:53+02:00",
          "2022-04-10T14:25:11+02:00",
          "2022-04-10T18:25:17+02:00",
          "2022-04-10T22:25:10+02:00",
          "2022-04-11T01:24:42+02:00",
          "2022-04-11T05:25:03+02:00",
          "2022-04-11T14:25:49+02:00",
          "2022-04-11T18:25:13+02:00",
          "2022-04-11T22:25:23+02:00",
          "2022-04-12T01:25:38+02:00",
          "2022-04-12T05:25:25+02:00",
          "2022-04-12T14:26:15+02:00",
          "2022-04-12T18:25:14+02:00",
          "2022-04-12T22:25:30+02:00",
          "2022-04-13T01:25:18+02:00",
          "2022-04-13T05:25:12+02:00",
          "2022-04-13T14:25:45+02:00",
          "2022-04-13T18:25:09+02:00",
          "2022-04-13T22:25:07+02:00",
          "2022-04-14T01:25:17+02:00",
          "2022-04-14T05:25:29+02:00",
          "2022-04-14T14:25:35+02:00",
          "2022-04-14T18:25:22+02:00",
          "2022-04-14T22:25:19+02:00",
          "2022-04-15T01:25:21+02:00",
          "2022-04-15T05:25:20+02:00",
          "2022-04-15T14:25:32+02:00",
          "2022-04-15T18:25:16+02:00",
          "2022-04-15T22:25:38+02:00",
          "2022-04-16T01:25:34+02:00",
          "2022-04-16T05:25:09+02:00",
          "2022-04-16T14:25:18+02:00",
          "2022-04-16T18:25:35+02:00",
          "2022-04-16T22:25:16+02:00",
          "2022-04-17T01:24:59+02:00",
          "2022-04-17T05:25:10+02:00",
          "2022-04-17T14:25:04+02:00",
          "2022-04-17T18:25:23+02:00",
          "2022-04-17T22:24:58+02:00",
          "2022-04-18T01:25:03+02:00",
          "2022-04-18T05:25:13+02:00",
          "2022-04-18T14:26:26+02:00",
          "2022-04-18T18:24:22+02:00",
          "2022-04-18T22:24:03+02:00",
          "2022-04-19T01:24:14+02:00",
          "2022-04-19T05:24:10+02:00",
          "2022-04-19T14:24:37+02:00",
          "2022-04-19T18:24:22+02:00",
          "2022-04-19T22:24:35+02:00",
          "2022-04-20T01:24:49+02:00",
          "2022-04-20T05:23:56+02:00",
          "2022-04-20T14:24:32+02:00",
          "2022-04-20T18:24:38+02:00",
          "2022-04-20T22:24:41+02:00",
          "2022-04-21T01:24:27+02:00",
          "2022-04-21T05:24:44+02:00",
          "2022-04-21T14:24:40+02:00",
          "2022-04-21T18:24:36+02:00",
          "2022-04-21T22:24:34+02:00",
          "2022-04-22T01:24:46+02:00",
          "2022-04-22T05:24:24+02:00",
          "2022-04-22T14:24:30+02:00",
          "2022-04-22T18:24:37+02:00",
          "2022-04-22T22:24:23+02:00",
          "2022-04-23T01:24:36+02:00",
          "2022-04-23T05:24:14+02:00",
          "2022-04-23T14:24:20+02:00",
          "2022-04-23T18:24:03+02:00",
          "2022-04-23T22:24:08+02:00",
          "2022-04-24T01:24:11+02:00",
          "2022-04-24T05:24:22+02:00",
          "2022-04-24T14:24:23+02:00",
          "2022-04-24T18:24:14+02:00",
          "2022-04-24T22:24:06+02:00",
          "2022-04-25T01:24:18+02:00",
          "2022-04-25T05:24:18+02:00",
          "2022-04-25T14:26:22+02:00",
          "2022-04-25T18:25:43+02:00",
          "2022-04-25T22:25:28+02:00",
          "2022-04-26T01:25:52+02:00",
          "2022-04-26T05:26:09+02:00",
          "2022-04-26T14:25:42+02:00",
          "2022-04-26T18:25:44+02:00",
          "2022-04-26T22:25:43+02:00",
          "2022-04-27T01:26:47+02:00",
          "2022-04-27T05:26:14+02:00",
          "2022-04-27T14:25:53+02:00",
          "2022-04-27T18:26:04+02:00",
          "2022-04-27T22:25:32+02:00",
          "2022-04-28T01:26:14+02:00",
          "2022-04-28T05:25:55+02:00",
          "2022-04-28T14:26:00+02:00",
          "2022-04-28T18:26:14+02:00",
          "2022-04-28T22:26:08+02:00",
          "2022-04-29T01:25:46+02:00",
          "2022-04-29T05:26:08+02:00",
          "2022-04-29T14:26:12+02:00",
          "2022-04-29T18:26:05+02:00",
          "2022-04-29T22:25:41+02:00",
          "2022-04-30T01:25:36+02:00",
          "2022-04-30T05:25:39+02:00",
          "2022-04-30T14:25:13+02:00",
          "2022-04-30T18:25:38+02:00",
          "2022-04-30T22:26:09+02:00",
          "2022-05-01T01:25:36+02:00",
          "2022-05-01T05:26:21+02:00",
          "2022-05-01T14:25:30+02:00",
          "2022-05-01T18:26:07+02:00",
          "2022-05-01T22:25:20+02:00",
          "2022-05-02T01:25:42+02:00",
          "2022-05-02T05:25:20+02:00",
          "2022-05-02T14:26:06+02:00",
          "2022-05-02T18:26:03+02:00",
          "2022-05-02T22:25:48+02:00",
          "2022-05-03T01:27:43+02:00",
          "2022-05-03T05:26:11+02:00",
          "2022-05-03T14:26:22+02:00",
          "2022-05-03T18:26:27+02:00",
          "2022-05-03T22:26:22+02:00",
          "2022-05-04T01:26:46+02:00",
          "2022-05-04T05:25:27+02:00",
          "2022-05-04T14:26:31+02:00",
          "2022-05-04T18:26:20+02:00",
          "2022-05-04T22:25:10+02:00",
          "2022-05-05T01:26:18+02:00",
          "2022-05-05T05:26:21+02:00",
          "2022-05-05T14:26:21+02:00",
          "2022-05-05T18:26:27+02:00",
          "2022-05-05T22:26:11+02:00",
          "2022-05-06T01:26:08+02:00",
          "2022-05-06T05:26:47+02:00",
          "2022-05-06T14:26:22+02:00",
          "2022-05-06T18:26:00+02:00",
          "2022-05-06T22:25:57+02:00",
          "2022-05-07T01:26:08+02:00",
          "2022-05-07T05:26:04+02:00",
          "2022-05-07T14:26:11+02:00",
          "2022-05-07T18:26:35+02:00",
          "2022-05-07T22:26:09+02:00",
          "2022-05-08T01:25:38+02:00",
          "2022-05-08T05:25:37+02:00",
          "2022-05-08T14:25:53+02:00",
          "2022-05-08T18:26:14+02:00",
          "2022-05-08T22:25:50+02:00",
          "2022-05-09T01:26:01+02:00",
          "2022-05-09T05:25:58+02:00",
          "2022-05-09T14:26:20+02:00",
          "2022-05-09T18:26:46+02:00",
          "2022-05-09T22:28:38+02:00",
          "2022-05-10T01:26:11+02:00",
          "2022-05-10T05:25:22+02:00",
          "2022-05-10T14:26:51+02:00",
          "2022-05-10T18:26:11+02:00",
          "2022-05-10T22:26:40+02:00",
          "2022-05-11T01:26:05+02:00",
          "2022-05-11T05:27:36+02:00",
          "2022-05-11T14:28:18+02:00",
          "2022-05-11T18:28:20+02:00",
          "2022-05-11T22:26:44+02:00",
          "2022-05-12T01:29:12+02:00",
          "2022-05-12T05:29:25+02:00",
          "2022-05-12T14:32:36+02:00",
          "2022-05-12T18:27:33+02:00",
          "2022-05-12T22:27:54+02:00",
          "2022-05-13T01:27:48+02:00",
          "2022-05-13T05:28:35+02:00",
          "2022-05-13T14:28:50+02:00",
          "2022-05-13T18:27:32+02:00",
          "2022-05-13T22:27:31+02:00",
          "2022-05-14T01:27:37+02:00",
          "2022-05-14T05:28:11+02:00",
          "2022-05-14T14:28:20+02:00",
          "2022-05-14T18:27:46+02:00",
          "2022-05-14T22:27:32+02:00",
          "2022-05-15T01:27:54+02:00",
          "2022-05-15T05:27:52+02:00",
          "2022-05-15T14:28:29+02:00",
          "2022-05-15T18:27:40+02:00",
          "2022-05-15T22:27:51+02:00",
          "2022-05-16T01:27:59+02:00",
          "2022-05-16T05:28:26+02:00",
          "2022-05-16T14:29:15+02:00",
          "2022-05-16T18:27:40+02:00",
          "2022-05-16T22:28:02+02:00",
          "2022-05-17T01:28:11+02:00",
          "2022-05-17T05:28:21+02:00",
          "2022-05-17T14:28:13+02:00",
          "2022-05-17T18:27:03+02:00",
          "2022-05-17T22:26:42+02:00",
          "2022-05-18T01:27:38+02:00",
          "2022-05-18T05:27:08+02:00",
          "2022-05-18T14:29:09+02:00",
          "2022-05-18T18:28:29+02:00",
          "2022-05-18T22:28:21+02:00",
          "2022-05-19T01:29:32+02:00",
          "2022-05-19T05:29:32+02:00",
          "2022-05-19T14:30:28+02:00",
          "2022-05-19T18:28:19+02:00",
          "2022-05-19T22:28:08+02:00",
          "2022-05-20T01:29:21+02:00",
          "2022-05-20T05:28:57+02:00",
          "2022-05-20T14:29:20+02:00",
          "2022-05-20T18:28:22+02:00",
          "2022-05-20T22:28:16+02:00",
          "2022-05-21T01:31:09+02:00",
          "2022-05-21T05:29:11+02:00",
          "2022-05-21T14:29:02+02:00",
          "2022-05-21T18:27:52+02:00",
          "2022-05-21T22:27:54+02:00",
          "2022-05-22T01:28:23+02:00",
          "2022-05-22T05:28:58+02:00",
          "2022-05-22T14:28:54+02:00",
          "2022-05-22T18:28:29+02:00",
          "2022-05-22T22:28:03+02:00",
          "2022-05-23T01:28:19+02:00",
          "2022-05-23T05:29:24+02:00",
          "2022-05-23T14:29:36+02:00",
          "2022-05-23T18:28:19+02:00",
          "2022-05-23T22:28:06+02:00",
          "2022-05-24T05:29:18+02:00",
          "2022-05-24T14:29:35+02:00",
          "2022-05-24T18:28:11+02:00",
          "2022-05-24T22:28:18+02:00",
          "2022-05-25T01:29:02+02:00",
          "2022-05-25T05:29:23+02:00",
          "2022-05-25T14:29:41+02:00",
          "2022-05-25T18:28:38+02:00",
          "2022-05-25T22:28:27+02:00",
          "2022-05-26T01:29:04+02:00",
          "2022-05-26T05:27:40+02:00",
          "2022-05-26T14:30:11+02:00",
          "2022-05-26T18:28:44+02:00",
          "2022-05-26T22:29:10+02:00",
          "2022-05-27T01:29:43+02:00",
          "2022-05-27T05:28:35+02:00",
          "2022-05-27T14:30:16+02:00",
          "2022-05-27T18:30:56+02:00",
          "2022-05-27T22:30:13+02:00",
          "2022-05-28T01:31:20+02:00",
          "2022-05-28T05:31:21+02:00",
          "2022-05-28T14:28:38+02:00",
          "2022-05-28T18:28:51+02:00",
          "2022-05-28T22:28:40+02:00",
          "2022-05-29T01:30:06+02:00",
          "2022-05-29T05:29:02+02:00",
          "2022-05-29T14:28:40+02:00",
          "2022-05-29T18:29:16+02:00",
          "2022-05-29T22:28:37+02:00",
          "2022-05-30T01:30:14+02:00",
          "2022-05-30T05:30:45+02:00",
          "2022-05-30T14:29:21+02:00",
          "2022-05-30T18:30:35+02:00",
          "2022-05-30T22:28:00+02:00",
          "2022-05-31T01:28:13+02:00",
          "2022-05-31T05:27:40+02:00",
          "2022-05-31T14:29:20+02:00",
          "2022-05-31T18:28:25+02:00",
          "2022-05-31T22:28:35+02:00",
          "2022-06-01T01:29:52+02:00",
          "2022-06-01T05:28:23+02:00",
          "2022-06-01T14:27:50+02:00",
          "2022-06-01T18:26:50+02:00",
          "2022-06-01T22:28:01+02:00",
          "2022-06-02T01:26:59+02:00",
          "2022-06-02T05:25:35+02:00",
          "2022-06-02T14:25:27+02:00",
          "2022-06-02T18:24:53+02:00",
          "2022-06-02T22:25:15+02:00",
          "2022-06-03T01:25:23+02:00",
          "2022-06-03T05:24:10+02:00",
          "2022-06-03T14:25:21+02:00",
          "2022-06-03T18:25:03+02:00",
          "2022-06-03T22:24:51+02:00",
          "2022-06-04T01:25:06+02:00",
          "2022-06-04T05:25:27+02:00",
          "2022-06-04T14:25:16+02:00",
          "2022-06-04T18:25:09+02:00",
          "2022-06-04T22:25:30+02:00",
          "2022-06-05T01:25:32+02:00",
          "2022-06-05T05:25:21+02:00",
          "2022-06-05T14:25:02+02:00",
          "2022-06-05T18:30:23+02:00",
          "2022-06-05T22:29:43+02:00",
          "2022-06-06T01:28:53+02:00",
          "2022-06-06T05:26:27+02:00",
          "2022-06-06T14:25:20+02:00",
          "2022-06-06T18:25:19+02:00",
          "2022-06-06T22:24:21+02:00",
          "2022-06-07T01:26:26+02:00",
          "2022-06-07T05:24:57+02:00",
          "2022-06-07T14:25:35+02:00",
          "2022-06-07T18:25:14+02:00",
          "2022-06-07T22:24:43+02:00",
          "2022-06-08T01:26:28+02:00",
          "2022-06-08T05:25:03+02:00",
          "2022-06-08T14:25:50+02:00",
          "2022-06-08T18:25:58+02:00",
          "2022-06-08T22:26:41+02:00",
          "2022-06-09T01:26:50+02:00",
          "2022-06-09T05:26:18+02:00",
          "2022-06-09T14:26:45+02:00",
          "2022-06-09T18:26:14+02:00",
          "2022-06-09T22:26:14+02:00",
          "2022-06-10T01:25:35+02:00",
          "2022-06-10T05:27:13+02:00",
          "2022-06-10T14:25:40+02:00",
          "2022-06-10T18:26:15+02:00",
          "2022-06-10T22:25:32+02:00",
          "2022-06-11T01:25:33+02:00",
          "2022-06-11T05:26:09+02:00",
          "2022-06-11T14:25:10+02:00",
          "2022-06-11T18:25:07+02:00",
          "2022-06-11T22:25:38+02:00",
          "2022-06-12T01:25:28+02:00",
          "2022-06-12T05:25:15+02:00",
          "2022-06-12T14:25:32+02:00",
          "2022-06-12T18:25:21+02:00",
          "2022-06-12T22:25:31+02:00",
          "2022-06-13T01:25:31+02:00",
          "2022-06-13T05:25:25+02:00",
          "2022-06-13T14:26:06+02:00",
          "2022-06-13T18:25:53+02:00",
          "2022-06-13T22:25:49+02:00",
          "2022-06-14T01:25:38+02:00",
          "2022-06-14T05:25:46+02:00",
          "2022-06-14T14:26:46+02:00",
          "2022-06-14T18:25:55+02:00",
          "2022-06-14T22:25:57+02:00",
          "2022-06-15T01:25:38+02:00",
          "2022-06-15T05:25:10+02:00",
          "2022-06-15T14:25:45+02:00",
          "2022-06-15T18:25:42+02:00",
          "2022-06-15T22:25:48+02:00",
          "2022-06-16T01:25:35+02:00",
          "2022-06-16T05:25:44+02:00",
          "2022-06-16T14:26:29+02:00",
          "2022-06-16T18:25:22+02:00",
          "2022-06-16T22:25:49+02:00",
          "2022-06-17T01:25:30+02:00",
          "2022-06-17T05:25:34+02:00",
          "2022-06-17T14:25:46+02:00",
          "2022-06-17T18:25:54+02:00",
          "2022-06-17T22:25:55+02:00",
          "2022-06-18T01:25:42+02:00",
          "2022-06-18T05:26:14+02:00",
          "2022-06-18T14:28:04+02:00",
          "2022-06-18T18:25:33+02:00",
          "2022-06-18T22:25:28+02:00",
          "2022-06-19T01:25:17+02:00",
          "2022-06-19T05:25:11+02:00",
          "2022-06-19T14:25:41+02:00",
          "2022-06-19T18:25:48+02:00",
          "2022-06-19T22:25:59+02:00",
          "2022-06-20T01:25:36+02:00",
          "2022-06-20T05:25:26+02:00",
          "2022-06-20T14:26:08+02:00",
          "2022-06-20T18:25:47+02:00",
          "2022-06-20T22:26:54+02:00",
          "2022-06-21T01:25:20+02:00",
          "2022-06-21T05:25:32+02:00",
          "2022-06-21T14:26:09+02:00",
          "2022-06-21T18:25:26+02:00",
          "2022-06-21T22:25:42+02:00",
          "2022-06-22T01:25:52+02:00",
          "2022-06-22T05:26:06+02:00",
          "2022-06-22T14:26:55+02:00",
          "2022-06-22T18:26:07+02:00",
          "2022-06-22T22:26:17+02:00",
          "2022-06-23T01:25:33+02:00",
          "2022-06-23T05:25:50+02:00",
          "2022-06-23T14:26:40+02:00",
          "2022-06-23T18:26:19+02:00",
          "2022-06-23T22:26:20+02:00",
          "2022-06-24T01:28:18+02:00",
          "2022-06-24T05:26:07+02:00",
          "2022-06-24T14:26:39+02:00",
          "2022-06-24T18:26:04+02:00",
          "2022-06-24T22:26:12+02:00",
          "2022-06-25T01:25:48+02:00",
          "2022-06-25T05:25:58+02:00",
          "2022-06-25T14:26:03+02:00",
          "2022-06-25T18:25:39+02:00",
          "2022-06-25T22:25:52+02:00",
          "2022-06-26T01:25:49+02:00",
          "2022-06-26T05:25:39+02:00",
          "2022-06-26T14:26:23+02:00",
          "2022-06-26T18:26:09+02:00",
          "2022-06-26T22:25:50+02:00",
          "2022-06-27T01:26:17+02:00",
          "2022-06-27T05:25:39+02:00",
          "2022-06-27T14:26:59+02:00",
          "2022-06-27T18:26:11+02:00",
          "2022-06-27T22:26:09+02:00",
          "2022-06-28T01:25:52+02:00",
          "2022-06-28T05:25:56+02:00",
          "2022-06-28T14:26:30+02:00",
          "2022-06-28T18:26:00+02:00",
          "2022-06-28T22:25:40+02:00",
          "2022-06-29T01:25:49+02:00",
          "2022-06-29T05:26:03+02:00",
          "2022-06-29T14:27:03+02:00",
          "2022-06-29T18:26:04+02:00",
          "2022-06-29T22:26:26+02:00",
          "2022-06-30T01:25:34+02:00",
          "2022-06-30T05:25:37+02:00",
          "2022-06-30T14:27:09+02:00",
          "2022-06-30T18:26:16+02:00",
          "2022-06-30T22:26:49+02:00",
          "2022-07-01T01:26:26+02:00",
          "2022-07-01T05:25:55+02:00",
          "2022-07-01T14:26:14+02:00",
          "2022-07-01T18:25:48+02:00",
          "2022-07-01T22:26:23+02:00",
          "2022-07-02T01:26:51+02:00",
          "2022-07-02T05:26:31+02:00",
          "2022-07-02T14:26:50+02:00",
          "2022-07-02T18:26:16+02:00",
          "2022-07-02T22:26:20+02:00",
          "2022-07-03T01:26:08+02:00",
          "2022-07-03T05:26:17+02:00",
          "2022-07-03T14:25:57+02:00",
          "2022-07-03T18:26:16+02:00",
          "2022-07-03T22:26:36+02:00",
          "2022-07-04T01:26:20+02:00",
          "2022-07-04T05:25:46+02:00",
          "2022-07-04T14:26:22+02:00",
          "2022-07-04T18:25:38+02:00",
          "2022-07-04T22:25:58+02:00",
          "2022-07-05T01:26:09+02:00",
          "2022-07-05T05:25:33+02:00",
          "2022-07-05T14:26:20+02:00",
          "2022-07-05T18:25:46+02:00",
          "2022-07-05T22:25:40+02:00",
          "2022-07-06T01:26:33+02:00",
          "2022-07-06T05:25:23+02:00",
          "2022-07-06T14:26:18+02:00",
          "2022-07-06T18:25:42+02:00",
          "2022-07-06T22:25:38+02:00",
          "2022-07-07T01:25:48+02:00",
          "2022-07-07T05:25:37+02:00",
          "2022-07-07T14:26:49+02:00",
          "2022-07-07T18:26:02+02:00",
          "2022-07-07T22:29:20+02:00",
          "2022-07-08T01:25:53+02:00",
          "2022-07-08T05:25:38+02:00",
          "2022-07-08T14:26:00+02:00",
          "2022-07-08T18:25:51+02:00",
          "2022-07-08T22:25:45+02:00",
          "2022-07-09T01:26:16+02:00",
          "2022-07-09T05:26:44+02:00",
          "2022-07-09T14:25:38+02:00",
          "2022-07-09T18:26:05+02:00",
          "2022-07-09T22:25:38+02:00",
          "2022-07-10T01:26:15+02:00",
          "2022-07-10T05:25:45+02:00",
          "2022-07-10T14:25:58+02:00",
          "2022-07-10T18:25:38+02:00",
          "2022-07-10T22:25:35+02:00",
          "2022-07-11T01:25:46+02:00",
          "2022-07-11T05:24:37+02:00",
          "2022-07-11T14:25:00+02:00",
          "2022-07-11T18:24:45+02:00",
          "2022-07-11T22:24:56+02:00",
          "2022-07-12T01:27:27+02:00",
          "2022-07-12T05:24:38+02:00",
          "2022-07-12T14:25:19+02:00",
          "2022-07-12T18:25:40+02:00",
          "2022-07-12T22:24:49+02:00",
          "2022-07-13T01:25:04+02:00",
          "2022-07-13T05:28:34+02:00",
          "2022-07-13T14:25:28+02:00",
          "2022-07-13T18:25:01+02:00",
          "2022-07-13T22:25:42+02:00",
          "2022-07-14T01:24:40+02:00",
          "2022-07-14T05:25:07+02:00",
          "2022-07-14T14:26:11+02:00",
          "2022-07-14T18:25:08+02:00",
          "2022-07-14T22:25:18+02:00",
          "2022-07-15T01:24:57+02:00",
          "2022-07-15T05:24:51+02:00",
          "2022-07-15T14:25:05+02:00",
          "2022-07-15T18:24:52+02:00",
          "2022-07-15T22:24:55+02:00",
          "2022-07-16T01:25:12+02:00",
          "2022-07-16T05:25:20+02:00",
          "2022-07-16T14:25:52+02:00",
          "2022-07-16T18:25:21+02:00",
          "2022-07-16T22:24:44+02:00",
          "2022-07-17T01:25:43+02:00",
          "2022-07-17T05:24:55+02:00",
          "2022-07-17T14:24:46+02:00",
          "2022-07-17T18:24:59+02:00",
          "2022-07-17T22:24:34+02:00",
          "2022-07-18T01:25:44+02:00",
          "2022-07-18T05:24:37+02:00",
          "2022-07-18T14:25:13+02:00",
          "2022-07-18T18:25:10+02:00",
          "2022-07-18T22:25:46+02:00",
          "2022-07-19T01:26:36+02:00",
          "2022-07-19T05:24:59+02:00",
          "2022-07-19T14:29:00+02:00",
          "2022-07-19T18:28:34+02:00",
          "2022-07-19T22:27:38+02:00",
          "2022-07-20T01:28:47+02:00",
          "2022-07-20T05:27:39+02:00",
          "2022-07-20T14:28:43+02:00",
          "2022-07-20T18:28:43+02:00",
          "2022-07-20T22:28:00+02:00",
          "2022-07-21T01:27:57+02:00",
          "2022-07-21T05:27:48+02:00",
          "2022-07-21T14:29:44+02:00",
          "2022-07-21T18:29:01+02:00",
          "2022-07-21T22:29:33+02:00",
          "2022-07-22T01:28:57+02:00",
          "2022-07-22T05:28:36+02:00",
          "2022-07-22T14:30:15+02:00",
          "2022-07-22T18:29:05+02:00",
          "2022-07-22T22:29:14+02:00",
          "2022-07-23T01:30:03+02:00",
          "2022-07-23T05:28:41+02:00",
          "2022-07-23T14:27:34+02:00",
          "2022-07-23T18:27:48+02:00",
          "2022-07-23T22:27:52+02:00",
          "2022-07-24T01:27:46+02:00",
          "2022-07-24T05:27:54+02:00",
          "2022-07-24T14:28:00+02:00",
          "2022-07-24T18:28:15+02:00",
          "2022-07-24T22:27:37+02:00",
          "2022-07-25T01:27:47+02:00",
          "2022-07-25T05:28:26+02:00",
          "2022-07-25T14:31:53+02:00",
          "2022-07-25T18:28:28+02:00",
          "2022-07-25T22:28:53+02:00",
          "2022-07-26T01:29:24+02:00",
          "2022-07-26T05:29:02+02:00",
          "2022-07-26T07:20:54+02:00",
          "2022-07-26T14:29:24+02:00",
          "2022-07-26T18:28:32+02:00",
          "2022-07-26T22:29:21+02:00",
          "2022-07-27T01:28:37+02:00",
          "2022-07-27T05:27:45+02:00",
          "2022-07-27T14:29:13+02:00",
          "2022-07-27T18:28:16+02:00",
          "2022-07-27T22:28:18+02:00",
          "2022-07-28T01:28:13+02:00",
          "2022-07-28T05:28:01+02:00",
          "2022-07-28T14:30:12+02:00",
          "2022-07-28T18:29:04+02:00",
          "2022-07-28T22:28:03+02:00",
          "2022-07-29T01:29:30+02:00",
          "2022-07-29T05:29:02+02:00",
          "2022-07-29T14:29:21+02:00",
          "2022-07-29T18:29:17+02:00",
          "2022-07-29T22:29:17+02:00",
          "2022-07-30T01:29:55+02:00",
          "2022-07-30T05:29:02+02:00",
          "2022-07-30T14:28:27+02:00",
          "2022-07-30T18:28:50+02:00",
          "2022-07-30T22:29:02+02:00",
          "2022-07-31T01:28:16+02:00",
          "2022-07-31T05:28:36+02:00",
          "2022-07-31T14:28:24+02:00",
          "2022-07-31T18:29:13+02:00",
          "2022-07-31T22:28:29+02:00",
          "2022-08-01T01:29:07+02:00",
          "2022-08-01T05:28:20+02:00",
          "2022-08-01T14:30:05+02:00",
          "2022-08-01T18:29:26+02:00",
          "2022-08-01T22:29:35+02:00",
          "2022-08-02T01:29:16+02:00",
          "2022-08-02T05:28:25+02:00",
          "2022-08-02T14:30:35+02:00",
          "2022-08-02T18:29:29+02:00",
          "2022-08-02T22:29:46+02:00"
         ],
         "y": [
          -0.21531213809274213,
          -0.21531213809274213,
          -0.21531213809274213,
          1.9831381140120987,
          -0.21531213809274213,
          -0.21531213809274213,
          -0.21531213809274213,
          1.9831381140120987,
          -0.21531213809274213,
          -0.21531213809274213,
          -0.21531213809274213,
          -0.21531213809274213,
          -0.21531213809274213,
          -0.21531213809274213,
          -0.21531213809274213,
          -0.21531213809274213,
          -0.21531213809274213,
          -0.21531213809274213,
          -0.21531213809274213,
          -0.21531213809274213,
          -0.21531213809274213,
          -0.21531213809274213,
          -0.21531213809274213,
          -0.21531213809274213,
          -0.21531213809274213,
          -0.21531213809274213,
          -0.21531213809274213,
          -0.21531213809274213,
          -0.21531213809274213,
          -0.21531213809274213,
          -0.21531213809274213,
          -0.21531213809274213,
          -0.21531213809274213,
          -0.21531213809274213,
          -0.21531213809274213,
          -0.21531213809274213,
          -0.21531213809274213,
          -0.21531213809274213,
          1.9831381140120987,
          -0.21531213809274213,
          -0.21531213809274213,
          -0.21531213809274213,
          -0.21531213809274213,
          -0.21531213809274213,
          -0.21531213809274213,
          -0.21531213809274213,
          -0.21531213809274213,
          -0.21531213809274213,
          -0.21531213809274213,
          -0.21531213809274213,
          -0.21531213809274213,
          -0.21531213809274213,
          -0.21531213809274213,
          -0.21531213809274213,
          1.9831381140120987,
          -0.21531213809274213,
          -0.21531213809274213,
          -0.21531213809274213,
          -0.21531213809274213,
          -0.21531213809274213,
          -0.21531213809274213,
          -0.21531213809274213,
          -0.21531213809274213,
          -0.21531213809274213,
          -0.21531213809274213,
          -0.21531213809274213,
          -0.21531213809274213,
          -0.21531213809274213,
          -0.21531213809274213,
          -0.21531213809274213,
          -0.21531213809274213,
          -0.21531213809274213,
          -0.21531213809274213,
          -0.21531213809274213,
          -0.21531213809274213,
          -0.21531213809274213,
          -0.21531213809274213,
          -0.21531213809274213,
          -0.21531213809274213,
          -0.21531213809274213,
          -0.21531213809274213,
          -0.21531213809274213,
          -0.21531213809274213,
          -0.21531213809274213,
          -0.21531213809274213,
          -0.21531213809274213,
          -0.21531213809274213,
          -0.21531213809274213,
          -0.21531213809274213,
          -0.21531213809274213,
          -0.21531213809274213,
          -0.21531213809274213,
          -0.21531213809274213,
          -0.21531213809274213,
          -0.21531213809274213,
          -0.21531213809274213,
          -0.21531213809274213,
          -0.21531213809274213,
          -0.21531213809274213,
          -0.21531213809274213,
          -0.21531213809274213,
          -0.21531213809274213,
          -0.21531213809274213,
          1.9831381140120987,
          -0.21531213809274213,
          -0.21531213809274213,
          -0.21531213809274213,
          1.9831381140120987,
          -0.21531213809274213,
          -0.21531213809274213,
          -0.21531213809274213,
          -0.21531213809274213,
          12.975389374536304,
          1.9831381140120987,
          -0.21531213809274213,
          -0.21531213809274213,
          -0.21531213809274213,
          -0.21531213809274213,
          -0.21531213809274213,
          -0.21531213809274213,
          -0.21531213809274213,
          -0.21531213809274213,
          -0.21531213809274213,
          1.9831381140120987,
          -0.21531213809274213,
          -0.21531213809274213,
          -0.21531213809274213,
          -0.21531213809274213,
          -0.21531213809274213,
          -0.21531213809274213,
          -0.21531213809274213,
          -0.21531213809274213,
          -0.21531213809274213,
          -0.21531213809274213,
          -0.21531213809274213,
          -0.21531213809274213,
          -0.21531213809274213,
          -0.21531213809274213,
          -0.21531213809274213,
          -0.21531213809274213,
          -0.21531213809274213,
          -0.21531213809274213,
          -0.21531213809274213,
          -0.21531213809274213,
          -0.21531213809274213,
          -0.21531213809274213,
          -0.21531213809274213,
          -0.21531213809274213,
          -0.21531213809274213,
          -0.21531213809274213,
          -0.21531213809274213,
          -0.21531213809274213,
          -0.21531213809274213,
          1.9831381140120987,
          4.181588366116939,
          1.9831381140120987,
          -0.21531213809274213,
          -0.21531213809274213,
          -0.21531213809274213,
          -0.21531213809274213,
          -0.21531213809274213,
          -0.21531213809274213,
          -0.21531213809274213,
          -0.21531213809274213,
          -0.21531213809274213,
          -0.21531213809274213,
          -0.21531213809274213,
          -0.21531213809274213,
          -0.21531213809274213,
          -0.21531213809274213,
          -0.21531213809274213,
          -0.21531213809274213,
          1.9831381140120987,
          -0.21531213809274213,
          -0.21531213809274213,
          -0.21531213809274213,
          -0.21531213809274213,
          -0.21531213809274213,
          1.9831381140120987,
          -0.21531213809274213,
          -0.21531213809274213,
          -0.21531213809274213,
          1.9831381140120987,
          -0.21531213809274213,
          -0.21531213809274213,
          -0.21531213809274213,
          -0.21531213809274213,
          -0.21531213809274213,
          -0.21531213809274213,
          -0.21531213809274213,
          -0.21531213809274213,
          -0.21531213809274213,
          -0.21531213809274213,
          4.181588366116939,
          -0.21531213809274213,
          -0.21531213809274213,
          -0.21531213809274213,
          -0.21531213809274213,
          -0.21531213809274213,
          -0.21531213809274213,
          -0.21531213809274213,
          -0.21531213809274213,
          -0.21531213809274213,
          -0.21531213809274213,
          -0.21531213809274213,
          -0.21531213809274213,
          -0.21531213809274213,
          -0.21531213809274213,
          6.38003861822178,
          -0.21531213809274213,
          -0.21531213809274213,
          -0.21531213809274213,
          -0.21531213809274213,
          -0.21531213809274213,
          -0.21531213809274213,
          -0.21531213809274213,
          -0.21531213809274213,
          -0.21531213809274213,
          -0.21531213809274213,
          -0.21531213809274213,
          -0.21531213809274213,
          -0.21531213809274213,
          -0.21531213809274213,
          -0.21531213809274213,
          -0.21531213809274213,
          -0.21531213809274213,
          -0.21531213809274213,
          -0.21531213809274213,
          -0.21531213809274213,
          -0.21531213809274213,
          -0.21531213809274213,
          -0.21531213809274213,
          -0.21531213809274213,
          -0.21531213809274213,
          -0.21531213809274213,
          -0.21531213809274213,
          -0.21531213809274213,
          -0.21531213809274213,
          -0.21531213809274213,
          -0.21531213809274213,
          -0.21531213809274213,
          -0.21531213809274213,
          -0.21531213809274213,
          -0.21531213809274213,
          -0.21531213809274213,
          -0.21531213809274213,
          -0.21531213809274213,
          -0.21531213809274213,
          1.9831381140120987,
          1.9831381140120987,
          -0.21531213809274213,
          -0.21531213809274213,
          -0.21531213809274213,
          -0.21531213809274213,
          -0.21531213809274213,
          -0.21531213809274213,
          -0.21531213809274213,
          -0.21531213809274213,
          -0.21531213809274213,
          -0.21531213809274213,
          -0.21531213809274213,
          -0.21531213809274213,
          -0.21531213809274213,
          -0.21531213809274213,
          1.9831381140120987,
          -0.21531213809274213,
          -0.21531213809274213,
          -0.21531213809274213,
          -0.21531213809274213,
          -0.21531213809274213,
          -0.21531213809274213,
          -0.21531213809274213,
          -0.21531213809274213,
          -0.21531213809274213,
          -0.21531213809274213,
          -0.21531213809274213,
          -0.21531213809274213,
          -0.21531213809274213,
          4.181588366116939,
          -0.21531213809274213,
          -0.21531213809274213,
          -0.21531213809274213,
          -0.21531213809274213,
          -0.21531213809274213,
          1.9831381140120987,
          -0.21531213809274213,
          -0.21531213809274213,
          -0.21531213809274213,
          1.9831381140120987,
          -0.21531213809274213,
          -0.21531213809274213,
          -0.21531213809274213,
          -0.21531213809274213,
          1.9831381140120987,
          -0.21531213809274213,
          -0.21531213809274213,
          -0.21531213809274213,
          -0.21531213809274213,
          -0.21531213809274213,
          -0.21531213809274213,
          -0.21531213809274213,
          -0.21531213809274213,
          -0.21531213809274213,
          -0.21531213809274213,
          -0.21531213809274213,
          -0.21531213809274213,
          -0.21531213809274213,
          -0.21531213809274213,
          -0.21531213809274213,
          -0.21531213809274213,
          -0.21531213809274213,
          -0.21531213809274213,
          -0.21531213809274213,
          -0.21531213809274213,
          -0.21531213809274213,
          -0.21531213809274213,
          -0.21531213809274213,
          -0.21531213809274213,
          1.9831381140120987,
          -0.21531213809274213,
          -0.21531213809274213,
          -0.21531213809274213,
          -0.21531213809274213,
          -0.21531213809274213,
          -0.21531213809274213,
          -0.21531213809274213,
          -0.21531213809274213,
          -0.21531213809274213,
          -0.21531213809274213,
          -0.21531213809274213,
          -0.21531213809274213,
          -0.21531213809274213,
          -0.21531213809274213,
          1.9831381140120987,
          1.9831381140120987,
          6.38003861822178,
          -0.21531213809274213,
          -0.21531213809274213,
          -0.21531213809274213,
          -0.21531213809274213,
          -0.21531213809274213,
          -0.21531213809274213,
          -0.21531213809274213,
          -0.21531213809274213,
          -0.21531213809274213,
          -0.21531213809274213,
          -0.21531213809274213,
          -0.21531213809274213,
          1.9831381140120987,
          1.9831381140120987,
          -0.21531213809274213,
          -0.21531213809274213,
          -0.21531213809274213,
          1.9831381140120987,
          -0.21531213809274213,
          -0.21531213809274213,
          -0.21531213809274213,
          -0.21531213809274213,
          -0.21531213809274213,
          -0.21531213809274213,
          -0.21531213809274213,
          -0.21531213809274213,
          -0.21531213809274213,
          -0.21531213809274213,
          -0.21531213809274213,
          -0.21531213809274213,
          -0.21531213809274213,
          -0.21531213809274213,
          -0.21531213809274213,
          -0.21531213809274213,
          -0.21531213809274213,
          -0.21531213809274213,
          -0.21531213809274213,
          -0.21531213809274213,
          -0.21531213809274213,
          -0.21531213809274213,
          -0.21531213809274213,
          -0.21531213809274213,
          -0.21531213809274213,
          -0.21531213809274213,
          -0.21531213809274213,
          -0.21531213809274213,
          -0.21531213809274213,
          -0.21531213809274213,
          -0.21531213809274213,
          6.38003861822178,
          -0.21531213809274213,
          -0.21531213809274213,
          -0.21531213809274213,
          -0.21531213809274213,
          -0.21531213809274213,
          -0.21531213809274213,
          -0.21531213809274213,
          -0.21531213809274213,
          -0.21531213809274213,
          -0.21531213809274213,
          -0.21531213809274213,
          -0.21531213809274213,
          -0.21531213809274213,
          1.9831381140120987,
          -0.21531213809274213,
          -0.21531213809274213,
          -0.21531213809274213,
          -0.21531213809274213,
          -0.21531213809274213,
          -0.21531213809274213,
          -0.21531213809274213,
          -0.21531213809274213,
          -0.21531213809274213,
          -0.21531213809274213,
          -0.21531213809274213,
          -0.21531213809274213,
          -0.21531213809274213,
          -0.21531213809274213,
          -0.21531213809274213,
          -0.21531213809274213,
          -0.21531213809274213,
          -0.21531213809274213,
          1.9831381140120987,
          -0.21531213809274213,
          -0.21531213809274213,
          -0.21531213809274213,
          -0.21531213809274213,
          1.9831381140120987,
          -0.21531213809274213,
          -0.21531213809274213,
          -0.21531213809274213,
          -0.21531213809274213,
          -0.21531213809274213,
          -0.21531213809274213,
          -0.21531213809274213,
          -0.21531213809274213,
          -0.21531213809274213,
          -0.21531213809274213,
          -0.21531213809274213,
          -0.21531213809274213,
          -0.21531213809274213,
          -0.21531213809274213,
          -0.21531213809274213,
          -0.21531213809274213,
          -0.21531213809274213,
          -0.21531213809274213,
          -0.21531213809274213,
          -0.21531213809274213,
          -0.21531213809274213,
          -0.21531213809274213,
          -0.21531213809274213,
          -0.21531213809274213,
          -0.21531213809274213,
          -0.21531213809274213,
          -0.21531213809274213,
          -0.21531213809274213,
          -0.21531213809274213,
          -0.21531213809274213,
          -0.21531213809274213,
          -0.21531213809274213,
          -0.21531213809274213,
          -0.21531213809274213,
          -0.21531213809274213,
          -0.21531213809274213,
          -0.21531213809274213,
          -0.21531213809274213,
          -0.21531213809274213,
          -0.21531213809274213,
          -0.21531213809274213,
          -0.21531213809274213,
          -0.21531213809274213,
          1.9831381140120987,
          -0.21531213809274213,
          -0.21531213809274213,
          -0.21531213809274213,
          -0.21531213809274213,
          -0.21531213809274213,
          -0.21531213809274213,
          -0.21531213809274213,
          -0.21531213809274213,
          -0.21531213809274213,
          -0.21531213809274213,
          -0.21531213809274213,
          -0.21531213809274213,
          -0.21531213809274213,
          -0.21531213809274213,
          -0.21531213809274213,
          -0.21531213809274213,
          -0.21531213809274213,
          -0.21531213809274213,
          -0.21531213809274213,
          -0.21531213809274213,
          -0.21531213809274213,
          -0.21531213809274213,
          -0.21531213809274213,
          -0.21531213809274213,
          -0.21531213809274213,
          -0.21531213809274213,
          -0.21531213809274213,
          -0.21531213809274213,
          -0.21531213809274213,
          -0.21531213809274213,
          -0.21531213809274213,
          -0.21531213809274213,
          -0.21531213809274213,
          -0.21531213809274213,
          -0.21531213809274213,
          -0.21531213809274213,
          -0.21531213809274213,
          -0.21531213809274213,
          -0.21531213809274213,
          -0.21531213809274213,
          -0.21531213809274213,
          -0.21531213809274213,
          -0.21531213809274213,
          -0.21531213809274213,
          -0.21531213809274213,
          -0.21531213809274213,
          -0.21531213809274213,
          -0.21531213809274213,
          -0.21531213809274213,
          -0.21531213809274213,
          -0.21531213809274213,
          -0.21531213809274213,
          -0.21531213809274213,
          -0.21531213809274213,
          -0.21531213809274213,
          -0.21531213809274213,
          -0.21531213809274213,
          -0.21531213809274213,
          -0.21531213809274213,
          -0.21531213809274213,
          -0.21531213809274213,
          -0.21531213809274213,
          -0.21531213809274213,
          -0.21531213809274213,
          1.9831381140120987,
          -0.21531213809274213,
          -0.21531213809274213,
          -0.21531213809274213,
          -0.21531213809274213,
          -0.21531213809274213,
          -0.21531213809274213,
          -0.21531213809274213,
          -0.21531213809274213,
          -0.21531213809274213,
          -0.21531213809274213,
          -0.21531213809274213,
          -0.21531213809274213,
          -0.21531213809274213,
          -0.21531213809274213,
          -0.21531213809274213,
          -0.21531213809274213,
          -0.21531213809274213,
          -0.21531213809274213,
          -0.21531213809274213,
          -0.21531213809274213,
          -0.21531213809274213,
          -0.21531213809274213,
          -0.21531213809274213,
          -0.21531213809274213,
          -0.21531213809274213,
          -0.21531213809274213,
          -0.21531213809274213,
          -0.21531213809274213,
          -0.21531213809274213,
          -0.21531213809274213,
          -0.21531213809274213,
          -0.21531213809274213,
          -0.21531213809274213,
          -0.21531213809274213,
          -0.21531213809274213,
          -0.21531213809274213,
          -0.21531213809274213,
          -0.21531213809274213,
          -0.21531213809274213,
          -0.21531213809274213,
          4.181588366116939,
          -0.21531213809274213,
          -0.21531213809274213,
          -0.21531213809274213,
          -0.21531213809274213,
          -0.21531213809274213,
          -0.21531213809274213,
          -0.21531213809274213,
          -0.21531213809274213,
          -0.21531213809274213,
          -0.21531213809274213,
          -0.21531213809274213,
          -0.21531213809274213,
          -0.21531213809274213,
          -0.21531213809274213,
          -0.21531213809274213,
          -0.21531213809274213,
          -0.21531213809274213,
          -0.21531213809274213,
          -0.21531213809274213,
          -0.21531213809274213,
          -0.21531213809274213,
          -0.21531213809274213,
          -0.21531213809274213,
          -0.21531213809274213,
          -0.21531213809274213,
          -0.21531213809274213,
          -0.21531213809274213,
          -0.21531213809274213,
          -0.21531213809274213,
          -0.21531213809274213,
          -0.21531213809274213,
          -0.21531213809274213,
          -0.21531213809274213,
          -0.21531213809274213,
          -0.21531213809274213,
          -0.21531213809274213,
          -0.21531213809274213,
          -0.21531213809274213,
          1.9831381140120987,
          -0.21531213809274213,
          -0.21531213809274213,
          -0.21531213809274213,
          -0.21531213809274213,
          -0.21531213809274213,
          -0.21531213809274213,
          -0.21531213809274213,
          -0.21531213809274213,
          -0.21531213809274213,
          -0.21531213809274213,
          -0.21531213809274213,
          -0.21531213809274213,
          -0.21531213809274213,
          -0.21531213809274213,
          -0.21531213809274213,
          -0.21531213809274213,
          -0.21531213809274213,
          -0.21531213809274213,
          -0.21531213809274213,
          -0.21531213809274213,
          -0.21531213809274213,
          -0.21531213809274213,
          -0.21531213809274213,
          -0.21531213809274213,
          -0.21531213809274213,
          -0.21531213809274213,
          -0.21531213809274213,
          -0.21531213809274213,
          -0.21531213809274213,
          -0.21531213809274213,
          -0.21531213809274213,
          -0.21531213809274213,
          -0.21531213809274213,
          -0.21531213809274213,
          -0.21531213809274213,
          -0.21531213809274213,
          -0.21531213809274213,
          -0.21531213809274213,
          -0.21531213809274213,
          -0.21531213809274213,
          -0.21531213809274213,
          -0.21531213809274213,
          -0.21531213809274213,
          -0.21531213809274213,
          -0.21531213809274213,
          -0.21531213809274213,
          -0.21531213809274213,
          -0.21531213809274213,
          -0.21531213809274213,
          -0.21531213809274213,
          -0.21531213809274213,
          -0.21531213809274213,
          -0.21531213809274213,
          -0.21531213809274213,
          -0.21531213809274213,
          -0.21531213809274213,
          6.38003861822178,
          -0.21531213809274213,
          -0.21531213809274213,
          -0.21531213809274213,
          -0.21531213809274213,
          -0.21531213809274213,
          -0.21531213809274213,
          -0.21531213809274213,
          1.9831381140120987,
          -0.21531213809274213,
          -0.21531213809274213,
          -0.21531213809274213,
          -0.21531213809274213,
          -0.21531213809274213,
          -0.21531213809274213,
          -0.21531213809274213,
          -0.21531213809274213,
          -0.21531213809274213,
          -0.21531213809274213,
          -0.21531213809274213,
          -0.21531213809274213,
          -0.21531213809274213,
          -0.21531213809274213,
          -0.21531213809274213,
          -0.21531213809274213,
          -0.21531213809274213,
          -0.21531213809274213,
          -0.21531213809274213,
          -0.21531213809274213,
          1.9831381140120987,
          10.776939122431463,
          -0.21531213809274213,
          -0.21531213809274213,
          -0.21531213809274213,
          -0.21531213809274213,
          6.38003861822178,
          -0.21531213809274213,
          -0.21531213809274213,
          1.9831381140120987,
          -0.21531213809274213,
          -0.21531213809274213,
          -0.21531213809274213,
          -0.21531213809274213,
          -0.21531213809274213,
          -0.21531213809274213,
          -0.21531213809274213,
          -0.21531213809274213,
          -0.21531213809274213,
          1.9831381140120987,
          -0.21531213809274213,
          -0.21531213809274213,
          -0.21531213809274213,
          -0.21531213809274213,
          -0.21531213809274213,
          -0.21531213809274213,
          -0.21531213809274213,
          -0.21531213809274213,
          -0.21531213809274213,
          -0.21531213809274213,
          -0.21531213809274213,
          -0.21531213809274213,
          -0.21531213809274213,
          -0.21531213809274213,
          -0.21531213809274213,
          -0.21531213809274213,
          -0.21531213809274213,
          -0.21531213809274213,
          -0.21531213809274213,
          -0.21531213809274213,
          4.181588366116939,
          -0.21531213809274213,
          -0.21531213809274213,
          -0.21531213809274213,
          -0.21531213809274213,
          -0.21531213809274213,
          1.9831381140120987,
          -0.21531213809274213,
          -0.21531213809274213,
          -0.21531213809274213,
          -0.21531213809274213,
          -0.21531213809274213,
          -0.21531213809274213,
          -0.21531213809274213,
          -0.21531213809274213,
          -0.21531213809274213,
          -0.21531213809274213,
          -0.21531213809274213,
          -0.21531213809274213,
          -0.21531213809274213,
          -0.21531213809274213,
          -0.21531213809274213,
          -0.21531213809274213,
          -0.21531213809274213,
          -0.21531213809274213,
          -0.21531213809274213,
          -0.21531213809274213,
          -0.21531213809274213,
          -0.21531213809274213,
          -0.21531213809274213,
          4.181588366116939,
          1.9831381140120987,
          -0.21531213809274213,
          -0.21531213809274213,
          -0.21531213809274213,
          -0.21531213809274213,
          1.9831381140120987,
          -0.21531213809274213
         ]
        },
        {
         "line": {
          "color": "red",
          "width": 1
         },
         "mode": "markers",
         "name": "anomaly",
         "type": "scatter",
         "x": [
          "2022-03-01T01:23:58+01:00",
          "2022-03-01T05:23:45+01:00",
          "2022-03-01T14:24:22+01:00",
          "2022-03-01T18:24:06+01:00",
          "2022-03-01T22:23:46+01:00",
          "2022-03-02T01:24:02+01:00",
          "2022-03-02T05:24:44+01:00",
          "2022-03-02T14:24:18+01:00",
          "2022-03-02T18:23:38+01:00",
          "2022-03-02T22:23:45+01:00",
          "2022-03-03T01:24:11+01:00",
          "2022-03-03T05:24:03+01:00",
          "2022-03-03T14:24:42+01:00",
          "2022-03-03T18:23:57+01:00",
          "2022-03-03T22:23:39+01:00",
          "2022-03-04T01:24:08+01:00",
          "2022-03-04T05:24:03+01:00",
          "2022-03-04T14:24:05+01:00",
          "2022-03-04T18:23:56+01:00",
          "2022-03-04T22:23:55+01:00",
          "2022-03-05T01:24:03+01:00",
          "2022-03-05T05:23:38+01:00",
          "2022-03-05T14:23:35+01:00",
          "2022-03-05T18:23:35+01:00",
          "2022-03-05T22:23:50+01:00",
          "2022-03-06T01:23:54+01:00",
          "2022-03-06T05:24:01+01:00",
          "2022-03-06T14:23:52+01:00",
          "2022-03-06T18:23:32+01:00",
          "2022-03-06T22:23:49+01:00",
          "2022-03-07T01:23:31+01:00",
          "2022-03-07T05:23:58+01:00",
          "2022-03-07T14:24:16+01:00",
          "2022-03-07T18:23:55+01:00",
          "2022-03-07T22:24:00+01:00",
          "2022-03-08T01:23:57+01:00",
          "2022-03-08T05:23:58+01:00",
          "2022-03-08T14:24:25+01:00",
          "2022-03-08T18:23:57+01:00",
          "2022-03-08T22:24:13+01:00",
          "2022-03-09T01:24:07+01:00",
          "2022-03-09T05:24:10+01:00",
          "2022-03-09T14:24:47+01:00",
          "2022-03-09T18:24:06+01:00",
          "2022-03-09T22:24:30+01:00",
          "2022-03-10T01:24:10+01:00",
          "2022-03-10T05:24:18+01:00",
          "2022-03-10T14:24:29+01:00",
          "2022-03-10T18:24:31+01:00",
          "2022-03-10T22:24:15+01:00",
          "2022-03-11T01:23:53+01:00",
          "2022-03-11T05:24:14+01:00",
          "2022-03-11T14:24:33+01:00",
          "2022-03-11T18:24:04+01:00",
          "2022-03-11T22:24:01+01:00",
          "2022-03-12T01:23:56+01:00",
          "2022-03-12T05:23:59+01:00",
          "2022-03-12T14:23:54+01:00",
          "2022-03-12T18:23:59+01:00",
          "2022-03-12T22:24:16+01:00",
          "2022-03-13T01:24:13+01:00",
          "2022-03-13T05:24:09+01:00",
          "2022-03-13T13:23:56+01:00",
          "2022-03-13T17:24:12+01:00",
          "2022-03-13T21:24:15+01:00",
          "2022-03-14T00:24:15+01:00",
          "2022-03-14T04:24:00+01:00",
          "2022-03-14T13:24:43+01:00",
          "2022-03-14T17:23:58+01:00",
          "2022-03-14T21:24:15+01:00",
          "2022-03-15T00:24:16+01:00",
          "2022-03-15T04:23:54+01:00",
          "2022-03-15T13:24:18+01:00",
          "2022-03-15T17:24:19+01:00",
          "2022-03-15T21:24:12+01:00",
          "2022-03-16T00:24:13+01:00",
          "2022-03-16T04:24:38+01:00",
          "2022-03-16T13:24:16+01:00",
          "2022-03-16T17:24:16+01:00",
          "2022-03-16T21:24:01+01:00",
          "2022-03-17T00:23:51+01:00",
          "2022-03-17T04:24:05+01:00",
          "2022-03-17T13:23:57+01:00",
          "2022-03-17T17:23:58+01:00",
          "2022-03-17T21:24:00+01:00",
          "2022-03-18T00:23:58+01:00",
          "2022-03-18T04:23:41+01:00",
          "2022-03-18T13:24:17+01:00",
          "2022-03-18T17:24:18+01:00",
          "2022-03-18T21:24:25+01:00",
          "2022-03-19T00:23:58+01:00",
          "2022-03-19T04:24:27+01:00",
          "2022-03-19T13:24:23+01:00",
          "2022-03-19T17:24:18+01:00",
          "2022-03-19T21:24:18+01:00",
          "2022-03-20T00:24:17+01:00",
          "2022-03-20T04:24:16+01:00",
          "2022-03-20T13:25:00+01:00",
          "2022-03-20T17:24:19+01:00",
          "2022-03-20T21:24:19+01:00",
          "2022-03-21T00:23:53+01:00",
          "2022-03-21T04:24:17+01:00",
          "2022-03-21T13:24:21+01:00",
          "2022-03-21T17:24:14+01:00",
          "2022-03-21T21:23:56+01:00",
          "2022-03-22T00:24:13+01:00",
          "2022-03-22T04:23:35+01:00",
          "2022-03-22T13:24:25+01:00",
          "2022-03-22T17:24:17+01:00",
          "2022-03-22T21:23:55+01:00",
          "2022-03-23T00:24:37+01:00",
          "2022-03-23T04:24:20+01:00",
          "2022-03-23T13:24:47+01:00",
          "2022-03-23T17:24:42+01:00",
          "2022-03-23T21:24:39+01:00",
          "2022-03-24T00:24:35+01:00",
          "2022-03-24T04:24:18+01:00",
          "2022-03-24T13:24:37+01:00",
          "2022-03-24T17:24:35+01:00",
          "2022-03-24T21:24:21+01:00",
          "2022-03-25T00:24:35+01:00",
          "2022-03-25T04:24:21+01:00",
          "2022-03-25T13:23:39+01:00",
          "2022-03-25T17:23:19+01:00",
          "2022-03-25T21:23:19+01:00",
          "2022-03-26T00:23:18+01:00",
          "2022-03-26T04:23:46+01:00",
          "2022-03-26T13:23:39+01:00",
          "2022-03-26T17:23:39+01:00",
          "2022-03-26T21:23:33+01:00",
          "2022-03-27T00:23:40+01:00",
          "2022-03-27T05:23:18+02:00",
          "2022-03-27T14:23:43+02:00",
          "2022-03-27T18:23:24+02:00",
          "2022-03-27T22:23:16+02:00",
          "2022-03-28T01:23:34+02:00",
          "2022-03-28T05:23:37+02:00",
          "2022-03-28T14:24:00+02:00",
          "2022-03-28T18:23:13+02:00",
          "2022-03-28T22:23:29+02:00",
          "2022-03-29T01:23:55+02:00",
          "2022-03-29T05:23:40+02:00",
          "2022-03-29T14:23:39+02:00",
          "2022-03-29T18:23:20+02:00",
          "2022-03-29T22:23:29+02:00",
          "2022-03-30T01:23:38+02:00",
          "2022-03-30T05:23:40+02:00",
          "2022-03-30T14:23:59+02:00",
          "2022-03-30T18:23:37+02:00",
          "2022-03-30T22:23:40+02:00",
          "2022-03-31T01:23:17+02:00",
          "2022-03-31T05:23:44+02:00",
          "2022-03-31T14:23:42+02:00",
          "2022-03-31T18:23:40+02:00",
          "2022-03-31T22:23:44+02:00",
          "2022-04-01T01:23:44+02:00",
          "2022-04-01T05:23:43+02:00",
          "2022-04-01T14:24:09+02:00",
          "2022-04-01T18:23:30+02:00",
          "2022-04-01T22:24:20+02:00",
          "2022-04-02T01:23:16+02:00",
          "2022-04-02T05:23:25+02:00",
          "2022-04-02T14:23:22+02:00",
          "2022-04-02T18:23:42+02:00",
          "2022-04-02T22:23:01+02:00",
          "2022-04-03T01:23:24+02:00",
          "2022-04-03T05:23:34+02:00",
          "2022-04-03T14:23:41+02:00",
          "2022-04-03T18:23:24+02:00",
          "2022-04-03T22:23:43+02:00",
          "2022-04-04T01:23:28+02:00",
          "2022-04-04T05:23:44+02:00",
          "2022-04-04T14:24:10+02:00",
          "2022-04-04T18:23:45+02:00",
          "2022-04-04T22:23:46+02:00",
          "2022-04-05T01:23:39+02:00",
          "2022-04-05T05:23:44+02:00",
          "2022-04-05T14:24:08+02:00",
          "2022-04-05T18:23:51+02:00",
          "2022-04-05T22:23:42+02:00",
          "2022-04-06T01:23:47+02:00",
          "2022-04-06T05:23:46+02:00",
          "2022-04-06T14:24:05+02:00",
          "2022-04-06T16:29:26+02:00",
          "2022-04-06T18:25:17+02:00",
          "2022-04-06T22:25:12+02:00",
          "2022-04-07T01:25:02+02:00",
          "2022-04-07T05:25:13+02:00",
          "2022-04-07T14:25:12+02:00",
          "2022-04-07T18:25:08+02:00",
          "2022-04-07T22:24:49+02:00",
          "2022-04-08T01:25:06+02:00",
          "2022-04-08T05:25:16+02:00",
          "2022-04-08T14:25:24+02:00",
          "2022-04-08T18:24:45+02:00",
          "2022-04-08T22:25:04+02:00",
          "2022-04-09T01:25:11+02:00",
          "2022-04-09T05:24:58+02:00",
          "2022-04-09T14:25:03+02:00",
          "2022-04-09T18:24:54+02:00",
          "2022-04-09T22:24:54+02:00",
          "2022-04-10T01:25:03+02:00",
          "2022-04-10T05:24:53+02:00",
          "2022-04-10T14:25:11+02:00",
          "2022-04-10T18:25:17+02:00",
          "2022-04-10T22:25:10+02:00",
          "2022-04-11T01:24:42+02:00",
          "2022-04-11T05:25:03+02:00",
          "2022-04-11T14:25:49+02:00",
          "2022-04-11T18:25:13+02:00",
          "2022-04-11T22:25:23+02:00",
          "2022-04-12T01:25:38+02:00",
          "2022-04-12T05:25:25+02:00",
          "2022-04-12T14:26:15+02:00",
          "2022-04-12T18:25:14+02:00",
          "2022-04-12T22:25:30+02:00",
          "2022-04-13T01:25:18+02:00",
          "2022-04-13T05:25:12+02:00",
          "2022-04-13T14:25:45+02:00",
          "2022-04-13T18:25:09+02:00",
          "2022-04-13T22:25:07+02:00",
          "2022-04-14T01:25:17+02:00",
          "2022-04-14T05:25:29+02:00",
          "2022-04-14T14:25:35+02:00",
          "2022-04-14T18:25:22+02:00",
          "2022-04-14T22:25:19+02:00",
          "2022-04-15T01:25:21+02:00",
          "2022-04-15T05:25:20+02:00",
          "2022-04-15T14:25:32+02:00",
          "2022-04-15T18:25:16+02:00",
          "2022-04-15T22:25:38+02:00",
          "2022-04-16T01:25:34+02:00",
          "2022-04-16T05:25:09+02:00",
          "2022-04-16T14:25:18+02:00",
          "2022-04-16T18:25:35+02:00",
          "2022-04-16T22:25:16+02:00",
          "2022-04-17T01:24:59+02:00",
          "2022-04-17T05:25:10+02:00",
          "2022-04-17T14:25:04+02:00",
          "2022-04-17T18:25:23+02:00",
          "2022-04-17T22:24:58+02:00",
          "2022-04-18T01:25:03+02:00",
          "2022-04-18T05:25:13+02:00",
          "2022-04-18T14:26:26+02:00",
          "2022-04-18T18:24:22+02:00",
          "2022-04-18T22:24:03+02:00",
          "2022-04-19T01:24:14+02:00",
          "2022-04-19T05:24:10+02:00",
          "2022-04-19T14:24:37+02:00",
          "2022-04-19T18:24:22+02:00",
          "2022-04-19T22:24:35+02:00",
          "2022-04-20T01:24:49+02:00",
          "2022-04-20T05:23:56+02:00",
          "2022-04-20T14:24:32+02:00",
          "2022-04-20T18:24:38+02:00",
          "2022-04-20T22:24:41+02:00",
          "2022-04-21T01:24:27+02:00",
          "2022-04-21T05:24:44+02:00",
          "2022-04-21T14:24:40+02:00",
          "2022-04-21T18:24:36+02:00",
          "2022-04-21T22:24:34+02:00",
          "2022-04-22T01:24:46+02:00",
          "2022-04-22T05:24:24+02:00",
          "2022-04-22T14:24:30+02:00",
          "2022-04-22T18:24:37+02:00",
          "2022-04-22T22:24:23+02:00",
          "2022-04-23T01:24:36+02:00",
          "2022-04-23T05:24:14+02:00",
          "2022-04-23T14:24:20+02:00",
          "2022-04-23T18:24:03+02:00",
          "2022-04-23T22:24:08+02:00",
          "2022-04-24T01:24:11+02:00",
          "2022-04-24T05:24:22+02:00",
          "2022-04-24T14:24:23+02:00",
          "2022-04-24T18:24:14+02:00",
          "2022-04-24T22:24:06+02:00",
          "2022-04-25T01:24:18+02:00",
          "2022-04-25T05:24:18+02:00",
          "2022-04-25T14:26:22+02:00",
          "2022-04-25T18:25:43+02:00",
          "2022-04-25T22:25:28+02:00",
          "2022-04-26T01:25:52+02:00",
          "2022-04-26T05:26:09+02:00",
          "2022-04-26T14:25:42+02:00",
          "2022-04-26T18:25:44+02:00",
          "2022-04-26T22:25:43+02:00",
          "2022-04-27T01:26:47+02:00",
          "2022-04-27T05:26:14+02:00",
          "2022-04-27T14:25:53+02:00",
          "2022-04-27T18:26:04+02:00",
          "2022-04-27T22:25:32+02:00",
          "2022-04-28T01:26:14+02:00",
          "2022-04-28T05:25:55+02:00",
          "2022-04-28T14:26:00+02:00",
          "2022-04-28T18:26:14+02:00",
          "2022-04-28T22:26:08+02:00",
          "2022-04-29T01:25:46+02:00",
          "2022-04-29T05:26:08+02:00",
          "2022-04-29T14:26:12+02:00",
          "2022-04-29T18:26:05+02:00",
          "2022-04-29T22:25:41+02:00",
          "2022-04-30T01:25:36+02:00",
          "2022-04-30T05:25:39+02:00",
          "2022-04-30T14:25:13+02:00",
          "2022-04-30T18:25:38+02:00",
          "2022-04-30T22:26:09+02:00",
          "2022-05-01T01:25:36+02:00",
          "2022-05-01T05:26:21+02:00",
          "2022-05-01T14:25:30+02:00",
          "2022-05-01T18:26:07+02:00",
          "2022-05-01T22:25:20+02:00",
          "2022-05-02T01:25:42+02:00",
          "2022-05-02T05:25:20+02:00",
          "2022-05-02T14:26:06+02:00",
          "2022-05-02T18:26:03+02:00",
          "2022-05-02T22:25:48+02:00",
          "2022-05-03T01:27:43+02:00",
          "2022-05-03T05:26:11+02:00",
          "2022-05-03T14:26:22+02:00",
          "2022-05-03T18:26:27+02:00",
          "2022-05-03T22:26:22+02:00",
          "2022-05-04T01:26:46+02:00",
          "2022-05-04T05:25:27+02:00",
          "2022-05-04T14:26:31+02:00",
          "2022-05-04T18:26:20+02:00",
          "2022-05-04T22:25:10+02:00",
          "2022-05-05T01:26:18+02:00",
          "2022-05-05T05:26:21+02:00",
          "2022-05-05T14:26:21+02:00",
          "2022-05-05T18:26:27+02:00",
          "2022-05-05T22:26:11+02:00",
          "2022-05-06T01:26:08+02:00",
          "2022-05-06T05:26:47+02:00",
          "2022-05-06T14:26:22+02:00",
          "2022-05-06T18:26:00+02:00",
          "2022-05-06T22:25:57+02:00",
          "2022-05-07T01:26:08+02:00",
          "2022-05-07T05:26:04+02:00",
          "2022-05-07T14:26:11+02:00",
          "2022-05-07T18:26:35+02:00",
          "2022-05-07T22:26:09+02:00",
          "2022-05-08T01:25:38+02:00",
          "2022-05-08T05:25:37+02:00",
          "2022-05-08T14:25:53+02:00",
          "2022-05-08T18:26:14+02:00",
          "2022-05-08T22:25:50+02:00",
          "2022-05-09T01:26:01+02:00",
          "2022-05-09T05:25:58+02:00",
          "2022-05-09T14:26:20+02:00",
          "2022-05-09T18:26:46+02:00",
          "2022-05-09T22:28:38+02:00",
          "2022-05-10T01:26:11+02:00",
          "2022-05-10T05:25:22+02:00",
          "2022-05-10T14:26:51+02:00",
          "2022-05-10T18:26:11+02:00",
          "2022-05-10T22:26:40+02:00",
          "2022-05-11T01:26:05+02:00",
          "2022-05-11T05:27:36+02:00",
          "2022-05-11T14:28:18+02:00",
          "2022-05-11T18:28:20+02:00",
          "2022-05-11T22:26:44+02:00",
          "2022-05-12T01:29:12+02:00",
          "2022-05-12T05:29:25+02:00",
          "2022-05-12T14:32:36+02:00",
          "2022-05-12T18:27:33+02:00",
          "2022-05-12T22:27:54+02:00",
          "2022-05-13T01:27:48+02:00",
          "2022-05-13T05:28:35+02:00",
          "2022-05-13T14:28:50+02:00",
          "2022-05-13T18:27:32+02:00",
          "2022-05-13T22:27:31+02:00",
          "2022-05-14T01:27:37+02:00",
          "2022-05-14T05:28:11+02:00",
          "2022-05-14T14:28:20+02:00",
          "2022-05-14T18:27:46+02:00",
          "2022-05-14T22:27:32+02:00",
          "2022-05-15T01:27:54+02:00",
          "2022-05-15T05:27:52+02:00",
          "2022-05-15T14:28:29+02:00",
          "2022-05-15T18:27:40+02:00",
          "2022-05-15T22:27:51+02:00",
          "2022-05-16T01:27:59+02:00",
          "2022-05-16T05:28:26+02:00",
          "2022-05-16T14:29:15+02:00",
          "2022-05-16T18:27:40+02:00",
          "2022-05-16T22:28:02+02:00",
          "2022-05-17T01:28:11+02:00",
          "2022-05-17T05:28:21+02:00",
          "2022-05-17T14:28:13+02:00",
          "2022-05-17T18:27:03+02:00",
          "2022-05-17T22:26:42+02:00",
          "2022-05-18T01:27:38+02:00",
          "2022-05-18T05:27:08+02:00",
          "2022-05-18T14:29:09+02:00",
          "2022-05-18T18:28:29+02:00",
          "2022-05-18T22:28:21+02:00",
          "2022-05-19T01:29:32+02:00",
          "2022-05-19T05:29:32+02:00",
          "2022-05-19T14:30:28+02:00",
          "2022-05-19T18:28:19+02:00",
          "2022-05-19T22:28:08+02:00",
          "2022-05-20T01:29:21+02:00",
          "2022-05-20T05:28:57+02:00",
          "2022-05-20T14:29:20+02:00",
          "2022-05-20T18:28:22+02:00",
          "2022-05-20T22:28:16+02:00",
          "2022-05-21T01:31:09+02:00",
          "2022-05-21T05:29:11+02:00",
          "2022-05-21T14:29:02+02:00",
          "2022-05-21T18:27:52+02:00",
          "2022-05-21T22:27:54+02:00",
          "2022-05-22T01:28:23+02:00",
          "2022-05-22T05:28:58+02:00",
          "2022-05-22T14:28:54+02:00",
          "2022-05-22T18:28:29+02:00",
          "2022-05-22T22:28:03+02:00",
          "2022-05-23T01:28:19+02:00",
          "2022-05-23T05:29:24+02:00",
          "2022-05-23T14:29:36+02:00",
          "2022-05-23T18:28:19+02:00",
          "2022-05-23T22:28:06+02:00",
          "2022-05-24T05:29:18+02:00",
          "2022-05-24T14:29:35+02:00",
          "2022-05-24T18:28:11+02:00",
          "2022-05-24T22:28:18+02:00",
          "2022-05-25T01:29:02+02:00",
          "2022-05-25T05:29:23+02:00",
          "2022-05-25T14:29:41+02:00",
          "2022-05-25T18:28:38+02:00",
          "2022-05-25T22:28:27+02:00",
          "2022-05-26T01:29:04+02:00",
          "2022-05-26T05:27:40+02:00",
          "2022-05-26T14:30:11+02:00",
          "2022-05-26T18:28:44+02:00",
          "2022-05-26T22:29:10+02:00",
          "2022-05-27T01:29:43+02:00",
          "2022-05-27T05:28:35+02:00",
          "2022-05-27T14:30:16+02:00",
          "2022-05-27T18:30:56+02:00",
          "2022-05-27T22:30:13+02:00",
          "2022-05-28T01:31:20+02:00",
          "2022-05-28T05:31:21+02:00",
          "2022-05-28T14:28:38+02:00",
          "2022-05-28T18:28:51+02:00",
          "2022-05-28T22:28:40+02:00",
          "2022-05-29T01:30:06+02:00",
          "2022-05-29T05:29:02+02:00",
          "2022-05-29T14:28:40+02:00",
          "2022-05-29T18:29:16+02:00",
          "2022-05-29T22:28:37+02:00",
          "2022-05-30T01:30:14+02:00",
          "2022-05-30T05:30:45+02:00",
          "2022-05-30T14:29:21+02:00",
          "2022-05-30T18:30:35+02:00",
          "2022-05-30T22:28:00+02:00",
          "2022-05-31T01:28:13+02:00",
          "2022-05-31T05:27:40+02:00",
          "2022-05-31T14:29:20+02:00",
          "2022-05-31T18:28:25+02:00",
          "2022-05-31T22:28:35+02:00",
          "2022-06-01T01:29:52+02:00",
          "2022-06-01T05:28:23+02:00",
          "2022-06-01T14:27:50+02:00",
          "2022-06-01T18:26:50+02:00",
          "2022-06-01T22:28:01+02:00",
          "2022-06-02T01:26:59+02:00",
          "2022-06-02T05:25:35+02:00",
          "2022-06-02T14:25:27+02:00",
          "2022-06-02T18:24:53+02:00",
          "2022-06-02T22:25:15+02:00",
          "2022-06-03T01:25:23+02:00",
          "2022-06-03T05:24:10+02:00",
          "2022-06-03T14:25:21+02:00",
          "2022-06-03T18:25:03+02:00",
          "2022-06-03T22:24:51+02:00",
          "2022-06-04T01:25:06+02:00",
          "2022-06-04T05:25:27+02:00",
          "2022-06-04T14:25:16+02:00",
          "2022-06-04T18:25:09+02:00",
          "2022-06-04T22:25:30+02:00",
          "2022-06-05T01:25:32+02:00",
          "2022-06-05T05:25:21+02:00",
          "2022-06-05T14:25:02+02:00",
          "2022-06-05T18:30:23+02:00",
          "2022-06-05T22:29:43+02:00",
          "2022-06-06T01:28:53+02:00",
          "2022-06-06T05:26:27+02:00",
          "2022-06-06T14:25:20+02:00",
          "2022-06-06T18:25:19+02:00",
          "2022-06-06T22:24:21+02:00",
          "2022-06-07T01:26:26+02:00",
          "2022-06-07T05:24:57+02:00",
          "2022-06-07T14:25:35+02:00",
          "2022-06-07T18:25:14+02:00",
          "2022-06-07T22:24:43+02:00",
          "2022-06-08T01:26:28+02:00",
          "2022-06-08T05:25:03+02:00",
          "2022-06-08T14:25:50+02:00",
          "2022-06-08T18:25:58+02:00",
          "2022-06-08T22:26:41+02:00",
          "2022-06-09T01:26:50+02:00",
          "2022-06-09T05:26:18+02:00",
          "2022-06-09T14:26:45+02:00",
          "2022-06-09T18:26:14+02:00",
          "2022-06-09T22:26:14+02:00",
          "2022-06-10T01:25:35+02:00",
          "2022-06-10T05:27:13+02:00",
          "2022-06-10T14:25:40+02:00",
          "2022-06-10T18:26:15+02:00",
          "2022-06-10T22:25:32+02:00",
          "2022-06-11T01:25:33+02:00",
          "2022-06-11T05:26:09+02:00",
          "2022-06-11T14:25:10+02:00",
          "2022-06-11T18:25:07+02:00",
          "2022-06-11T22:25:38+02:00",
          "2022-06-12T01:25:28+02:00",
          "2022-06-12T05:25:15+02:00",
          "2022-06-12T14:25:32+02:00",
          "2022-06-12T18:25:21+02:00",
          "2022-06-12T22:25:31+02:00",
          "2022-06-13T01:25:31+02:00",
          "2022-06-13T05:25:25+02:00",
          "2022-06-13T14:26:06+02:00",
          "2022-06-13T18:25:53+02:00",
          "2022-06-13T22:25:49+02:00",
          "2022-06-14T01:25:38+02:00",
          "2022-06-14T05:25:46+02:00",
          "2022-06-14T14:26:46+02:00",
          "2022-06-14T18:25:55+02:00",
          "2022-06-14T22:25:57+02:00",
          "2022-06-15T01:25:38+02:00",
          "2022-06-15T05:25:10+02:00",
          "2022-06-15T14:25:45+02:00",
          "2022-06-15T18:25:42+02:00",
          "2022-06-15T22:25:48+02:00",
          "2022-06-16T01:25:35+02:00",
          "2022-06-16T05:25:44+02:00",
          "2022-06-16T14:26:29+02:00",
          "2022-06-16T18:25:22+02:00",
          "2022-06-16T22:25:49+02:00",
          "2022-06-17T01:25:30+02:00",
          "2022-06-17T05:25:34+02:00",
          "2022-06-17T14:25:46+02:00",
          "2022-06-17T18:25:54+02:00",
          "2022-06-17T22:25:55+02:00",
          "2022-06-18T01:25:42+02:00",
          "2022-06-18T05:26:14+02:00",
          "2022-06-18T14:28:04+02:00",
          "2022-06-18T18:25:33+02:00",
          "2022-06-18T22:25:28+02:00",
          "2022-06-19T01:25:17+02:00",
          "2022-06-19T05:25:11+02:00",
          "2022-06-19T14:25:41+02:00",
          "2022-06-19T18:25:48+02:00",
          "2022-06-19T22:25:59+02:00",
          "2022-06-20T01:25:36+02:00",
          "2022-06-20T05:25:26+02:00",
          "2022-06-20T14:26:08+02:00",
          "2022-06-20T18:25:47+02:00",
          "2022-06-20T22:26:54+02:00",
          "2022-06-21T01:25:20+02:00",
          "2022-06-21T05:25:32+02:00",
          "2022-06-21T14:26:09+02:00",
          "2022-06-21T18:25:26+02:00",
          "2022-06-21T22:25:42+02:00",
          "2022-06-22T01:25:52+02:00",
          "2022-06-22T05:26:06+02:00",
          "2022-06-22T14:26:55+02:00",
          "2022-06-22T18:26:07+02:00",
          "2022-06-22T22:26:17+02:00",
          "2022-06-23T01:25:33+02:00",
          "2022-06-23T05:25:50+02:00",
          "2022-06-23T14:26:40+02:00",
          "2022-06-23T18:26:19+02:00",
          "2022-06-23T22:26:20+02:00",
          "2022-06-24T01:28:18+02:00",
          "2022-06-24T05:26:07+02:00",
          "2022-06-24T14:26:39+02:00",
          "2022-06-24T18:26:04+02:00",
          "2022-06-24T22:26:12+02:00",
          "2022-06-25T01:25:48+02:00",
          "2022-06-25T05:25:58+02:00",
          "2022-06-25T14:26:03+02:00",
          "2022-06-25T18:25:39+02:00",
          "2022-06-25T22:25:52+02:00",
          "2022-06-26T01:25:49+02:00",
          "2022-06-26T05:25:39+02:00",
          "2022-06-26T14:26:23+02:00",
          "2022-06-26T18:26:09+02:00",
          "2022-06-26T22:25:50+02:00",
          "2022-06-27T01:26:17+02:00",
          "2022-06-27T05:25:39+02:00",
          "2022-06-27T14:26:59+02:00",
          "2022-06-27T18:26:11+02:00",
          "2022-06-27T22:26:09+02:00",
          "2022-06-28T01:25:52+02:00",
          "2022-06-28T05:25:56+02:00",
          "2022-06-28T14:26:30+02:00",
          "2022-06-28T18:26:00+02:00",
          "2022-06-28T22:25:40+02:00",
          "2022-06-29T01:25:49+02:00",
          "2022-06-29T05:26:03+02:00",
          "2022-06-29T14:27:03+02:00",
          "2022-06-29T18:26:04+02:00",
          "2022-06-29T22:26:26+02:00",
          "2022-06-30T01:25:34+02:00",
          "2022-06-30T05:25:37+02:00",
          "2022-06-30T14:27:09+02:00",
          "2022-06-30T18:26:16+02:00",
          "2022-06-30T22:26:49+02:00",
          "2022-07-01T01:26:26+02:00",
          "2022-07-01T05:25:55+02:00",
          "2022-07-01T14:26:14+02:00",
          "2022-07-01T18:25:48+02:00",
          "2022-07-01T22:26:23+02:00",
          "2022-07-02T01:26:51+02:00",
          "2022-07-02T05:26:31+02:00",
          "2022-07-02T14:26:50+02:00",
          "2022-07-02T18:26:16+02:00",
          "2022-07-02T22:26:20+02:00",
          "2022-07-03T01:26:08+02:00",
          "2022-07-03T05:26:17+02:00",
          "2022-07-03T14:25:57+02:00",
          "2022-07-03T18:26:16+02:00",
          "2022-07-03T22:26:36+02:00",
          "2022-07-04T01:26:20+02:00",
          "2022-07-04T05:25:46+02:00",
          "2022-07-04T14:26:22+02:00",
          "2022-07-04T18:25:38+02:00",
          "2022-07-04T22:25:58+02:00",
          "2022-07-05T01:26:09+02:00",
          "2022-07-05T05:25:33+02:00",
          "2022-07-05T14:26:20+02:00",
          "2022-07-05T18:25:46+02:00",
          "2022-07-05T22:25:40+02:00",
          "2022-07-06T01:26:33+02:00",
          "2022-07-06T05:25:23+02:00",
          "2022-07-06T14:26:18+02:00",
          "2022-07-06T18:25:42+02:00",
          "2022-07-06T22:25:38+02:00",
          "2022-07-07T01:25:48+02:00",
          "2022-07-07T05:25:37+02:00",
          "2022-07-07T14:26:49+02:00",
          "2022-07-07T18:26:02+02:00",
          "2022-07-07T22:29:20+02:00",
          "2022-07-08T01:25:53+02:00",
          "2022-07-08T05:25:38+02:00",
          "2022-07-08T14:26:00+02:00",
          "2022-07-08T18:25:51+02:00",
          "2022-07-08T22:25:45+02:00",
          "2022-07-09T01:26:16+02:00",
          "2022-07-09T05:26:44+02:00",
          "2022-07-09T14:25:38+02:00",
          "2022-07-09T18:26:05+02:00",
          "2022-07-09T22:25:38+02:00",
          "2022-07-10T01:26:15+02:00",
          "2022-07-10T05:25:45+02:00",
          "2022-07-10T14:25:58+02:00",
          "2022-07-10T18:25:38+02:00",
          "2022-07-10T22:25:35+02:00",
          "2022-07-11T01:25:46+02:00",
          "2022-07-11T05:24:37+02:00",
          "2022-07-11T14:25:00+02:00",
          "2022-07-11T18:24:45+02:00",
          "2022-07-11T22:24:56+02:00",
          "2022-07-12T01:27:27+02:00",
          "2022-07-12T05:24:38+02:00",
          "2022-07-12T14:25:19+02:00",
          "2022-07-12T18:25:40+02:00",
          "2022-07-12T22:24:49+02:00",
          "2022-07-13T01:25:04+02:00",
          "2022-07-13T05:28:34+02:00",
          "2022-07-13T14:25:28+02:00",
          "2022-07-13T18:25:01+02:00",
          "2022-07-13T22:25:42+02:00",
          "2022-07-14T01:24:40+02:00",
          "2022-07-14T05:25:07+02:00",
          "2022-07-14T14:26:11+02:00",
          "2022-07-14T18:25:08+02:00",
          "2022-07-14T22:25:18+02:00",
          "2022-07-15T01:24:57+02:00",
          "2022-07-15T05:24:51+02:00",
          "2022-07-15T14:25:05+02:00",
          "2022-07-15T18:24:52+02:00",
          "2022-07-15T22:24:55+02:00",
          "2022-07-16T01:25:12+02:00",
          "2022-07-16T05:25:20+02:00",
          "2022-07-16T14:25:52+02:00",
          "2022-07-16T18:25:21+02:00",
          "2022-07-16T22:24:44+02:00",
          "2022-07-17T01:25:43+02:00",
          "2022-07-17T05:24:55+02:00",
          "2022-07-17T14:24:46+02:00",
          "2022-07-17T18:24:59+02:00",
          "2022-07-17T22:24:34+02:00",
          "2022-07-18T01:25:44+02:00",
          "2022-07-18T05:24:37+02:00",
          "2022-07-18T14:25:13+02:00",
          "2022-07-18T18:25:10+02:00",
          "2022-07-18T22:25:46+02:00",
          "2022-07-19T01:26:36+02:00",
          "2022-07-19T05:24:59+02:00",
          "2022-07-19T14:29:00+02:00",
          "2022-07-19T18:28:34+02:00",
          "2022-07-19T22:27:38+02:00",
          "2022-07-20T01:28:47+02:00",
          "2022-07-20T05:27:39+02:00",
          "2022-07-20T14:28:43+02:00",
          "2022-07-20T18:28:43+02:00",
          "2022-07-20T22:28:00+02:00",
          "2022-07-21T01:27:57+02:00",
          "2022-07-21T05:27:48+02:00",
          "2022-07-21T14:29:44+02:00",
          "2022-07-21T18:29:01+02:00",
          "2022-07-21T22:29:33+02:00",
          "2022-07-22T01:28:57+02:00",
          "2022-07-22T05:28:36+02:00",
          "2022-07-22T14:30:15+02:00",
          "2022-07-22T18:29:05+02:00",
          "2022-07-22T22:29:14+02:00",
          "2022-07-23T01:30:03+02:00",
          "2022-07-23T05:28:41+02:00",
          "2022-07-23T14:27:34+02:00",
          "2022-07-23T18:27:48+02:00",
          "2022-07-23T22:27:52+02:00",
          "2022-07-24T01:27:46+02:00",
          "2022-07-24T05:27:54+02:00",
          "2022-07-24T14:28:00+02:00",
          "2022-07-24T18:28:15+02:00",
          "2022-07-24T22:27:37+02:00",
          "2022-07-25T01:27:47+02:00",
          "2022-07-25T05:28:26+02:00",
          "2022-07-25T14:31:53+02:00",
          "2022-07-25T18:28:28+02:00",
          "2022-07-25T22:28:53+02:00",
          "2022-07-26T01:29:24+02:00",
          "2022-07-26T05:29:02+02:00",
          "2022-07-26T07:20:54+02:00",
          "2022-07-26T14:29:24+02:00",
          "2022-07-26T18:28:32+02:00",
          "2022-07-26T22:29:21+02:00",
          "2022-07-27T01:28:37+02:00",
          "2022-07-27T05:27:45+02:00",
          "2022-07-27T14:29:13+02:00",
          "2022-07-27T18:28:16+02:00",
          "2022-07-27T22:28:18+02:00",
          "2022-07-28T01:28:13+02:00",
          "2022-07-28T05:28:01+02:00",
          "2022-07-28T14:30:12+02:00",
          "2022-07-28T18:29:04+02:00",
          "2022-07-28T22:28:03+02:00",
          "2022-07-29T01:29:30+02:00",
          "2022-07-29T05:29:02+02:00",
          "2022-07-29T14:29:21+02:00",
          "2022-07-29T18:29:17+02:00",
          "2022-07-29T22:29:17+02:00",
          "2022-07-30T01:29:55+02:00",
          "2022-07-30T05:29:02+02:00",
          "2022-07-30T14:28:27+02:00",
          "2022-07-30T18:28:50+02:00",
          "2022-07-30T22:29:02+02:00",
          "2022-07-31T01:28:16+02:00",
          "2022-07-31T05:28:36+02:00",
          "2022-07-31T14:28:24+02:00",
          "2022-07-31T18:29:13+02:00",
          "2022-07-31T22:28:29+02:00",
          "2022-08-01T01:29:07+02:00",
          "2022-08-01T05:28:20+02:00",
          "2022-08-01T14:30:05+02:00",
          "2022-08-01T18:29:26+02:00",
          "2022-08-01T22:29:35+02:00",
          "2022-08-02T01:29:16+02:00",
          "2022-08-02T05:28:25+02:00",
          "2022-08-02T14:30:35+02:00",
          "2022-08-02T18:29:29+02:00",
          "2022-08-02T22:29:46+02:00"
         ],
         "y": [
          "NaN",
          "NaN",
          "NaN",
          1,
          "NaN",
          "NaN",
          "NaN",
          1,
          "NaN",
          "NaN",
          "NaN",
          "NaN",
          "NaN",
          "NaN",
          "NaN",
          "NaN",
          "NaN",
          "NaN",
          "NaN",
          "NaN",
          "NaN",
          "NaN",
          "NaN",
          "NaN",
          "NaN",
          "NaN",
          "NaN",
          "NaN",
          "NaN",
          "NaN",
          "NaN",
          "NaN",
          "NaN",
          "NaN",
          "NaN",
          "NaN",
          "NaN",
          "NaN",
          1,
          "NaN",
          "NaN",
          "NaN",
          "NaN",
          "NaN",
          "NaN",
          "NaN",
          "NaN",
          "NaN",
          "NaN",
          "NaN",
          "NaN",
          "NaN",
          "NaN",
          "NaN",
          1,
          "NaN",
          "NaN",
          "NaN",
          "NaN",
          "NaN",
          "NaN",
          "NaN",
          "NaN",
          "NaN",
          "NaN",
          "NaN",
          "NaN",
          "NaN",
          "NaN",
          "NaN",
          "NaN",
          "NaN",
          "NaN",
          "NaN",
          "NaN",
          "NaN",
          "NaN",
          "NaN",
          "NaN",
          "NaN",
          "NaN",
          "NaN",
          "NaN",
          "NaN",
          "NaN",
          "NaN",
          "NaN",
          "NaN",
          "NaN",
          "NaN",
          "NaN",
          "NaN",
          "NaN",
          "NaN",
          "NaN",
          "NaN",
          "NaN",
          "NaN",
          "NaN",
          "NaN",
          "NaN",
          "NaN",
          "NaN",
          1,
          "NaN",
          "NaN",
          "NaN",
          1,
          "NaN",
          "NaN",
          "NaN",
          "NaN",
          1,
          1,
          "NaN",
          "NaN",
          "NaN",
          "NaN",
          "NaN",
          "NaN",
          "NaN",
          "NaN",
          "NaN",
          1,
          "NaN",
          "NaN",
          "NaN",
          "NaN",
          "NaN",
          "NaN",
          "NaN",
          "NaN",
          "NaN",
          "NaN",
          "NaN",
          "NaN",
          "NaN",
          "NaN",
          "NaN",
          "NaN",
          "NaN",
          "NaN",
          "NaN",
          "NaN",
          "NaN",
          "NaN",
          "NaN",
          "NaN",
          "NaN",
          "NaN",
          "NaN",
          "NaN",
          "NaN",
          1,
          1,
          1,
          "NaN",
          "NaN",
          "NaN",
          "NaN",
          "NaN",
          "NaN",
          "NaN",
          "NaN",
          "NaN",
          "NaN",
          "NaN",
          "NaN",
          "NaN",
          "NaN",
          "NaN",
          "NaN",
          1,
          "NaN",
          "NaN",
          "NaN",
          "NaN",
          "NaN",
          1,
          "NaN",
          "NaN",
          "NaN",
          1,
          "NaN",
          "NaN",
          "NaN",
          "NaN",
          "NaN",
          "NaN",
          "NaN",
          "NaN",
          "NaN",
          "NaN",
          1,
          "NaN",
          "NaN",
          "NaN",
          "NaN",
          "NaN",
          "NaN",
          "NaN",
          "NaN",
          "NaN",
          "NaN",
          "NaN",
          "NaN",
          "NaN",
          "NaN",
          1,
          "NaN",
          "NaN",
          "NaN",
          "NaN",
          "NaN",
          "NaN",
          "NaN",
          "NaN",
          "NaN",
          "NaN",
          "NaN",
          "NaN",
          "NaN",
          "NaN",
          "NaN",
          "NaN",
          "NaN",
          "NaN",
          "NaN",
          "NaN",
          "NaN",
          "NaN",
          "NaN",
          "NaN",
          "NaN",
          "NaN",
          "NaN",
          "NaN",
          "NaN",
          "NaN",
          "NaN",
          "NaN",
          "NaN",
          "NaN",
          "NaN",
          "NaN",
          "NaN",
          "NaN",
          "NaN",
          1,
          1,
          "NaN",
          "NaN",
          "NaN",
          "NaN",
          "NaN",
          "NaN",
          "NaN",
          "NaN",
          "NaN",
          "NaN",
          "NaN",
          "NaN",
          "NaN",
          "NaN",
          1,
          "NaN",
          "NaN",
          "NaN",
          "NaN",
          "NaN",
          "NaN",
          "NaN",
          "NaN",
          "NaN",
          "NaN",
          "NaN",
          "NaN",
          "NaN",
          1,
          "NaN",
          "NaN",
          "NaN",
          "NaN",
          "NaN",
          1,
          "NaN",
          "NaN",
          "NaN",
          1,
          "NaN",
          "NaN",
          "NaN",
          "NaN",
          1,
          "NaN",
          "NaN",
          "NaN",
          "NaN",
          "NaN",
          "NaN",
          "NaN",
          "NaN",
          "NaN",
          "NaN",
          "NaN",
          "NaN",
          "NaN",
          "NaN",
          "NaN",
          "NaN",
          "NaN",
          "NaN",
          "NaN",
          "NaN",
          "NaN",
          "NaN",
          "NaN",
          "NaN",
          1,
          "NaN",
          "NaN",
          "NaN",
          "NaN",
          "NaN",
          "NaN",
          "NaN",
          "NaN",
          "NaN",
          "NaN",
          "NaN",
          "NaN",
          "NaN",
          "NaN",
          1,
          1,
          1,
          "NaN",
          "NaN",
          "NaN",
          "NaN",
          "NaN",
          "NaN",
          "NaN",
          "NaN",
          "NaN",
          "NaN",
          "NaN",
          "NaN",
          1,
          1,
          "NaN",
          "NaN",
          "NaN",
          1,
          "NaN",
          "NaN",
          "NaN",
          "NaN",
          "NaN",
          "NaN",
          "NaN",
          "NaN",
          "NaN",
          "NaN",
          "NaN",
          "NaN",
          "NaN",
          "NaN",
          "NaN",
          "NaN",
          "NaN",
          "NaN",
          "NaN",
          "NaN",
          "NaN",
          "NaN",
          "NaN",
          "NaN",
          "NaN",
          "NaN",
          "NaN",
          "NaN",
          "NaN",
          "NaN",
          "NaN",
          1,
          "NaN",
          "NaN",
          "NaN",
          "NaN",
          "NaN",
          "NaN",
          "NaN",
          "NaN",
          "NaN",
          "NaN",
          "NaN",
          "NaN",
          "NaN",
          1,
          "NaN",
          "NaN",
          "NaN",
          "NaN",
          "NaN",
          "NaN",
          "NaN",
          "NaN",
          "NaN",
          "NaN",
          "NaN",
          "NaN",
          "NaN",
          "NaN",
          "NaN",
          "NaN",
          "NaN",
          "NaN",
          1,
          "NaN",
          "NaN",
          "NaN",
          "NaN",
          1,
          "NaN",
          "NaN",
          "NaN",
          "NaN",
          "NaN",
          "NaN",
          "NaN",
          "NaN",
          "NaN",
          "NaN",
          "NaN",
          "NaN",
          "NaN",
          "NaN",
          "NaN",
          "NaN",
          "NaN",
          "NaN",
          "NaN",
          "NaN",
          "NaN",
          "NaN",
          "NaN",
          "NaN",
          "NaN",
          "NaN",
          "NaN",
          "NaN",
          "NaN",
          "NaN",
          "NaN",
          "NaN",
          "NaN",
          "NaN",
          "NaN",
          "NaN",
          "NaN",
          "NaN",
          "NaN",
          "NaN",
          "NaN",
          "NaN",
          "NaN",
          1,
          "NaN",
          "NaN",
          "NaN",
          "NaN",
          "NaN",
          "NaN",
          "NaN",
          "NaN",
          "NaN",
          "NaN",
          "NaN",
          "NaN",
          "NaN",
          "NaN",
          "NaN",
          "NaN",
          "NaN",
          "NaN",
          "NaN",
          "NaN",
          "NaN",
          "NaN",
          "NaN",
          "NaN",
          "NaN",
          "NaN",
          "NaN",
          "NaN",
          "NaN",
          "NaN",
          "NaN",
          "NaN",
          "NaN",
          "NaN",
          "NaN",
          "NaN",
          "NaN",
          "NaN",
          "NaN",
          "NaN",
          "NaN",
          "NaN",
          "NaN",
          "NaN",
          "NaN",
          "NaN",
          "NaN",
          "NaN",
          "NaN",
          "NaN",
          "NaN",
          "NaN",
          "NaN",
          "NaN",
          "NaN",
          "NaN",
          "NaN",
          "NaN",
          "NaN",
          "NaN",
          "NaN",
          "NaN",
          "NaN",
          "NaN",
          1,
          "NaN",
          "NaN",
          "NaN",
          "NaN",
          "NaN",
          "NaN",
          "NaN",
          "NaN",
          "NaN",
          "NaN",
          "NaN",
          "NaN",
          "NaN",
          "NaN",
          "NaN",
          "NaN",
          "NaN",
          "NaN",
          "NaN",
          "NaN",
          "NaN",
          "NaN",
          "NaN",
          "NaN",
          "NaN",
          "NaN",
          "NaN",
          "NaN",
          "NaN",
          "NaN",
          "NaN",
          "NaN",
          "NaN",
          "NaN",
          "NaN",
          "NaN",
          "NaN",
          "NaN",
          "NaN",
          "NaN",
          1,
          "NaN",
          "NaN",
          "NaN",
          "NaN",
          "NaN",
          "NaN",
          "NaN",
          "NaN",
          "NaN",
          "NaN",
          "NaN",
          "NaN",
          "NaN",
          "NaN",
          "NaN",
          "NaN",
          "NaN",
          "NaN",
          "NaN",
          "NaN",
          "NaN",
          "NaN",
          "NaN",
          "NaN",
          "NaN",
          "NaN",
          "NaN",
          "NaN",
          "NaN",
          "NaN",
          "NaN",
          "NaN",
          "NaN",
          "NaN",
          "NaN",
          "NaN",
          "NaN",
          "NaN",
          1,
          "NaN",
          "NaN",
          "NaN",
          "NaN",
          "NaN",
          "NaN",
          "NaN",
          "NaN",
          "NaN",
          "NaN",
          "NaN",
          "NaN",
          "NaN",
          "NaN",
          "NaN",
          "NaN",
          "NaN",
          "NaN",
          "NaN",
          "NaN",
          "NaN",
          "NaN",
          "NaN",
          "NaN",
          "NaN",
          "NaN",
          "NaN",
          "NaN",
          "NaN",
          "NaN",
          "NaN",
          "NaN",
          "NaN",
          "NaN",
          "NaN",
          "NaN",
          "NaN",
          "NaN",
          "NaN",
          "NaN",
          "NaN",
          "NaN",
          "NaN",
          "NaN",
          "NaN",
          "NaN",
          "NaN",
          "NaN",
          "NaN",
          "NaN",
          "NaN",
          "NaN",
          "NaN",
          "NaN",
          "NaN",
          "NaN",
          1,
          "NaN",
          "NaN",
          "NaN",
          "NaN",
          "NaN",
          "NaN",
          "NaN",
          1,
          "NaN",
          "NaN",
          "NaN",
          "NaN",
          "NaN",
          "NaN",
          "NaN",
          "NaN",
          "NaN",
          "NaN",
          "NaN",
          "NaN",
          "NaN",
          "NaN",
          "NaN",
          "NaN",
          "NaN",
          "NaN",
          "NaN",
          "NaN",
          1,
          1,
          "NaN",
          "NaN",
          "NaN",
          "NaN",
          1,
          "NaN",
          "NaN",
          1,
          "NaN",
          "NaN",
          "NaN",
          "NaN",
          "NaN",
          "NaN",
          "NaN",
          "NaN",
          "NaN",
          1,
          "NaN",
          "NaN",
          "NaN",
          "NaN",
          "NaN",
          "NaN",
          "NaN",
          "NaN",
          "NaN",
          "NaN",
          "NaN",
          "NaN",
          "NaN",
          "NaN",
          "NaN",
          "NaN",
          "NaN",
          "NaN",
          "NaN",
          "NaN",
          1,
          "NaN",
          "NaN",
          "NaN",
          "NaN",
          "NaN",
          1,
          "NaN",
          "NaN",
          "NaN",
          "NaN",
          "NaN",
          "NaN",
          "NaN",
          "NaN",
          "NaN",
          "NaN",
          "NaN",
          "NaN",
          "NaN",
          "NaN",
          "NaN",
          "NaN",
          "NaN",
          "NaN",
          "NaN",
          "NaN",
          "NaN",
          "NaN",
          "NaN",
          1,
          1,
          "NaN",
          "NaN",
          "NaN",
          "NaN",
          1,
          "NaN"
         ]
        }
       ],
       "layout": {
        "template": {
         "data": {
          "bar": [
           {
            "error_x": {
             "color": "#2a3f5f"
            },
            "error_y": {
             "color": "#2a3f5f"
            },
            "marker": {
             "line": {
              "color": "#E5ECF6",
              "width": 0.5
             },
             "pattern": {
              "fillmode": "overlay",
              "size": 10,
              "solidity": 0.2
             }
            },
            "type": "bar"
           }
          ],
          "barpolar": [
           {
            "marker": {
             "line": {
              "color": "#E5ECF6",
              "width": 0.5
             },
             "pattern": {
              "fillmode": "overlay",
              "size": 10,
              "solidity": 0.2
             }
            },
            "type": "barpolar"
           }
          ],
          "carpet": [
           {
            "aaxis": {
             "endlinecolor": "#2a3f5f",
             "gridcolor": "white",
             "linecolor": "white",
             "minorgridcolor": "white",
             "startlinecolor": "#2a3f5f"
            },
            "baxis": {
             "endlinecolor": "#2a3f5f",
             "gridcolor": "white",
             "linecolor": "white",
             "minorgridcolor": "white",
             "startlinecolor": "#2a3f5f"
            },
            "type": "carpet"
           }
          ],
          "choropleth": [
           {
            "colorbar": {
             "outlinewidth": 0,
             "ticks": ""
            },
            "type": "choropleth"
           }
          ],
          "contour": [
           {
            "colorbar": {
             "outlinewidth": 0,
             "ticks": ""
            },
            "colorscale": [
             [
              0,
              "#0d0887"
             ],
             [
              0.1111111111111111,
              "#46039f"
             ],
             [
              0.2222222222222222,
              "#7201a8"
             ],
             [
              0.3333333333333333,
              "#9c179e"
             ],
             [
              0.4444444444444444,
              "#bd3786"
             ],
             [
              0.5555555555555556,
              "#d8576b"
             ],
             [
              0.6666666666666666,
              "#ed7953"
             ],
             [
              0.7777777777777778,
              "#fb9f3a"
             ],
             [
              0.8888888888888888,
              "#fdca26"
             ],
             [
              1,
              "#f0f921"
             ]
            ],
            "type": "contour"
           }
          ],
          "contourcarpet": [
           {
            "colorbar": {
             "outlinewidth": 0,
             "ticks": ""
            },
            "type": "contourcarpet"
           }
          ],
          "heatmap": [
           {
            "colorbar": {
             "outlinewidth": 0,
             "ticks": ""
            },
            "colorscale": [
             [
              0,
              "#0d0887"
             ],
             [
              0.1111111111111111,
              "#46039f"
             ],
             [
              0.2222222222222222,
              "#7201a8"
             ],
             [
              0.3333333333333333,
              "#9c179e"
             ],
             [
              0.4444444444444444,
              "#bd3786"
             ],
             [
              0.5555555555555556,
              "#d8576b"
             ],
             [
              0.6666666666666666,
              "#ed7953"
             ],
             [
              0.7777777777777778,
              "#fb9f3a"
             ],
             [
              0.8888888888888888,
              "#fdca26"
             ],
             [
              1,
              "#f0f921"
             ]
            ],
            "type": "heatmap"
           }
          ],
          "heatmapgl": [
           {
            "colorbar": {
             "outlinewidth": 0,
             "ticks": ""
            },
            "colorscale": [
             [
              0,
              "#0d0887"
             ],
             [
              0.1111111111111111,
              "#46039f"
             ],
             [
              0.2222222222222222,
              "#7201a8"
             ],
             [
              0.3333333333333333,
              "#9c179e"
             ],
             [
              0.4444444444444444,
              "#bd3786"
             ],
             [
              0.5555555555555556,
              "#d8576b"
             ],
             [
              0.6666666666666666,
              "#ed7953"
             ],
             [
              0.7777777777777778,
              "#fb9f3a"
             ],
             [
              0.8888888888888888,
              "#fdca26"
             ],
             [
              1,
              "#f0f921"
             ]
            ],
            "type": "heatmapgl"
           }
          ],
          "histogram": [
           {
            "marker": {
             "pattern": {
              "fillmode": "overlay",
              "size": 10,
              "solidity": 0.2
             }
            },
            "type": "histogram"
           }
          ],
          "histogram2d": [
           {
            "colorbar": {
             "outlinewidth": 0,
             "ticks": ""
            },
            "colorscale": [
             [
              0,
              "#0d0887"
             ],
             [
              0.1111111111111111,
              "#46039f"
             ],
             [
              0.2222222222222222,
              "#7201a8"
             ],
             [
              0.3333333333333333,
              "#9c179e"
             ],
             [
              0.4444444444444444,
              "#bd3786"
             ],
             [
              0.5555555555555556,
              "#d8576b"
             ],
             [
              0.6666666666666666,
              "#ed7953"
             ],
             [
              0.7777777777777778,
              "#fb9f3a"
             ],
             [
              0.8888888888888888,
              "#fdca26"
             ],
             [
              1,
              "#f0f921"
             ]
            ],
            "type": "histogram2d"
           }
          ],
          "histogram2dcontour": [
           {
            "colorbar": {
             "outlinewidth": 0,
             "ticks": ""
            },
            "colorscale": [
             [
              0,
              "#0d0887"
             ],
             [
              0.1111111111111111,
              "#46039f"
             ],
             [
              0.2222222222222222,
              "#7201a8"
             ],
             [
              0.3333333333333333,
              "#9c179e"
             ],
             [
              0.4444444444444444,
              "#bd3786"
             ],
             [
              0.5555555555555556,
              "#d8576b"
             ],
             [
              0.6666666666666666,
              "#ed7953"
             ],
             [
              0.7777777777777778,
              "#fb9f3a"
             ],
             [
              0.8888888888888888,
              "#fdca26"
             ],
             [
              1,
              "#f0f921"
             ]
            ],
            "type": "histogram2dcontour"
           }
          ],
          "mesh3d": [
           {
            "colorbar": {
             "outlinewidth": 0,
             "ticks": ""
            },
            "type": "mesh3d"
           }
          ],
          "parcoords": [
           {
            "line": {
             "colorbar": {
              "outlinewidth": 0,
              "ticks": ""
             }
            },
            "type": "parcoords"
           }
          ],
          "pie": [
           {
            "automargin": true,
            "type": "pie"
           }
          ],
          "scatter": [
           {
            "marker": {
             "colorbar": {
              "outlinewidth": 0,
              "ticks": ""
             }
            },
            "type": "scatter"
           }
          ],
          "scatter3d": [
           {
            "line": {
             "colorbar": {
              "outlinewidth": 0,
              "ticks": ""
             }
            },
            "marker": {
             "colorbar": {
              "outlinewidth": 0,
              "ticks": ""
             }
            },
            "type": "scatter3d"
           }
          ],
          "scattercarpet": [
           {
            "marker": {
             "colorbar": {
              "outlinewidth": 0,
              "ticks": ""
             }
            },
            "type": "scattercarpet"
           }
          ],
          "scattergeo": [
           {
            "marker": {
             "colorbar": {
              "outlinewidth": 0,
              "ticks": ""
             }
            },
            "type": "scattergeo"
           }
          ],
          "scattergl": [
           {
            "marker": {
             "colorbar": {
              "outlinewidth": 0,
              "ticks": ""
             }
            },
            "type": "scattergl"
           }
          ],
          "scattermapbox": [
           {
            "marker": {
             "colorbar": {
              "outlinewidth": 0,
              "ticks": ""
             }
            },
            "type": "scattermapbox"
           }
          ],
          "scatterpolar": [
           {
            "marker": {
             "colorbar": {
              "outlinewidth": 0,
              "ticks": ""
             }
            },
            "type": "scatterpolar"
           }
          ],
          "scatterpolargl": [
           {
            "marker": {
             "colorbar": {
              "outlinewidth": 0,
              "ticks": ""
             }
            },
            "type": "scatterpolargl"
           }
          ],
          "scatterternary": [
           {
            "marker": {
             "colorbar": {
              "outlinewidth": 0,
              "ticks": ""
             }
            },
            "type": "scatterternary"
           }
          ],
          "surface": [
           {
            "colorbar": {
             "outlinewidth": 0,
             "ticks": ""
            },
            "colorscale": [
             [
              0,
              "#0d0887"
             ],
             [
              0.1111111111111111,
              "#46039f"
             ],
             [
              0.2222222222222222,
              "#7201a8"
             ],
             [
              0.3333333333333333,
              "#9c179e"
             ],
             [
              0.4444444444444444,
              "#bd3786"
             ],
             [
              0.5555555555555556,
              "#d8576b"
             ],
             [
              0.6666666666666666,
              "#ed7953"
             ],
             [
              0.7777777777777778,
              "#fb9f3a"
             ],
             [
              0.8888888888888888,
              "#fdca26"
             ],
             [
              1,
              "#f0f921"
             ]
            ],
            "type": "surface"
           }
          ],
          "table": [
           {
            "cells": {
             "fill": {
              "color": "#EBF0F8"
             },
             "line": {
              "color": "white"
             }
            },
            "header": {
             "fill": {
              "color": "#C8D4E3"
             },
             "line": {
              "color": "white"
             }
            },
            "type": "table"
           }
          ]
         },
         "layout": {
          "annotationdefaults": {
           "arrowcolor": "#2a3f5f",
           "arrowhead": 0,
           "arrowwidth": 1
          },
          "autotypenumbers": "strict",
          "coloraxis": {
           "colorbar": {
            "outlinewidth": 0,
            "ticks": ""
           }
          },
          "colorscale": {
           "diverging": [
            [
             0,
             "#8e0152"
            ],
            [
             0.1,
             "#c51b7d"
            ],
            [
             0.2,
             "#de77ae"
            ],
            [
             0.3,
             "#f1b6da"
            ],
            [
             0.4,
             "#fde0ef"
            ],
            [
             0.5,
             "#f7f7f7"
            ],
            [
             0.6,
             "#e6f5d0"
            ],
            [
             0.7,
             "#b8e186"
            ],
            [
             0.8,
             "#7fbc41"
            ],
            [
             0.9,
             "#4d9221"
            ],
            [
             1,
             "#276419"
            ]
           ],
           "sequential": [
            [
             0,
             "#0d0887"
            ],
            [
             0.1111111111111111,
             "#46039f"
            ],
            [
             0.2222222222222222,
             "#7201a8"
            ],
            [
             0.3333333333333333,
             "#9c179e"
            ],
            [
             0.4444444444444444,
             "#bd3786"
            ],
            [
             0.5555555555555556,
             "#d8576b"
            ],
            [
             0.6666666666666666,
             "#ed7953"
            ],
            [
             0.7777777777777778,
             "#fb9f3a"
            ],
            [
             0.8888888888888888,
             "#fdca26"
            ],
            [
             1,
             "#f0f921"
            ]
           ],
           "sequentialminus": [
            [
             0,
             "#0d0887"
            ],
            [
             0.1111111111111111,
             "#46039f"
            ],
            [
             0.2222222222222222,
             "#7201a8"
            ],
            [
             0.3333333333333333,
             "#9c179e"
            ],
            [
             0.4444444444444444,
             "#bd3786"
            ],
            [
             0.5555555555555556,
             "#d8576b"
            ],
            [
             0.6666666666666666,
             "#ed7953"
            ],
            [
             0.7777777777777778,
             "#fb9f3a"
            ],
            [
             0.8888888888888888,
             "#fdca26"
            ],
            [
             1,
             "#f0f921"
            ]
           ]
          },
          "colorway": [
           "#636efa",
           "#EF553B",
           "#00cc96",
           "#ab63fa",
           "#FFA15A",
           "#19d3f3",
           "#FF6692",
           "#B6E880",
           "#FF97FF",
           "#FECB52"
          ],
          "font": {
           "color": "#2a3f5f"
          },
          "geo": {
           "bgcolor": "white",
           "lakecolor": "white",
           "landcolor": "#E5ECF6",
           "showlakes": true,
           "showland": true,
           "subunitcolor": "white"
          },
          "hoverlabel": {
           "align": "left"
          },
          "hovermode": "closest",
          "mapbox": {
           "style": "light"
          },
          "paper_bgcolor": "white",
          "plot_bgcolor": "#E5ECF6",
          "polar": {
           "angularaxis": {
            "gridcolor": "white",
            "linecolor": "white",
            "ticks": ""
           },
           "bgcolor": "#E5ECF6",
           "radialaxis": {
            "gridcolor": "white",
            "linecolor": "white",
            "ticks": ""
           }
          },
          "scene": {
           "xaxis": {
            "backgroundcolor": "#E5ECF6",
            "gridcolor": "white",
            "gridwidth": 2,
            "linecolor": "white",
            "showbackground": true,
            "ticks": "",
            "zerolinecolor": "white"
           },
           "yaxis": {
            "backgroundcolor": "#E5ECF6",
            "gridcolor": "white",
            "gridwidth": 2,
            "linecolor": "white",
            "showbackground": true,
            "ticks": "",
            "zerolinecolor": "white"
           },
           "zaxis": {
            "backgroundcolor": "#E5ECF6",
            "gridcolor": "white",
            "gridwidth": 2,
            "linecolor": "white",
            "showbackground": true,
            "ticks": "",
            "zerolinecolor": "white"
           }
          },
          "shapedefaults": {
           "line": {
            "color": "#2a3f5f"
           }
          },
          "ternary": {
           "aaxis": {
            "gridcolor": "white",
            "linecolor": "white",
            "ticks": ""
           },
           "baxis": {
            "gridcolor": "white",
            "linecolor": "white",
            "ticks": ""
           },
           "bgcolor": "#E5ECF6",
           "caxis": {
            "gridcolor": "white",
            "linecolor": "white",
            "ticks": ""
           }
          },
          "title": {
           "x": 0.05
          },
          "xaxis": {
           "automargin": true,
           "gridcolor": "white",
           "linecolor": "white",
           "ticks": "",
           "title": {
            "standoff": 15
           },
           "zerolinecolor": "white",
           "zerolinewidth": 2
          },
          "yaxis": {
           "automargin": true,
           "gridcolor": "white",
           "linecolor": "white",
           "ticks": "",
           "title": {
            "standoff": 15
           },
           "zerolinecolor": "white",
           "zerolinewidth": 2
          }
         }
        }
       }
      }
     },
     "metadata": {},
     "output_type": "display_data"
    }
   ],
   "source": [
    "fig = go.Figure()\n",
    "\n",
    "# https://plotly.com/python/line-charts/\n",
    "\n",
    "fig.add_trace(go.Scatter(x=stats_df[\"created\"], y=stats_df[\"rowsCount\"],\n",
    "                    mode='lines+markers',\n",
    "                    line = dict(color='blue', width=1, dash='dot'),\n",
    "                    name='rows'))\n",
    "\n",
    "fig.add_trace(go.Scatter(x=stats_df[\"created\"], y=stats_df[\"zscore\"],\n",
    "                    mode='lines+markers',\n",
    "                    line = dict(color='green', width=1),\n",
    "                    name='zscore'))\n",
    "\n",
    "fig.add_trace(go.Scatter(x=stats_df[\"created\"], y=stats_df[\"anomaly\"],\n",
    "                    mode='markers',\n",
    "                    line = dict(color='red', width=1),\n",
    "                    name='anomaly',\n",
    "                    ))\n",
    "\n",
    "\n",
    "fig.show()"
   ]
  },
  {
   "cell_type": "markdown",
   "metadata": {},
   "source": [
    "## testing"
   ]
  },
  {
   "cell_type": "code",
   "execution_count": null,
   "metadata": {},
   "outputs": [
    {
     "name": "stdout",
     "output_type": "stream",
     "text": [
      "[project_id, project_name, epic_id, epic_name, task_id, task_name, worklog_id, user_name, comment, worklog_date, worklog_start, worklog_end, duration_s, duration_h, link]\n",
      "[project_id, project_name, epic_id, epic_name, task_id, task_name, worklog_id, user_name, comment, worklog_date, worklog_start, worklog_end, duration_s, duration_h, link]\n"
     ]
    },
    {
     "data": {
      "text/plain": [
       "True"
      ]
     },
     "execution_count": 308,
     "metadata": {},
     "output_type": "execute_result"
    }
   ],
   "source": [
    "column1 = \"[project_id, project_name, epic_id, epic_name, task_id, task_name, worklog_id, user_name, comment, worklog_date, worklog_start, worklog_end, duration_s, duration_h, link]\"\n",
    "column2 = \"[project_id, project_name, epic_id, epic_name, task_id, task_name, worklog_id, user_name, comment, worklog_date, worklog_start, worklog_end, duration_s, duration_h, link]\"\n",
    "print(column1)\n",
    "print(column2)\n",
    "\n",
    "column1==column2"
   ]
  }
 ],
 "metadata": {
  "kernelspec": {
   "display_name": "Python 3.8.9 64-bit",
   "language": "python",
   "name": "python3"
  },
  "language_info": {
   "codemirror_mode": {
    "name": "ipython",
    "version": 3
   },
   "file_extension": ".py",
   "mimetype": "text/x-python",
   "name": "python",
   "nbconvert_exporter": "python",
   "pygments_lexer": "ipython3",
   "version": "3.9.6"
  },
  "orig_nbformat": 4,
  "vscode": {
   "interpreter": {
    "hash": "31f2aee4e71d21fbe5cf8b01ff0e069b9275f58929596ceb00d14d90e3e16cd6"
   }
  }
 },
 "nbformat": 4,
 "nbformat_minor": 2
}
