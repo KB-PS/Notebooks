{
 "cells": [
  {
   "attachments": {},
   "cell_type": "markdown",
   "metadata": {},
   "source": [
    "## READ THIS\n",
    "This is for projects with Native Datatypes feature enabled.\n",
    "Enter bucket name, storage token and adjust table definition"
   ]
  },
  {
   "cell_type": "code",
   "execution_count": 1,
   "metadata": {},
   "outputs": [],
   "source": [
    "import requests\n",
    "import json\n",
    "\n",
    "## change bucket name\n",
    "TABLE_NAME = \"out.c-dbt-dsd-platform\"\n",
    "\n",
    "## Enter your storage token\n",
    "TOKEN = \"{{STORAGE TOKEN}}\"\n",
    "\n",
    "reqUrl = \"https://connection.north-europe.azure.keboola.com/v2/storage/buckets/{}/tables-definition\".format(TABLE_NAME)"
   ]
  },
  {
   "cell_type": "code",
   "execution_count": 2,
   "metadata": {},
   "outputs": [],
   "source": [
    "headersList = {\n",
    " \"Content-Type\": \"application/json\", \n",
    " \"X-StorageApi-Token\": TOKEN\n",
    "}"
   ]
  },
  {
   "cell_type": "code",
   "execution_count": 3,
   "metadata": {},
   "outputs": [],
   "source": [
    "## Adjust the payload to create your table\n",
    "payload = json.dumps(\n",
    "    {\n",
    "  \"name\": \"courses_stream_new\",\n",
    "  \"primaryKeysNames\": [\n",
    "    \"ACTIVITY_ID\"\n",
    "  ],\n",
    "  \"columns\": [\n",
    "    {\n",
    "      \"name\": \"ACTIVITY_ID\",\n",
    "      \"definition\": {\n",
    "        \"type\": \"VARCHAR\",\n",
    "              \"nullable\": False\n",
    "      }\n",
    "    },\n",
    "    {\n",
    "      \"name\": \"TS\",\n",
    "      \"definition\": {\n",
    "        \"type\": \"TIMESTAMP\"\n",
    "      }\n",
    "    },\n",
    "    {\n",
    "      \"name\": \"CUSTOMER\",\n",
    "      \"definition\": {\n",
    "        \"type\": \"VARCHAR\",\n",
    "              \"nullable\": False\n",
    "      }\n",
    "    },\n",
    "    {\n",
    "      \"name\": \"ACTIVITY\",\n",
    "      \"definition\": {\n",
    "        \"type\": \"VARCHAR\",\n",
    "              \"nullable\": False\n",
    "      }\n",
    "    },\n",
    "    {\n",
    "      \"name\": \"ANONYMOUS_CUSTOMER_ID\",\n",
    "      \"definition\": {\n",
    "        \"type\": \"VARCHAR\",\n",
    "              \"nullable\": True\n",
    "      }\n",
    "    },\n",
    "    {\n",
    "      \"name\": \"REVENUE_IMPACT\",\n",
    "      \"definition\": {\n",
    "        \"type\": \"NUMERIC\"\n",
    "      }\n",
    "    },\n",
    "    {\n",
    "      \"name\": \"COURSE_NAME\",\n",
    "      \"definition\": {\n",
    "        \"type\": \"VARCHAR\",\n",
    "              \"nullable\": False\n",
    "      }\n",
    "    },\n",
    "    {\n",
    "      \"name\": \"COURSE_SLUG\",\n",
    "      \"definition\": {\n",
    "        \"type\": \"VARCHAR\",\n",
    "              \"nullable\": False\n",
    "      }\n",
    "    },\n",
    "    {\n",
    "      \"name\": \"COURSE_SKILL_LEVEL\",\n",
    "      \"definition\": {\n",
    "        \"type\": \"VARCHAR\",\n",
    "              \"nullable\": False\n",
    "      }\n",
    "    },\n",
    "    {\n",
    "      \"name\": \"COURSE_PUBLISHED_DATE\",\n",
    "      \"definition\": {\n",
    "        \"type\": \"DATE\"\n",
    "      }\n",
    "    },\n",
    "    {\n",
    "      \"name\": \"ACTIVITY_OCCURRENCE\",\n",
    "      \"definition\": {\n",
    "        \"type\": \"NUMERIC\"\n",
    "      }\n",
    "    },\n",
    "    {\n",
    "      \"name\": \"ACTIVITY_REPEATED_AT\",\n",
    "      \"definition\": {\n",
    "        \"type\": \"DATETIME\"\n",
    "      }\n",
    "    }\n",
    "  ]\n",
    "}\n",
    ")"
   ]
  },
  {
   "cell_type": "code",
   "execution_count": 4,
   "metadata": {},
   "outputs": [
    {
     "name": "stdout",
     "output_type": "stream",
     "text": [
      "{\"id\":12258680,\"status\":\"waiting\",\"url\":\"https:\\/\\/connection.north-europe.azure.keboola.com\\/v2\\/storage\\/jobs\\/12258680\",\"tableId\":null,\"operationName\":\"tableDefinitionCreate\",\"operationParams\":{\"backendConfiguration\":[],\"name\":\"courses_stream_new\",\"primaryKeysNames\":[\"ACTIVITY_ID\"],\"columns\":[{\"name\":\"ACTIVITY_ID\",\"definition\":{\"type\":\"VARCHAR\",\"nullable\":false}},{\"name\":\"TS\",\"definition\":{\"type\":\"TIMESTAMP\",\"nullable\":true}},{\"name\":\"CUSTOMER\",\"definition\":{\"type\":\"VARCHAR\",\"nullable\":false}},{\"name\":\"ACTIVITY\",\"definition\":{\"type\":\"VARCHAR\",\"nullable\":false}},{\"name\":\"ANONYMOUS_CUSTOMER_ID\",\"definition\":{\"type\":\"VARCHAR\",\"nullable\":true}},{\"name\":\"REVENUE_IMPACT\",\"definition\":{\"type\":\"NUMERIC\",\"nullable\":true}},{\"name\":\"COURSE_NAME\",\"definition\":{\"type\":\"VARCHAR\",\"nullable\":false}},{\"name\":\"COURSE_SLUG\",\"definition\":{\"type\":\"VARCHAR\",\"nullable\":false}},{\"name\":\"COURSE_SKILL_LEVEL\",\"definition\":{\"type\":\"VARCHAR\",\"nullable\":false}},{\"name\":\"COURSE_PUBLISHED_DATE\",\"definition\":{\"type\":\"DATE\",\"nullable\":true}},{\"name\":\"ACTIVITY_OCCURRENCE\",\"definition\":{\"type\":\"NUMERIC\",\"nullable\":true}},{\"name\":\"ACTIVITY_REPEATED_AT\",\"definition\":{\"type\":\"DATETIME\",\"nullable\":true}}],\"queue\":\"main\"},\"createdTime\":\"2023-03-14T19:08:30+0100\",\"startTime\":null,\"endTime\":null,\"runId\":\"36904575\",\"results\":null,\"creatorToken\":{\"id\":\"29151\",\"description\":\"fisa@keboola.com\"},\"metrics\":{\"inCompressed\":false,\"inBytes\":0,\"inBytesUncompressed\":0,\"outCompressed\":false,\"outBytes\":0,\"outBytesUncompressed\":0}}\n"
     ]
    }
   ],
   "source": [
    "response = requests.request(\"POST\", reqUrl, data=payload,  headers=headersList)\n",
    "print(response.text)"
   ]
  }
 ],
 "metadata": {
  "kernelspec": {
   "display_name": "Python 3",
   "language": "python",
   "name": "python3"
  },
  "language_info": {
   "codemirror_mode": {
    "name": "ipython",
    "version": 3
   },
   "file_extension": ".py",
   "mimetype": "text/x-python",
   "name": "python",
   "nbconvert_exporter": "python",
   "pygments_lexer": "ipython3",
   "version": "3.9.6"
  },
  "orig_nbformat": 4
 },
 "nbformat": 4,
 "nbformat_minor": 2
}
