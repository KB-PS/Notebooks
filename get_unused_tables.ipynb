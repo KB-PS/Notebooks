{
 "cells": [
  {
   "cell_type": "markdown",
   "id": "6753a032-da83-44c7-a850-a9bc8432cb3f",
   "metadata": {},
   "source": [
    "# 1 Retrieve all tables which are defined in writers\n"
   ]
  },
  {
   "cell_type": "markdown",
   "id": "857ae153-4956-4712-81b5-b6d2f3a89a16",
   "metadata": {},
   "source": [
    "## 1.1 Example on how to filter range of writers"
   ]
  },
  {
   "cell_type": "code",
   "execution_count": 3,
   "id": "545ae82c-78e3-4600-bfcd-c254af0ee559",
   "metadata": {},
   "outputs": [],
   "source": [
    "WRITERS = ('Power_BI', 'BIPOW')\n",
    "START_DATE='2022-01-01'"
   ]
  },
  {
   "cell_type": "code",
   "execution_count": 4,
   "id": "48ea206e-444a-4f7f-a96d-b979bc7ec9ef",
   "metadata": {},
   "outputs": [
    {
     "data": {
      "text/plain": [
       "True"
      ]
     },
     "execution_count": 4,
     "metadata": {},
     "output_type": "execute_result"
    }
   ],
   "source": [
    "'Power_BI.xx'.startswith(WRITERS)"
   ]
  },
  {
   "cell_type": "markdown",
   "id": "7aab2a0f-39e4-4010-ba48-16e3fc80c3bd",
   "metadata": {},
   "source": [
    "## 1.2 Custom functions and imports"
   ]
  },
  {
   "cell_type": "code",
   "execution_count": 42,
   "id": "4ef450ad-424f-4909-ba85-61c444c0fa1c",
   "metadata": {},
   "outputs": [],
   "source": [
    "import requests\n",
    "import pandas as pd\n",
    "import networkx as nx"
   ]
  },
  {
   "cell_type": "code",
   "execution_count": 6,
   "id": "878012b0-b8d8-4742-b0be-6ef11127f392",
   "metadata": {},
   "outputs": [],
   "source": [
    "TOKEN = 'XXX' # expires in 12 hours\n",
    "\n",
    "def list_configs(is_deleted=\"false\"):\n",
    "    \n",
    "    url = f'https://connection.eu-central-1.keboola.com/v2/storage/components/keboola.wr-db-snowflake/configs?isDeleted={is_deleted}'\n",
    "    headers = {}\n",
    "    headers[\"X-StorageApi-Token\"] = TOKEN\n",
    "    res = requests.get(url, headers=headers)\n",
    "    assert res.status_code==200, print(res.json())\n",
    "    return res.json()\n",
    "\n",
    "def getIOurl(tabid):\n",
    "    \"\"\"\n",
    "    The function maps corresponding urls to tables. \n",
    "    If the source/destination is not a table, it retains\n",
    "    original IO\n",
    "    \"\"\"\n",
    "    \n",
    "    url = None\n",
    "    try:\n",
    "        if tabid.startswith(\"https\"):\n",
    "            url = tabid\n",
    "        else:\n",
    "            ts = tabid.split(\".\")\n",
    "            url = f'https://connection.eu-central-1.keboola.com/admin/projects/390/storage/{ts[0]}.{ts[1]}/{ts[2]}'\n",
    "    except AttributeError:\n",
    "        pass\n",
    "    return url"
   ]
  },
  {
   "cell_type": "code",
   "execution_count": 7,
   "id": "2ee5f2dc-adf9-471f-8446-9a0c7da8baad",
   "metadata": {},
   "outputs": [],
   "source": [
    "def get_reachable_nodes(graph, node):\n",
    "    bfs = nx.bfs_tree(graph, source=node)\n",
    "    return set(bfs.nodes)\n",
    "\n",
    "def calculate_n_reachable_nodes(graph, node):\n",
    "    \"\"\"\n",
    "    this is a directed graph. number of upstream nodes is the same.\n",
    "    number of downstream nodes should differ.\n",
    "    \"\"\"\n",
    "    return len(set(list(nx.ancestors(graph, node))))"
   ]
  },
  {
   "cell_type": "markdown",
   "id": "fa6c2160-7abc-4472-a0ce-264de4f44b9f",
   "metadata": {},
   "source": [
    "## 1.3 Collecting all tables from writers\n",
    "The tables are extracted from writers and keyed by urls to easily explore in keboola"
   ]
  },
  {
   "cell_type": "code",
   "execution_count": 11,
   "id": "65e201ba-e943-4b49-9e9e-511416c181f4",
   "metadata": {},
   "outputs": [
    {
     "name": "stdout",
     "output_type": "stream",
     "text": [
      "There are 11 writers with 653 tables in total.\n"
     ]
    }
   ],
   "source": [
    "# get all nondeleted writer configs\n",
    "configs = list_configs()\n",
    "\n",
    "# get all table names from writer configs\n",
    "tables_in_wr = []\n",
    "for c in configs:\n",
    "    wrname = c['name']\n",
    "    for row in c['rows']:\n",
    "        if not row[\"isDisabled\"]:\n",
    "            tab_id = row['configuration']['parameters']['tableId']\n",
    "            destination = row['configuration']['parameters']['dbName']\n",
    "            tables_in_wr.append({'wr':wrname, 'tableId':tab_id, 'dbname':destination, 'url':getIOurl(tab_id)})\n",
    "print(f\"There are {len(configs)} writers with {len(tables_in_wr)} tables in total.\")"
   ]
  },
  {
   "cell_type": "markdown",
   "id": "34c11f9a-72d5-43e1-996e-bdd85358c370",
   "metadata": {
    "tags": []
   },
   "source": [
    "# 2 Load tables from GSheet\n",
    "The following tables are required for PowerBI reports to work. Let's see first two rows.  \n",
    "Then add writer name as additional column.\n",
    "\n",
    "<span style=\"color:red\"> NOTE: If writers are defined in google sheet, disable this. Alternatively add mappings if needed!</span>\n"
   ]
  },
  {
   "cell_type": "code",
   "execution_count": 12,
   "id": "7e413b67-9d5a-4b88-b749-583539147ac0",
   "metadata": {},
   "outputs": [
    {
     "data": {
      "text/html": [
       "<div>\n",
       "<style scoped>\n",
       "    .dataframe tbody tr th:only-of-type {\n",
       "        vertical-align: middle;\n",
       "    }\n",
       "\n",
       "    .dataframe tbody tr th {\n",
       "        vertical-align: top;\n",
       "    }\n",
       "\n",
       "    .dataframe thead th {\n",
       "        text-align: right;\n",
       "    }\n",
       "</style>\n",
       "<table border=\"1\" class=\"dataframe\">\n",
       "  <thead>\n",
       "    <tr style=\"text-align: right;\">\n",
       "      <th></th>\n",
       "      <th>Workspace</th>\n",
       "      <th>Report</th>\n",
       "      <th>Tables</th>\n",
       "      <th>note</th>\n",
       "    </tr>\n",
       "  </thead>\n",
       "  <tbody>\n",
       "    <tr>\n",
       "      <th>0</th>\n",
       "      <td>ALL</td>\n",
       "      <td>BI_fronta</td>\n",
       "      <td>bi-fronta-list-1</td>\n",
       "      <td>table</td>\n",
       "    </tr>\n",
       "    <tr>\n",
       "      <th>1</th>\n",
       "      <td>ALL</td>\n",
       "      <td>BI_fronta</td>\n",
       "      <td>Priorita</td>\n",
       "      <td>table</td>\n",
       "    </tr>\n",
       "  </tbody>\n",
       "</table>\n",
       "</div>"
      ],
      "text/plain": [
       "  Workspace     Report            Tables   note\n",
       "0       ALL  BI_fronta  bi-fronta-list-1  table\n",
       "1       ALL  BI_fronta          Priorita  table"
      ]
     },
     "execution_count": 12,
     "metadata": {},
     "output_type": "execute_result"
    }
   ],
   "source": [
    "tables_in_use_df = pd.read_csv(\"in/tables/tables_in_use.csv\")\n",
    "tables_in_use_df.head(2)"
   ]
  },
  {
   "cell_type": "code",
   "execution_count": 13,
   "id": "469b10d8-075a-4089-9785-063847c3c06a",
   "metadata": {},
   "outputs": [
    {
     "data": {
      "text/html": [
       "<div>\n",
       "<style scoped>\n",
       "    .dataframe tbody tr th:only-of-type {\n",
       "        vertical-align: middle;\n",
       "    }\n",
       "\n",
       "    .dataframe tbody tr th {\n",
       "        vertical-align: top;\n",
       "    }\n",
       "\n",
       "    .dataframe thead th {\n",
       "        text-align: right;\n",
       "    }\n",
       "</style>\n",
       "<table border=\"1\" class=\"dataframe\">\n",
       "  <thead>\n",
       "    <tr style=\"text-align: right;\">\n",
       "      <th></th>\n",
       "      <th>Workspace</th>\n",
       "      <th>Report</th>\n",
       "      <th>Tables</th>\n",
       "      <th>note</th>\n",
       "      <th>wr</th>\n",
       "    </tr>\n",
       "  </thead>\n",
       "  <tbody>\n",
       "    <tr>\n",
       "      <th>0</th>\n",
       "      <td>ALL</td>\n",
       "      <td>BI_fronta</td>\n",
       "      <td>bi-fronta-list-1</td>\n",
       "      <td>table</td>\n",
       "      <td>Power_BI</td>\n",
       "    </tr>\n",
       "    <tr>\n",
       "      <th>1</th>\n",
       "      <td>ALL</td>\n",
       "      <td>BI_fronta</td>\n",
       "      <td>Priorita</td>\n",
       "      <td>table</td>\n",
       "      <td>Power_BI</td>\n",
       "    </tr>\n",
       "  </tbody>\n",
       "</table>\n",
       "</div>"
      ],
      "text/plain": [
       "  Workspace     Report            Tables   note        wr\n",
       "0       ALL  BI_fronta  bi-fronta-list-1  table  Power_BI\n",
       "1       ALL  BI_fronta          Priorita  table  Power_BI"
      ]
     },
     "execution_count": 13,
     "metadata": {},
     "output_type": "execute_result"
    }
   ],
   "source": [
    "# custom adding of writer column into the dataframe \n",
    "tables_in_use_df[\"wr\"] = 'Power_BI'\n",
    "tables_in_use_df.head(2)"
   ]
  },
  {
   "cell_type": "markdown",
   "id": "3a759ae3-dd35-48d6-a170-718fdfc2223e",
   "metadata": {},
   "source": [
    "### 2.1 Upper for tables\n",
    "* dropping duplicates\n",
    "* converting to upper case"
   ]
  },
  {
   "cell_type": "code",
   "execution_count": 14,
   "id": "d6fdcb40-4a8f-4fb4-b62a-8392ffa8db5e",
   "metadata": {},
   "outputs": [
    {
     "name": "stdout",
     "output_type": "stream",
     "text": [
      "The dataframe from GSheet has 723 rows and 2 columns.\n"
     ]
    },
    {
     "data": {
      "text/html": [
       "<div>\n",
       "<style scoped>\n",
       "    .dataframe tbody tr th:only-of-type {\n",
       "        vertical-align: middle;\n",
       "    }\n",
       "\n",
       "    .dataframe tbody tr th {\n",
       "        vertical-align: top;\n",
       "    }\n",
       "\n",
       "    .dataframe thead th {\n",
       "        text-align: right;\n",
       "    }\n",
       "</style>\n",
       "<table border=\"1\" class=\"dataframe\">\n",
       "  <thead>\n",
       "    <tr style=\"text-align: right;\">\n",
       "      <th></th>\n",
       "      <th>Tables</th>\n",
       "      <th>wr</th>\n",
       "    </tr>\n",
       "  </thead>\n",
       "  <tbody>\n",
       "    <tr>\n",
       "      <th>0</th>\n",
       "      <td>BI-FRONTA-LIST-1</td>\n",
       "      <td>POWER_BI</td>\n",
       "    </tr>\n",
       "    <tr>\n",
       "      <th>1</th>\n",
       "      <td>PRIORITA</td>\n",
       "      <td>POWER_BI</td>\n",
       "    </tr>\n",
       "  </tbody>\n",
       "</table>\n",
       "</div>"
      ],
      "text/plain": [
       "             Tables        wr\n",
       "0  BI-FRONTA-LIST-1  POWER_BI\n",
       "1          PRIORITA  POWER_BI"
      ]
     },
     "execution_count": 14,
     "metadata": {},
     "output_type": "execute_result"
    }
   ],
   "source": [
    "# tables from GSheet\n",
    "tables_in_use2_df = tables_in_use_df.loc[tables_in_use_df.note=='table', [\"Tables\", \"wr\"]].drop_duplicates()\n",
    "tables_in_use2_df[\"Tables\"] = tables_in_use2_df.Tables.str.upper()\n",
    "tables_in_use2_df[\"wr\"] = tables_in_use2_df.wr.str.upper()\n",
    "print(f\"The dataframe from GSheet has {tables_in_use2_df.shape[0]} rows and {tables_in_use2_df.shape[1]} columns.\")\n",
    "tables_in_use2_df.head(2)"
   ]
  },
  {
   "cell_type": "code",
   "execution_count": 17,
   "id": "26903421-45db-419d-89b4-9040f2099c0d",
   "metadata": {},
   "outputs": [
    {
     "name": "stdout",
     "output_type": "stream",
     "text": [
      "The dataframe from writers has 653 rows and 4 columns.\n"
     ]
    },
    {
     "data": {
      "text/html": [
       "<div>\n",
       "<style scoped>\n",
       "    .dataframe tbody tr th:only-of-type {\n",
       "        vertical-align: middle;\n",
       "    }\n",
       "\n",
       "    .dataframe tbody tr th {\n",
       "        vertical-align: top;\n",
       "    }\n",
       "\n",
       "    .dataframe thead th {\n",
       "        text-align: right;\n",
       "    }\n",
       "</style>\n",
       "<table border=\"1\" class=\"dataframe\">\n",
       "  <thead>\n",
       "    <tr style=\"text-align: right;\">\n",
       "      <th></th>\n",
       "      <th>wr</th>\n",
       "      <th>tableId</th>\n",
       "      <th>dbname</th>\n",
       "      <th>url</th>\n",
       "    </tr>\n",
       "  </thead>\n",
       "  <tbody>\n",
       "    <tr>\n",
       "      <th>0</th>\n",
       "      <td>POWER_BI</td>\n",
       "      <td>out.c-00_PROD.BV_objednavka_hlavicka</td>\n",
       "      <td>BV_OBJEDNAVKA_HLAVICKA</td>\n",
       "      <td>https://connection.eu-central-1.keboola.com/ad...</td>\n",
       "    </tr>\n",
       "    <tr>\n",
       "      <th>1</th>\n",
       "      <td>POWER_BI</td>\n",
       "      <td>out.c-00_PROD.BV_objednavka_polozka</td>\n",
       "      <td>BV_OBJEDNAVKA_POLOZKA</td>\n",
       "      <td>https://connection.eu-central-1.keboola.com/ad...</td>\n",
       "    </tr>\n",
       "  </tbody>\n",
       "</table>\n",
       "</div>"
      ],
      "text/plain": [
       "         wr                               tableId                  dbname  \\\n",
       "0  POWER_BI  out.c-00_PROD.BV_objednavka_hlavicka  BV_OBJEDNAVKA_HLAVICKA   \n",
       "1  POWER_BI   out.c-00_PROD.BV_objednavka_polozka   BV_OBJEDNAVKA_POLOZKA   \n",
       "\n",
       "                                                 url  \n",
       "0  https://connection.eu-central-1.keboola.com/ad...  \n",
       "1  https://connection.eu-central-1.keboola.com/ad...  "
      ]
     },
     "execution_count": 17,
     "metadata": {},
     "output_type": "execute_result"
    }
   ],
   "source": [
    "# Tables from writers\n",
    "tables_in_wr_df = pd.DataFrame(tables_in_wr)\n",
    "tables_in_wr_df[\"dbname\"] = tables_in_wr_df.dbname.str.upper()\n",
    "tables_in_wr_df[\"wr\"] = tables_in_wr_df.wr.str.upper()\n",
    "print(f\"The dataframe from writers has {tables_in_wr_df.shape[0]} rows and {tables_in_wr_df.shape[1]} columns.\")\n",
    "tables_in_wr_df.head(2)"
   ]
  },
  {
   "cell_type": "markdown",
   "id": "4054476d-ba69-44ed-b5fd-e7a853cd0bc8",
   "metadata": {},
   "source": [
    "### 2.2 Pairing existing tables from GSheet and from writers \n",
    " * unused_tables --> tables which are not useful any more. All processes only leading to these can be turned off\n",
    " * used_tables --> important tables which need to be preserved"
   ]
  },
  {
   "cell_type": "code",
   "execution_count": 19,
   "id": "61d3a20a-9769-49dc-8445-6875f2bfe20b",
   "metadata": {
    "tags": []
   },
   "outputs": [
    {
     "name": "stdout",
     "output_type": "stream",
     "text": [
      "The dataframe which merges writers and GSheet has 244 rows and 5 columns.\n"
     ]
    }
   ],
   "source": [
    "df_existing = pd.merge(left=tables_in_use2_df, right=tables_in_wr_df, left_on=[\"Tables\", \"wr\"], right_on=[\"dbname\", \"wr\"])\n",
    "df_existing.drop_duplicates(inplace=True)\n",
    "print(f\"The dataframe which merges writers and GSheet has {df_existing.shape[0]} rows and {df_existing.shape[1]} columns.\")"
   ]
  },
  {
   "cell_type": "code",
   "execution_count": 20,
   "id": "6b9e81fb-da42-4d0d-8c8e-c5884edace46",
   "metadata": {},
   "outputs": [
    {
     "name": "stdout",
     "output_type": "stream",
     "text": [
      "There are 244 tables which are still used for PowerBI reports.\n",
      "There are 353 redundant tables.\n"
     ]
    }
   ],
   "source": [
    "unused_tables = [url for url in tables_in_wr_df.url.values if url not in df_existing.url.values]\n",
    "used_tables = [url for url in tables_in_wr_df.url.values if url in df_existing.url.values]\n",
    "print(f\"There are {len(set(used_tables))} tables which are still used for PowerBI reports.\")\n",
    "print(f\"There are {len(set(unused_tables))} redundant tables.\")"
   ]
  },
  {
   "cell_type": "markdown",
   "id": "2de565fa-fe01-47fd-98cf-5d474e433fdb",
   "metadata": {},
   "source": [
    "# 3 Construct the graph\n",
    "Three graphs are about to be constructed:\n",
    "* G --> the graph which describes all tables and processes in the project\n",
    "* GG --> the same graph, but reversed\n",
    "* GGS2 --> subset of the previous graph which includes all the nodes which are accessible from tables that were identified as redundant.\n",
    "\n",
    "In all graphs, nodes are identified by keboola links to enable easy pairing and checking in the project"
   ]
  },
  {
   "cell_type": "markdown",
   "id": "5e31fc04-095f-4c2e-9cfb-8a913fadcefd",
   "metadata": {},
   "source": [
    "### 3.1 Load tables from lineage\n",
    "The underlying data were obtained from Keboola transformation https://connection.eu-central-1.keboola.com/admin/projects/390/transformations-v2/keboola.snowflake-transformation/504414990 . The table storage_inputs_and_outputs.csv tracks every object and its impact on storage"
   ]
  },
  {
   "cell_type": "code",
   "execution_count": 21,
   "id": "53cacdef-04d7-48e4-bd48-13616fcd6af0",
   "metadata": {},
   "outputs": [
    {
     "data": {
      "text/html": [
       "<div>\n",
       "<style scoped>\n",
       "    .dataframe tbody tr th:only-of-type {\n",
       "        vertical-align: middle;\n",
       "    }\n",
       "\n",
       "    .dataframe tbody tr th {\n",
       "        vertical-align: top;\n",
       "    }\n",
       "\n",
       "    .dataframe thead th {\n",
       "        text-align: right;\n",
       "    }\n",
       "</style>\n",
       "<table border=\"1\" class=\"dataframe\">\n",
       "  <thead>\n",
       "    <tr style=\"text-align: right;\">\n",
       "      <th></th>\n",
       "      <th>id</th>\n",
       "      <th>region</th>\n",
       "      <th>project_id</th>\n",
       "      <th>project_name</th>\n",
       "      <th>name</th>\n",
       "      <th>component_id</th>\n",
       "      <th>component_name</th>\n",
       "      <th>component_type</th>\n",
       "      <th>STORAGE_INPUTS_SOURCES</th>\n",
       "      <th>STORAGE_INPUTS_DESTINATIONS</th>\n",
       "      <th>STORAGE_OUTPUTS_SOURCES</th>\n",
       "      <th>STORAGE_OUTPUTS_DESTINATIONS</th>\n",
       "      <th>bucket_id</th>\n",
       "      <th>isDisabled</th>\n",
       "    </tr>\n",
       "  </thead>\n",
       "  <tbody>\n",
       "    <tr>\n",
       "      <th>0</th>\n",
       "      <td>505675972</td>\n",
       "      <td>eu-central-1.keboola.com</td>\n",
       "      <td>390</td>\n",
       "      <td>EMG reporting</td>\n",
       "      <td>lineage</td>\n",
       "      <td>keboola.sandboxes</td>\n",
       "      <td>Workspace</td>\n",
       "      <td>other</td>\n",
       "      <td>in.c-kds-team-ex-kbc-project-metadata-v2-50441...</td>\n",
       "      <td>NaN</td>\n",
       "      <td>NaN</td>\n",
       "      <td>NaN</td>\n",
       "      <td>NaN</td>\n",
       "      <td>False</td>\n",
       "    </tr>\n",
       "    <tr>\n",
       "      <th>1</th>\n",
       "      <td>505675972</td>\n",
       "      <td>eu-central-1.keboola.com</td>\n",
       "      <td>390</td>\n",
       "      <td>EMG reporting</td>\n",
       "      <td>lineage</td>\n",
       "      <td>keboola.sandboxes</td>\n",
       "      <td>Workspace</td>\n",
       "      <td>other</td>\n",
       "      <td>in.c-kds-team-ex-kbc-project-metadata-v2-50441...</td>\n",
       "      <td>NaN</td>\n",
       "      <td>NaN</td>\n",
       "      <td>NaN</td>\n",
       "      <td>NaN</td>\n",
       "      <td>False</td>\n",
       "    </tr>\n",
       "  </tbody>\n",
       "</table>\n",
       "</div>"
      ],
      "text/plain": [
       "          id                    region  project_id   project_name     name  \\\n",
       "0  505675972  eu-central-1.keboola.com         390  EMG reporting  lineage   \n",
       "1  505675972  eu-central-1.keboola.com         390  EMG reporting  lineage   \n",
       "\n",
       "        component_id component_name component_type  \\\n",
       "0  keboola.sandboxes      Workspace          other   \n",
       "1  keboola.sandboxes      Workspace          other   \n",
       "\n",
       "                              STORAGE_INPUTS_SOURCES  \\\n",
       "0  in.c-kds-team-ex-kbc-project-metadata-v2-50441...   \n",
       "1  in.c-kds-team-ex-kbc-project-metadata-v2-50441...   \n",
       "\n",
       "  STORAGE_INPUTS_DESTINATIONS STORAGE_OUTPUTS_SOURCES  \\\n",
       "0                         NaN                     NaN   \n",
       "1                         NaN                     NaN   \n",
       "\n",
       "  STORAGE_OUTPUTS_DESTINATIONS  bucket_id isDisabled  \n",
       "0                          NaN        NaN      False  \n",
       "1                          NaN        NaN      False  "
      ]
     },
     "execution_count": 21,
     "metadata": {},
     "output_type": "execute_result"
    }
   ],
   "source": [
    "df = pd.read_csv('in/tables/storage_inputs_and_outputs.csv')\n",
    "df.head(2)"
   ]
  },
  {
   "cell_type": "markdown",
   "id": "ad9ee5da-293c-4205-aba0-ff2a72e9958e",
   "metadata": {},
   "source": [
    "### 3.2 Clean and enrich lineage data\n",
    "Here some cleaning goes on. Also, a URL column must be added.\n",
    "Next, it was identified that some data coming from telemetry are really useful. \n",
    "\n",
    "Therefore the lineage data are paired with the following:\n",
    "* kbc_job.csv - information about jobs in Keboola\n",
    "* kbc_component_configuration.csv - information about configurations of Keboola components\n",
    "* kbc_component_configuration_version.csv - information about versions of the configurations above"
   ]
  },
  {
   "cell_type": "code",
   "execution_count": 22,
   "id": "7026a6b4-4021-48e9-ba7c-52bcdbc61d16",
   "metadata": {},
   "outputs": [],
   "source": [
    "def splitter(x):\n",
    "    \"\"\"\n",
    "    Return the whole string or table name part\n",
    "    \"\"\"\n",
    "    \n",
    "    split_x = x\n",
    "    try:\n",
    "        split_x = str(x).split('.')[-1]\n",
    "    except KeyError:\n",
    "        split_x = x\n",
    "    return split_x\n",
    "\n",
    "def construct_url(row):\n",
    "    url = 'NA'\n",
    "    base_url = 'https://connection.' + row[\"region\"] + '/admin/projects/' + str(row[\"project_id\"]) + '/' \n",
    "    if row[\"component_type\"]=='transformation':\n",
    "        url = base_url + f'transformations-v2/{row[\"component_id\"]}/{row[\"id\"]}' \n",
    "    elif row[\"component_type\"]=='other':\n",
    "        url = base_url + f'workspaces/{row[\"id\"]}' \n",
    "    elif row[\"component_type\"]=='legacy transformation':\n",
    "        url = base_url + f'transformations/bucket/{row[\"bucket_id\"]}/transformation/{row[\"id\"]}'\n",
    "    else:\n",
    "        url = base_url + f'components/{row[\"component_id\"]}/{row[\"id\"]}' \n",
    "    return url \n",
    "\n",
    "def construct_url_tele():\n",
    "    url = 'NA'\n",
    "    base_url = 'https://connection.' + row[\"region\"] + '/admin/projects/' + str(row[\"project_id\"]) + '/' \n",
    "    if row[\"component_type\"]=='transformation':\n",
    "        url = base_url + f'transformations-v2/{row[\"component_id\"]}/{row[\"id\"]}' \n",
    "    elif row[\"component_type\"]=='other':\n",
    "        url = base_url + f'workspaces/{row[\"id\"]}' \n",
    "    elif row[\"component_type\"]=='legacy transformation':\n",
    "        url = base_url + f'transformations/bucket/{row[\"bucket_id\"]}/transformation/{row[\"id\"]}'\n",
    "    else:\n",
    "        url = base_url + f'components/{row[\"component_id\"]}/{row[\"id\"]}' \n",
    "    return url \n"
   ]
  },
  {
   "cell_type": "code",
   "execution_count": 23,
   "id": "4dc1350e-5e37-4af2-8852-8cf5c791a27c",
   "metadata": {},
   "outputs": [],
   "source": [
    "# clean data from lineage and add URL column\n",
    "replace_values = {'\\\"' : '', '\\n' : '', '[' : '', ']' : ''  }        \n",
    "\n",
    "df.replace({\"STORAGE_INPUTS_SOURCES\": replace_values}, inplace=True)   \n",
    "df.replace({\"STORAGE_OUTPUTS_DESTINATIONS\": replace_values}, inplace=True)   \n",
    "# create a new dataframe with the columns we want\n",
    "\n",
    "df[\"STORAGE_INPUTS_SOURCES_NAMES\"]=df.STORAGE_INPUTS_SOURCES.apply(lambda x: splitter(x))\n",
    "df[\"STORAGE_OUTPUTS_DESTINATIONS_NAMES\"]=df.STORAGE_OUTPUTS_DESTINATIONS.apply(lambda x: splitter(x))\n",
    "\n",
    "df = df.astype({'bucket_id':'Int64'}, errors='ignore')\n",
    "df = df.astype({'id':'Int64'}, errors='ignore')\n",
    "\n",
    "df[\"URL\"] = df.apply(lambda x: construct_url(x), axis=1)\n",
    "\n",
    "df[\"STORAGE_INPUTS_SOURCES_URL\"]=df.STORAGE_INPUTS_SOURCES.apply(lambda x: getIOurl(x))\n",
    "df[\"STORAGE_OUTPUTS_DESTINATIONS_URL\"]=df.STORAGE_OUTPUTS_DESTINATIONS.apply(lambda x: getIOurl(x))"
   ]
  },
  {
   "cell_type": "markdown",
   "id": "a5851969-ba81-4cdd-8bca-30f7191ade35",
   "metadata": {},
   "source": [
    "### 3.3 Create nodes and edges from lineage data"
   ]
  },
  {
   "cell_type": "code",
   "execution_count": 24,
   "id": "d5d5a897-a3bd-4d9f-afb1-fe092da2f443",
   "metadata": {},
   "outputs": [],
   "source": [
    "# url, table name pairs for source and destination tables\n",
    "storage_inputs_sources = list(df.loc[~pd.isna(df.STORAGE_INPUTS_SOURCES_URL), [\"URL\", \"STORAGE_INPUTS_SOURCES_URL\"]].to_records(index=False))\n",
    "storage_inputs_sources = [tuple(x) for x in (storage_inputs_sources)]\n",
    "storage_outputs_destinations = list(df.loc[~pd.isna(df.STORAGE_OUTPUTS_DESTINATIONS_URL), [\"URL\", \"STORAGE_OUTPUTS_DESTINATIONS_URL\"]].to_records(index=False))\n",
    "storage_outputs_destinations = [tuple(x) for x in (storage_outputs_destinations)]\n",
    "# flip sources\n",
    "storage_inputs_sources_flipped = [(x[1], x[0]) for x in storage_inputs_sources]\n",
    "# flipping source table...\n",
    "edges = (storage_inputs_sources_flipped + storage_outputs_destinations)"
   ]
  },
  {
   "cell_type": "markdown",
   "id": "4b13593b-6aa7-4c2b-b455-44fef9c3c84b",
   "metadata": {},
   "source": [
    "### 3.4 Calculate usage stats from KBC telemetry\n",
    "a) data from jobs and configurations are merged    \n",
    "b) calculate last job and total price  \n",
    "c) merge with lineage data to add url column"
   ]
  },
  {
   "cell_type": "code",
   "execution_count": 25,
   "id": "c5ddfea3-c6ca-4282-859b-aecbf38fec65",
   "metadata": {},
   "outputs": [
    {
     "data": {
      "text/html": [
       "<div>\n",
       "<style scoped>\n",
       "    .dataframe tbody tr th:only-of-type {\n",
       "        vertical-align: middle;\n",
       "    }\n",
       "\n",
       "    .dataframe tbody tr th {\n",
       "        vertical-align: top;\n",
       "    }\n",
       "\n",
       "    .dataframe thead th {\n",
       "        text-align: right;\n",
       "    }\n",
       "</style>\n",
       "<table border=\"1\" class=\"dataframe\">\n",
       "  <thead>\n",
       "    <tr style=\"text-align: right;\">\n",
       "      <th></th>\n",
       "      <th>kbc_component_configuration_id</th>\n",
       "      <th>kbc_branch_id</th>\n",
       "      <th>configuration_updated_at</th>\n",
       "      <th>change_description</th>\n",
       "      <th>configuration_version</th>\n",
       "      <th>last_version</th>\n",
       "      <th>token_id</th>\n",
       "      <th>token_name</th>\n",
       "      <th>dst_proj_single</th>\n",
       "      <th>dst_stack_single</th>\n",
       "      <th>dst_proj_company</th>\n",
       "      <th>dst_stack_company</th>\n",
       "      <th>dst_timestamp</th>\n",
       "    </tr>\n",
       "  </thead>\n",
       "  <tbody>\n",
       "    <tr>\n",
       "      <th>0</th>\n",
       "      <td>390_kbc-eu-central-1_transformation_278194054</td>\n",
       "      <td>123_kbc-eu-central-1</td>\n",
       "      <td>2023-02-06 21:02:41</td>\n",
       "      <td>Transformation import_per_15min disabled</td>\n",
       "      <td>223</td>\n",
       "      <td>False</td>\n",
       "      <td>213848</td>\n",
       "      <td>papousek.radan@euromedia.cz</td>\n",
       "      <td>390</td>\n",
       "      <td>connection.eu-central-1.keboola.com</td>\n",
       "      <td>NaN</td>\n",
       "      <td>NaN</td>\n",
       "      <td>2023-02-07 00:09:59</td>\n",
       "    </tr>\n",
       "    <tr>\n",
       "      <th>1</th>\n",
       "      <td>390_kbc-eu-central-1_transformation_341173431</td>\n",
       "      <td>123_kbc-eu-central-1</td>\n",
       "      <td>2023-02-06 11:55:33</td>\n",
       "      <td>Change Scripts in Cenotvorba</td>\n",
       "      <td>91</td>\n",
       "      <td>True</td>\n",
       "      <td>213848</td>\n",
       "      <td>papousek.radan@euromedia.cz</td>\n",
       "      <td>390</td>\n",
       "      <td>connection.eu-central-1.keboola.com</td>\n",
       "      <td>NaN</td>\n",
       "      <td>NaN</td>\n",
       "      <td>2023-02-06 14:00:52</td>\n",
       "    </tr>\n",
       "  </tbody>\n",
       "</table>\n",
       "</div>"
      ],
      "text/plain": [
       "                  kbc_component_configuration_id         kbc_branch_id  \\\n",
       "0  390_kbc-eu-central-1_transformation_278194054  123_kbc-eu-central-1   \n",
       "1  390_kbc-eu-central-1_transformation_341173431  123_kbc-eu-central-1   \n",
       "\n",
       "  configuration_updated_at                        change_description  \\\n",
       "0      2023-02-06 21:02:41  Transformation import_per_15min disabled   \n",
       "1      2023-02-06 11:55:33              Change Scripts in Cenotvorba   \n",
       "\n",
       "   configuration_version  last_version  token_id                   token_name  \\\n",
       "0                    223         False    213848  papousek.radan@euromedia.cz   \n",
       "1                     91          True    213848  papousek.radan@euromedia.cz   \n",
       "\n",
       "   dst_proj_single                     dst_stack_single  dst_proj_company  \\\n",
       "0              390  connection.eu-central-1.keboola.com               NaN   \n",
       "1              390  connection.eu-central-1.keboola.com               NaN   \n",
       "\n",
       "   dst_stack_company       dst_timestamp  \n",
       "0                NaN 2023-02-07 00:09:59  \n",
       "1                NaN 2023-02-06 14:00:52  "
      ]
     },
     "execution_count": 25,
     "metadata": {},
     "output_type": "execute_result"
    }
   ],
   "source": [
    "#a)\n",
    "# load jobs\n",
    "jobsdf = pd.read_csv(\"in/tables/kbc_job.csv\", parse_dates=[\"dst_timestamp\"])\n",
    "# load configs \n",
    "configs_df = pd.read_csv(\"in/tables/kbc_component_configuration.csv\", parse_dates=[\"dst_timestamp\"])\n",
    "configs_df = configs_df.loc[~configs_df.kbc_configuration_is_deleted]\n",
    "versions_df = pd.read_csv(\"in/tables/kbc_component_configuration_version.csv\", parse_dates=[\"dst_timestamp\", \"configuration_updated_at\"])\n",
    "versions_df.head(2)"
   ]
  },
  {
   "cell_type": "code",
   "execution_count": 29,
   "id": "5c8f9373-0d25-4b04-ad15-2ce0c84bb3a7",
   "metadata": {},
   "outputs": [
    {
     "data": {
      "text/html": [
       "<div>\n",
       "<style scoped>\n",
       "    .dataframe tbody tr th:only-of-type {\n",
       "        vertical-align: middle;\n",
       "    }\n",
       "\n",
       "    .dataframe tbody tr th {\n",
       "        vertical-align: top;\n",
       "    }\n",
       "\n",
       "    .dataframe thead th {\n",
       "        text-align: right;\n",
       "    }\n",
       "</style>\n",
       "<table border=\"1\" class=\"dataframe\">\n",
       "  <thead>\n",
       "    <tr style=\"text-align: right;\">\n",
       "      <th></th>\n",
       "      <th>kbc_component_configuration_id</th>\n",
       "      <th>kbc_branch_id</th>\n",
       "      <th>configuration_updated_at</th>\n",
       "      <th>change_description</th>\n",
       "      <th>configuration_version</th>\n",
       "      <th>last_version</th>\n",
       "      <th>token_id</th>\n",
       "      <th>token_name</th>\n",
       "      <th>dst_proj_single</th>\n",
       "      <th>dst_stack_single</th>\n",
       "      <th>dst_proj_company</th>\n",
       "      <th>dst_stack_company</th>\n",
       "      <th>dst_timestamp</th>\n",
       "    </tr>\n",
       "  </thead>\n",
       "  <tbody>\n",
       "    <tr>\n",
       "      <th>28794</th>\n",
       "      <td>390_kbc-eu-central-1_keboola.wr-db-snowflake_2...</td>\n",
       "      <td>123_kbc-eu-central-1</td>\n",
       "      <td>2019-02-05 14:58:41</td>\n",
       "      <td>Configuration deleted</td>\n",
       "      <td>4</td>\n",
       "      <td>True</td>\n",
       "      <td>4162</td>\n",
       "      <td>jakub.turner@keboola.com</td>\n",
       "      <td>390</td>\n",
       "      <td>connection.eu-central-1.keboola.com</td>\n",
       "      <td>NaN</td>\n",
       "      <td>NaN</td>\n",
       "      <td>2022-08-10 16:04:31</td>\n",
       "    </tr>\n",
       "    <tr>\n",
       "      <th>18185</th>\n",
       "      <td>390_kbc-eu-central-1_keboola.ex-db-mssql_28435431</td>\n",
       "      <td>123_kbc-eu-central-1</td>\n",
       "      <td>2019-02-22 08:56:01</td>\n",
       "      <td>Configuration deleted</td>\n",
       "      <td>2</td>\n",
       "      <td>True</td>\n",
       "      <td>4164</td>\n",
       "      <td>david.zelenka@bootiq.io</td>\n",
       "      <td>390</td>\n",
       "      <td>connection.eu-central-1.keboola.com</td>\n",
       "      <td>NaN</td>\n",
       "      <td>NaN</td>\n",
       "      <td>2022-08-10 16:04:31</td>\n",
       "    </tr>\n",
       "  </tbody>\n",
       "</table>\n",
       "</div>"
      ],
      "text/plain": [
       "                          kbc_component_configuration_id  \\\n",
       "28794  390_kbc-eu-central-1_keboola.wr-db-snowflake_2...   \n",
       "18185  390_kbc-eu-central-1_keboola.ex-db-mssql_28435431   \n",
       "\n",
       "              kbc_branch_id configuration_updated_at     change_description  \\\n",
       "28794  123_kbc-eu-central-1      2019-02-05 14:58:41  Configuration deleted   \n",
       "18185  123_kbc-eu-central-1      2019-02-22 08:56:01  Configuration deleted   \n",
       "\n",
       "       configuration_version  last_version  token_id  \\\n",
       "28794                      4          True      4162   \n",
       "18185                      2          True      4164   \n",
       "\n",
       "                     token_name  dst_proj_single  \\\n",
       "28794  jakub.turner@keboola.com              390   \n",
       "18185   david.zelenka@bootiq.io              390   \n",
       "\n",
       "                          dst_stack_single  dst_proj_company  \\\n",
       "28794  connection.eu-central-1.keboola.com               NaN   \n",
       "18185  connection.eu-central-1.keboola.com               NaN   \n",
       "\n",
       "       dst_stack_company       dst_timestamp  \n",
       "28794                NaN 2022-08-10 16:04:31  \n",
       "18185                NaN 2022-08-10 16:04:31  "
      ]
     },
     "execution_count": 29,
     "metadata": {},
     "output_type": "execute_result"
    }
   ],
   "source": [
    "# getting the latest versions only\n",
    "versions_df_latest= versions_df.sort_values('configuration_updated_at').groupby('kbc_component_configuration_id').tail(1)\n",
    "versions_df_latest.head(2)"
   ]
  },
  {
   "cell_type": "code",
   "execution_count": 28,
   "id": "7c710799-0596-421e-9583-1c2acfc03d5c",
   "metadata": {},
   "outputs": [
    {
     "data": {
      "text/html": [
       "<div>\n",
       "<style scoped>\n",
       "    .dataframe tbody tr th:only-of-type {\n",
       "        vertical-align: middle;\n",
       "    }\n",
       "\n",
       "    .dataframe tbody tr th {\n",
       "        vertical-align: top;\n",
       "    }\n",
       "\n",
       "    .dataframe thead th {\n",
       "        text-align: right;\n",
       "    }\n",
       "</style>\n",
       "<table border=\"1\" class=\"dataframe\">\n",
       "  <thead>\n",
       "    <tr style=\"text-align: right;\">\n",
       "      <th></th>\n",
       "      <th>kbc_job_id</th>\n",
       "      <th>kbc_component_configuration_id</th>\n",
       "      <th>kbc_branch_id</th>\n",
       "      <th>kbc_component_id</th>\n",
       "      <th>transformation_type</th>\n",
       "      <th>job_run_id</th>\n",
       "      <th>job_start_at</th>\n",
       "      <th>job_created_at</th>\n",
       "      <th>job_status</th>\n",
       "      <th>error_type</th>\n",
       "      <th>...</th>\n",
       "      <th>ds_backend_size</th>\n",
       "      <th>dwh_small_ratio</th>\n",
       "      <th>dwh_medium_ratio</th>\n",
       "      <th>dwh_large_ratio</th>\n",
       "      <th>backend_size</th>\n",
       "      <th>dst_proj_single</th>\n",
       "      <th>dst_stack_single</th>\n",
       "      <th>dst_proj_company</th>\n",
       "      <th>dst_stack_company</th>\n",
       "      <th>dst_timestamp</th>\n",
       "    </tr>\n",
       "  </thead>\n",
       "  <tbody>\n",
       "    <tr>\n",
       "      <th>0</th>\n",
       "      <td>525058892_kbc-eu-central-1</td>\n",
       "      <td>390_kbc-eu-central-1_keboola.snowflake-transfo...</td>\n",
       "      <td>123_kbc-eu-central-1</td>\n",
       "      <td>keboola.snowflake-transformation</td>\n",
       "      <td>SQL</td>\n",
       "      <td>525056190.525058893</td>\n",
       "      <td>2023-01-27 15:56:20.000</td>\n",
       "      <td>2023-01-27 15:56:20.000</td>\n",
       "      <td>success</td>\n",
       "      <td>NaN</td>\n",
       "      <td>...</td>\n",
       "      <td>NaN</td>\n",
       "      <td>0.96837</td>\n",
       "      <td>0.0</td>\n",
       "      <td>0.0</td>\n",
       "      <td>multi</td>\n",
       "      <td>390</td>\n",
       "      <td>connection.eu-central-1.keboola.com</td>\n",
       "      <td>NaN</td>\n",
       "      <td>NaN</td>\n",
       "      <td>2023-01-27 17:59:46</td>\n",
       "    </tr>\n",
       "    <tr>\n",
       "      <th>1</th>\n",
       "      <td>524898401_kbc-eu-central-1</td>\n",
       "      <td>390_kbc-eu-central-1_keboola.wr-db-snowflake_1...</td>\n",
       "      <td>123_kbc-eu-central-1</td>\n",
       "      <td>keboola.wr-db-snowflake</td>\n",
       "      <td>None</td>\n",
       "      <td>524752412.524898402</td>\n",
       "      <td>2023-01-27 06:40:54.000</td>\n",
       "      <td>2023-01-27 06:24:49.000</td>\n",
       "      <td>success</td>\n",
       "      <td>NaN</td>\n",
       "      <td>...</td>\n",
       "      <td>NaN</td>\n",
       "      <td>NaN</td>\n",
       "      <td>NaN</td>\n",
       "      <td>NaN</td>\n",
       "      <td>NaN</td>\n",
       "      <td>390</td>\n",
       "      <td>connection.eu-central-1.keboola.com</td>\n",
       "      <td>NaN</td>\n",
       "      <td>NaN</td>\n",
       "      <td>2023-01-27 09:59:57</td>\n",
       "    </tr>\n",
       "  </tbody>\n",
       "</table>\n",
       "<p>2 rows × 29 columns</p>\n",
       "</div>"
      ],
      "text/plain": [
       "                   kbc_job_id  \\\n",
       "0  525058892_kbc-eu-central-1   \n",
       "1  524898401_kbc-eu-central-1   \n",
       "\n",
       "                      kbc_component_configuration_id         kbc_branch_id  \\\n",
       "0  390_kbc-eu-central-1_keboola.snowflake-transfo...  123_kbc-eu-central-1   \n",
       "1  390_kbc-eu-central-1_keboola.wr-db-snowflake_1...  123_kbc-eu-central-1   \n",
       "\n",
       "                   kbc_component_id transformation_type           job_run_id  \\\n",
       "0  keboola.snowflake-transformation                 SQL  525056190.525058893   \n",
       "1           keboola.wr-db-snowflake                None  524752412.524898402   \n",
       "\n",
       "              job_start_at           job_created_at job_status error_type  \\\n",
       "0  2023-01-27 15:56:20.000  2023-01-27 15:56:20.000    success        NaN   \n",
       "1  2023-01-27 06:40:54.000  2023-01-27 06:24:49.000    success        NaN   \n",
       "\n",
       "   ... ds_backend_size dwh_small_ratio  dwh_medium_ratio dwh_large_ratio  \\\n",
       "0  ...             NaN         0.96837               0.0             0.0   \n",
       "1  ...             NaN             NaN               NaN             NaN   \n",
       "\n",
       "   backend_size  dst_proj_single                     dst_stack_single  \\\n",
       "0         multi              390  connection.eu-central-1.keboola.com   \n",
       "1           NaN              390  connection.eu-central-1.keboola.com   \n",
       "\n",
       "   dst_proj_company  dst_stack_company       dst_timestamp  \n",
       "0               NaN                NaN 2023-01-27 17:59:46  \n",
       "1               NaN                NaN 2023-01-27 09:59:57  \n",
       "\n",
       "[2 rows x 29 columns]"
      ]
     },
     "execution_count": 28,
     "metadata": {},
     "output_type": "execute_result"
    }
   ],
   "source": [
    "configs_df = pd.merge(configs_df, versions_df_latest.loc[:, [\"kbc_component_configuration_id\", \"token_name\", \"configuration_updated_at\"]])\n",
    "jobsdf.head(2)"
   ]
  },
  {
   "cell_type": "code",
   "execution_count": 30,
   "id": "d5154b04-ee8a-453c-9b71-1dc2c33c8ab0",
   "metadata": {},
   "outputs": [
    {
     "name": "stdout",
     "output_type": "stream",
     "text": [
      "Shape of merged table (439, 10)\n"
     ]
    },
    {
     "data": {
      "text/html": [
       "<div>\n",
       "<style scoped>\n",
       "    .dataframe tbody tr th:only-of-type {\n",
       "        vertical-align: middle;\n",
       "    }\n",
       "\n",
       "    .dataframe tbody tr th {\n",
       "        vertical-align: top;\n",
       "    }\n",
       "\n",
       "    .dataframe thead th {\n",
       "        text-align: right;\n",
       "    }\n",
       "</style>\n",
       "<table border=\"1\" class=\"dataframe\">\n",
       "  <thead>\n",
       "    <tr style=\"text-align: right;\">\n",
       "      <th></th>\n",
       "      <th>kbc_component_configuration_id</th>\n",
       "      <th>kbc_component_id_x</th>\n",
       "      <th>kbc_component_configuration</th>\n",
       "      <th>kbc_component</th>\n",
       "      <th>configuration_id_num</th>\n",
       "      <th>kbc_component_type</th>\n",
       "      <th>token_name_x</th>\n",
       "      <th>configuration_updated_at</th>\n",
       "      <th>total_consumption</th>\n",
       "      <th>last_usage</th>\n",
       "    </tr>\n",
       "  </thead>\n",
       "  <tbody>\n",
       "    <tr>\n",
       "      <th>0</th>\n",
       "      <td>390_kbc-eu-central-1_blueskydigital.wr-ftp_334...</td>\n",
       "      <td>blueskydigital.wr-ftp_kbc-eu-central-1</td>\n",
       "      <td>Samba</td>\n",
       "      <td>FTP/FTPS</td>\n",
       "      <td>334091535</td>\n",
       "      <td>writer</td>\n",
       "      <td>par@euromedia.cz</td>\n",
       "      <td>2021-10-20 16:29:39</td>\n",
       "      <td>30.946479</td>\n",
       "      <td>2022-12-08 13:25:17</td>\n",
       "    </tr>\n",
       "    <tr>\n",
       "      <th>1</th>\n",
       "      <td>390_kbc-eu-central-1_bootiq.ex-mssql-extended_...</td>\n",
       "      <td>bootiq.ex-mssql-extended_kbc-eu-central-1</td>\n",
       "      <td>HEG_Neoluxor</td>\n",
       "      <td>MSSQL-extended</td>\n",
       "      <td>122782245</td>\n",
       "      <td>extractor</td>\n",
       "      <td>michal.kadera@bootiq.io</td>\n",
       "      <td>2022-03-23 01:25:03</td>\n",
       "      <td>0.000000</td>\n",
       "      <td>2022-12-08 13:25:17</td>\n",
       "    </tr>\n",
       "  </tbody>\n",
       "</table>\n",
       "</div>"
      ],
      "text/plain": [
       "                      kbc_component_configuration_id  \\\n",
       "0  390_kbc-eu-central-1_blueskydigital.wr-ftp_334...   \n",
       "1  390_kbc-eu-central-1_bootiq.ex-mssql-extended_...   \n",
       "\n",
       "                          kbc_component_id_x kbc_component_configuration  \\\n",
       "0     blueskydigital.wr-ftp_kbc-eu-central-1                       Samba   \n",
       "1  bootiq.ex-mssql-extended_kbc-eu-central-1                HEG_Neoluxor   \n",
       "\n",
       "    kbc_component  configuration_id_num kbc_component_type  \\\n",
       "0        FTP/FTPS             334091535             writer   \n",
       "1  MSSQL-extended             122782245          extractor   \n",
       "\n",
       "              token_name_x configuration_updated_at  total_consumption  \\\n",
       "0         par@euromedia.cz      2021-10-20 16:29:39          30.946479   \n",
       "1  michal.kadera@bootiq.io      2022-03-23 01:25:03           0.000000   \n",
       "\n",
       "           last_usage  \n",
       "0 2022-12-08 13:25:17  \n",
       "1 2022-12-08 13:25:17  "
      ]
     },
     "execution_count": 30,
     "metadata": {},
     "output_type": "execute_result"
    }
   ],
   "source": [
    "config_stats_df = pd.merge(left=configs_df, right=jobsdf, on=\"kbc_component_configuration_id\", validate=\"one_to_many\")\n",
    "group_cols = [\"kbc_component_configuration_id\", \"kbc_component_id_x\", \"kbc_component_configuration\", \"kbc_component\", \"configuration_id_num\", \"kbc_component_type\", \"token_name_x\", \"configuration_updated_at\"]\n",
    "config_stats_df = config_stats_df.loc[config_stats_df.dst_timestamp_y>START_DATE].groupby(group_cols).agg(total_consumption=(\"job_billed_credits_used\", \"sum\"), \n",
    "                                                     last_usage=(\"dst_timestamp_y\", \"last\"))\n",
    "config_stats_df.reset_index(inplace=True)\n",
    "# some numeric ids are not exactly numeric. the data is converted into numeric replacing the rest with NAs. Then to integer by using pandas native Int64 type\n",
    "config_stats_df[\"configuration_id_num\"]=pd.to_numeric(config_stats_df[\"configuration_id_num\"], errors=\"coerce\").astype(\"Int64\")\n",
    "print(f\"Shape of merged table {config_stats_df.shape}\")\n",
    "config_stats_df.head(2)"
   ]
  },
  {
   "cell_type": "markdown",
   "id": "ea787c93-43e0-4a32-97b5-2bf88758009e",
   "metadata": {},
   "source": [
    "**right join is used below to leave room for transformation buckets**"
   ]
  },
  {
   "cell_type": "code",
   "execution_count": 31,
   "id": "7b93e93b-cce8-4c30-8b53-e63d86210dc4",
   "metadata": {},
   "outputs": [],
   "source": [
    "# c) merging lineage and telemetry data to add urls to telemetry stats\n",
    "config_stats_df_final = pd.merge(left=df.loc[:, [\"id\", \"component_id\", \"name\", \"component_type\", \"URL\", \"component_name\"]].drop_duplicates([\"id\", \"component_id\"]), \n",
    "         right=config_stats_df, \n",
    "         left_on=[\"name\", \"id\"], \n",
    "         right_on=[\"kbc_component_configuration\", \"configuration_id_num\"]\n",
    "         , validate=\"one_to_one\"\n",
    "        , how=\"right\"\n",
    "        )\n",
    "config_stats_df_final.set_index(\"URL\", inplace=True)"
   ]
  },
  {
   "cell_type": "code",
   "execution_count": 32,
   "id": "3e0c6785-ec60-4d41-8b79-46012de0c0b7",
   "metadata": {},
   "outputs": [
    {
     "data": {
      "text/html": [
       "<div>\n",
       "<style scoped>\n",
       "    .dataframe tbody tr th:only-of-type {\n",
       "        vertical-align: middle;\n",
       "    }\n",
       "\n",
       "    .dataframe tbody tr th {\n",
       "        vertical-align: top;\n",
       "    }\n",
       "\n",
       "    .dataframe thead th {\n",
       "        text-align: right;\n",
       "    }\n",
       "</style>\n",
       "<table border=\"1\" class=\"dataframe\">\n",
       "  <thead>\n",
       "    <tr style=\"text-align: right;\">\n",
       "      <th></th>\n",
       "      <th>id</th>\n",
       "      <th>component_id</th>\n",
       "      <th>name</th>\n",
       "      <th>component_type</th>\n",
       "      <th>component_name</th>\n",
       "      <th>kbc_component_configuration_id</th>\n",
       "      <th>kbc_component_id_x</th>\n",
       "      <th>kbc_component_configuration</th>\n",
       "      <th>kbc_component</th>\n",
       "      <th>configuration_id_num</th>\n",
       "      <th>kbc_component_type</th>\n",
       "      <th>token_name_x</th>\n",
       "      <th>configuration_updated_at</th>\n",
       "      <th>total_consumption</th>\n",
       "      <th>last_usage</th>\n",
       "    </tr>\n",
       "    <tr>\n",
       "      <th>URL</th>\n",
       "      <th></th>\n",
       "      <th></th>\n",
       "      <th></th>\n",
       "      <th></th>\n",
       "      <th></th>\n",
       "      <th></th>\n",
       "      <th></th>\n",
       "      <th></th>\n",
       "      <th></th>\n",
       "      <th></th>\n",
       "      <th></th>\n",
       "      <th></th>\n",
       "      <th></th>\n",
       "      <th></th>\n",
       "      <th></th>\n",
       "    </tr>\n",
       "  </thead>\n",
       "  <tbody>\n",
       "    <tr>\n",
       "      <th>https://connection.eu-central-1.keboola.com/admin/projects/390/components/blueskydigital.wr-ftp/334091535</th>\n",
       "      <td>334091535</td>\n",
       "      <td>blueskydigital.wr-ftp</td>\n",
       "      <td>Samba</td>\n",
       "      <td>writer</td>\n",
       "      <td>FTP/FTPS</td>\n",
       "      <td>390_kbc-eu-central-1_blueskydigital.wr-ftp_334...</td>\n",
       "      <td>blueskydigital.wr-ftp_kbc-eu-central-1</td>\n",
       "      <td>Samba</td>\n",
       "      <td>FTP/FTPS</td>\n",
       "      <td>334091535</td>\n",
       "      <td>writer</td>\n",
       "      <td>par@euromedia.cz</td>\n",
       "      <td>2021-10-20 16:29:39</td>\n",
       "      <td>30.946479</td>\n",
       "      <td>2022-12-08 13:25:17</td>\n",
       "    </tr>\n",
       "    <tr>\n",
       "      <th>NaN</th>\n",
       "      <td>&lt;NA&gt;</td>\n",
       "      <td>NaN</td>\n",
       "      <td>NaN</td>\n",
       "      <td>NaN</td>\n",
       "      <td>NaN</td>\n",
       "      <td>390_kbc-eu-central-1_bootiq.ex-mssql-extended_...</td>\n",
       "      <td>bootiq.ex-mssql-extended_kbc-eu-central-1</td>\n",
       "      <td>HEG_Neoluxor</td>\n",
       "      <td>MSSQL-extended</td>\n",
       "      <td>122782245</td>\n",
       "      <td>extractor</td>\n",
       "      <td>michal.kadera@bootiq.io</td>\n",
       "      <td>2022-03-23 01:25:03</td>\n",
       "      <td>0.000000</td>\n",
       "      <td>2022-12-08 13:25:17</td>\n",
       "    </tr>\n",
       "  </tbody>\n",
       "</table>\n",
       "</div>"
      ],
      "text/plain": [
       "                                                           id  \\\n",
       "URL                                                             \n",
       "https://connection.eu-central-1.keboola.com/adm...  334091535   \n",
       "NaN                                                      <NA>   \n",
       "\n",
       "                                                             component_id  \\\n",
       "URL                                                                         \n",
       "https://connection.eu-central-1.keboola.com/adm...  blueskydigital.wr-ftp   \n",
       "NaN                                                                   NaN   \n",
       "\n",
       "                                                     name component_type  \\\n",
       "URL                                                                        \n",
       "https://connection.eu-central-1.keboola.com/adm...  Samba         writer   \n",
       "NaN                                                   NaN            NaN   \n",
       "\n",
       "                                                   component_name  \\\n",
       "URL                                                                 \n",
       "https://connection.eu-central-1.keboola.com/adm...       FTP/FTPS   \n",
       "NaN                                                           NaN   \n",
       "\n",
       "                                                                       kbc_component_configuration_id  \\\n",
       "URL                                                                                                     \n",
       "https://connection.eu-central-1.keboola.com/adm...  390_kbc-eu-central-1_blueskydigital.wr-ftp_334...   \n",
       "NaN                                                 390_kbc-eu-central-1_bootiq.ex-mssql-extended_...   \n",
       "\n",
       "                                                                           kbc_component_id_x  \\\n",
       "URL                                                                                             \n",
       "https://connection.eu-central-1.keboola.com/adm...     blueskydigital.wr-ftp_kbc-eu-central-1   \n",
       "NaN                                                 bootiq.ex-mssql-extended_kbc-eu-central-1   \n",
       "\n",
       "                                                   kbc_component_configuration  \\\n",
       "URL                                                                              \n",
       "https://connection.eu-central-1.keboola.com/adm...                       Samba   \n",
       "NaN                                                               HEG_Neoluxor   \n",
       "\n",
       "                                                     kbc_component  \\\n",
       "URL                                                                  \n",
       "https://connection.eu-central-1.keboola.com/adm...        FTP/FTPS   \n",
       "NaN                                                 MSSQL-extended   \n",
       "\n",
       "                                                    configuration_id_num  \\\n",
       "URL                                                                        \n",
       "https://connection.eu-central-1.keboola.com/adm...             334091535   \n",
       "NaN                                                            122782245   \n",
       "\n",
       "                                                   kbc_component_type  \\\n",
       "URL                                                                     \n",
       "https://connection.eu-central-1.keboola.com/adm...             writer   \n",
       "NaN                                                         extractor   \n",
       "\n",
       "                                                               token_name_x  \\\n",
       "URL                                                                           \n",
       "https://connection.eu-central-1.keboola.com/adm...         par@euromedia.cz   \n",
       "NaN                                                 michal.kadera@bootiq.io   \n",
       "\n",
       "                                                   configuration_updated_at  \\\n",
       "URL                                                                           \n",
       "https://connection.eu-central-1.keboola.com/adm...      2021-10-20 16:29:39   \n",
       "NaN                                                     2022-03-23 01:25:03   \n",
       "\n",
       "                                                    total_consumption  \\\n",
       "URL                                                                     \n",
       "https://connection.eu-central-1.keboola.com/adm...          30.946479   \n",
       "NaN                                                          0.000000   \n",
       "\n",
       "                                                            last_usage  \n",
       "URL                                                                     \n",
       "https://connection.eu-central-1.keboola.com/adm... 2022-12-08 13:25:17  \n",
       "NaN                                                2022-12-08 13:25:17  "
      ]
     },
     "execution_count": 32,
     "metadata": {},
     "output_type": "execute_result"
    }
   ],
   "source": [
    "config_stats_df_final.head(2)"
   ]
  },
  {
   "cell_type": "code",
   "execution_count": 33,
   "id": "b2c971e3-af54-44ff-996f-e7cf26222a5b",
   "metadata": {},
   "outputs": [
    {
     "data": {
      "text/plain": [
       "753"
      ]
     },
     "execution_count": 33,
     "metadata": {},
     "output_type": "execute_result"
    }
   ],
   "source": [
    "recs = df.loc[:, [\"URL\", \"name\", \"component_id\", \"component_type\", \"bucket_id\", \"isDisabled\"]].to_records(index=False).tolist()\n",
    "len(set(recs))"
   ]
  },
  {
   "cell_type": "code",
   "execution_count": 34,
   "id": "7990ffb0-77ab-4c15-b31e-4a457396ad7d",
   "metadata": {},
   "outputs": [
    {
     "data": {
      "text/plain": [
       "[('https://connection.eu-central-1.keboola.com/admin/projects/390/workspaces/505675972',\n",
       "  'lineage',\n",
       "  'keboola.sandboxes',\n",
       "  'other',\n",
       "  <NA>,\n",
       "  False),\n",
       " ('https://connection.eu-central-1.keboola.com/admin/projects/390/workspaces/505675972',\n",
       "  'lineage',\n",
       "  'keboola.sandboxes',\n",
       "  'other',\n",
       "  <NA>,\n",
       "  False),\n",
       " ('https://connection.eu-central-1.keboola.com/admin/projects/390/workspaces/477288885',\n",
       "  'REVOLT_10_HEG_NLX',\n",
       "  'keboola.sandboxes',\n",
       "  'other',\n",
       "  <NA>,\n",
       "  False)]"
      ]
     },
     "execution_count": 34,
     "metadata": {},
     "output_type": "execute_result"
    }
   ],
   "source": [
    "recs[:3]"
   ]
  },
  {
   "cell_type": "markdown",
   "id": "fcaec714-98e8-4e3d-946a-740cce34da02",
   "metadata": {},
   "source": [
    "NOTE: for legacy transformations, it is not possible to break consumption into individual transformation. Rather, the whole consumption is always allocated to a transformation bucket. Therefore, in the graph, there will be some double counting. "
   ]
  },
  {
   "cell_type": "markdown",
   "id": "fbed72fd-78eb-4dd7-9e9f-e962ff1a297e",
   "metadata": {},
   "source": [
    "## 3.5 Setting up data structures which contain all underlying data needed to construct the graph\n",
    "#### 3.5.1 Nodes for Keboola components"
   ]
  },
  {
   "cell_type": "code",
   "execution_count": 37,
   "id": "f9292885-e7b7-46a7-8184-9389ea690d82",
   "metadata": {},
   "outputs": [
    {
     "name": "stdout",
     "output_type": "stream",
     "text": [
      "Display of a few nodes:\n"
     ]
    },
    {
     "data": {
      "text/plain": [
       "[('https://connection.eu-central-1.keboola.com/admin/projects/390/transformations/bucket/306522285/transformation/353857266',\n",
       "  {'name': 'Naklady_marketing',\n",
       "   'component_id': nan,\n",
       "   'component_type': 'legacy transformation',\n",
       "   'last_usage': numpy.datetime64('2022-05-18T12:50:15.000000000'),\n",
       "   'total_consumption': 20.56477888812,\n",
       "   'comment': 'BUCKET_VALUE!',\n",
       "   'isDisabled': False,\n",
       "   'last_update': numpy.datetime64('2022-06-24T14:21:20.000000000'),\n",
       "   'last_updater': 'suchanek.vojtech@euromedia.cz'}),\n",
       " ('https://connection.eu-central-1.keboola.com/admin/projects/390/transformations-v2/keboola.snowflake-transformation/384903704',\n",
       "  {'name': 's10HegEMGDoklPrvotni',\n",
       "   'component_id': 'keboola.snowflake-transformation',\n",
       "   'component_type': 'transformation',\n",
       "   'last_usage': Timestamp('2022-12-08 13:25:17'),\n",
       "   'total_consumption': 187.412933141,\n",
       "   'comment': '',\n",
       "   'isDisabled': False,\n",
       "   'last_update': Timestamp('2022-06-28 11:05:35'),\n",
       "   'last_updater': 'dvorak.jiri@euromedia.cz'}),\n",
       " ('https://connection.eu-central-1.keboola.com/admin/projects/390/transformations/bucket/362089237/transformation/474655191',\n",
       "  {'name': 'zasoby_pro_banku (Migrace)_EOMONTH',\n",
       "   'component_id': nan,\n",
       "   'component_type': 'legacy transformation',\n",
       "   'last_usage': numpy.datetime64('2022-12-08T13:25:17.000000000'),\n",
       "   'total_consumption': 7.7764530047700005,\n",
       "   'comment': 'BUCKET_VALUE!',\n",
       "   'isDisabled': False,\n",
       "   'last_update': numpy.datetime64('2022-10-07T08:22:56.000000000'),\n",
       "   'last_updater': 'papousek.radan@euromedia.cz'})]"
      ]
     },
     "execution_count": 37,
     "metadata": {},
     "output_type": "execute_result"
    }
   ],
   "source": [
    "# setting up graph nodes\n",
    "nodes_components=[]\n",
    "for r in set(recs):\n",
    "    \n",
    "    url = r[0]\n",
    "    comment = \"\"\n",
    "    \n",
    "    last_usage = 'NA'\n",
    "    total_consumption = 0\n",
    "    \n",
    "    try:\n",
    "        last_usage=config_stats_df_final.loc[url, \"last_usage\"]\n",
    "        last_update=config_stats_df_final.loc[url, \"configuration_updated_at\"]\n",
    "        last_updater=config_stats_df_final.loc[url, \"token_name_x\"]\n",
    "        total_consumption=config_stats_df_final.loc[url, \"total_consumption\"]\n",
    "    except KeyError:\n",
    "        #print(r)\n",
    "        # check whether it is a legacy transformation\n",
    "        if r[3] == 'legacy transformation':\n",
    "            # grab data for the whole bucket\n",
    "            last_usage=config_stats_df_final.loc[((config_stats_df_final.kbc_component==\"Legacy Transformations\")\n",
    "                                                 &(config_stats_df_final.configuration_id_num==r[4])), \"last_usage\"].values[0] \n",
    "            total_consumption=config_stats_df_final.loc[((config_stats_df_final.kbc_component==\"Legacy Transformations\")\n",
    "                                                 &(config_stats_df_final.configuration_id_num==r[4])), \"total_consumption\"].values[0]\n",
    "\n",
    "            last_update=config_stats_df_final.loc[((config_stats_df_final.kbc_component==\"Legacy Transformations\")\n",
    "                                                 &(config_stats_df_final.configuration_id_num==r[4])), \"configuration_updated_at\"].values[0]\n",
    "            last_updater=config_stats_df_final.loc[((config_stats_df_final.kbc_component==\"Legacy Transformations\")\n",
    "                                                 &(config_stats_df_final.configuration_id_num==r[4])), \"token_name_x\"].values[0]\n",
    "\n",
    "            \n",
    "            comment = \"BUCKET_VALUE!\"\n",
    "    t = (url, {'name':r[1], \n",
    "                \"component_id\":r[2], \n",
    "                \"component_type\":r[3], \n",
    "                \"last_usage\":last_usage,\n",
    "                \"total_consumption\":total_consumption, \n",
    "                \"comment\":comment,\n",
    "                \"isDisabled\":r[5], \n",
    "               \"last_update\":last_update,\n",
    "               \"last_updater\":last_updater\n",
    "               \n",
    "               }\n",
    "        )\n",
    "\n",
    "    nodes_components.append(t)\n",
    "    # IGNORE OTHER TYPES OF COMPONENTS... BUT OTHER KINDS OF COMPONENTS SHOULD BE HAVE URLS\n",
    "print(\"Display of a few nodes:\")\n",
    "nodes_components[:3]"
   ]
  },
  {
   "cell_type": "markdown",
   "id": "eca47427-7bf9-4bba-9af8-391c93b35b76",
   "metadata": {},
   "source": [
    "#### 3.5.2 Nodes for tables in Keboola storage\n",
    "The tables do not have most of the attributes the components do"
   ]
  },
  {
   "cell_type": "code",
   "execution_count": 40,
   "id": "d120033b-e51d-4da6-b734-eb993477dbbe",
   "metadata": {},
   "outputs": [
    {
     "data": {
      "text/plain": [
       "[('https://connection.eu-central-1.keboola.com/admin/projects/390/storage/in.c-kds-team-ex-kbc-project-metadata-v2-504415511/configurations',\n",
       "  {'name': 'configurations',\n",
       "   'component_type': 'table',\n",
       "   'table_id': 'in.c-kds-team-ex-kbc-project-metadata-v2-504415511.configurations'}),\n",
       " ('https://connection.eu-central-1.keboola.com/admin/projects/390/storage/in.c-kds-team-ex-kbc-project-metadata-v2-504415511/transformations-inputs',\n",
       "  {'name': 'transformations-inputs',\n",
       "   'component_type': 'table',\n",
       "   'table_id': 'in.c-kds-team-ex-kbc-project-metadata-v2-504415511.transformations-inputs'}),\n",
       " ('https://connection.eu-central-1.keboola.com/admin/projects/390/storage/in.c-NLX_Neoluxor/objekt-ucetnipohyb',\n",
       "  {'name': 'objekt-ucetnipohyb',\n",
       "   'component_type': 'table',\n",
       "   'table_id': 'in.c-NLX_Neoluxor.objekt-ucetnipohyb'})]"
      ]
     },
     "execution_count": 40,
     "metadata": {},
     "output_type": "execute_result"
    }
   ],
   "source": [
    "nodes_tables = []\n",
    "for i, r in df.loc[~pd.isna(df.STORAGE_INPUTS_SOURCES, )].iterrows():\n",
    "    if not r[\"STORAGE_INPUTS_SOURCES\"].startswith(\"https\"):\n",
    "        ts = r[\"STORAGE_INPUTS_SOURCES\"].split(\".\")\n",
    "        nodes_tables.append((r[\"STORAGE_INPUTS_SOURCES_URL\"], {'name':ts[-1], 'component_type':'table', 'table_id':r[\"STORAGE_INPUTS_SOURCES\"]}))\n",
    "\n",
    "for i, r in df.loc[~pd.isna(df.STORAGE_OUTPUTS_DESTINATIONS, )].iterrows():\n",
    "    if not r[\"STORAGE_OUTPUTS_DESTINATIONS\"].startswith(\"https\"):\n",
    "        ts = r[\"STORAGE_OUTPUTS_DESTINATIONS\"].split(\".\")\n",
    "        nodes_tables.append((r[\"STORAGE_OUTPUTS_DESTINATIONS_URL\"], {'name':ts[-1], 'component_type':'table', 'table_id':r[\"STORAGE_OUTPUTS_DESTINATIONS\"]}))\n",
    "\n",
    "nodes_tables[:3]        "
   ]
  },
  {
   "cell_type": "markdown",
   "id": "20b4edde-b4c2-438e-b740-8d32bb62d913",
   "metadata": {},
   "source": [
    "### 3.6 Construct the graph\n",
    "1. A table or a component can be a node\n",
    "2. Edges are retrieved from the lineage transformation\n",
    "3. Note here, that an edge can be defined as (A, B) for outputs, but (B, A) for inputs"
   ]
  },
  {
   "cell_type": "code",
   "execution_count": 43,
   "id": "ebfe75c2-4a86-4557-9e7a-2fe596b48a4d",
   "metadata": {},
   "outputs": [],
   "source": [
    "node_list = nodes_components + nodes_tables\n",
    "G = nx.DiGraph()\n",
    "G.add_nodes_from(node_list)\n",
    "G.add_edges_from(edges)"
   ]
  },
  {
   "cell_type": "markdown",
   "id": "bf5b3686-edad-4074-8e56-afd1d9caa990",
   "metadata": {},
   "source": [
    "### 3.7 Revert a graph"
   ]
  },
  {
   "cell_type": "code",
   "execution_count": 45,
   "id": "d269cc62-3c0c-4873-9489-220ff0a53b41",
   "metadata": {},
   "outputs": [],
   "source": [
    "GG = nx.reverse_view(G)"
   ]
  },
  {
   "cell_type": "markdown",
   "id": "7db08213-ebd3-45fd-9380-126e83bb2c61",
   "metadata": {},
   "source": [
    "### 3.8 Subgraph\n",
    "The descendants method provides all nodes accessible from a particular node. Therefore the subgraph contains all nodes that can be traversed beginning with one of the unused tables"
   ]
  },
  {
   "cell_type": "code",
   "execution_count": 48,
   "id": "2abe018e-7304-436b-83da-9effaba22938",
   "metadata": {},
   "outputs": [
    {
     "name": "stdout",
     "output_type": "stream",
     "text": [
      "Subgraph has 1573 nodes (vs 2418 for the whole graph).\n",
      "There is 22 unconnected nodes which cannot be backtracked.\n"
     ]
    }
   ],
   "source": [
    "nodes_subgraph = []\n",
    "missing_nodes =[]\n",
    "for tab in unused_tables:\n",
    "    try:\n",
    "        nodes_subgraph = nodes_subgraph + [tab] + list(nx.descendants(GG, tab))\n",
    "    except nx.NetworkXError:\n",
    "        missing_nodes.append(tab)\n",
    "        \n",
    "nodes_subgraph = set(nodes_subgraph)\n",
    "GGS2 = nx.subgraph(GG, nodes_subgraph)\n",
    "\n",
    "print(f\"Subgraph has {len(GGS2.nodes)} nodes (vs {len(G.nodes)} for the whole graph).\")\n",
    "print(f\"There is {len(set(missing_nodes))} unconnected nodes which cannot be backtracked.\")"
   ]
  },
  {
   "cell_type": "markdown",
   "id": "bcec607a-4829-41a1-8b89-43891fbc0ec3",
   "metadata": {},
   "source": [
    "<span style=\"color:blue\">**This means that we do not have any processes which populate these tables. They can probably be deleted. They should definitely be exluded from all writers.**</span>"
   ]
  },
  {
   "cell_type": "code",
   "execution_count": 64,
   "id": "363826c8-bbb9-491f-87da-e20eaf7dd5ba",
   "metadata": {},
   "outputs": [
    {
     "data": {
      "text/plain": [
       "['https://connection.eu-central-1.keboola.com/admin/projects/390/storage/out.c-radan/discount_spending',\n",
       " 'https://connection.eu-central-1.keboola.com/admin/projects/390/storage/out.c-emg_danek/rfm_all_publisher',\n",
       " 'https://connection.eu-central-1.keboola.com/admin/projects/390/storage/in.c-keboola-ex-google-drive-390144083/zakaznicky-servis-agenti-agenti',\n",
       " 'https://connection.eu-central-1.keboola.com/admin/projects/390/storage/out.c-emg_simonovska/rfm_data_fin_temp',\n",
       " 'https://connection.eu-central-1.keboola.com/admin/projects/390/storage/in.c-revolt-bi-app-daktela-345938057/emg_groups']"
      ]
     },
     "execution_count": 64,
     "metadata": {},
     "output_type": "execute_result"
    }
   ],
   "source": [
    "missing_nodes[:5]"
   ]
  },
  {
   "cell_type": "markdown",
   "id": "7f1565d9-b22b-4df9-9122-1538cf1ddcba",
   "metadata": {},
   "source": [
    "# 4 Graph Analysis\n",
    "### 4.1 Investigate the importance of nodes\n",
    "For each node, we compare number of ancestors. Ancestors are all the nodes which could be traversed going from the source (ie from writer). \n",
    "If the number of nodes which can be traversed is the same for the whole graph (GG) and for the subgraph (GGS2), it means, the node is only relevant in the subgraph context and can therefore be turned off\n",
    "\n",
    "**EDIT: There was a bug before. Before the edit I was comparing number of incoming and outgoing edges for each node. This is not sufficient for comparison.**"
   ]
  },
  {
   "cell_type": "code",
   "execution_count": 49,
   "id": "83a82529-4b2e-41cf-ad99-ee9bd13208a6",
   "metadata": {},
   "outputs": [
    {
     "name": "stdout",
     "output_type": "stream",
     "text": [
      "\n",
      "Out of 1573 nodes in the graph, 378 nodes can be safely deleted.\n"
     ]
    }
   ],
   "source": [
    "todelete = []\n",
    "\n",
    "for node in GGS2.nodes():\n",
    "    n_reach_full = calculate_n_reachable_nodes(GG, node) #-- these are upstream nodes which have to be the same\n",
    "    n_reach_sub = calculate_n_reachable_nodes(GGS2, node)\n",
    "    \n",
    "    if n_reach_full == n_reach_sub:\n",
    "        todelete.append(node)\n",
    "    \n",
    "print(f\"\\nOut of {len(GGS2.nodes())} nodes in the graph, {len(todelete)} nodes can be safely deleted.\")"
   ]
  },
  {
   "cell_type": "code",
   "execution_count": 50,
   "id": "64c5a9fe-6812-4093-b36f-bbd0a802cfcd",
   "metadata": {},
   "outputs": [
    {
     "data": {
      "text/plain": [
       "['https://connection.eu-central-1.keboola.com/admin/projects/390/transformations/bucket/306522285/transformation/353857266',\n",
       " 'https://connection.eu-central-1.keboola.com/admin/projects/390/transformations/bucket/101074842/transformation/106565461',\n",
       " 'https://connection.eu-central-1.keboola.com/admin/projects/390/transformations/bucket/101074842/transformation/117166019']"
      ]
     },
     "execution_count": 50,
     "metadata": {},
     "output_type": "execute_result"
    }
   ],
   "source": [
    "todelete[:3]"
   ]
  },
  {
   "cell_type": "markdown",
   "id": "fd083fc2-ab0b-4cd5-843c-ad846a3c1ddb",
   "metadata": {},
   "source": [
    "### 4.2 Which unused elements have the lowest number of connections?\n",
    "Here, we just check how many connections there are for redundant nodes"
   ]
  },
  {
   "cell_type": "code",
   "execution_count": 51,
   "id": "603d53da-74de-43cd-b6cb-4fbf219833fd",
   "metadata": {},
   "outputs": [
    {
     "name": "stdout",
     "output_type": "stream",
     "text": [
      "[1, 2, 3, 4, 5, 6, 7, 8, 9, 10, 11, 13, 18, 21, 24, 28, 30]\n"
     ]
    }
   ],
   "source": [
    "from collections import defaultdict\n",
    "\n",
    "connection_counter = defaultdict(list)\n",
    "for t in todelete:\n",
    "    if t in missing_nodes:\n",
    "        continue\n",
    "    \n",
    "    n_in_subgraph = GGS2.in_degree(t)\n",
    "    n_out_subgraph = GGS2.out_degree(t)\n",
    "    nconnections = n_in_subgraph + n_out_subgraph\n",
    "    connection_counter[nconnections].append((t, G.nodes[t]))\n",
    "    \n",
    "print(sorted(connection_counter)  )  "
   ]
  },
  {
   "cell_type": "markdown",
   "id": "d78ebd6e-686b-451c-bf70-18e5559024e4",
   "metadata": {},
   "source": [
    "### 4.3 If we exclude tables and workspaces, how many connections there are?"
   ]
  },
  {
   "cell_type": "code",
   "execution_count": 54,
   "id": "73ec4d9f-0dae-4872-a731-b4464a9e7764",
   "metadata": {},
   "outputs": [],
   "source": [
    "# exlude tables and workspaces\n",
    "from collections import defaultdict\n",
    "\n",
    "connection_counter_trans = defaultdict(list)\n",
    "for t in todelete:\n",
    "    if t in missing_nodes:\n",
    "        continue\n",
    "    if G.nodes[t]['component_type'] not in ['table', 'Workspace']:\n",
    "        n_in_subgraph = GGS2.in_degree(t)\n",
    "        n_out_subgraph = GGS2.out_degree(t)\n",
    "        nconnections = n_in_subgraph + n_out_subgraph\n",
    "        connection_counter_trans[nconnections].append((t, G.nodes[t]))"
   ]
  },
  {
   "cell_type": "code",
   "execution_count": 53,
   "id": "b0a2eab0-8ad5-4fa1-9f89-fc8e304848c5",
   "metadata": {},
   "outputs": [
    {
     "data": {
      "text/plain": [
       "[1, 2, 3, 4, 5, 6, 7, 8, 9, 10, 11, 13, 18, 21, 24, 28, 30]"
      ]
     },
     "execution_count": 53,
     "metadata": {},
     "output_type": "execute_result"
    }
   ],
   "source": [
    "sorted(connection_counter_trans)"
   ]
  },
  {
   "cell_type": "code",
   "execution_count": 57,
   "id": "5ec98317-a6e2-445b-a72c-bd1f3c95fb84",
   "metadata": {},
   "outputs": [
    {
     "data": {
      "text/plain": [
       "[('https://connection.eu-central-1.keboola.com/admin/projects/390/workspaces/501143166',\n",
       "  {'name': 'PanKostkaJenCashFlow',\n",
       "   'component_id': 'keboola.sandboxes',\n",
       "   'component_type': 'other',\n",
       "   'last_usage': Timestamp('2023-02-02 10:03:21'),\n",
       "   'total_consumption': 0.0,\n",
       "   'comment': '',\n",
       "   'isDisabled': False,\n",
       "   'last_update': Timestamp('2023-01-12 11:44:07'),\n",
       "   'last_updater': 'dvorak.jiri@euromedia.cz'})]"
      ]
     },
     "execution_count": 57,
     "metadata": {},
     "output_type": "execute_result"
    }
   ],
   "source": [
    "connection_counter_trans[30]"
   ]
  },
  {
   "cell_type": "markdown",
   "id": "0878df34-b9f9-4036-a46f-e2659162ce61",
   "metadata": {},
   "source": [
    "### 4.4 Collect processes to delete into a data frame\n",
    "\n",
    "The dataframe can be sorted by last usage or total consumption to begin turning off orchestration with big impact first. \n",
    "\n",
    "**NOTE: Legacy transformations have \"BUCKET_VALUE\" in comment. This means that total consumption relates to the whole bucket, not individual transformations. However, an individual transformation can be switched off, we just cannot quantify its effect on consumption.**"
   ]
  },
  {
   "cell_type": "code",
   "execution_count": 58,
   "id": "2df9015f-8310-4496-a3d1-15fe4ae5ca50",
   "metadata": {},
   "outputs": [],
   "source": [
    "pd.set_option('display.max_colwidth', None)\n",
    "records=[]\n",
    "for t in todelete:\n",
    "    if t in missing_nodes:\n",
    "        continue\n",
    "    if G.nodes[t]['component_type'] not in ['table', 'Workspace']:\n",
    "        n_out_connections = GGS2.in_degree(t)\n",
    "        n_in_connections = GGS2.out_degree(t)\n",
    "        node = G.nodes[t]\n",
    "        node[\"url\"]=t\n",
    "        node[\"n_in_connections\"] = n_in_connections\n",
    "        node[\"n_out_connections\"] = n_out_connections\n",
    "        records.append(node)"
   ]
  },
  {
   "cell_type": "code",
   "execution_count": 59,
   "id": "1b594699-3757-41f6-966c-274baff0b68d",
   "metadata": {},
   "outputs": [],
   "source": [
    "delete_df = pd.DataFrame().from_records(records)\n",
    "delete_df.sort_values(by=\"total_consumption\", ascending=False, inplace=True)"
   ]
  },
  {
   "cell_type": "code",
   "execution_count": 60,
   "id": "483e48d4-205d-46dd-9539-77823436a603",
   "metadata": {},
   "outputs": [
    {
     "data": {
      "text/html": [
       "<div>\n",
       "<style scoped>\n",
       "    .dataframe tbody tr th:only-of-type {\n",
       "        vertical-align: middle;\n",
       "    }\n",
       "\n",
       "    .dataframe tbody tr th {\n",
       "        vertical-align: top;\n",
       "    }\n",
       "\n",
       "    .dataframe thead th {\n",
       "        text-align: right;\n",
       "    }\n",
       "</style>\n",
       "<table border=\"1\" class=\"dataframe\">\n",
       "  <thead>\n",
       "    <tr style=\"text-align: right;\">\n",
       "      <th></th>\n",
       "      <th>name</th>\n",
       "      <th>component_id</th>\n",
       "      <th>component_type</th>\n",
       "      <th>last_usage</th>\n",
       "      <th>total_consumption</th>\n",
       "      <th>comment</th>\n",
       "      <th>isDisabled</th>\n",
       "      <th>last_update</th>\n",
       "      <th>last_updater</th>\n",
       "      <th>url</th>\n",
       "      <th>n_in_connections</th>\n",
       "      <th>n_out_connections</th>\n",
       "    </tr>\n",
       "  </thead>\n",
       "  <tbody>\n",
       "    <tr>\n",
       "      <th>47</th>\n",
       "      <td>NLX_Nakup</td>\n",
       "      <td>NaN</td>\n",
       "      <td>legacy transformation</td>\n",
       "      <td>2022-12-08 13:25:17</td>\n",
       "      <td>14344.144831</td>\n",
       "      <td>BUCKET_VALUE!</td>\n",
       "      <td>False</td>\n",
       "      <td>2023-01-11 09:32:45</td>\n",
       "      <td>papousek.radan@euromedia.cz</td>\n",
       "      <td>https://connection.eu-central-1.keboola.com/admin/projects/390/transformations/bucket/31076208/transformation/137780956</td>\n",
       "      <td>6</td>\n",
       "      <td>1</td>\n",
       "    </tr>\n",
       "    <tr>\n",
       "      <th>86</th>\n",
       "      <td>Saldo</td>\n",
       "      <td>NaN</td>\n",
       "      <td>legacy transformation</td>\n",
       "      <td>2022-12-08 13:25:17</td>\n",
       "      <td>14344.144831</td>\n",
       "      <td>BUCKET_VALUE!</td>\n",
       "      <td>False</td>\n",
       "      <td>2023-01-11 09:32:45</td>\n",
       "      <td>papousek.radan@euromedia.cz</td>\n",
       "      <td>https://connection.eu-central-1.keboola.com/admin/projects/390/transformations/bucket/31076208/transformation/93262189</td>\n",
       "      <td>3</td>\n",
       "      <td>2</td>\n",
       "    </tr>\n",
       "    <tr>\n",
       "      <th>30</th>\n",
       "      <td>Zasilky_NLX</td>\n",
       "      <td>NaN</td>\n",
       "      <td>legacy transformation</td>\n",
       "      <td>2022-12-08 13:25:17</td>\n",
       "      <td>14344.144831</td>\n",
       "      <td>BUCKET_VALUE!</td>\n",
       "      <td>False</td>\n",
       "      <td>2023-01-11 09:32:45</td>\n",
       "      <td>papousek.radan@euromedia.cz</td>\n",
       "      <td>https://connection.eu-central-1.keboola.com/admin/projects/390/transformations/bucket/31076208/transformation/124110545</td>\n",
       "      <td>6</td>\n",
       "      <td>1</td>\n",
       "    </tr>\n",
       "    <tr>\n",
       "      <th>99</th>\n",
       "      <td>nlx_zpozdeni</td>\n",
       "      <td>NaN</td>\n",
       "      <td>legacy transformation</td>\n",
       "      <td>2022-12-08 13:25:17</td>\n",
       "      <td>14344.144831</td>\n",
       "      <td>BUCKET_VALUE!</td>\n",
       "      <td>False</td>\n",
       "      <td>2023-01-11 09:32:45</td>\n",
       "      <td>papousek.radan@euromedia.cz</td>\n",
       "      <td>https://connection.eu-central-1.keboola.com/admin/projects/390/transformations/bucket/31076208/transformation/138301980</td>\n",
       "      <td>16</td>\n",
       "      <td>8</td>\n",
       "    </tr>\n",
       "    <tr>\n",
       "      <th>45</th>\n",
       "      <td>NLX_trzby</td>\n",
       "      <td>NaN</td>\n",
       "      <td>legacy transformation</td>\n",
       "      <td>2022-12-08 13:25:17</td>\n",
       "      <td>14344.144831</td>\n",
       "      <td>BUCKET_VALUE!</td>\n",
       "      <td>False</td>\n",
       "      <td>2023-01-11 09:32:45</td>\n",
       "      <td>papousek.radan@euromedia.cz</td>\n",
       "      <td>https://connection.eu-central-1.keboola.com/admin/projects/390/transformations/bucket/31076208/transformation/123126774</td>\n",
       "      <td>17</td>\n",
       "      <td>1</td>\n",
       "    </tr>\n",
       "  </tbody>\n",
       "</table>\n",
       "</div>"
      ],
      "text/plain": [
       "            name component_id         component_type          last_usage  \\\n",
       "47     NLX_Nakup          NaN  legacy transformation 2022-12-08 13:25:17   \n",
       "86         Saldo          NaN  legacy transformation 2022-12-08 13:25:17   \n",
       "30   Zasilky_NLX          NaN  legacy transformation 2022-12-08 13:25:17   \n",
       "99  nlx_zpozdeni          NaN  legacy transformation 2022-12-08 13:25:17   \n",
       "45     NLX_trzby          NaN  legacy transformation 2022-12-08 13:25:17   \n",
       "\n",
       "    total_consumption        comment isDisabled         last_update  \\\n",
       "47       14344.144831  BUCKET_VALUE!      False 2023-01-11 09:32:45   \n",
       "86       14344.144831  BUCKET_VALUE!      False 2023-01-11 09:32:45   \n",
       "30       14344.144831  BUCKET_VALUE!      False 2023-01-11 09:32:45   \n",
       "99       14344.144831  BUCKET_VALUE!      False 2023-01-11 09:32:45   \n",
       "45       14344.144831  BUCKET_VALUE!      False 2023-01-11 09:32:45   \n",
       "\n",
       "                   last_updater  \\\n",
       "47  papousek.radan@euromedia.cz   \n",
       "86  papousek.radan@euromedia.cz   \n",
       "30  papousek.radan@euromedia.cz   \n",
       "99  papousek.radan@euromedia.cz   \n",
       "45  papousek.radan@euromedia.cz   \n",
       "\n",
       "                                                                                                                        url  \\\n",
       "47  https://connection.eu-central-1.keboola.com/admin/projects/390/transformations/bucket/31076208/transformation/137780956   \n",
       "86   https://connection.eu-central-1.keboola.com/admin/projects/390/transformations/bucket/31076208/transformation/93262189   \n",
       "30  https://connection.eu-central-1.keboola.com/admin/projects/390/transformations/bucket/31076208/transformation/124110545   \n",
       "99  https://connection.eu-central-1.keboola.com/admin/projects/390/transformations/bucket/31076208/transformation/138301980   \n",
       "45  https://connection.eu-central-1.keboola.com/admin/projects/390/transformations/bucket/31076208/transformation/123126774   \n",
       "\n",
       "    n_in_connections  n_out_connections  \n",
       "47                 6                  1  \n",
       "86                 3                  2  \n",
       "30                 6                  1  \n",
       "99                16                  8  \n",
       "45                17                  1  "
      ]
     },
     "execution_count": 60,
     "metadata": {},
     "output_type": "execute_result"
    }
   ],
   "source": [
    "delete_df.head(5)"
   ]
  },
  {
   "cell_type": "markdown",
   "id": "fa9396f2-3e9a-406f-81ab-62fab893eef8",
   "metadata": {},
   "source": [
    "### 4.5 Tests on how to turn stuff off\n",
    "#### 4.5.1 Most consuming component\n",
    "Here, we take the component which is most often used first."
   ]
  },
  {
   "cell_type": "code",
   "execution_count": 61,
   "id": "e78e3662-801b-4202-a65c-bc9c4343500f",
   "metadata": {},
   "outputs": [
    {
     "name": "stdout",
     "output_type": "stream",
     "text": [
      "url of the most consuming component:\n"
     ]
    },
    {
     "data": {
      "text/plain": [
       "'https://connection.eu-central-1.keboola.com/admin/projects/390/transformations/bucket/31076208/transformation/137780956'"
      ]
     },
     "execution_count": 61,
     "metadata": {},
     "output_type": "execute_result"
    }
   ],
   "source": [
    "# get the transformation which consumes most\n",
    "delete_df.sort_values(by=\"total_consumption\", ascending=False, inplace=True)\n",
    "TESTURL = delete_df.head(1).url.values[0]\n",
    "print(\"url of the most consuming component:\")\n",
    "TESTURL"
   ]
  },
  {
   "cell_type": "markdown",
   "id": "ae8b299c-18d6-4c08-b404-0ad9bc628bc7",
   "metadata": {},
   "source": [
    "To assess whether the component can be turned off, we need to get all the components in the path from one of the tables in the writer to this component. This can be achieved again by using the ancestors method"
   ]
  },
  {
   "cell_type": "code",
   "execution_count": 63,
   "id": "4d81f3f2-d89a-4ec5-858b-5410dd64cf6a",
   "metadata": {},
   "outputs": [
    {
     "name": "stdout",
     "output_type": "stream",
     "text": [
      "The component https://connection.eu-central-1.keboola.com/admin/projects/390/storage/out.c-nlx/NLX_polozky_nakup has been flagged to delete: True\n"
     ]
    }
   ],
   "source": [
    "# get all the predecessors from the subgraph\n",
    "for node in nx.ancestors(GGS2, TESTURL):\n",
    "    flagged_del = node in todelete\n",
    "    print(f\"The component {node} has been flagged to delete: {flagged_del}\")"
   ]
  },
  {
   "cell_type": "markdown",
   "id": "855c5bbf-89d0-4e01-84f4-8e91c8b1bc99",
   "metadata": {},
   "source": [
    "#### 4.5.1 Random component\n",
    "Here, the exercise is repeated, albeit for a component picked at random"
   ]
  },
  {
   "cell_type": "code",
   "execution_count": 64,
   "id": "8d4f5dc5-d055-41e3-a99b-778c12ccfba9",
   "metadata": {},
   "outputs": [
    {
     "name": "stdout",
     "output_type": "stream",
     "text": [
      "The random integer picked: 53\n"
     ]
    }
   ],
   "source": [
    "# pick some transformation at random\n",
    "import numpy as np\n",
    "RAND = np.random.randint(delete_df.shape[0])\n",
    "print(f\"The random integer picked: {RAND}\")"
   ]
  },
  {
   "cell_type": "code",
   "execution_count": 65,
   "id": "f54ce7de-238e-496c-946d-d8e73784cbd0",
   "metadata": {},
   "outputs": [
    {
     "name": "stdout",
     "output_type": "stream",
     "text": [
      "url of a randomly picked component:\n"
     ]
    },
    {
     "data": {
      "text/plain": [
       "'https://connection.eu-central-1.keboola.com/admin/projects/390/transformations/bucket/243731185/transformation/300528183'"
      ]
     },
     "execution_count": 65,
     "metadata": {},
     "output_type": "execute_result"
    }
   ],
   "source": [
    "# get the transformation which consumes most\n",
    "delete_df.sort_values(by=\"total_consumption\", ascending=False, inplace=True)\n",
    "TESTURL = delete_df.head(RAND).tail(1).url.values[0]\n",
    "print(\"url of a randomly picked component:\")\n",
    "TESTURL"
   ]
  },
  {
   "cell_type": "code",
   "execution_count": 66,
   "id": "4fdca141-9ddb-4850-ac3f-13bc03e9b183",
   "metadata": {},
   "outputs": [
    {
     "name": "stdout",
     "output_type": "stream",
     "text": [
      "The component https://connection.eu-central-1.keboola.com/admin/projects/390/storage/out.c-luxor_2_0/sales_per_title_nlx_hybrid has been flagged to delete: True\n",
      "The component https://connection.eu-central-1.keboola.com/admin/projects/390/transformations/bucket/243732112/transformation/298196203 has been flagged to delete: True\n",
      "The component https://connection.eu-central-1.keboola.com/admin/projects/390/transformations/bucket/243732112/transformation/298181039 has been flagged to delete: True\n",
      "The component https://connection.eu-central-1.keboola.com/admin/projects/390/transformations/bucket/243732112/transformation/298624980 has been flagged to delete: True\n",
      "The component https://connection.eu-central-1.keboola.com/admin/projects/390/transformations/bucket/272963466/transformation/303811301 has been flagged to delete: True\n",
      "The component https://connection.eu-central-1.keboola.com/admin/projects/390/storage/out.c-jdo9bdim-dev/o9POSDimCas has been flagged to delete: True\n",
      "The component https://connection.eu-central-1.keboola.com/admin/projects/390/storage/out.c-jdo9bdim-dev/o9POSDimSlevaPOS has been flagged to delete: True\n",
      "The component https://connection.eu-central-1.keboola.com/admin/projects/390/storage/out.c-jdo9bdim-dev/o9POSDimDatum has been flagged to delete: True\n",
      "The component https://connection.eu-central-1.keboola.com/admin/projects/390/storage/out.c-jdo9afact-dev/o9POSFactTrans has been flagged to delete: True\n",
      "The component https://connection.eu-central-1.keboola.com/admin/projects/390/storage/out.c-jdo9bdim-dev/o9POSDimUtvar has been flagged to delete: True\n",
      "The component https://connection.eu-central-1.keboola.com/admin/projects/390/transformations/bucket/243732112/transformation/300593484 has been flagged to delete: True\n",
      "The component https://connection.eu-central-1.keboola.com/admin/projects/390/transformations/bucket/243734905/transformation/298088633 has been flagged to delete: True\n",
      "The component https://connection.eu-central-1.keboola.com/admin/projects/390/transformations/bucket/272963466/transformation/302933112 has been flagged to delete: True\n",
      "The component https://connection.eu-central-1.keboola.com/admin/projects/390/storage/out.c-jdo8-dev/o8DimSlevaPOS has been flagged to delete: True\n",
      "The component https://connection.eu-central-1.keboola.com/admin/projects/390/transformations/bucket/243732112/transformation/298198080 has been flagged to delete: True\n",
      "The component https://connection.eu-central-1.keboola.com/admin/projects/390/transformations/bucket/243732112/transformation/298140789 has been flagged to delete: True\n",
      "The component https://connection.eu-central-1.keboola.com/admin/projects/390/storage/out.c-luxor_2_0/sales_per_title_nlx_pos has been flagged to delete: True\n",
      "The component https://connection.eu-central-1.keboola.com/admin/projects/390/storage/out.c-jdo9bdim-dev/o9POSDimDoklPOS has been flagged to delete: True\n",
      "The component https://connection.eu-central-1.keboola.com/admin/projects/390/storage/out.c-jdo9bdim-dev/o9POSDimTitul has been flagged to delete: True\n"
     ]
    }
   ],
   "source": [
    "# get all the predecessors from the subgraph\n",
    "for node in nx.ancestors(GGS2, TESTURL):\n",
    "    flagged_del = node in todelete\n",
    "    print(f\"The component {node} has been flagged to delete: {flagged_del}\")"
   ]
  },
  {
   "cell_type": "code",
   "execution_count": null,
   "id": "9b7a9195-8132-4c87-afc8-77157fbe1702",
   "metadata": {},
   "outputs": [],
   "source": []
  }
 ],
 "metadata": {
  "kernelspec": {
   "display_name": "Python 3 (ipykernel)",
   "language": "python",
   "name": "python3"
  },
  "language_info": {
   "codemirror_mode": {
    "name": "ipython",
    "version": 3
   },
   "file_extension": ".py",
   "mimetype": "text/x-python",
   "name": "python",
   "nbconvert_exporter": "python",
   "pygments_lexer": "ipython3",
   "version": "3.9.7"
  }
 },
 "nbformat": 4,
 "nbformat_minor": 5
}
